{
 "cells": [
  {
   "cell_type": "code",
   "execution_count": 1,
   "id": "bc3e550c",
   "metadata": {},
   "outputs": [],
   "source": [
    "from robot.robot_control import RobotController\n",
    "import os\n",
    "import cv2"
   ]
  },
  {
   "cell_type": "code",
   "execution_count": 2,
   "id": "5e22e387",
   "metadata": {},
   "outputs": [],
   "source": [
    "robot = RobotController(speed=10000)"
   ]
  },
  {
   "cell_type": "code",
   "execution_count": 3,
   "id": "164ec21e",
   "metadata": {},
   "outputs": [
    {
     "name": "stderr",
     "output_type": "stream",
     "text": [
      "[D 220302 14:12:58 robot_control:21] Loading Robot Drivers...\n"
     ]
    }
   ],
   "source": [
    "robot.reset()"
   ]
  },
  {
   "cell_type": "code",
   "execution_count": 5,
   "id": "b3b7edbf",
   "metadata": {},
   "outputs": [
    {
     "name": "stderr",
     "output_type": "stream",
     "text": [
      "[D 220302 11:52:59 robot_control:36] Robot Click X: 200, Y:50\n",
      "[D 220302 11:52:59 robot_control:21] Loading Robot Drivers...\n"
     ]
    }
   ],
   "source": [
    "robot.click((200,50,20))"
   ]
  },
  {
   "cell_type": "code",
   "execution_count": 6,
   "id": "a3087fbf",
   "metadata": {},
   "outputs": [
    {
     "name": "stderr",
     "output_type": "stream",
     "text": [
      "[D 220302 11:53:17 robot_control:21] Loading Robot Drivers...\n"
     ]
    }
   ],
   "source": [
    "robot.longPress((200,50,20))"
   ]
  },
  {
   "cell_type": "code",
   "execution_count": 16,
   "id": "b889cd59",
   "metadata": {},
   "outputs": [
    {
     "name": "stderr",
     "output_type": "stream",
     "text": [
      "[D 211215 13:32:46 robot_control:15] Loading Robot Drivers...\n"
     ]
    }
   ],
   "source": [
    "robot.doubleclick((200,0,12))"
   ]
  },
  {
   "cell_type": "code",
   "execution_count": 6,
   "id": "9815c71a",
   "metadata": {},
   "outputs": [
    {
     "name": "stdout",
     "output_type": "stream",
     "text": [
      "[ERROR] 2022-02-25 10:41:44 [/usr/local/lib/python3.6/dist-packages/uArm_Python_SDK-2.0.6-py3.6.egg/uarm/swift/utils.py:29]: uArm is not connect\n"
     ]
    }
   ],
   "source": [
    "robot.close_connect()"
   ]
  },
  {
   "cell_type": "code",
   "execution_count": 7,
   "id": "3c5ac5bc",
   "metadata": {},
   "outputs": [],
   "source": [
    "# *************************************************\n",
    "# *** Mark the Actual Distance of Robot Metrics ***\n",
    "# *************************************************\n",
    "\n",
    "def nothing(x):\n",
    "    pass\n",
    "\n",
    "cv2.namedWindow('coor')\n",
    "cv2.createTrackbar('x', 'coor', 120, 300, nothing)\n",
    "cv2.setTrackbarMin('x', 'coor', 120)\n",
    "cv2.createTrackbar('y', 'coor', 0, 100, nothing)\n",
    "cv2.setTrackbarMin('y', 'coor', -100)\n",
    "cv2.createTrackbar('z', 'coor', 20, 50, nothing)\n",
    "cv2.setTrackbarMin('z', 'coor', 13)\n",
    "\n",
    "cap = cv2.VideoCapture(0)\n",
    "cap.set(cv2.CAP_PROP_FRAME_WIDTH, 1000)\n",
    "cap.set(cv2.CAP_PROP_FRAME_HEIGHT, 500)\n",
    "\n",
    "while 1:\n",
    "    x = cv2.getTrackbarPos('x', 'coor')\n",
    "    y = cv2.getTrackbarPos('y', 'coor')    \n",
    "    z = cv2.getTrackbarPos('z', 'coor')    \n",
    "        \n",
    "    robot.swift.set_position(x=x, y=y, z=z, speed=2000, wait=False, timeout=10, cmd='G0')\n",
    "    robot.swift.flush_cmd()\n",
    "    \n",
    "    ret, frame = cap.read()\n",
    "    frame = cv2.transpose(frame)\n",
    "    frame = cv2.flip(frame, -1)\n",
    "    cv2.imshow('frame', frame)\n",
    "    if cv2.waitKey(100) == ord('q'):\n",
    "        break\n",
    "cap.release()\n",
    "cv2.destroyAllWindows()"
   ]
  },
  {
   "cell_type": "code",
   "execution_count": null,
   "id": "8fe95318",
   "metadata": {},
   "outputs": [],
   "source": []
  },
  {
   "cell_type": "code",
   "execution_count": null,
   "id": "b0f64638",
   "metadata": {},
   "outputs": [
    {
     "name": "stdout",
     "output_type": "stream",
     "text": [
      "Clicked Point:(196,288) Robot:(242,17)\n"
     ]
    },
    {
     "name": "stderr",
     "output_type": "stream",
     "text": [
      "[D 220302 14:14:52 robot_control:36] Robot Click X: 242, Y:17\n",
      "[D 220302 14:14:52 robot_control:21] Loading Robot Drivers...\n"
     ]
    },
    {
     "name": "stdout",
     "output_type": "stream",
     "text": [
      "Clicked Point:(195,752) Robot:(135,18)\n"
     ]
    },
    {
     "name": "stderr",
     "output_type": "stream",
     "text": [
      "[D 220302 14:15:03 robot_control:36] Robot Click X: 135, Y:18\n",
      "[D 220302 14:15:03 robot_control:21] Loading Robot Drivers...\n"
     ]
    },
    {
     "name": "stdout",
     "output_type": "stream",
     "text": [
      "Clicked Point:(186,743) Robot:(137,20)\n"
     ]
    },
    {
     "name": "stderr",
     "output_type": "stream",
     "text": [
      "[D 220302 14:15:09 robot_control:36] Robot Click X: 137, Y:20\n",
      "[D 220302 14:15:09 robot_control:21] Loading Robot Drivers...\n"
     ]
    },
    {
     "name": "stdout",
     "output_type": "stream",
     "text": [
      "Clicked Point:(162,751) Robot:(135,25)\n"
     ]
    },
    {
     "name": "stderr",
     "output_type": "stream",
     "text": [
      "[D 220302 14:15:13 robot_control:36] Robot Click X: 135, Y:25\n",
      "[D 220302 14:15:13 robot_control:21] Loading Robot Drivers...\n"
     ]
    },
    {
     "name": "stdout",
     "output_type": "stream",
     "text": [
      "Clicked Point:(180,752) Robot:(135,21)\n"
     ]
    },
    {
     "name": "stderr",
     "output_type": "stream",
     "text": [
      "[D 220302 14:15:17 robot_control:36] Robot Click X: 135, Y:21\n",
      "[D 220302 14:15:17 robot_control:21] Loading Robot Drivers...\n"
     ]
    },
    {
     "name": "stdout",
     "output_type": "stream",
     "text": [
      "Clicked Point:(284,155) Robot:(272,-3)\n"
     ]
    },
    {
     "name": "stderr",
     "output_type": "stream",
     "text": [
      "[D 220302 14:15:25 robot_control:36] Robot Click X: 272, Y:-3\n",
      "[D 220302 14:15:25 robot_control:21] Loading Robot Drivers...\n"
     ]
    },
    {
     "name": "stdout",
     "output_type": "stream",
     "text": [
      "Clicked Point:(283,139) Robot:(276,-3)\n"
     ]
    },
    {
     "name": "stderr",
     "output_type": "stream",
     "text": [
      "[D 220302 14:15:35 robot_control:36] Robot Click X: 276, Y:-3\n",
      "[D 220302 14:15:35 robot_control:21] Loading Robot Drivers...\n"
     ]
    },
    {
     "name": "stdout",
     "output_type": "stream",
     "text": [
      "Clicked Point:(283,139) Robot:(276,-3)\n"
     ]
    },
    {
     "name": "stderr",
     "output_type": "stream",
     "text": [
      "[D 220302 14:15:42 robot_control:36] Robot Click X: 276, Y:-3\n",
      "[D 220302 14:15:42 robot_control:21] Loading Robot Drivers...\n"
     ]
    },
    {
     "name": "stdout",
     "output_type": "stream",
     "text": [
      "Clicked Point:(147,127) Robot:(279,29)\n"
     ]
    },
    {
     "name": "stderr",
     "output_type": "stream",
     "text": [
      "[D 220302 14:15:51 robot_control:36] Robot Click X: 279, Y:29\n",
      "[D 220302 14:15:51 robot_control:21] Loading Robot Drivers...\n"
     ]
    },
    {
     "name": "stdout",
     "output_type": "stream",
     "text": [
      "Clicked Point:(151,133) Robot:(278,28)\n"
     ]
    },
    {
     "name": "stderr",
     "output_type": "stream",
     "text": [
      "[D 220302 14:15:59 robot_control:36] Robot Click X: 278, Y:28\n",
      "[D 220302 14:15:59 robot_control:21] Loading Robot Drivers...\n"
     ]
    },
    {
     "name": "stdout",
     "output_type": "stream",
     "text": [
      "Clicked Point:(149,129) Robot:(278,29)\n"
     ]
    }
   ],
   "source": [
    "# *********************************************\n",
    "# *** Calibrate the Click on Window & Robot ***\n",
    "# *********************************************\n",
    "\n",
    "robot_y2img_x = round(130/540, 2)  # y_robot : x_img = 130: 540\n",
    "robot_x2img_y = round((310-120)/820, 2)  # x_robot : y_img = 310: 820\n",
    "\n",
    "def click_event(event, x, y, flags, params):\n",
    "    if event == cv2.EVENT_LBUTTONDOWN:\n",
    "        x_r, y_r = cvt_cor_to_robot(x, y)\n",
    "        print('Clicked Point:(%d,%d) Robot:(%d,%d)' %(x, y, x_r, y_r))\n",
    "#         robot.swift.set_position(x=x_r, y=y_r, z=20, speed=2000, wait=False, timeout=10, cmd='G0')\n",
    "#         robot.swift.flush_cmd()\n",
    "        robot.click((x_r, y_r, 20))\n",
    "        \n",
    "\n",
    "def cvt_cor_to_robot(x_img, y_img):\n",
    "    x_robot = int((820 - y_img) * robot_x2img_y) + 120\n",
    "    y_robot = int((270 - x_img) * robot_y2img_x)\n",
    "    return x_robot, y_robot\n",
    "\n",
    "        \n",
    "cap = cv2.VideoCapture(0)\n",
    "cap.set(cv2.CAP_PROP_FRAME_WIDTH, 1000)\n",
    "cap.set(cv2.CAP_PROP_FRAME_HEIGHT, 500)\n",
    "\n",
    "while(1):\n",
    "    ret, frame = cap.read()\n",
    "    frame = cv2.rotate(frame, cv2.cv2.ROTATE_90_CLOCKWISE)\n",
    "    \n",
    "    # clip the camera to fit the robot cor system\n",
    "    frame = frame[80:900, :]\n",
    "    \n",
    "    # get the click point on the image    \n",
    "    cv2.imshow('video', frame)\n",
    "    cv2.setMouseCallback('video', click_event)\n",
    "    \n",
    "    if cv2.waitKey(1) == ord('q'):\n",
    "        break\n",
    "    if cv2.waitKey(1) == ord('s'):\n",
    "        pass\n",
    "cap.release()\n",
    "cv2.destroyAllWindows()"
   ]
  },
  {
   "cell_type": "code",
   "execution_count": 16,
   "id": "b7ac2414",
   "metadata": {},
   "outputs": [],
   "source": [
    "robot.close_connect()"
   ]
  },
  {
   "cell_type": "code",
   "execution_count": 8,
   "id": "fbae69c1",
   "metadata": {},
   "outputs": [],
   "source": []
  },
  {
   "cell_type": "code",
   "execution_count": null,
   "id": "be3bc673",
   "metadata": {},
   "outputs": [],
   "source": []
  }
 ],
 "metadata": {
  "kernelspec": {
   "display_name": "Python 3",
   "language": "python",
   "name": "python3"
  },
  "language_info": {
   "codemirror_mode": {
    "name": "ipython",
    "version": 3
   },
   "file_extension": ".py",
   "mimetype": "text/x-python",
   "name": "python",
   "nbconvert_exporter": "python",
   "pygments_lexer": "ipython3",
   "version": "3.6.9"
  }
 },
 "nbformat": 4,
 "nbformat_minor": 5
}
