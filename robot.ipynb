{
 "cells": [
  {
   "cell_type": "code",
   "execution_count": 1,
   "id": "bc3e550c",
   "metadata": {},
   "outputs": [],
   "source": [
    "from robot.robot_control import RobotController\n",
    "import os\n",
    "import cv2"
   ]
  },
  {
   "cell_type": "code",
   "execution_count": 2,
   "id": "5e22e387",
   "metadata": {},
   "outputs": [],
   "source": [
    "robot = RobotController(speed=4000)"
   ]
  },
  {
   "cell_type": "code",
   "execution_count": 3,
   "id": "164ec21e",
   "metadata": {},
   "outputs": [
    {
     "name": "stderr",
     "output_type": "stream",
     "text": [
      "[D 220225 10:43:55 robot_control:21] Loading Robot Drivers...\n"
     ]
    }
   ],
   "source": [
    "robot.reset()"
   ]
  },
  {
   "cell_type": "code",
   "execution_count": 4,
   "id": "b9d3472d",
   "metadata": {},
   "outputs": [],
   "source": [
    "robot.move_speed = 10000"
   ]
  },
  {
   "cell_type": "code",
   "execution_count": 5,
   "id": "b3b7edbf",
   "metadata": {},
   "outputs": [
    {
     "name": "stderr",
     "output_type": "stream",
     "text": [
      "[D 220225 10:44:26 robot_control:36] Robot Click X: 200, Y:50\n",
      "[D 220225 10:44:26 robot_control:21] Loading Robot Drivers...\n"
     ]
    }
   ],
   "source": [
    "robot.click((200,50,10))"
   ]
  },
  {
   "cell_type": "code",
   "execution_count": 8,
   "id": "a3087fbf",
   "metadata": {},
   "outputs": [
    {
     "name": "stderr",
     "output_type": "stream",
     "text": [
      "[D 211215 13:31:18 robot_control:15] Loading Robot Drivers...\n"
     ]
    }
   ],
   "source": [
    "robot.longPress((200,0,0))"
   ]
  },
  {
   "cell_type": "code",
   "execution_count": 16,
   "id": "b889cd59",
   "metadata": {},
   "outputs": [
    {
     "name": "stderr",
     "output_type": "stream",
     "text": [
      "[D 211215 13:32:46 robot_control:15] Loading Robot Drivers...\n"
     ]
    }
   ],
   "source": [
    "robot.doubleclick((200,0,12))"
   ]
  },
  {
   "cell_type": "code",
   "execution_count": 6,
   "id": "9815c71a",
   "metadata": {},
   "outputs": [
    {
     "name": "stdout",
     "output_type": "stream",
     "text": [
      "[ERROR] 2022-02-25 10:41:44 [/usr/local/lib/python3.6/dist-packages/uArm_Python_SDK-2.0.6-py3.6.egg/uarm/swift/utils.py:29]: uArm is not connect\n"
     ]
    }
   ],
   "source": [
    "robot.close_connect()"
   ]
  },
  {
   "cell_type": "code",
   "execution_count": null,
   "id": "c69087d6",
   "metadata": {},
   "outputs": [],
   "source": []
  },
  {
   "cell_type": "code",
   "execution_count": null,
   "id": "5213a4a2",
   "metadata": {},
   "outputs": [],
   "source": []
  },
  {
   "cell_type": "code",
   "execution_count": 5,
   "id": "3c5ac5bc",
   "metadata": {},
   "outputs": [],
   "source": [
    "def nothing(x):\n",
    "    pass\n",
    "\n",
    "cv2.namedWindow('coor')\n",
    "cv2.createTrackbar('x', 'coor', 120, 300, nothing)\n",
    "cv2.setTrackbarMin('x', 'coor', 120)\n",
    "cv2.createTrackbar('y', 'coor', 0, 100, nothing)\n",
    "cv2.setTrackbarMin('y', 'coor', -100)\n",
    "cv2.createTrackbar('z', 'coor', 20, 50, nothing)\n",
    "cv2.setTrackbarMin('z', 'coor', 13)\n",
    "\n",
    "cap = cv2.VideoCapture(0)\n",
    "cap.set(cv2.CAP_PROP_FRAME_WIDTH, 1000)\n",
    "cap.set(cv2.CAP_PROP_FRAME_HEIGHT, 500)\n",
    "\n",
    "while 1:\n",
    "    x = cv2.getTrackbarPos('x', 'coor')\n",
    "    y = cv2.getTrackbarPos('y', 'coor')    \n",
    "    z = cv2.getTrackbarPos('z', 'coor')    \n",
    "        \n",
    "    robot.swift.set_position(x=x, y=y, z=z, speed=2000, wait=False, timeout=10, cmd='G0')\n",
    "    robot.swift.flush_cmd()\n",
    "    \n",
    "    ret, frame = cap.read()\n",
    "    frame = cv2.transpose(frame)\n",
    "    frame = cv2.flip(frame, -1)\n",
    "    cv2.imshow('frame', frame)\n",
    "    if cv2.waitKey(100) == ord('q'):\n",
    "        break\n",
    "cv2.destroyAllWindows()"
   ]
  },
  {
   "cell_type": "code",
   "execution_count": null,
   "id": "8fe95318",
   "metadata": {},
   "outputs": [],
   "source": []
  },
  {
   "cell_type": "code",
   "execution_count": 6,
   "id": "b0f64638",
   "metadata": {},
   "outputs": [
    {
     "name": "stdout",
     "output_type": "stream",
     "text": [
      "Clicked Point:(316,196) Robot:(247,-15)\n"
     ]
    },
    {
     "name": "stderr",
     "output_type": "stream",
     "text": [
      "[D 220225 10:44:38 robot_control:36] Robot Click X: 247, Y:-15\n",
      "[D 220225 10:44:38 robot_control:21] Loading Robot Drivers...\n"
     ]
    }
   ],
   "source": [
    "x_robot2y_img = round(195/570, 2)  # x_img: y_robot = 540: 200\n",
    "y_robot2x_img = round(180/540, 2)  # y_img: x_robot = 550: 180\n",
    "\n",
    "def click_event(event, x, y, flags, params):\n",
    "    if event == cv2.EVENT_LBUTTONDOWN:\n",
    "        x_r, y_r = cvt_cor_to_robot(x, y)\n",
    "        print('Clicked Point:(%d,%d) Robot:(%d,%d)' %(x, y, x_r, y_r))\n",
    "#         robot.swift.set_position(x=x_r, y=y_r, z=20, speed=2000, wait=False, timeout=10, cmd='G0')\n",
    "#         robot.swift.flush_cmd()\n",
    "        robot.click((x_r, y_r, 20))\n",
    "        \n",
    "\n",
    "def cvt_cor_to_robot(x_img, y_img):\n",
    "    x_robot = int((570 - y_img) * x_robot2y_img) + 120\n",
    "    y_robot = int((270 - x_img) * y_robot2x_img)\n",
    "    return x_robot, y_robot\n",
    "\n",
    "        \n",
    "cap = cv2.VideoCapture(0)\n",
    "cap.set(cv2.CAP_PROP_FRAME_WIDTH, 1000)\n",
    "cap.set(cv2.CAP_PROP_FRAME_HEIGHT, 500)\n",
    "\n",
    "while(1):\n",
    "    ret, frame = cap.read()\n",
    "    frame = cv2.transpose(frame)\n",
    "    frame = cv2.flip(frame, 0)\n",
    "    \n",
    "    # clip the camera to fit the robot cor system\n",
    "    frame = frame[220:790, 0:540]\n",
    "    \n",
    "    # get the click point on the image    \n",
    "    cv2.imshow('video', frame)\n",
    "    cv2.setMouseCallback('video', click_event)\n",
    "    \n",
    "    if cv2.waitKey(1) == ord('q'):\n",
    "        break\n",
    "    if cv2.waitKey(1) == ord('s'):\n",
    "        pass\n",
    "cap.release()\n",
    "cv2.destroyAllWindows()"
   ]
  },
  {
   "cell_type": "code",
   "execution_count": 7,
   "id": "b7ac2414",
   "metadata": {},
   "outputs": [],
   "source": [
    "robot.close_connect()"
   ]
  },
  {
   "cell_type": "code",
   "execution_count": null,
   "id": "fbae69c1",
   "metadata": {},
   "outputs": [],
   "source": []
  }
 ],
 "metadata": {
  "kernelspec": {
   "display_name": "Python 3",
   "language": "python",
   "name": "python3"
  },
  "language_info": {
   "codemirror_mode": {
    "name": "ipython",
    "version": 3
   },
   "file_extension": ".py",
   "mimetype": "text/x-python",
   "name": "python",
   "nbconvert_exporter": "python",
   "pygments_lexer": "ipython3",
   "version": "3.6.9"
  }
 },
 "nbformat": 4,
 "nbformat_minor": 5
}
