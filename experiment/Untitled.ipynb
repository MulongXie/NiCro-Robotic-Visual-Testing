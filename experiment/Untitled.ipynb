{
 "cells": [
  {
   "cell_type": "code",
   "execution_count": 1,
   "id": "bb0a17e0",
   "metadata": {},
   "outputs": [],
   "source": [
    "import cv2\n",
    "import numpy as np\n",
    "\n",
    "# Open a simple image\n",
    "img=cv2.imread(\"h1.jpg\")"
   ]
  },
  {
   "cell_type": "code",
   "execution_count": 2,
   "id": "dcfb020e",
   "metadata": {},
   "outputs": [],
   "source": [
    "def detect_hand_region(img, show=False):\n",
    "    # converting from gbr to hsv color space\n",
    "    img_HSV = cv2.cvtColor(img, cv2.COLOR_BGR2HSV)\n",
    "    # skin color range for hsv color space\n",
    "    HSV_mask = cv2.inRange(img_HSV, (0, 15, 0), (17,170,255))\n",
    "    HSV_mask = cv2.morphologyEx(HSV_mask, cv2.MORPH_OPEN, np.ones((3,3), np.uint8))\n",
    "\n",
    "    # converting from gbr to YCbCr color space\n",
    "    img_YCrCb = cv2.cvtColor(img, cv2.COLOR_BGR2YCrCb)\n",
    "    # skin color range for hsv color space\n",
    "    YCrCb_mask = cv2.inRange(img_YCrCb, (0, 135, 85), (255,180,135))\n",
    "    YCrCb_mask = cv2.morphologyEx(YCrCb_mask, cv2.MORPH_OPEN, np.ones((3,3), np.uint8))\n",
    "\n",
    "    # merge skin detection (YCbCr and hsv)\n",
    "    global_mask = cv2.bitwise_and(YCrCb_mask,HSV_mask)\n",
    "    global_mask = cv2.medianBlur(global_mask,3)\n",
    "    global_mask = cv2.morphologyEx(global_mask, cv2.MORPH_OPEN, np.ones((4,4), np.uint8))\n",
    "\n",
    "    #show results\n",
    "    if show:\n",
    "        cv2.imshow(\"1_HSV\",HSV_mask)\n",
    "        cv2.imshow(\"2_YCbCr\",YCrCb_mask)\n",
    "        cv2.imshow(\"3_global_result\",global_mask)\n",
    "        cv2.imshow(\"org\",img)\n",
    "        cv2.waitKey(0)\n",
    "        cv2.destroyAllWindows()\n",
    "    \n",
    "    return global_mask"
   ]
  },
  {
   "cell_type": "code",
   "execution_count": 3,
   "id": "47c2e2fc",
   "metadata": {},
   "outputs": [],
   "source": [
    "def is_contour_close_to_border(contour, img_shape, threshold):\n",
    "    x = contour[:,:,0]\n",
    "    y = contour[:,:,1]\n",
    "    # left, right = min(x), max(x)\n",
    "    # top, bottom = min(y), max(y)\n",
    "    bottom = max(y)\n",
    "    height, width = img_shape[:2]\n",
    "    \n",
    "    if height - bottom < threshold:\n",
    "        return True\n",
    "    return False\n",
    "\n",
    "\n",
    "def identify_hand_contour(binary, show=False):\n",
    "    contours, _ = cv2.findContours(binary, cv2.RETR_TREE, cv2.CHAIN_APPROX_NONE)\n",
    "    contours = sorted(contours, key=lambda x: len(x), reverse=True)\n",
    "    \n",
    "    hand_contour = None\n",
    "    for cnt in contours:\n",
    "        if is_contour_close_to_border(cnt, img.shape, img.shape[0]*0.1):\n",
    "            hand_contour = cnt\n",
    "            break\n",
    "    \n",
    "    if hand_contour is not None:\n",
    "        if show:\n",
    "            draw_cnt = np.zeros((binary.shape[0], binary.shape[1], 3), dtype=np.uint8)\n",
    "            cv2.drawContours(draw_cnt, [hand_contour], 0, (255,255,0), 2)\n",
    "            cv2.imshow(\"hand contour\",draw_cnt)\n",
    "            cv2.waitKey(0)\n",
    "            cv2.destroyAllWindows()\n",
    "    else:\n",
    "        print('No hand region found')\n",
    "    return hand_contour"
   ]
  },
  {
   "cell_type": "code",
   "execution_count": 4,
   "id": "d19bcb5e",
   "metadata": {},
   "outputs": [],
   "source": [
    "def detect_fingertip(contour, show=False, image=None):\n",
    "    fingertip = min(contour, key=lambda x: x[0][1])       \n",
    "    fingertip = np.reshape(fingertip, (2))\n",
    "    \n",
    "    if show and image is not None:\n",
    "        board = image.copy()\n",
    "        cv2.circle(board, fingertip, 5, (0,255,0), 2)\n",
    "        cv2.imshow('fingertip', board)\n",
    "        cv2.waitKey()\n",
    "        cv2.destroyAllWindows()\n",
    "    return fingertip"
   ]
  },
  {
   "cell_type": "code",
   "execution_count": 5,
   "id": "5730e6ca",
   "metadata": {},
   "outputs": [
    {
     "data": {
      "text/plain": [
       "array([252,  52], dtype=int32)"
      ]
     },
     "execution_count": 5,
     "metadata": {},
     "output_type": "execute_result"
    }
   ],
   "source": [
    "binary = detect_hand_region(img)\n",
    "hand_contour = identify_hand_contour(binary)\n",
    "detect_fingertip(hand_contour, image=img)"
   ]
  },
  {
   "cell_type": "code",
   "execution_count": null,
   "id": "436e0d7b",
   "metadata": {},
   "outputs": [],
   "source": []
  },
  {
   "cell_type": "code",
   "execution_count": 7,
   "id": "897070a6",
   "metadata": {},
   "outputs": [
    {
     "ename": "error",
     "evalue": "OpenCV(4.5.5) /io/opencv/modules/imgproc/src/color.cpp:182: error: (-215:Assertion failed) !_src.empty() in function 'cvtColor'\n",
     "output_type": "error",
     "traceback": [
      "\u001b[0;31m---------------------------------------------------------------------------\u001b[0m",
      "\u001b[0;31merror\u001b[0m                                     Traceback (most recent call last)",
      "\u001b[0;32m<ipython-input-7-866fedd60883>\u001b[0m in \u001b[0;36m<module>\u001b[0;34m\u001b[0m\n\u001b[1;32m     18\u001b[0m \u001b[0;34m\u001b[0m\u001b[0m\n\u001b[1;32m     19\u001b[0m     \u001b[0;31m# 1. Color-range-based hand region detection and binarization\u001b[0m\u001b[0;34m\u001b[0m\u001b[0;34m\u001b[0m\u001b[0;34m\u001b[0m\u001b[0m\n\u001b[0;32m---> 20\u001b[0;31m     \u001b[0mbinary\u001b[0m \u001b[0;34m=\u001b[0m \u001b[0mdetect_hand_region\u001b[0m\u001b[0;34m(\u001b[0m\u001b[0mframe\u001b[0m\u001b[0;34m)\u001b[0m\u001b[0;34m\u001b[0m\u001b[0;34m\u001b[0m\u001b[0m\n\u001b[0m\u001b[1;32m     21\u001b[0m     \u001b[0mcv2\u001b[0m\u001b[0;34m.\u001b[0m\u001b[0mimshow\u001b[0m\u001b[0;34m(\u001b[0m\u001b[0;34m\"binary\"\u001b[0m\u001b[0;34m,\u001b[0m \u001b[0mbinary\u001b[0m\u001b[0;34m)\u001b[0m\u001b[0;34m\u001b[0m\u001b[0;34m\u001b[0m\u001b[0m\n\u001b[1;32m     22\u001b[0m \u001b[0;34m\u001b[0m\u001b[0m\n",
      "\u001b[0;32m<ipython-input-2-33a9e6f85851>\u001b[0m in \u001b[0;36mdetect_hand_region\u001b[0;34m(img, show)\u001b[0m\n\u001b[1;32m      1\u001b[0m \u001b[0;32mdef\u001b[0m \u001b[0mdetect_hand_region\u001b[0m\u001b[0;34m(\u001b[0m\u001b[0mimg\u001b[0m\u001b[0;34m,\u001b[0m \u001b[0mshow\u001b[0m\u001b[0;34m=\u001b[0m\u001b[0;32mFalse\u001b[0m\u001b[0;34m)\u001b[0m\u001b[0;34m:\u001b[0m\u001b[0;34m\u001b[0m\u001b[0;34m\u001b[0m\u001b[0m\n\u001b[1;32m      2\u001b[0m     \u001b[0;31m# converting from gbr to hsv color space\u001b[0m\u001b[0;34m\u001b[0m\u001b[0;34m\u001b[0m\u001b[0;34m\u001b[0m\u001b[0m\n\u001b[0;32m----> 3\u001b[0;31m     \u001b[0mimg_HSV\u001b[0m \u001b[0;34m=\u001b[0m \u001b[0mcv2\u001b[0m\u001b[0;34m.\u001b[0m\u001b[0mcvtColor\u001b[0m\u001b[0;34m(\u001b[0m\u001b[0mimg\u001b[0m\u001b[0;34m,\u001b[0m \u001b[0mcv2\u001b[0m\u001b[0;34m.\u001b[0m\u001b[0mCOLOR_BGR2HSV\u001b[0m\u001b[0;34m)\u001b[0m\u001b[0;34m\u001b[0m\u001b[0;34m\u001b[0m\u001b[0m\n\u001b[0m\u001b[1;32m      4\u001b[0m     \u001b[0;31m# skin color range for hsv color space\u001b[0m\u001b[0;34m\u001b[0m\u001b[0;34m\u001b[0m\u001b[0;34m\u001b[0m\u001b[0m\n\u001b[1;32m      5\u001b[0m     \u001b[0mHSV_mask\u001b[0m \u001b[0;34m=\u001b[0m \u001b[0mcv2\u001b[0m\u001b[0;34m.\u001b[0m\u001b[0minRange\u001b[0m\u001b[0;34m(\u001b[0m\u001b[0mimg_HSV\u001b[0m\u001b[0;34m,\u001b[0m \u001b[0;34m(\u001b[0m\u001b[0;36m0\u001b[0m\u001b[0;34m,\u001b[0m \u001b[0;36m15\u001b[0m\u001b[0;34m,\u001b[0m \u001b[0;36m0\u001b[0m\u001b[0;34m)\u001b[0m\u001b[0;34m,\u001b[0m \u001b[0;34m(\u001b[0m\u001b[0;36m17\u001b[0m\u001b[0;34m,\u001b[0m\u001b[0;36m170\u001b[0m\u001b[0;34m,\u001b[0m\u001b[0;36m255\u001b[0m\u001b[0;34m)\u001b[0m\u001b[0;34m)\u001b[0m\u001b[0;34m\u001b[0m\u001b[0;34m\u001b[0m\u001b[0m\n",
      "\u001b[0;31merror\u001b[0m: OpenCV(4.5.5) /io/opencv/modules/imgproc/src/color.cpp:182: error: (-215:Assertion failed) !_src.empty() in function 'cvtColor'\n"
     ]
    }
   ],
   "source": [
    "# *******************************\n",
    "# *** Adjust Video Clip Range ***\n",
    "# *******************************\n",
    "\n",
    "import cv2\n",
    "\n",
    "def nothing(x):\n",
    "    pass\n",
    "\n",
    "\n",
    "cap = cv2.VideoCapture(0)\n",
    "cap.set(cv2.CAP_PROP_FRAME_WIDTH, 960)\n",
    "cap.set(cv2.CAP_PROP_FRAME_HEIGHT, 540)\n",
    "\n",
    "while(1):\n",
    "    ret, frame = cap.read()\n",
    "    frame = cv2.rotate(frame, cv2.cv2.ROTATE_90_CLOCKWISE)\n",
    "    \n",
    "    # 1. Color-range-based hand region detection and binarization\n",
    "    binary = detect_hand_region(frame)\n",
    "    cv2.imshow(\"binary\", binary)\n",
    "    \n",
    "    # 2. Identify hand contour\n",
    "    hand_contour = identify_hand_contour(binary)\n",
    "    if hand_contour is not None:\n",
    "        draw_cnt = np.zeros((binary.shape[0], binary.shape[1], 3), dtype=np.uint8)\n",
    "        cv2.drawContours(draw_cnt, [hand_contour], 0, (255,255,0), 2)\n",
    "        cv2.imshow(\"hand contour\",draw_cnt)\n",
    "    \n",
    "    # 3. Detect the fingertip\n",
    "    if hand_contour is not None:\n",
    "        fingertip = detect_fingertip(hand_contour)\n",
    "        draw_fingertip = frame.copy()\n",
    "        cv2.circle(draw_fingertip, fingertip, 5, (0,255,0), 2)\n",
    "        cv2.imshow('fingertip', draw_fingertip)\n",
    "\n",
    "        \n",
    "    if cv2.waitKey(1) == ord('q'):\n",
    "        break\n",
    "cap.release()\n",
    "cv2.destroyAllWindows()"
   ]
  },
  {
   "cell_type": "code",
   "execution_count": null,
   "id": "90a8d312",
   "metadata": {},
   "outputs": [],
   "source": []
  }
 ],
 "metadata": {
  "kernelspec": {
   "display_name": "Python 3",
   "language": "python",
   "name": "python3"
  },
  "language_info": {
   "codemirror_mode": {
    "name": "ipython",
    "version": 3
   },
   "file_extension": ".py",
   "mimetype": "text/x-python",
   "name": "python",
   "nbconvert_exporter": "python",
   "pygments_lexer": "ipython3",
   "version": "3.6.9"
  }
 },
 "nbformat": 4,
 "nbformat_minor": 5
}
