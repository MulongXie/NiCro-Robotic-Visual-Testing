{
 "cells": [
  {
   "cell_type": "code",
   "execution_count": 1,
   "id": "bb0a17e0",
   "metadata": {},
   "outputs": [],
   "source": [
    "import cv2\n",
    "import numpy as np\n",
    "\n",
    "# Open a simple image\n",
    "img=cv2.imread(\"h1.jpg\")"
   ]
  },
  {
   "cell_type": "code",
   "execution_count": 2,
   "id": "09b4cb21",
   "metadata": {},
   "outputs": [],
   "source": [
    "def detect_hand_region(img, show=True):\n",
    "    # converting from gbr to hsv color space\n",
    "    img_HSV = cv2.cvtColor(img, cv2.COLOR_BGR2HSV)\n",
    "    # skin color range for hsv color space\n",
    "    HSV_mask = cv2.inRange(img_HSV, (0, 15, 0), (17,170,255))\n",
    "    HSV_mask = cv2.morphologyEx(HSV_mask, cv2.MORPH_OPEN, np.ones((3,3), np.uint8))\n",
    "\n",
    "    # converting from gbr to YCbCr color space\n",
    "    img_YCrCb = cv2.cvtColor(img, cv2.COLOR_BGR2YCrCb)\n",
    "    # skin color range for hsv color space\n",
    "    YCrCb_mask = cv2.inRange(img_YCrCb, (0, 135, 85), (255,180,135))\n",
    "    YCrCb_mask = cv2.morphologyEx(YCrCb_mask, cv2.MORPH_OPEN, np.ones((3,3), np.uint8))\n",
    "\n",
    "    # merge skin detection (YCbCr and hsv)\n",
    "    global_mask = cv2.bitwise_and(YCrCb_mask,HSV_mask)\n",
    "    global_mask = cv2.medianBlur(global_mask,3)\n",
    "    global_mask = cv2.morphologyEx(global_mask, cv2.MORPH_OPEN, np.ones((4,4), np.uint8))\n",
    "\n",
    "    #show results\n",
    "    if show:\n",
    "        cv2.imshow(\"1_HSV\",HSV_mask)\n",
    "        cv2.imshow(\"2_YCbCr\",YCrCb_mask)\n",
    "        cv2.imshow(\"3_global_result\",global_mask)\n",
    "        cv2.imshow(\"org\",img)\n",
    "        cv2.waitKey(0)\n",
    "        cv2.destroyAllWindows()\n",
    "    \n",
    "    return global_mask"
   ]
  },
  {
   "cell_type": "code",
   "execution_count": 3,
   "id": "7b56152b",
   "metadata": {},
   "outputs": [],
   "source": [
    "def is_contour_close_to_border(contour, img_shape, threshold):\n",
    "    x = contour[:,:,0]\n",
    "    y = contour[:,:,1]\n",
    "    # left, right = min(x), max(x)\n",
    "    # top, bottom = min(y), max(y)\n",
    "    bottom = max(y)\n",
    "    height, width = img_shape[:2]\n",
    "    \n",
    "    if height - bottom < threshold:\n",
    "        return True\n",
    "    return False"
   ]
  },
  {
   "cell_type": "code",
   "execution_count": 4,
   "id": "aa974d41",
   "metadata": {},
   "outputs": [],
   "source": [
    "def identify_hand_contour(binary, show=True):\n",
    "    contours, _ = cv2.findContours(binary, cv2.RETR_TREE, cv2.CHAIN_APPROX_NONE)\n",
    "    contours = sorted(contours, key=lambda x: len(x), reverse=True)\n",
    "    \n",
    "    hand_contour = None\n",
    "    for cnt in contours:\n",
    "        if is_contour_close_to_border(cnt, img.shape, img.shape[0]*0.1):\n",
    "            hand_contour = cnt\n",
    "            break\n",
    "    \n",
    "    if hand_contour is not None:\n",
    "        if show:\n",
    "            draw_cnt = np.zeros((binary.shape[0], binary.shape[1], 3), dtype=np.uint8)\n",
    "            cv2.drawContours(draw_cnt, [hand_contour], 0, (255,255,0), 2)\n",
    "            cv2.imshow(\"hand contour\",draw_cnt)\n",
    "            cv2.waitKey(0)\n",
    "            cv2.destroyAllWindows()\n",
    "    else:\n",
    "        print('No hand region found')\n",
    "    return hand_contour"
   ]
  },
  {
   "cell_type": "code",
   "execution_count": 22,
   "id": "725980a1",
   "metadata": {},
   "outputs": [],
   "source": [
    "def detect_fingertip(contour, show=True, image=None):\n",
    "    fingertip = min(contour, key=lambda x: x[0][1])       \n",
    "    fingertip = np.reshape(fingertip, (2))\n",
    "    \n",
    "    if show and image is not None:\n",
    "        board = image.copy()\n",
    "        cv2.circle(board, fingertip, 5, (0,255,0), 2)\n",
    "        cv2.imshow('fingertip', board)\n",
    "        cv2.waitKey()\n",
    "        cv2.destroyAllWindows()\n",
    "    return fingertip"
   ]
  },
  {
   "cell_type": "code",
   "execution_count": 5,
   "id": "ea6ffd2c",
   "metadata": {},
   "outputs": [],
   "source": [
    "binary = detect_hand_region(img)\n",
    "hand_contour = identify_hand_contour(binary)\n",
    "detect_fingertip(hand_contour, image=img)"
   ]
  },
  {
   "cell_type": "code",
   "execution_count": null,
   "id": "8f42686c",
   "metadata": {},
   "outputs": [],
   "source": []
  }
 ],
 "metadata": {
  "kernelspec": {
   "display_name": "Python 3",
   "language": "python",
   "name": "python3"
  },
  "language_info": {
   "codemirror_mode": {
    "name": "ipython",
    "version": 3
   },
   "file_extension": ".py",
   "mimetype": "text/x-python",
   "name": "python",
   "nbconvert_exporter": "python",
   "pygments_lexer": "ipython3",
   "version": "3.6.9"
  }
 },
 "nbformat": 4,
 "nbformat_minor": 5
}
