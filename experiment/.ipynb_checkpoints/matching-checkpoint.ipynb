{
 "cells": [
  {
   "cell_type": "code",
   "execution_count": 1,
   "id": "a719ca04",
   "metadata": {},
   "outputs": [],
   "source": [
    "import json\n",
    "from glob import glob\n",
    "from os.path import join as pjoin\n",
    "import os\n",
    "import cv2\n",
    "import numpy as np\n",
    "\n",
    "from match_elements.GUI_pair import GUIPair\n",
    "from GUI import GUI\n",
    "from Operation import Operation"
   ]
  },
  {
   "cell_type": "code",
   "execution_count": 2,
   "id": "a8ac13a4",
   "metadata": {},
   "outputs": [],
   "source": [
    "from keras.applications.resnet import ResNet50\n",
    "resnet_model = ResNet50(include_top=False, input_shape=(32, 32, 3))"
   ]
  },
  {
   "cell_type": "code",
   "execution_count": 3,
   "id": "94e4f43f",
   "metadata": {},
   "outputs": [
    {
     "name": "stdout",
     "output_type": "stream",
     "text": [
      "[2022/03/04 16:23:35] root WARNING: lang en is not support in PP-OCRv2, auto switch to version PP-OCR\n",
      "[2022/03/04 16:23:35] root WARNING: lang en is not support in PP-OCRv2, auto switch to version PP-OCR\n",
      "[2022/03/04 16:23:35] root WARNING: version PP-OCRv2 not support cls models, auto switch to version PP-OCR\n",
      "Namespace(benchmark=False, cls_batch_num=6, cls_image_shape='3, 48, 192', cls_model_dir='/home/ml/.paddleocr/2.3.0.2/ocr/cls/ch_ppocr_mobile_v2.0_cls_infer', cls_thresh=0.9, cpu_threads=10, det=True, det_algorithm='DB', det_db_box_thresh=0.6, det_db_score_mode='fast', det_db_thresh=0.3, det_db_unclip_ratio=1.5, det_east_cover_thresh=0.1, det_east_nms_thresh=0.2, det_east_score_thresh=0.8, det_limit_side_len=960, det_limit_type='max', det_model_dir='/home/ml/.paddleocr/2.3.0.2/ocr/det/en/en_ppocr_mobile_v2.0_det_infer', det_pse_box_thresh=0.85, det_pse_box_type='box', det_pse_min_area=16, det_pse_scale=1, det_pse_thresh=0, det_sast_nms_thresh=0.2, det_sast_polygon=False, det_sast_score_thresh=0.5, drop_score=0.5, e2e_algorithm='PGNet', e2e_char_dict_path='./ppocr/utils/ic15_dict.txt', e2e_limit_side_len=768, e2e_limit_type='max', e2e_model_dir=None, e2e_pgnet_mode='fast', e2e_pgnet_polygon=True, e2e_pgnet_score_thresh=0.5, e2e_pgnet_valid_set='totaltext', enable_mkldnn=False, gpu_mem=500, help='==SUPPRESS==', image_dir=None, ir_optim=True, label_list=['0', '180'], lang='en', layout_path_model='lp://PubLayNet/ppyolov2_r50vd_dcn_365e_publaynet/config', max_batch_size=10, max_text_length=25, min_subgraph_size=15, ocr_version='PP-OCRv2', output='./output/table', precision='fp32', process_id=0, rec=True, rec_algorithm='CRNN', rec_batch_num=6, rec_char_dict_path='/home/ml/.local/lib/python3.6/site-packages/paddleocr/ppocr/utils/en_dict.txt', rec_image_shape='3, 32, 320', rec_model_dir='/home/ml/.paddleocr/2.3.0.2/ocr/rec/en/en_number_mobile_v2.0_rec_infer', save_log_path='./log_output/', show_log=True, structure_version='STRUCTURE', table_char_dict_path=None, table_char_type='en', table_max_len=488, table_model_dir=None, total_process_num=1, type='ocr', use_angle_cls=True, use_dilation=False, use_gpu=False, use_mp=False, use_onnx=False, use_pdserving=False, use_space_char=True, use_tensorrt=False, vis_font_path='./doc/fonts/simfang.ttf', warmup=True)\n"
     ]
    }
   ],
   "source": [
    "from paddleocr import PaddleOCR\n",
    "paddle_ocr = PaddleOCR(use_angle_cls=True, lang='en')"
   ]
  },
  {
   "cell_type": "code",
   "execution_count": 4,
   "id": "028f42a8",
   "metadata": {},
   "outputs": [
    {
     "name": "stdout",
     "output_type": "stream",
     "text": [
      "[2022/03/04 16:23:38] root DEBUG: dt_boxes num : 17, elapse : 0.18749332427978516\n",
      "[2022/03/04 16:23:38] root DEBUG: cls num  : 17, elapse : 0.06053042411804199\n",
      "[2022/03/04 16:23:38] root DEBUG: rec_res num  : 17, elapse : 0.11926484107971191\n",
      "[Text Detection Completed in 0.384 s] Input: data/input/temp.jpg Output: data/output/ocr/temp.json\n",
      "[Compo Detection Completed in 0.392 s] Input: data/input/temp.jpg Output: data/output/ip/temp.json\n",
      "[Merge Completed] Input: data/input/temp.jpg Output: data/output/merge/temp.jpg\n"
     ]
    }
   ],
   "source": [
    "gui = GUI('data/input/temp.jpg')\n",
    "gui.detect_element(True, True, True, paddle_cor=paddle_ocr)\n",
    "# gui.load_detection_result()\n",
    "gui.show_detection_result()"
   ]
  },
  {
   "cell_type": "code",
   "execution_count": 14,
   "id": "77c1184f",
   "metadata": {},
   "outputs": [
    {
     "name": "stdout",
     "output_type": "stream",
     "text": [
      "[2022/03/04 16:31:02] root DEBUG: dt_boxes num : 0, elapse : 0.002849102020263672\n",
      "[2022/03/04 16:31:02] root DEBUG: cls num  : 0, elapse : 0\n",
      "[2022/03/04 16:31:02] root DEBUG: rec_res num  : 0, elapse : 1.1920928955078125e-06\n",
      "[Text Detection Completed in 0.004 s] Input: data/operation/target.png Output: data/operation/target.json\n",
      "[2022/03/04 16:31:02] root DEBUG: dt_boxes num : 3, elapse : 0.009793519973754883\n",
      "[2022/03/04 16:31:02] root DEBUG: cls num  : 3, elapse : 0.01139521598815918\n",
      "[2022/03/04 16:31:02] root DEBUG: rec_res num  : 3, elapse : 0.031556129455566406\n",
      "[Text Detection Completed in 0.056 s] Input: data/operation/target.png Output: data/operation/target.json\n",
      "[2022/03/04 16:31:02] root DEBUG: dt_boxes num : 0, elapse : 0.004050016403198242\n",
      "[2022/03/04 16:31:02] root DEBUG: cls num  : 0, elapse : 0\n",
      "[2022/03/04 16:31:02] root DEBUG: rec_res num  : 0, elapse : 9.5367431640625e-07\n",
      "[Text Detection Completed in 0.006 s] Input: data/operation/target.png Output: data/operation/target.json\n",
      "[2022/03/04 16:31:02] root DEBUG: dt_boxes num : 0, elapse : 0.0028276443481445312\n",
      "[2022/03/04 16:31:02] root DEBUG: cls num  : 0, elapse : 0\n",
      "[2022/03/04 16:31:02] root DEBUG: rec_res num  : 0, elapse : 9.5367431640625e-07\n",
      "[Text Detection Completed in 0.005 s] Input: data/operation/target.png Output: data/operation/target.json\n",
      "[2022/03/04 16:31:02] root DEBUG: dt_boxes num : 0, elapse : 0.002718687057495117\n",
      "[2022/03/04 16:31:02] root DEBUG: cls num  : 0, elapse : 0\n",
      "[2022/03/04 16:31:02] root DEBUG: rec_res num  : 0, elapse : 7.152557373046875e-07\n",
      "[Text Detection Completed in 0.004 s] Input: data/operation/target.png Output: data/operation/target.json\n",
      "[2022/03/04 16:31:02] root DEBUG: dt_boxes num : 1, elapse : 0.004736423492431641\n",
      "[2022/03/04 16:31:02] root DEBUG: cls num  : 1, elapse : 0.006201028823852539\n",
      "[2022/03/04 16:31:02] root DEBUG: rec_res num  : 1, elapse : 0.0040743350982666016\n",
      "[Text Detection Completed in 0.017 s] Input: data/operation/target.png Output: data/operation/target.json\n",
      "[2022/03/04 16:31:02] root DEBUG: dt_boxes num : 0, elapse : 0.0027811527252197266\n",
      "[2022/03/04 16:31:02] root DEBUG: cls num  : 0, elapse : 0\n",
      "[2022/03/04 16:31:02] root DEBUG: rec_res num  : 0, elapse : 9.5367431640625e-07\n",
      "[Text Detection Completed in 0.004 s] Input: data/operation/target.png Output: data/operation/target.json\n",
      "[2022/03/04 16:31:03] root DEBUG: dt_boxes num : 0, elapse : 0.0025327205657958984\n",
      "[2022/03/04 16:31:03] root DEBUG: cls num  : 0, elapse : 0\n",
      "[2022/03/04 16:31:03] root DEBUG: rec_res num  : 0, elapse : 9.5367431640625e-07\n",
      "[Text Detection Completed in 0.004 s] Input: data/operation/target.png Output: data/operation/target.json\n",
      "[2022/03/04 16:31:03] root DEBUG: dt_boxes num : 3, elapse : 0.011850833892822266\n",
      "[2022/03/04 16:31:03] root DEBUG: cls num  : 3, elapse : 0.011263370513916016\n",
      "[2022/03/04 16:31:03] root DEBUG: rec_res num  : 3, elapse : 0.03233647346496582\n",
      "[Text Detection Completed in 0.059 s] Input: data/operation/target.png Output: data/operation/target.json\n",
      "[2022/03/04 16:31:03] root DEBUG: dt_boxes num : 0, elapse : 0.004519939422607422\n",
      "[2022/03/04 16:31:03] root DEBUG: cls num  : 0, elapse : 0\n",
      "[2022/03/04 16:31:03] root DEBUG: rec_res num  : 0, elapse : 1.430511474609375e-06\n",
      "[Text Detection Completed in 0.006 s] Input: data/operation/target.png Output: data/operation/target.json\n",
      "[2022/03/04 16:31:03] root DEBUG: dt_boxes num : 0, elapse : 0.0035033226013183594\n",
      "[2022/03/04 16:31:03] root DEBUG: cls num  : 0, elapse : 0\n",
      "[2022/03/04 16:31:03] root DEBUG: rec_res num  : 0, elapse : 1.1920928955078125e-06\n",
      "[Text Detection Completed in 0.005 s] Input: data/operation/target.png Output: data/operation/target.json\n",
      "[2022/03/04 16:31:03] root DEBUG: dt_boxes num : 0, elapse : 0.00359344482421875\n",
      "[2022/03/04 16:31:03] root DEBUG: cls num  : 0, elapse : 0\n",
      "[2022/03/04 16:31:03] root DEBUG: rec_res num  : 0, elapse : 1.1920928955078125e-06\n",
      "[Text Detection Completed in 0.005 s] Input: data/operation/target.png Output: data/operation/target.json\n",
      "[2022/03/04 16:31:03] root DEBUG: dt_boxes num : 0, elapse : 0.0051000118255615234\n",
      "[2022/03/04 16:31:03] root DEBUG: cls num  : 0, elapse : 0\n",
      "[2022/03/04 16:31:03] root DEBUG: rec_res num  : 0, elapse : 1.6689300537109375e-06\n",
      "[Text Detection Completed in 0.007 s] Input: data/operation/target.png Output: data/operation/target.json\n",
      "[2022/03/04 16:31:03] root DEBUG: dt_boxes num : 0, elapse : 0.004346132278442383\n",
      "[2022/03/04 16:31:03] root DEBUG: cls num  : 0, elapse : 0\n",
      "[2022/03/04 16:31:03] root DEBUG: rec_res num  : 0, elapse : 1.430511474609375e-06\n",
      "[Text Detection Completed in 0.013 s] Input: data/operation/target.png Output: data/operation/target.json\n",
      "[2022/03/04 16:31:03] root DEBUG: dt_boxes num : 1, elapse : 0.004746913909912109\n",
      "[2022/03/04 16:31:03] root DEBUG: cls num  : 1, elapse : 0.006304740905761719\n",
      "[2022/03/04 16:31:03] root DEBUG: rec_res num  : 1, elapse : 0.008588314056396484\n",
      "[Text Detection Completed in 0.022 s] Input: data/operation/target.png Output: data/operation/target.json\n",
      "[2022/03/04 16:31:03] root DEBUG: dt_boxes num : 0, elapse : 0.0035467147827148438\n",
      "[2022/03/04 16:31:03] root DEBUG: cls num  : 0, elapse : 0\n",
      "[2022/03/04 16:31:03] root DEBUG: rec_res num  : 0, elapse : 9.5367431640625e-07\n",
      "[Text Detection Completed in 0.005 s] Input: data/operation/target.png Output: data/operation/target.json\n",
      "[2022/03/04 16:31:03] root DEBUG: dt_boxes num : 3, elapse : 0.013160467147827148\n",
      "[2022/03/04 16:31:03] root DEBUG: cls num  : 3, elapse : 0.012677907943725586\n",
      "[2022/03/04 16:31:03] root DEBUG: rec_res num  : 3, elapse : 0.04826974868774414\n",
      "[Text Detection Completed in 0.078 s] Input: data/operation/target.png Output: data/operation/target.json\n",
      "[2022/03/04 16:31:03] root DEBUG: dt_boxes num : 0, elapse : 0.0032346248626708984\n",
      "[2022/03/04 16:31:03] root DEBUG: cls num  : 0, elapse : 0\n",
      "[2022/03/04 16:31:03] root DEBUG: rec_res num  : 0, elapse : 1.430511474609375e-06\n",
      "[Text Detection Completed in 0.005 s] Input: data/operation/target.png Output: data/operation/target.json\n",
      "[2022/03/04 16:31:03] root DEBUG: dt_boxes num : 0, elapse : 0.002576589584350586\n",
      "[2022/03/04 16:31:03] root DEBUG: cls num  : 0, elapse : 0\n",
      "[2022/03/04 16:31:03] root DEBUG: rec_res num  : 0, elapse : 1.430511474609375e-06\n",
      "[Text Detection Completed in 0.004 s] Input: data/operation/target.png Output: data/operation/target.json\n",
      "[2022/03/04 16:31:03] root DEBUG: dt_boxes num : 0, elapse : 0.0038940906524658203\n",
      "[2022/03/04 16:31:03] root DEBUG: cls num  : 0, elapse : 0\n",
      "[2022/03/04 16:31:03] root DEBUG: rec_res num  : 0, elapse : 1.1920928955078125e-06\n",
      "[Text Detection Completed in 0.005 s] Input: data/operation/target.png Output: data/operation/target.json\n",
      "[2022/03/04 16:31:03] root DEBUG: dt_boxes num : 0, elapse : 0.0033071041107177734\n",
      "[2022/03/04 16:31:03] root DEBUG: cls num  : 0, elapse : 0\n",
      "[2022/03/04 16:31:03] root DEBUG: rec_res num  : 0, elapse : 1.6689300537109375e-06\n",
      "[Text Detection Completed in 0.005 s] Input: data/operation/target.png Output: data/operation/target.json\n",
      "[2022/03/04 16:31:03] root DEBUG: dt_boxes num : 0, elapse : 0.0027077198028564453\n",
      "[2022/03/04 16:31:03] root DEBUG: cls num  : 0, elapse : 0\n",
      "[2022/03/04 16:31:03] root DEBUG: rec_res num  : 0, elapse : 1.1920928955078125e-06\n",
      "[Text Detection Completed in 0.005 s] Input: data/operation/target.png Output: data/operation/target.json\n",
      "[2022/03/04 16:31:03] root DEBUG: dt_boxes num : 1, elapse : 0.006523609161376953\n",
      "[2022/03/04 16:31:03] root DEBUG: cls num  : 1, elapse : 0.005468606948852539\n",
      "[2022/03/04 16:31:03] root DEBUG: rec_res num  : 1, elapse : 0.011674880981445312\n",
      "[Text Detection Completed in 0.027 s] Input: data/operation/target.png Output: data/operation/target.json\n",
      "[2022/03/04 16:31:03] root DEBUG: dt_boxes num : 0, elapse : 0.002601146697998047\n",
      "[2022/03/04 16:31:03] root DEBUG: cls num  : 0, elapse : 0\n",
      "[2022/03/04 16:31:03] root DEBUG: rec_res num  : 0, elapse : 1.430511474609375e-06\n",
      "[Text Detection Completed in 0.004 s] Input: data/operation/target.png Output: data/operation/target.json\n",
      "[2022/03/04 16:31:03] root DEBUG: dt_boxes num : 1, elapse : 0.005861520767211914\n",
      "[2022/03/04 16:31:03] root DEBUG: cls num  : 1, elapse : 0.004314899444580078\n",
      "[2022/03/04 16:31:03] root DEBUG: rec_res num  : 1, elapse : 0.0029473304748535156\n"
     ]
    },
    {
     "name": "stdout",
     "output_type": "stream",
     "text": [
      "[Text Detection Completed in 0.015 s] Input: data/operation/target.png Output: data/operation/target.json\n",
      "[2022/03/04 16:31:03] root DEBUG: dt_boxes num : 0, elapse : 0.003971576690673828\n",
      "[2022/03/04 16:31:03] root DEBUG: cls num  : 0, elapse : 0\n",
      "[2022/03/04 16:31:03] root DEBUG: rec_res num  : 0, elapse : 1.9073486328125e-06\n",
      "[Text Detection Completed in 0.006 s] Input: data/operation/target.png Output: data/operation/target.json\n",
      "[2022/03/04 16:31:03] root DEBUG: dt_boxes num : 3, elapse : 0.010228395462036133\n",
      "[2022/03/04 16:31:03] root DEBUG: cls num  : 3, elapse : 0.011666297912597656\n",
      "[2022/03/04 16:31:03] root DEBUG: rec_res num  : 3, elapse : 0.03320574760437012\n",
      "[Text Detection Completed in 0.059 s] Input: data/operation/target.png Output: data/operation/target.json\n",
      "[2022/03/04 16:31:03] root DEBUG: dt_boxes num : 0, elapse : 0.0031909942626953125\n",
      "[2022/03/04 16:31:03] root DEBUG: cls num  : 0, elapse : 0\n",
      "[2022/03/04 16:31:03] root DEBUG: rec_res num  : 0, elapse : 9.5367431640625e-07\n",
      "[Text Detection Completed in 0.005 s] Input: data/operation/target.png Output: data/operation/target.json\n",
      "[2022/03/04 16:31:03] root DEBUG: dt_boxes num : 0, elapse : 0.0026552677154541016\n",
      "[2022/03/04 16:31:03] root DEBUG: cls num  : 0, elapse : 0\n",
      "[2022/03/04 16:31:03] root DEBUG: rec_res num  : 0, elapse : 1.1920928955078125e-06\n",
      "[Text Detection Completed in 0.004 s] Input: data/operation/target.png Output: data/operation/target.json\n",
      "[2022/03/04 16:31:03] root DEBUG: dt_boxes num : 0, elapse : 0.003445148468017578\n",
      "[2022/03/04 16:31:03] root DEBUG: cls num  : 0, elapse : 0\n",
      "[2022/03/04 16:31:03] root DEBUG: rec_res num  : 0, elapse : 1.1920928955078125e-06\n",
      "[Text Detection Completed in 0.005 s] Input: data/operation/target.png Output: data/operation/target.json\n",
      "[2022/03/04 16:31:03] root DEBUG: dt_boxes num : 0, elapse : 0.00452423095703125\n",
      "[2022/03/04 16:31:03] root DEBUG: cls num  : 0, elapse : 0\n",
      "[2022/03/04 16:31:03] root DEBUG: rec_res num  : 0, elapse : 1.430511474609375e-06\n",
      "[Text Detection Completed in 0.006 s] Input: data/operation/target.png Output: data/operation/target.json\n"
     ]
    }
   ],
   "source": [
    "# load operations\n",
    "testing_data_root = '/home/ml/Data/visual testing/experiments/humanoid-output/adguard-1'\n",
    "\n",
    "steps_file = pjoin(testing_data_root, 'output.json')\n",
    "steps = json.load(open(steps_file, 'r'))\n",
    "\n",
    "operations = []\n",
    "for step in steps:\n",
    "    op = Operation(pjoin(testing_data_root, step['tag'] + '.jpg'), step['event_type'], step['bounds'])\n",
    "    op.shrink_target_element_img()\n",
    "    op.resize(int(op.ui_img_width * (800 / op.ui_img_height)), 800)        \n",
    "    op.detect_text(paddle_ocr)\n",
    "    operations.append(op)\n",
    "#     op.show_target_ele()\n",
    "#     break"
   ]
  },
  {
   "cell_type": "code",
   "execution_count": null,
   "id": "042c31c8",
   "metadata": {},
   "outputs": [],
   "source": []
  },
  {
   "cell_type": "code",
   "execution_count": 15,
   "id": "3c99cb6c",
   "metadata": {},
   "outputs": [
    {
     "data": {
      "text/plain": [
       "array([[[ 29,  60,  21],\n",
       "        [ 29,  60,  21],\n",
       "        [ 29,  60,  21],\n",
       "        ...,\n",
       "        [ 29,  60,  21],\n",
       "        [ 29,  60,  21],\n",
       "        [ 29,  60,  21]],\n",
       "\n",
       "       [[ 29,  60,  21],\n",
       "        [ 29,  60,  21],\n",
       "        [ 29,  60,  21],\n",
       "        ...,\n",
       "        [ 29,  60,  21],\n",
       "        [ 29,  60,  21],\n",
       "        [ 29,  60,  21]],\n",
       "\n",
       "       [[ 29,  60,  21],\n",
       "        [ 29,  60,  21],\n",
       "        [ 29,  60,  21],\n",
       "        ...,\n",
       "        [ 29,  60,  21],\n",
       "        [ 29,  60,  21],\n",
       "        [ 29,  60,  21]],\n",
       "\n",
       "       ...,\n",
       "\n",
       "       [[235, 235, 235],\n",
       "        [235, 235, 235],\n",
       "        [235, 235, 235],\n",
       "        ...,\n",
       "        [235, 235, 235],\n",
       "        [235, 235, 235],\n",
       "        [235, 235, 235]],\n",
       "\n",
       "       [[235, 235, 235],\n",
       "        [235, 235, 235],\n",
       "        [235, 235, 235],\n",
       "        ...,\n",
       "        [235, 235, 235],\n",
       "        [235, 235, 235],\n",
       "        [235, 235, 235]],\n",
       "\n",
       "       [[235, 235, 235],\n",
       "        [235, 235, 235],\n",
       "        [235, 235, 235],\n",
       "        ...,\n",
       "        [235, 235, 235],\n",
       "        [235, 235, 235],\n",
       "        [235, 235, 235]]], dtype=uint8)"
      ]
     },
     "execution_count": 15,
     "metadata": {},
     "output_type": "execute_result"
    }
   ],
   "source": [
    "opr = operations[1]\n",
    "opr.show_target_ele()\n",
    "# gui.adjust_elements_by_screen()\n",
    "# matched_e = gui.match_elements(target_ele_img=opr.target_element_img, target_ele_text=opr.get_text_content(), resnet_model=resnet_model, show=True)"
   ]
  },
  {
   "cell_type": "code",
   "execution_count": 9,
   "id": "d987e789",
   "metadata": {},
   "outputs": [],
   "source": [
    "cv2.imshow('ele', opr.target_element_img)\n",
    "cv2.waitKey()\n",
    "cv2.destroyAllWindows()"
   ]
  },
  {
   "cell_type": "code",
   "execution_count": 11,
   "id": "773651c0",
   "metadata": {},
   "outputs": [
    {
     "data": {
      "text/plain": [
       "True"
      ]
     },
     "execution_count": 11,
     "metadata": {},
     "output_type": "execute_result"
    }
   ],
   "source": [
    "cv2.imwrite('data/output/target_ele.png', opr.target_element_img)"
   ]
  },
  {
   "cell_type": "code",
   "execution_count": null,
   "id": "5a234ea1",
   "metadata": {},
   "outputs": [],
   "source": []
  },
  {
   "cell_type": "code",
   "execution_count": null,
   "id": "3511c384",
   "metadata": {},
   "outputs": [],
   "source": []
  },
  {
   "cell_type": "code",
   "execution_count": 16,
   "id": "746aebbf",
   "metadata": {},
   "outputs": [],
   "source": [
    "gui.recognize_phone_screen()"
   ]
  },
  {
   "cell_type": "code",
   "execution_count": null,
   "id": "f669b3dc",
   "metadata": {},
   "outputs": [],
   "source": []
  },
  {
   "cell_type": "code",
   "execution_count": 6,
   "id": "95ec23a1",
   "metadata": {},
   "outputs": [
    {
     "ename": "error",
     "evalue": "OpenCV(4.4.0) /tmp/pip-req-build-4gvd3asq/opencv/modules/imgproc/src/color.cpp:182: error: (-215:Assertion failed) !_src.empty() in function 'cvtColor'\n",
     "output_type": "error",
     "traceback": [
      "\u001b[0;31m---------------------------------------------------------------------------\u001b[0m",
      "\u001b[0;31merror\u001b[0m                                     Traceback (most recent call last)",
      "\u001b[0;32m<ipython-input-6-fe87ed6cd298>\u001b[0m in \u001b[0;36m<module>\u001b[0;34m\u001b[0m\n\u001b[1;32m      3\u001b[0m \u001b[0;32mfrom\u001b[0m \u001b[0mmatplotlib\u001b[0m \u001b[0;32mimport\u001b[0m \u001b[0mpyplot\u001b[0m \u001b[0;32mas\u001b[0m \u001b[0mplt\u001b[0m\u001b[0;34m\u001b[0m\u001b[0;34m\u001b[0m\u001b[0m\n\u001b[1;32m      4\u001b[0m \u001b[0mimg\u001b[0m \u001b[0;34m=\u001b[0m \u001b[0mcv2\u001b[0m\u001b[0;34m.\u001b[0m\u001b[0mimread\u001b[0m\u001b[0;34m(\u001b[0m\u001b[0;34m'data/input/1.png'\u001b[0m\u001b[0;34m,\u001b[0m\u001b[0;36m0\u001b[0m\u001b[0;34m)\u001b[0m\u001b[0;34m\u001b[0m\u001b[0;34m\u001b[0m\u001b[0m\n\u001b[0;32m----> 5\u001b[0;31m \u001b[0mimg\u001b[0m \u001b[0;34m=\u001b[0m \u001b[0mcv2\u001b[0m\u001b[0;34m.\u001b[0m\u001b[0mcvtColor\u001b[0m\u001b[0;34m(\u001b[0m\u001b[0mimg\u001b[0m\u001b[0;34m,\u001b[0m \u001b[0mcv2\u001b[0m\u001b[0;34m.\u001b[0m\u001b[0mCOLOR_BGR2GRAY\u001b[0m\u001b[0;34m)\u001b[0m\u001b[0;34m\u001b[0m\u001b[0;34m\u001b[0m\u001b[0m\n\u001b[0m\u001b[1;32m      6\u001b[0m \u001b[0mimg2\u001b[0m \u001b[0;34m=\u001b[0m \u001b[0mimg\u001b[0m\u001b[0;34m.\u001b[0m\u001b[0mcopy\u001b[0m\u001b[0;34m(\u001b[0m\u001b[0;34m)\u001b[0m\u001b[0;34m\u001b[0m\u001b[0;34m\u001b[0m\u001b[0m\n\u001b[1;32m      7\u001b[0m \u001b[0mtemplate\u001b[0m \u001b[0;34m=\u001b[0m \u001b[0mcv\u001b[0m\u001b[0;34m.\u001b[0m\u001b[0mimread\u001b[0m\u001b[0;34m(\u001b[0m\u001b[0;34m'../data/input/2.png'\u001b[0m\u001b[0;34m,\u001b[0m\u001b[0;36m0\u001b[0m\u001b[0;34m)\u001b[0m\u001b[0;34m\u001b[0m\u001b[0;34m\u001b[0m\u001b[0m\n",
      "\u001b[0;31merror\u001b[0m: OpenCV(4.4.0) /tmp/pip-req-build-4gvd3asq/opencv/modules/imgproc/src/color.cpp:182: error: (-215:Assertion failed) !_src.empty() in function 'cvtColor'\n"
     ]
    }
   ],
   "source": [
    "import cv2\n",
    "import numpy as np\n",
    "from matplotlib import pyplot as plt\n",
    "img = cv2.imread('data/input/1.png',0)\n",
    "img = cv2.cvtColor(img, cv2.COLOR_BGR2GRAY)\n",
    "img2 = img.copy()\n",
    "template = cv.imread('../data/input/2.png',0)\n",
    "w, h = template.shape[::-1]\n",
    "# All the 6 methods for comparison in a list\n",
    "methods = ['cv.TM_CCOEFF', 'cv.TM_CCOEFF_NORMED', 'cv.TM_CCORR',\n",
    "            'cv.TM_CCORR_NORMED', 'cv.TM_SQDIFF', 'cv.TM_SQDIFF_NORMED']\n",
    "for meth in methods:\n",
    "    img = img2.copy()\n",
    "    method = eval(meth)\n",
    "    # Apply template Matching\n",
    "    res = cv.matchTemplate(img,template,method)\n",
    "    min_val, max_val, min_loc, max_loc = cv.minMaxLoc(res)\n",
    "    print(max_loc)\n",
    "    # If the method is TM_SQDIFF or TM_SQDIFF_NORMED, take minimum\n",
    "    if method in [cv.TM_SQDIFF, cv.TM_SQDIFF_NORMED]:\n",
    "        top_left = min_loc\n",
    "    else:\n",
    "        top_left = max_loc\n",
    "    bottom_right = (top_left[0] + w, top_left[1] + h)\n",
    "    cv.rectangle(img,top_left, bottom_right, 255, 2)\n",
    "    plt.subplot(121),plt.imshow(res,cmap = 'gray')\n",
    "    plt.title('Matching Result'), plt.xticks([]), plt.yticks([])\n",
    "    plt.subplot(122),plt.imshow(img,cmap = 'gray')\n",
    "    plt.title('Detected Point'), plt.xticks([]), plt.yticks([])\n",
    "    plt.suptitle(meth)\n",
    "    plt.show()"
   ]
  },
  {
   "cell_type": "code",
   "execution_count": null,
   "id": "6df9c2d3",
   "metadata": {},
   "outputs": [],
   "source": []
  }
 ],
 "metadata": {
  "kernelspec": {
   "display_name": "Python 3",
   "language": "python",
   "name": "python3"
  },
  "language_info": {
   "codemirror_mode": {
    "name": "ipython",
    "version": 3
   },
   "file_extension": ".py",
   "mimetype": "text/x-python",
   "name": "python",
   "nbconvert_exporter": "python",
   "pygments_lexer": "ipython3",
   "version": "3.6.9"
  }
 },
 "nbformat": 4,
 "nbformat_minor": 5
}
