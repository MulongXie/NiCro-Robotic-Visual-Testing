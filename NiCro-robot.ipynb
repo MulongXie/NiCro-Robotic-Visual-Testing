{
 "cells": [
  {
   "cell_type": "code",
   "execution_count": 1,
   "metadata": {},
   "outputs": [],
   "source": [
    "from NiCro import NiCro"
   ]
  },
  {
   "cell_type": "code",
   "execution_count": 2,
   "metadata": {},
   "outputs": [],
   "source": [
    "nicro = NiCro()"
   ]
  },
  {
   "cell_type": "code",
   "execution_count": 4,
   "metadata": {},
   "outputs": [
    {
     "name": "stdout",
     "output_type": "stream",
     "text": [
      "Selected Source Device:\n",
      "Device ID:0 Name:emulator-5554 Resolution:Size(width=1080, height=2280)\n",
      "\n",
      "Device Emulators:\n",
      "Device ID:0 Name:emulator-5554 Resolution:Size(width=1080, height=2280)\n",
      "Device ID:1 Name:emulator-5556 Resolution:Size(width=1080, height=1920)\n",
      "No Robot Arm System\n"
     ]
    }
   ],
   "source": [
    "nicro.get_devices_info()"
   ]
  },
  {
   "cell_type": "code",
   "execution_count": 5,
   "metadata": {
    "scrolled": true
   },
   "outputs": [
    {
     "name": "stdout",
     "output_type": "stream",
     "text": [
      "****** Device [1 / 2] ******\n",
      "[Text Detection Completed in 2.041 s] Input: data/screen/emulator-5554.png Output: data/output/ocr/emulator-5554.json\n",
      "[Compo Detection Completed in 0.542 s] Input: data/screen/emulator-5554.png Output: data/output/ip/emulator-5554.json\n",
      "[Merge Completed] Input: data/screen/emulator-5554.png Output: data/output/merge/emulator-5554.jpg\n",
      "****** Device [2 / 2] ******\n",
      "[Text Detection Completed in 0.127 s] Input: data/screen/emulator-5556.png Output: data/output/ocr/emulator-5556.json\n",
      "[Compo Detection Completed in 0.521 s] Input: data/screen/emulator-5556.png Output: data/output/ip/emulator-5556.json\n",
      "[Merge Completed] Input: data/screen/emulator-5556.png Output: data/output/merge/emulator-5556.jpg\n"
     ]
    }
   ],
   "source": [
    "nicro.detect_gui_info_for_all_devices(is_load=False)"
   ]
  },
  {
   "cell_type": "code",
   "execution_count": 5,
   "metadata": {},
   "outputs": [
    {
     "name": "stdout",
     "output_type": "stream",
     "text": [
      "\n",
      "****** Tap (758, 1350) ******\n",
      "Action: {'type': 'click', 'coordinate': [(758, 1350), (-1, -1)]}\n",
      "Skip the Selected Source Device\n",
      "*** Replay Devices Number [2/2] ***\n",
      "Device ID:1 Name:emulator-5556 Resolution:Size(width=1080, height=1920)\n",
      "[Text Detection Completed in 0.099 s] Input: data/screen/emulator-5556.png Output: data/output/ocr/emulator-5556.json\n",
      "[Compo Detection Completed in 0.396 s] Input: data/screen/emulator-5556.png Output: data/output/ip/emulator-5556.json\n",
      "[Merge Completed] Input: data/screen/emulator-5556.png Output: data/output/merge/emulator-5556.jpg\n",
      "****** Re-detect Selected Device's screenshot and GUI ******\n",
      "[Text Detection Completed in 0.225 s] Input: data/screen/emulator-5554.png Output: data/output/ocr/emulator-5554.json\n",
      "[Compo Detection Completed in 0.430 s] Input: data/screen/emulator-5554.png Output: data/output/ip/emulator-5554.json\n",
      "[Merge Completed] Input: data/screen/emulator-5554.png Output: data/output/merge/emulator-5554.jpg\n",
      "\n",
      "****** Tap (196, 387) ******\n",
      "Action: {'type': 'click', 'coordinate': [(196, 387), (-1, -1)]}\n",
      "Skip the Selected Source Device\n",
      "*** Replay Devices Number [2/2] ***\n",
      "Device ID:1 Name:emulator-5556 Resolution:Size(width=1080, height=1920)\n",
      "[Text Detection Completed in 0.205 s] Input: data/screen/emulator-5556.png Output: data/output/ocr/emulator-5556.json\n",
      "[Compo Detection Completed in 0.517 s] Input: data/screen/emulator-5556.png Output: data/output/ip/emulator-5556.json\n",
      "[Merge Completed] Input: data/screen/emulator-5556.png Output: data/output/merge/emulator-5556.jpg\n",
      "****** Re-detect Selected Device's screenshot and GUI ******\n",
      "[Text Detection Completed in 0.228 s] Input: data/screen/emulator-5554.png Output: data/output/ocr/emulator-5554.json\n",
      "[Compo Detection Completed in 0.544 s] Input: data/screen/emulator-5554.png Output: data/output/ip/emulator-5554.json\n",
      "[Merge Completed] Input: data/screen/emulator-5554.png Output: data/output/merge/emulator-5554.jpg\n",
      "\n",
      "****** Tap (265, 729) ******\n",
      "Action: {'type': 'click', 'coordinate': [(265, 729), (-1, -1)]}\n",
      "Skip the Selected Source Device\n",
      "*** Replay Devices Number [2/2] ***\n",
      "Device ID:1 Name:emulator-5556 Resolution:Size(width=1080, height=1920)\n",
      "[Text Detection Completed in 0.102 s] Input: data/screen/emulator-5556.png Output: data/output/ocr/emulator-5556.json\n",
      "[Compo Detection Completed in 0.366 s] Input: data/screen/emulator-5556.png Output: data/output/ip/emulator-5556.json\n",
      "[Merge Completed] Input: data/screen/emulator-5556.png Output: data/output/merge/emulator-5556.jpg\n",
      "****** Re-detect Selected Device's screenshot and GUI ******\n",
      "[Text Detection Completed in 0.209 s] Input: data/screen/emulator-5554.png Output: data/output/ocr/emulator-5554.json\n",
      "[Compo Detection Completed in 0.421 s] Input: data/screen/emulator-5554.png Output: data/output/ip/emulator-5554.json\n",
      "[Merge Completed] Input: data/screen/emulator-5554.png Output: data/output/merge/emulator-5554.jpg\n",
      "\n",
      "****** Tap (42, 256) ******\n",
      "Action: {'type': 'click', 'coordinate': [(42, 256), (-1, -1)]}\n",
      "No element found at (14, 89)\n",
      "Skip the Selected Source Device\n",
      "*** Replay Devices Number [2/2] ***\n",
      "Device ID:1 Name:emulator-5556 Resolution:Size(width=1080, height=1920)\n",
      "[Text Detection Completed in 0.192 s] Input: data/screen/emulator-5556.png Output: data/output/ocr/emulator-5556.json\n",
      "[Compo Detection Completed in 0.499 s] Input: data/screen/emulator-5556.png Output: data/output/ip/emulator-5556.json\n",
      "[Merge Completed] Input: data/screen/emulator-5556.png Output: data/output/merge/emulator-5556.jpg\n",
      "****** Re-detect Selected Device's screenshot and GUI ******\n",
      "[Text Detection Completed in 0.159 s] Input: data/screen/emulator-5554.png Output: data/output/ocr/emulator-5554.json\n",
      "[Compo Detection Completed in 0.361 s] Input: data/screen/emulator-5554.png Output: data/output/ip/emulator-5554.json\n",
      "[Merge Completed] Input: data/screen/emulator-5554.png Output: data/output/merge/emulator-5554.jpg\n",
      "\n",
      "****** Tap (401, 624) ******\n",
      "Action: {'type': 'click', 'coordinate': [(401, 624), (-1, -1)]}\n",
      "Skip the Selected Source Device\n",
      "*** Replay Devices Number [2/2] ***\n",
      "Device ID:1 Name:emulator-5556 Resolution:Size(width=1080, height=1920)\n",
      "[Text Detection Completed in 0.074 s] Input: data/screen/emulator-5556.png Output: data/output/ocr/emulator-5556.json\n",
      "[Compo Detection Completed in 0.400 s] Input: data/screen/emulator-5556.png Output: data/output/ip/emulator-5556.json\n",
      "[Merge Completed] Input: data/screen/emulator-5556.png Output: data/output/merge/emulator-5556.jpg\n",
      "****** Re-detect Selected Device's screenshot and GUI ******\n",
      "[Text Detection Completed in 0.149 s] Input: data/screen/emulator-5554.png Output: data/output/ocr/emulator-5554.json\n",
      "[Compo Detection Completed in 0.375 s] Input: data/screen/emulator-5554.png Output: data/output/ip/emulator-5554.json\n",
      "[Merge Completed] Input: data/screen/emulator-5554.png Output: data/output/merge/emulator-5554.jpg\n",
      "\n",
      "****** Tap (62, 253) ******\n",
      "Action: {'type': 'click', 'coordinate': [(62, 253), (-1, -1)]}\n",
      "Skip the Selected Source Device\n",
      "*** Replay Devices Number [2/2] ***\n",
      "Device ID:1 Name:emulator-5556 Resolution:Size(width=1080, height=1920)\n",
      "[Text Detection Completed in 0.123 s] Input: data/screen/emulator-5556.png Output: data/output/ocr/emulator-5556.json\n",
      "[Compo Detection Completed in 0.440 s] Input: data/screen/emulator-5556.png Output: data/output/ip/emulator-5556.json\n",
      "[Merge Completed] Input: data/screen/emulator-5556.png Output: data/output/merge/emulator-5556.jpg\n",
      "****** Re-detect Selected Device's screenshot and GUI ******\n",
      "[Text Detection Completed in 0.160 s] Input: data/screen/emulator-5554.png Output: data/output/ocr/emulator-5554.json\n",
      "[Compo Detection Completed in 0.368 s] Input: data/screen/emulator-5554.png Output: data/output/ip/emulator-5554.json\n",
      "[Merge Completed] Input: data/screen/emulator-5554.png Output: data/output/merge/emulator-5554.jpg\n",
      "\n",
      "****** Tap (324, 1339) ******\n",
      "Action: {'type': 'click', 'coordinate': [(324, 1339), (-1, -1)]}\n",
      "Skip the Selected Source Device\n",
      "*** Replay Devices Number [2/2] ***\n",
      "Device ID:1 Name:emulator-5556 Resolution:Size(width=1080, height=1920)\n",
      "[Text Detection Completed in 0.095 s] Input: data/screen/emulator-5556.png Output: data/output/ocr/emulator-5556.json\n",
      "[Compo Detection Completed in 0.392 s] Input: data/screen/emulator-5556.png Output: data/output/ip/emulator-5556.json\n",
      "[Merge Completed] Input: data/screen/emulator-5556.png Output: data/output/merge/emulator-5556.jpg\n",
      "****** Re-detect Selected Device's screenshot and GUI ******\n",
      "[Text Detection Completed in 0.207 s] Input: data/screen/emulator-5554.png Output: data/output/ocr/emulator-5554.json\n",
      "[Compo Detection Completed in 0.440 s] Input: data/screen/emulator-5554.png Output: data/output/ip/emulator-5554.json\n",
      "[Merge Completed] Input: data/screen/emulator-5554.png Output: data/output/merge/emulator-5554.jpg\n",
      "\n",
      "****** Tap (79, 242) ******\n",
      "Action: {'type': 'click', 'coordinate': [(79, 242), (-1, -1)]}\n",
      "Skip the Selected Source Device\n",
      "*** Replay Devices Number [2/2] ***\n",
      "Device ID:1 Name:emulator-5556 Resolution:Size(width=1080, height=1920)\n",
      "[Text Detection Completed in 0.143 s] Input: data/screen/emulator-5556.png Output: data/output/ocr/emulator-5556.json\n",
      "[Compo Detection Completed in 0.459 s] Input: data/screen/emulator-5556.png Output: data/output/ip/emulator-5556.json\n",
      "[Merge Completed] Input: data/screen/emulator-5556.png Output: data/output/merge/emulator-5556.jpg\n",
      "****** Re-detect Selected Device's screenshot and GUI ******\n",
      "[Text Detection Completed in 0.161 s] Input: data/screen/emulator-5554.png Output: data/output/ocr/emulator-5554.json\n",
      "[Compo Detection Completed in 0.491 s] Input: data/screen/emulator-5554.png Output: data/output/ip/emulator-5554.json\n",
      "[Merge Completed] Input: data/screen/emulator-5554.png Output: data/output/merge/emulator-5554.jpg\n",
      "\n",
      "****** Tap (914, 239) ******\n",
      "Action: {'type': 'click', 'coordinate': [(914, 239), (-1, -1)]}\n",
      "Skip the Selected Source Device\n",
      "*** Replay Devices Number [2/2] ***\n",
      "Device ID:1 Name:emulator-5556 Resolution:Size(width=1080, height=1920)\n",
      "[Text Detection Completed in 0.141 s] Input: data/screen/emulator-5556.png Output: data/output/ocr/emulator-5556.json\n",
      "[Compo Detection Completed in 0.447 s] Input: data/screen/emulator-5556.png Output: data/output/ip/emulator-5556.json\n",
      "[Merge Completed] Input: data/screen/emulator-5556.png Output: data/output/merge/emulator-5556.jpg\n",
      "****** Re-detect Selected Device's screenshot and GUI ******\n"
     ]
    },
    {
     "name": "stdout",
     "output_type": "stream",
     "text": [
      "[Text Detection Completed in 0.166 s] Input: data/screen/emulator-5554.png Output: data/output/ocr/emulator-5554.json\n",
      "[Compo Detection Completed in 0.368 s] Input: data/screen/emulator-5554.png Output: data/output/ip/emulator-5554.json\n",
      "[Merge Completed] Input: data/screen/emulator-5554.png Output: data/output/merge/emulator-5554.jpg\n",
      "\n",
      "****** Tap (837, 1037) ******\n",
      "Action: {'type': 'click', 'coordinate': [(837, 1037), (-1, -1)]}\n",
      "No element found at (293, 363)\n",
      "Skip the Selected Source Device\n",
      "*** Replay Devices Number [2/2] ***\n",
      "Device ID:1 Name:emulator-5556 Resolution:Size(width=1080, height=1920)\n",
      "[Text Detection Completed in 0.126 s] Input: data/screen/emulator-5556.png Output: data/output/ocr/emulator-5556.json\n",
      "[Compo Detection Completed in 0.444 s] Input: data/screen/emulator-5556.png Output: data/output/ip/emulator-5556.json\n",
      "[Merge Completed] Input: data/screen/emulator-5556.png Output: data/output/merge/emulator-5556.jpg\n",
      "****** Re-detect Selected Device's screenshot and GUI ******\n",
      "[Text Detection Completed in 0.161 s] Input: data/screen/emulator-5554.png Output: data/output/ocr/emulator-5554.json\n",
      "[Compo Detection Completed in 0.376 s] Input: data/screen/emulator-5554.png Output: data/output/ip/emulator-5554.json\n",
      "[Merge Completed] Input: data/screen/emulator-5554.png Output: data/output/merge/emulator-5554.jpg\n",
      "\n",
      "****** Tap (367, 1350) ******\n",
      "Action: {'type': 'click', 'coordinate': [(367, 1350), (-1, -1)]}\n",
      "Skip the Selected Source Device\n",
      "*** Replay Devices Number [2/2] ***\n",
      "Device ID:1 Name:emulator-5556 Resolution:Size(width=1080, height=1920)\n",
      "[Text Detection Completed in 0.194 s] Input: data/screen/emulator-5556.png Output: data/output/ocr/emulator-5556.json\n",
      "[Compo Detection Completed in 0.501 s] Input: data/screen/emulator-5556.png Output: data/output/ip/emulator-5556.json\n",
      "[Merge Completed] Input: data/screen/emulator-5556.png Output: data/output/merge/emulator-5556.jpg\n",
      "****** Re-detect Selected Device's screenshot and GUI ******\n",
      "[Text Detection Completed in 0.217 s] Input: data/screen/emulator-5554.png Output: data/output/ocr/emulator-5554.json\n",
      "[Compo Detection Completed in 0.436 s] Input: data/screen/emulator-5554.png Output: data/output/ip/emulator-5554.json\n",
      "[Merge Completed] Input: data/screen/emulator-5554.png Output: data/output/merge/emulator-5554.jpg\n",
      "\n",
      "****** Tap (71, 256) ******\n",
      "Action: {'type': 'click', 'coordinate': [(71, 256), (-1, -1)]}\n",
      "Skip the Selected Source Device\n",
      "*** Replay Devices Number [2/2] ***\n",
      "Device ID:1 Name:emulator-5556 Resolution:Size(width=1080, height=1920)\n",
      "[Text Detection Completed in 0.147 s] Input: data/screen/emulator-5556.png Output: data/output/ocr/emulator-5556.json\n",
      "[Compo Detection Completed in 0.457 s] Input: data/screen/emulator-5556.png Output: data/output/ip/emulator-5556.json\n",
      "[Merge Completed] Input: data/screen/emulator-5556.png Output: data/output/merge/emulator-5556.jpg\n",
      "****** Re-detect Selected Device's screenshot and GUI ******\n",
      "[Text Detection Completed in 0.197 s] Input: data/screen/emulator-5554.png Output: data/output/ocr/emulator-5554.json\n",
      "[Compo Detection Completed in 0.379 s] Input: data/screen/emulator-5554.png Output: data/output/ip/emulator-5554.json\n",
      "[Merge Completed] Input: data/screen/emulator-5554.png Output: data/output/merge/emulator-5554.jpg\n",
      "\n",
      "****** Scroll from (558, 1707) to (635, 880) ******\n",
      "Action: {'type': 'swipe', 'coordinate': [(558, 1707), (635, 880)]}\n",
      "Skip the Selected Source Device\n",
      "*** Replay Devices Number [2/2] ***\n",
      "Device ID:1 Name:emulator-5556 Resolution:Size(width=1080, height=1920)\n",
      "[Text Detection Completed in 0.141 s] Input: data/screen/emulator-5556.png Output: data/output/ocr/emulator-5556.json\n",
      "[Compo Detection Completed in 0.536 s] Input: data/screen/emulator-5556.png Output: data/output/ip/emulator-5556.json\n",
      "[Merge Completed] Input: data/screen/emulator-5556.png Output: data/output/merge/emulator-5556.jpg\n",
      "****** Re-detect Selected Device's screenshot and GUI ******\n",
      "[Text Detection Completed in 0.170 s] Input: data/screen/emulator-5554.png Output: data/output/ocr/emulator-5554.json\n",
      "[Compo Detection Completed in 0.385 s] Input: data/screen/emulator-5554.png Output: data/output/ip/emulator-5554.json\n",
      "[Merge Completed] Input: data/screen/emulator-5554.png Output: data/output/merge/emulator-5554.jpg\n",
      "\n",
      "****** Scroll from (621, 1464) to (621, 809) ******\n",
      "Action: {'type': 'swipe', 'coordinate': [(621, 1464), (621, 809)]}\n",
      "Skip the Selected Source Device\n",
      "*** Replay Devices Number [2/2] ***\n",
      "Device ID:1 Name:emulator-5556 Resolution:Size(width=1080, height=1920)\n",
      "[Text Detection Completed in 0.167 s] Input: data/screen/emulator-5556.png Output: data/output/ocr/emulator-5556.json\n",
      "[Compo Detection Completed in 0.443 s] Input: data/screen/emulator-5556.png Output: data/output/ip/emulator-5556.json\n",
      "[Merge Completed] Input: data/screen/emulator-5556.png Output: data/output/merge/emulator-5556.jpg\n",
      "****** Re-detect Selected Device's screenshot and GUI ******\n",
      "[Text Detection Completed in 0.175 s] Input: data/screen/emulator-5554.png Output: data/output/ocr/emulator-5554.json\n",
      "[Compo Detection Completed in 0.394 s] Input: data/screen/emulator-5554.png Output: data/output/ip/emulator-5554.json\n",
      "[Merge Completed] Input: data/screen/emulator-5554.png Output: data/output/merge/emulator-5554.jpg\n",
      "\n",
      "****** Tap (202, 966) ******\n",
      "Action: {'type': 'click', 'coordinate': [(202, 966), (-1, -1)]}\n",
      "Skip the Selected Source Device\n",
      "*** Replay Devices Number [2/2] ***\n",
      "Device ID:1 Name:emulator-5556 Resolution:Size(width=1080, height=1920)\n",
      "[Text Detection Completed in 0.133 s] Input: data/screen/emulator-5556.png Output: data/output/ocr/emulator-5556.json\n",
      "[Compo Detection Completed in 0.470 s] Input: data/screen/emulator-5556.png Output: data/output/ip/emulator-5556.json\n",
      "[Merge Completed] Input: data/screen/emulator-5556.png Output: data/output/merge/emulator-5556.jpg\n",
      "****** Re-detect Selected Device's screenshot and GUI ******\n",
      "[Text Detection Completed in 0.200 s] Input: data/screen/emulator-5554.png Output: data/output/ocr/emulator-5554.json\n",
      "[Compo Detection Completed in 0.429 s] Input: data/screen/emulator-5554.png Output: data/output/ip/emulator-5554.json\n",
      "[Merge Completed] Input: data/screen/emulator-5554.png Output: data/output/merge/emulator-5554.jpg\n",
      "\n",
      "****** Tap (71, 247) ******\n",
      "Action: {'type': 'click', 'coordinate': [(71, 247), (-1, -1)]}\n",
      "Skip the Selected Source Device\n",
      "*** Replay Devices Number [2/2] ***\n",
      "Device ID:1 Name:emulator-5556 Resolution:Size(width=1080, height=1920)\n",
      "[Text Detection Completed in 0.160 s] Input: data/screen/emulator-5556.png Output: data/output/ocr/emulator-5556.json\n",
      "[Compo Detection Completed in 0.448 s] Input: data/screen/emulator-5556.png Output: data/output/ip/emulator-5556.json\n",
      "[Merge Completed] Input: data/screen/emulator-5556.png Output: data/output/merge/emulator-5556.jpg\n",
      "****** Re-detect Selected Device's screenshot and GUI ******\n",
      "[Text Detection Completed in 0.177 s] Input: data/screen/emulator-5554.png Output: data/output/ocr/emulator-5554.json\n",
      "[Compo Detection Completed in 0.398 s] Input: data/screen/emulator-5554.png Output: data/output/ip/emulator-5554.json\n",
      "[Merge Completed] Input: data/screen/emulator-5554.png Output: data/output/merge/emulator-5554.jpg\n"
     ]
    }
   ],
   "source": [
    "nicro.control_multiple_devices_through_source_device(is_replay=True)"
   ]
  },
  {
   "cell_type": "code",
   "execution_count": null,
   "metadata": {},
   "outputs": [],
   "source": []
  },
  {
   "cell_type": "code",
   "execution_count": 1,
   "metadata": {},
   "outputs": [],
   "source": [
    "from Robot import Robot"
   ]
  },
  {
   "cell_type": "code",
   "execution_count": 2,
   "metadata": {},
   "outputs": [],
   "source": [
    "robot = Robot(speed=100000, press_depth=18)"
   ]
  },
  {
   "cell_type": "code",
   "execution_count": null,
   "metadata": {},
   "outputs": [
    {
     "name": "stdout",
     "output_type": "stream",
     "text": [
      "Clicked Point:(420,705) Robot:(145,-33)\n"
     ]
    },
    {
     "name": "stderr",
     "output_type": "stream",
     "text": [
      "[D 220501 08:06:38 robot_control:36] Robot Click X: 145, Y:-33\n",
      "[D 220501 08:06:38 robot_control:21] Loading Robot Drivers...\n"
     ]
    },
    {
     "name": "stdout",
     "output_type": "stream",
     "text": [
      "Clicked Point:(116,726) Robot:(140,33)\n"
     ]
    },
    {
     "name": "stderr",
     "output_type": "stream",
     "text": [
      "[D 220501 08:06:54 robot_control:36] Robot Click X: 140, Y:33\n",
      "[D 220501 08:06:54 robot_control:21] Loading Robot Drivers...\n"
     ]
    }
   ],
   "source": [
    "robot.control_robot_by_clicking_on_cam_video()"
   ]
  },
  {
   "cell_type": "code",
   "execution_count": null,
   "metadata": {},
   "outputs": [],
   "source": []
  }
 ],
 "metadata": {
  "kernelspec": {
   "display_name": "Python 3",
   "language": "python",
   "name": "python3"
  },
  "language_info": {
   "codemirror_mode": {
    "name": "ipython",
    "version": 3
   },
   "file_extension": ".py",
   "mimetype": "text/x-python",
   "name": "python",
   "nbconvert_exporter": "python",
   "pygments_lexer": "ipython3",
   "version": "3.5.6"
  }
 },
 "nbformat": 4,
 "nbformat_minor": 5
}
