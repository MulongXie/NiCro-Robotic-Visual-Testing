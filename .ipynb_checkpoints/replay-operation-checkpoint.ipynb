{
 "cells": [
  {
   "cell_type": "code",
   "execution_count": 1,
   "id": "adf1cdca",
   "metadata": {},
   "outputs": [],
   "source": [
    "import json\n",
    "from glob import glob\n",
    "from os.path import join as pjoin\n",
    "import os\n",
    "import cv2\n",
    "import numpy as np\n",
    "from matplotlib import pyplot as plt\n",
    "\n",
    "from match_elements.GUI_pair import GUIPair\n",
    "from GUI import GUI\n",
    "from Operation import Operation"
   ]
  },
  {
   "cell_type": "code",
   "execution_count": 2,
   "id": "2840b0b1",
   "metadata": {},
   "outputs": [],
   "source": [
    "# load resnet for encoding image to match\n",
    "from keras.applications.resnet import ResNet50\n",
    "resnet_model = ResNet50(include_top=False, input_shape=(32, 32, 3))"
   ]
  },
  {
   "cell_type": "code",
   "execution_count": 3,
   "id": "fed740f9",
   "metadata": {},
   "outputs": [
    {
     "name": "stdout",
     "output_type": "stream",
     "text": [
      "[2022/03/02 17:41:00] root WARNING: lang en is not support in PP-OCRv2, auto switch to version PP-OCR\n",
      "[2022/03/02 17:41:00] root WARNING: lang en is not support in PP-OCRv2, auto switch to version PP-OCR\n",
      "[2022/03/02 17:41:00] root WARNING: version PP-OCRv2 not support cls models, auto switch to version PP-OCR\n",
      "Namespace(benchmark=False, cls_batch_num=6, cls_image_shape='3, 48, 192', cls_model_dir='/home/ml/.paddleocr/2.3.0.2/ocr/cls/ch_ppocr_mobile_v2.0_cls_infer', cls_thresh=0.9, cpu_threads=10, det=True, det_algorithm='DB', det_db_box_thresh=0.6, det_db_score_mode='fast', det_db_thresh=0.3, det_db_unclip_ratio=1.5, det_east_cover_thresh=0.1, det_east_nms_thresh=0.2, det_east_score_thresh=0.8, det_limit_side_len=960, det_limit_type='max', det_model_dir='/home/ml/.paddleocr/2.3.0.2/ocr/det/en/en_ppocr_mobile_v2.0_det_infer', det_pse_box_thresh=0.85, det_pse_box_type='box', det_pse_min_area=16, det_pse_scale=1, det_pse_thresh=0, det_sast_nms_thresh=0.2, det_sast_polygon=False, det_sast_score_thresh=0.5, drop_score=0.5, e2e_algorithm='PGNet', e2e_char_dict_path='./ppocr/utils/ic15_dict.txt', e2e_limit_side_len=768, e2e_limit_type='max', e2e_model_dir=None, e2e_pgnet_mode='fast', e2e_pgnet_polygon=True, e2e_pgnet_score_thresh=0.5, e2e_pgnet_valid_set='totaltext', enable_mkldnn=False, gpu_mem=500, help='==SUPPRESS==', image_dir=None, ir_optim=True, label_list=['0', '180'], lang='en', layout_path_model='lp://PubLayNet/ppyolov2_r50vd_dcn_365e_publaynet/config', max_batch_size=10, max_text_length=25, min_subgraph_size=15, ocr_version='PP-OCRv2', output='./output/table', precision='fp32', process_id=0, rec=True, rec_algorithm='CRNN', rec_batch_num=6, rec_char_dict_path='/home/ml/.local/lib/python3.6/site-packages/paddleocr/ppocr/utils/en_dict.txt', rec_image_shape='3, 32, 320', rec_model_dir='/home/ml/.paddleocr/2.3.0.2/ocr/rec/en/en_number_mobile_v2.0_rec_infer', save_log_path='./log_output/', show_log=True, structure_version='STRUCTURE', table_char_dict_path=None, table_char_type='en', table_max_len=488, table_model_dir=None, total_process_num=1, type='ocr', use_angle_cls=True, use_dilation=False, use_gpu=False, use_mp=False, use_onnx=False, use_pdserving=False, use_space_char=True, use_tensorrt=False, vis_font_path='./doc/fonts/simfang.ttf', warmup=True)\n"
     ]
    }
   ],
   "source": [
    "# load PaddleOCR for text detection\n",
    "from paddleocr import PaddleOCR\n",
    "paddle_ocr = PaddleOCR(use_angle_cls=True, lang='en')"
   ]
  },
  {
   "cell_type": "code",
   "execution_count": 4,
   "id": "30ba464c",
   "metadata": {},
   "outputs": [
    {
     "name": "stdout",
     "output_type": "stream",
     "text": [
      "[2022/03/02 17:41:01] root DEBUG: dt_boxes num : 1, elapse : 0.03557395935058594\n",
      "[2022/03/02 17:41:01] root DEBUG: cls num  : 1, elapse : 0.004517793655395508\n",
      "[2022/03/02 17:41:01] root DEBUG: rec_res num  : 1, elapse : 0.0037572383880615234\n",
      "[Text Detection Completed in 0.048 s] Input: data/operation/target.png Output: data/operation/target.json\n",
      "[2022/03/02 17:41:01] root DEBUG: dt_boxes num : 3, elapse : 0.11110949516296387\n",
      "[2022/03/02 17:41:01] root DEBUG: cls num  : 3, elapse : 0.011918783187866211\n",
      "[2022/03/02 17:41:01] root DEBUG: rec_res num  : 3, elapse : 0.03480815887451172\n",
      "[Text Detection Completed in 0.173 s] Input: data/operation/target.png Output: data/operation/target.json\n",
      "[2022/03/02 17:41:01] root DEBUG: dt_boxes num : 1, elapse : 0.03381633758544922\n",
      "[2022/03/02 17:41:01] root DEBUG: cls num  : 1, elapse : 0.004204273223876953\n",
      "[2022/03/02 17:41:01] root DEBUG: rec_res num  : 1, elapse : 0.004767417907714844\n",
      "[Text Detection Completed in 0.049 s] Input: data/operation/target.png Output: data/operation/target.json\n",
      "[2022/03/02 17:41:01] root DEBUG: dt_boxes num : 0, elapse : 0.00925755500793457\n",
      "[2022/03/02 17:41:01] root DEBUG: cls num  : 0, elapse : 0\n",
      "[2022/03/02 17:41:01] root DEBUG: rec_res num  : 0, elapse : 1.430511474609375e-06\n",
      "[Text Detection Completed in 0.012 s] Input: data/operation/target.png Output: data/operation/target.json\n",
      "[2022/03/02 17:41:01] root DEBUG: dt_boxes num : 0, elapse : 0.010652780532836914\n",
      "[2022/03/02 17:41:01] root DEBUG: cls num  : 0, elapse : 0\n",
      "[2022/03/02 17:41:01] root DEBUG: rec_res num  : 0, elapse : 1.1920928955078125e-06\n",
      "[Text Detection Completed in 0.013 s] Input: data/operation/target.png Output: data/operation/target.json\n",
      "[2022/03/02 17:41:01] root DEBUG: dt_boxes num : 0, elapse : 0.019132137298583984\n",
      "[2022/03/02 17:41:01] root DEBUG: cls num  : 0, elapse : 0\n",
      "[2022/03/02 17:41:01] root DEBUG: rec_res num  : 0, elapse : 1.1920928955078125e-06\n",
      "[Text Detection Completed in 0.023 s] Input: data/operation/target.png Output: data/operation/target.json\n",
      "[2022/03/02 17:41:01] root DEBUG: dt_boxes num : 0, elapse : 0.008992910385131836\n",
      "[2022/03/02 17:41:01] root DEBUG: cls num  : 0, elapse : 0\n",
      "[2022/03/02 17:41:01] root DEBUG: rec_res num  : 0, elapse : 1.1920928955078125e-06\n",
      "[Text Detection Completed in 0.011 s] Input: data/operation/target.png Output: data/operation/target.json\n",
      "[2022/03/02 17:41:01] root DEBUG: dt_boxes num : 1, elapse : 0.011191844940185547\n",
      "[2022/03/02 17:41:01] root DEBUG: cls num  : 1, elapse : 0.004268646240234375\n",
      "[2022/03/02 17:41:01] root DEBUG: rec_res num  : 1, elapse : 0.003331899642944336\n",
      "[Text Detection Completed in 0.021 s] Input: data/operation/target.png Output: data/operation/target.json\n",
      "[2022/03/02 17:41:01] root DEBUG: dt_boxes num : 3, elapse : 0.09815335273742676\n",
      "[2022/03/02 17:41:01] root DEBUG: cls num  : 3, elapse : 0.011198759078979492\n",
      "[2022/03/02 17:41:01] root DEBUG: rec_res num  : 3, elapse : 0.03480815887451172\n",
      "[Text Detection Completed in 0.161 s] Input: data/operation/target.png Output: data/operation/target.json\n",
      "[2022/03/02 17:41:01] root DEBUG: dt_boxes num : 1, elapse : 0.04584503173828125\n",
      "[2022/03/02 17:41:01] root DEBUG: cls num  : 1, elapse : 0.006269693374633789\n",
      "[2022/03/02 17:41:01] root DEBUG: rec_res num  : 1, elapse : 0.006796836853027344\n",
      "[Text Detection Completed in 0.067 s] Input: data/operation/target.png Output: data/operation/target.json\n",
      "[2022/03/02 17:41:01] root DEBUG: dt_boxes num : 0, elapse : 0.008963346481323242\n",
      "[2022/03/02 17:41:01] root DEBUG: cls num  : 0, elapse : 0\n",
      "[2022/03/02 17:41:01] root DEBUG: rec_res num  : 0, elapse : 1.1920928955078125e-06\n",
      "[Text Detection Completed in 0.011 s] Input: data/operation/target.png Output: data/operation/target.json\n",
      "[2022/03/02 17:41:01] root DEBUG: dt_boxes num : 0, elapse : 0.010630130767822266\n",
      "[2022/03/02 17:41:01] root DEBUG: cls num  : 0, elapse : 0\n",
      "[2022/03/02 17:41:01] root DEBUG: rec_res num  : 0, elapse : 1.430511474609375e-06\n",
      "[Text Detection Completed in 0.013 s] Input: data/operation/target.png Output: data/operation/target.json\n",
      "[2022/03/02 17:41:01] root DEBUG: dt_boxes num : 0, elapse : 0.0195004940032959\n",
      "[2022/03/02 17:41:01] root DEBUG: cls num  : 0, elapse : 0\n",
      "[2022/03/02 17:41:01] root DEBUG: rec_res num  : 0, elapse : 2.86102294921875e-06\n",
      "[Text Detection Completed in 0.024 s] Input: data/operation/target.png Output: data/operation/target.json\n",
      "[2022/03/02 17:41:01] root DEBUG: dt_boxes num : 1, elapse : 0.02040553092956543\n",
      "[2022/03/02 17:41:01] root DEBUG: cls num  : 1, elapse : 0.004210710525512695\n",
      "[2022/03/02 17:41:01] root DEBUG: rec_res num  : 1, elapse : 0.018622398376464844\n",
      "[Text Detection Completed in 0.050 s] Input: data/operation/target.png Output: data/operation/target.json\n",
      "[2022/03/02 17:41:02] root DEBUG: dt_boxes num : 1, elapse : 0.04481387138366699\n",
      "[2022/03/02 17:41:02] root DEBUG: cls num  : 1, elapse : 0.004365205764770508\n",
      "[2022/03/02 17:41:02] root DEBUG: rec_res num  : 1, elapse : 0.004600048065185547\n",
      "[Text Detection Completed in 0.061 s] Input: data/operation/target.png Output: data/operation/target.json\n",
      "[2022/03/02 17:41:02] root DEBUG: dt_boxes num : 1, elapse : 0.011336565017700195\n",
      "[2022/03/02 17:41:02] root DEBUG: cls num  : 1, elapse : 0.0041773319244384766\n",
      "[2022/03/02 17:41:02] root DEBUG: rec_res num  : 1, elapse : 0.004741668701171875\n",
      "[Text Detection Completed in 0.023 s] Input: data/operation/target.png Output: data/operation/target.json\n",
      "[2022/03/02 17:41:02] root DEBUG: dt_boxes num : 3, elapse : 0.10628867149353027\n",
      "[2022/03/02 17:41:02] root DEBUG: cls num  : 3, elapse : 0.011482477188110352\n",
      "[2022/03/02 17:41:02] root DEBUG: rec_res num  : 3, elapse : 0.034950971603393555\n",
      "[Text Detection Completed in 0.170 s] Input: data/operation/target.png Output: data/operation/target.json\n",
      "[2022/03/02 17:41:02] root DEBUG: dt_boxes num : 1, elapse : 0.03368520736694336\n",
      "[2022/03/02 17:41:02] root DEBUG: cls num  : 1, elapse : 0.004266977310180664\n",
      "[2022/03/02 17:41:02] root DEBUG: rec_res num  : 1, elapse : 0.0049364566802978516\n",
      "[Text Detection Completed in 0.048 s] Input: data/operation/target.png Output: data/operation/target.json\n",
      "[2022/03/02 17:41:02] root DEBUG: dt_boxes num : 0, elapse : 0.00867152214050293\n",
      "[2022/03/02 17:41:02] root DEBUG: cls num  : 0, elapse : 0\n",
      "[2022/03/02 17:41:02] root DEBUG: rec_res num  : 0, elapse : 7.152557373046875e-07\n",
      "[Text Detection Completed in 0.011 s] Input: data/operation/target.png Output: data/operation/target.json\n",
      "[2022/03/02 17:41:02] root DEBUG: dt_boxes num : 0, elapse : 0.00711512565612793\n",
      "[2022/03/02 17:41:02] root DEBUG: cls num  : 0, elapse : 0\n",
      "[2022/03/02 17:41:02] root DEBUG: rec_res num  : 0, elapse : 7.152557373046875e-07\n",
      "[Text Detection Completed in 0.009 s] Input: data/operation/target.png Output: data/operation/target.json\n",
      "[2022/03/02 17:41:02] root DEBUG: dt_boxes num : 1, elapse : 0.02538156509399414\n",
      "[2022/03/02 17:41:02] root DEBUG: cls num  : 1, elapse : 0.004304170608520508\n",
      "[2022/03/02 17:41:02] root DEBUG: rec_res num  : 1, elapse : 0.008971929550170898\n",
      "[Text Detection Completed in 0.044 s] Input: data/operation/target.png Output: data/operation/target.json\n",
      "[2022/03/02 17:41:02] root DEBUG: dt_boxes num : 0, elapse : 0.011184215545654297\n",
      "[2022/03/02 17:41:02] root DEBUG: cls num  : 0, elapse : 0\n",
      "[2022/03/02 17:41:02] root DEBUG: rec_res num  : 0, elapse : 7.152557373046875e-07\n",
      "[Text Detection Completed in 0.013 s] Input: data/operation/target.png Output: data/operation/target.json\n",
      "[2022/03/02 17:41:02] root DEBUG: dt_boxes num : 3, elapse : 0.05359840393066406\n",
      "[2022/03/02 17:41:02] root DEBUG: cls num  : 3, elapse : 0.011356830596923828\n",
      "[2022/03/02 17:41:02] root DEBUG: rec_res num  : 3, elapse : 0.03668069839477539\n",
      "[Text Detection Completed in 0.111 s] Input: data/operation/target.png Output: data/operation/target.json\n",
      "[2022/03/02 17:41:02] root DEBUG: dt_boxes num : 0, elapse : 0.010657310485839844\n",
      "[2022/03/02 17:41:02] root DEBUG: cls num  : 0, elapse : 0\n",
      "[2022/03/02 17:41:02] root DEBUG: rec_res num  : 0, elapse : 7.152557373046875e-07\n",
      "[Text Detection Completed in 0.013 s] Input: data/operation/target.png Output: data/operation/target.json\n",
      "[2022/03/02 17:41:02] root DEBUG: dt_boxes num : 0, elapse : 0.018999338150024414\n"
     ]
    },
    {
     "name": "stdout",
     "output_type": "stream",
     "text": [
      "[2022/03/02 17:41:02] root DEBUG: cls num  : 0, elapse : 0\n",
      "[2022/03/02 17:41:02] root DEBUG: rec_res num  : 0, elapse : 1.6689300537109375e-06\n",
      "[Text Detection Completed in 0.024 s] Input: data/operation/target.png Output: data/operation/target.json\n",
      "[2022/03/02 17:41:02] root DEBUG: dt_boxes num : 0, elapse : 0.015904903411865234\n",
      "[2022/03/02 17:41:02] root DEBUG: cls num  : 0, elapse : 0\n",
      "[2022/03/02 17:41:02] root DEBUG: rec_res num  : 0, elapse : 9.5367431640625e-07\n",
      "[Text Detection Completed in 0.019 s] Input: data/operation/target.png Output: data/operation/target.json\n",
      "[2022/03/02 17:41:02] root DEBUG: dt_boxes num : 3, elapse : 0.10278820991516113\n",
      "[2022/03/02 17:41:02] root DEBUG: cls num  : 3, elapse : 0.011730432510375977\n",
      "[2022/03/02 17:41:02] root DEBUG: rec_res num  : 3, elapse : 0.03565359115600586\n",
      "[Text Detection Completed in 0.165 s] Input: data/operation/target.png Output: data/operation/target.json\n",
      "[2022/03/02 17:41:02] root DEBUG: dt_boxes num : 1, elapse : 0.03396940231323242\n",
      "[2022/03/02 17:41:02] root DEBUG: cls num  : 1, elapse : 0.00421595573425293\n",
      "[2022/03/02 17:41:02] root DEBUG: rec_res num  : 1, elapse : 0.004723787307739258\n",
      "[Text Detection Completed in 0.049 s] Input: data/operation/target.png Output: data/operation/target.json\n",
      "[2022/03/02 17:41:02] root DEBUG: dt_boxes num : 0, elapse : 0.008636236190795898\n",
      "[2022/03/02 17:41:02] root DEBUG: cls num  : 0, elapse : 0\n",
      "[2022/03/02 17:41:02] root DEBUG: rec_res num  : 0, elapse : 4.76837158203125e-07\n",
      "[Text Detection Completed in 0.010 s] Input: data/operation/target.png Output: data/operation/target.json\n",
      "[2022/03/02 17:41:02] root DEBUG: dt_boxes num : 0, elapse : 0.0071222782135009766\n",
      "[2022/03/02 17:41:02] root DEBUG: cls num  : 0, elapse : 0\n",
      "[2022/03/02 17:41:02] root DEBUG: rec_res num  : 0, elapse : 7.152557373046875e-07\n",
      "[Text Detection Completed in 0.009 s] Input: data/operation/target.png Output: data/operation/target.json\n",
      "[2022/03/02 17:41:03] root DEBUG: dt_boxes num : 1, elapse : 0.02489304542541504\n",
      "[2022/03/02 17:41:03] root DEBUG: cls num  : 1, elapse : 0.006311178207397461\n",
      "[2022/03/02 17:41:03] root DEBUG: rec_res num  : 1, elapse : 0.013297796249389648\n",
      "[Text Detection Completed in 0.049 s] Input: data/operation/target.png Output: data/operation/target.json\n"
     ]
    }
   ],
   "source": [
    "# load operations\n",
    "testing_data_root = '/home/ml/Data/visual testing/experiments/humanoid-output/adguard-1'\n",
    "\n",
    "steps_file = pjoin(testing_data_root, 'output.json')\n",
    "steps = json.load(open(steps_file, 'r'))\n",
    "\n",
    "operations = []\n",
    "for step in steps:\n",
    "    op = Operation(pjoin(testing_data_root, step['tag'] + '.jpg'), step['event_type'], step['bounds'])\n",
    "    op.detect_text(paddle_ocr)\n",
    "    op.shrink_target_element_img()\n",
    "    op.resize(int(op.ui_img_width * (800 / op.ui_img_height)), 800)        \n",
    "    operations.append(op)\n",
    "#     op.show_target_ele()\n",
    "#     break\n",
    "\n",
    "# test with the first operation\n",
    "# opr = operations[0]\n",
    "# opr.show_target_ele()"
   ]
  },
  {
   "cell_type": "code",
   "execution_count": 5,
   "id": "44526bf1",
   "metadata": {},
   "outputs": [
    {
     "name": "stderr",
     "output_type": "stream",
     "text": [
      "[D 220302 17:41:05 robot_control:21] Loading Robot Drivers...\n"
     ]
    }
   ],
   "source": [
    "# activate the robot\n",
    "from robot.robot_control import RobotController\n",
    "robot = RobotController(speed=10000)\n",
    "robot.reset()\n",
    "\n",
    "robot_y2img_x = round(130/540, 2)  # y_robot : x_img = 130: 540\n",
    "robot_x2img_y = round((310-120)/820, 2)  # x_robot : y_img = 310: 820\n",
    "\n",
    "def cvt_image_pos_to_robot_coord(x_img, y_img):\n",
    "    x_robot = int((820 - y_img) * robot_x2img_y) + 120\n",
    "    y_robot = int((270 - x_img) * robot_y2img_x)\n",
    "    return x_robot, y_robot"
   ]
  },
  {
   "cell_type": "code",
   "execution_count": 6,
   "id": "d1bcde04",
   "metadata": {},
   "outputs": [
    {
     "name": "stderr",
     "output_type": "stream",
     "text": [
      "[D 220302 17:41:15 robot_control:21] Loading Robot Drivers...\n"
     ]
    }
   ],
   "source": [
    "robot.reset()"
   ]
  },
  {
   "cell_type": "code",
   "execution_count": null,
   "id": "11432703",
   "metadata": {},
   "outputs": [],
   "source": []
  },
  {
   "cell_type": "code",
   "execution_count": null,
   "id": "b4493b37",
   "metadata": {},
   "outputs": [],
   "source": [
    "# ********************************************\n",
    "# *** Streaming Detection with Key Control ***\n",
    "# ********************************************\n",
    "cap = cv2.VideoCapture(0)\n",
    "cap.set(cv2.CAP_PROP_FRAME_WIDTH, 960)\n",
    "cap.set(cv2.CAP_PROP_FRAME_HEIGHT, 540)\n",
    "\n",
    "opr_id = 0\n",
    "operate = False\n",
    "\n",
    "while(1):\n",
    "    ret, frame = cap.read()\n",
    "    frame = cv2.rotate(frame, cv2.cv2.ROTATE_90_CLOCKWISE)\n",
    "    frame = frame[80:900, :]\n",
    "    \n",
    "    cv2.imshow('camera', frame)\n",
    "    key = cv2.waitKey(10)\n",
    "    if key == ord('q'):\n",
    "        break\n",
    "    elif key == ord('s'):\n",
    "        if not operate:\n",
    "            cv2.destroyWindow('element matching')\n",
    "            opr = operations[opr_id]\n",
    "            opr.show_target_ele(show=True)\n",
    "            cv2.imwrite('data/output/temp.jpg', frame)\n",
    "\n",
    "            # 1. detect GUI element in the frame         \n",
    "            gui = GUI('data/output/temp.jpg')\n",
    "            gui.detect_element(True, True, True, paddle_cor=paddle_ocr)\n",
    "\n",
    "            # 2. focus on the screen region and adjust all elements\n",
    "            gui.adjust_elements_by_screen()\n",
    "            matched_ele = gui.match_elements(target_ele_img=opr.target_element_img, target_ele_text=opr.get_text_content(), resnet_model=resnet_model)\n",
    "\n",
    "            # 3. show the result\n",
    "            if matched_ele is not None:\n",
    "                board = gui.img.copy()\n",
    "                matched_ele.draw_element(board, show=False)\n",
    "                board = cv2.hconcat([opr.show_target_ele(show=False), board, gui.det_result_imgs['merge']])\n",
    "                cv2.imshow('element matching', board)\n",
    "                operate = True\n",
    "                opr_id += 1\n",
    "                continue\n",
    "            print('===================\\n')\n",
    "        \n",
    "        else:\n",
    "            # 4. operate the robot\n",
    "            print('The position of matched element:(%d, %d)' % (matched_ele.center_x, matched_ele.center_y))\n",
    "            x_robot, y_robot = cvt_image_pos_to_robot_coord(matched_ele.center_x, matched_ele.center_y)\n",
    "            robot.click((x_robot, y_robot, 20))\n",
    "            operate = False\n",
    "            cv2.destroyWindow('element matching')\n",
    "cap.release()\n",
    "cv2.destroyAllWindows()"
   ]
  },
  {
   "cell_type": "code",
   "execution_count": 9,
   "id": "066ae3cb",
   "metadata": {},
   "outputs": [],
   "source": [
    "cap.release()\n",
    "cv2.destroyAllWindows()"
   ]
  }
 ],
 "metadata": {
  "kernelspec": {
   "display_name": "Python 3",
   "language": "python",
   "name": "python3"
  },
  "language_info": {
   "codemirror_mode": {
    "name": "ipython",
    "version": 3
   },
   "file_extension": ".py",
   "mimetype": "text/x-python",
   "name": "python",
   "nbconvert_exporter": "python",
   "pygments_lexer": "ipython3",
   "version": "3.6.9"
  }
 },
 "nbformat": 4,
 "nbformat_minor": 5
}
