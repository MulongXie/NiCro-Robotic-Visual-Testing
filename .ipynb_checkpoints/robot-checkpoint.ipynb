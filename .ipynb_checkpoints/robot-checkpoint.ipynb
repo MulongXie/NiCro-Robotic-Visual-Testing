{
 "cells": [
  {
   "cell_type": "code",
   "execution_count": 1,
   "id": "bc3e550c",
   "metadata": {},
   "outputs": [],
   "source": [
    "from robot.robot_control import RobotController\n",
    "import os\n",
    "import cv2"
   ]
  },
  {
   "cell_type": "code",
   "execution_count": 2,
   "id": "5e22e387",
   "metadata": {},
   "outputs": [],
   "source": [
    "robot = RobotController(speed=4000)"
   ]
  },
  {
   "cell_type": "code",
   "execution_count": 8,
   "id": "164ec21e",
   "metadata": {},
   "outputs": [
    {
     "name": "stderr",
     "output_type": "stream",
     "text": [
      "[D 220223 10:58:55 robot_control:21] Loading Robot Drivers...\n"
     ]
    }
   ],
   "source": [
    "robot.reset()"
   ]
  },
  {
   "cell_type": "code",
   "execution_count": 4,
   "id": "b9d3472d",
   "metadata": {},
   "outputs": [],
   "source": [
    "robot.move_speed = 10000"
   ]
  },
  {
   "cell_type": "code",
   "execution_count": 5,
   "id": "b3b7edbf",
   "metadata": {},
   "outputs": [
    {
     "name": "stderr",
     "output_type": "stream",
     "text": [
      "[D 220223 10:58:10 robot_control:36] Robot Click X: 200, Y:50\n",
      "[D 220223 10:58:10 robot_control:21] Loading Robot Drivers...\n"
     ]
    }
   ],
   "source": [
    "robot.click((200,50,10))"
   ]
  },
  {
   "cell_type": "code",
   "execution_count": 8,
   "id": "a3087fbf",
   "metadata": {},
   "outputs": [
    {
     "name": "stderr",
     "output_type": "stream",
     "text": [
      "[D 211215 13:31:18 robot_control:15] Loading Robot Drivers...\n"
     ]
    }
   ],
   "source": [
    "robot.longPress((200,0,0))"
   ]
  },
  {
   "cell_type": "code",
   "execution_count": 16,
   "id": "b889cd59",
   "metadata": {},
   "outputs": [
    {
     "name": "stderr",
     "output_type": "stream",
     "text": [
      "[D 211215 13:32:46 robot_control:15] Loading Robot Drivers...\n"
     ]
    }
   ],
   "source": [
    "robot.doubleclick((200,0,12))"
   ]
  },
  {
   "cell_type": "code",
   "execution_count": 21,
   "id": "9815c71a",
   "metadata": {},
   "outputs": [],
   "source": [
    "robot.close_connect()"
   ]
  },
  {
   "cell_type": "code",
   "execution_count": null,
   "id": "c69087d6",
   "metadata": {},
   "outputs": [],
   "source": []
  },
  {
   "cell_type": "code",
   "execution_count": 6,
   "id": "862937aa",
   "metadata": {},
   "outputs": [],
   "source": [
    "def nothing(x):\n",
    "    pass\n",
    "\n",
    "cv2.namedWindow('coor')\n",
    "cv2.createTrackbar('x', 'coor', 120, 300, nothing)\n",
    "cv2.setTrackbarMin('x', 'coor', 120)\n",
    "cv2.createTrackbar('y', 'coor', 0, 100, nothing)\n",
    "cv2.setTrackbarMin('y', 'coor', -100)\n",
    "cv2.createTrackbar('z', 'coor', 20, 50, nothing)\n",
    "cv2.setTrackbarMin('z', 'coor', 13)\n",
    "\n",
    "while 1:\n",
    "    x = cv2.getTrackbarPos('x', 'coor')\n",
    "    y = cv2.getTrackbarPos('y', 'coor')    \n",
    "    z = cv2.getTrackbarPos('z', 'coor')    \n",
    "        \n",
    "    robot.swift.set_position(x=x, y=y, z=z, speed=2000, wait=False, timeout=10, cmd='G0')\n",
    "    robot.swift.flush_cmd()\n",
    "    \n",
    "    if cv2.waitKey(100) == ord('q'):\n",
    "        break\n",
    "cv2.destroyAllWindows()"
   ]
  },
  {
   "cell_type": "code",
   "execution_count": null,
   "id": "5213a4a2",
   "metadata": {},
   "outputs": [],
   "source": []
  },
  {
   "cell_type": "code",
   "execution_count": 9,
   "id": "3c5ac5bc",
   "metadata": {},
   "outputs": [
    {
     "ename": "error",
     "evalue": "OpenCV(4.5.5) /io/opencv/modules/highgui/src/window.cpp:1000: error: (-215:Assertion failed) size.width>0 && size.height>0 in function 'imshow'\n",
     "output_type": "error",
     "traceback": [
      "\u001b[0;31m---------------------------------------------------------------------------\u001b[0m",
      "\u001b[0;31merror\u001b[0m                                     Traceback (most recent call last)",
      "\u001b[0;32m<ipython-input-9-1fcc83b9d386>\u001b[0m in \u001b[0;36m<module>\u001b[0;34m\u001b[0m\n\u001b[1;32m     25\u001b[0m     \u001b[0mframe\u001b[0m \u001b[0;34m=\u001b[0m \u001b[0mcv2\u001b[0m\u001b[0;34m.\u001b[0m\u001b[0mtranspose\u001b[0m\u001b[0;34m(\u001b[0m\u001b[0mframe\u001b[0m\u001b[0;34m)\u001b[0m\u001b[0;34m\u001b[0m\u001b[0;34m\u001b[0m\u001b[0m\n\u001b[1;32m     26\u001b[0m     \u001b[0mframe\u001b[0m \u001b[0;34m=\u001b[0m \u001b[0mcv2\u001b[0m\u001b[0;34m.\u001b[0m\u001b[0mflip\u001b[0m\u001b[0;34m(\u001b[0m\u001b[0mframe\u001b[0m\u001b[0;34m,\u001b[0m \u001b[0;34m-\u001b[0m\u001b[0;36m1\u001b[0m\u001b[0;34m)\u001b[0m\u001b[0;34m\u001b[0m\u001b[0;34m\u001b[0m\u001b[0m\n\u001b[0;32m---> 27\u001b[0;31m     \u001b[0mcv2\u001b[0m\u001b[0;34m.\u001b[0m\u001b[0mimshow\u001b[0m\u001b[0;34m(\u001b[0m\u001b[0;34m'frame'\u001b[0m\u001b[0;34m,\u001b[0m \u001b[0mframe\u001b[0m\u001b[0;34m)\u001b[0m\u001b[0;34m\u001b[0m\u001b[0;34m\u001b[0m\u001b[0m\n\u001b[0m\u001b[1;32m     28\u001b[0m     \u001b[0;32mif\u001b[0m \u001b[0mcv2\u001b[0m\u001b[0;34m.\u001b[0m\u001b[0mwaitKey\u001b[0m\u001b[0;34m(\u001b[0m\u001b[0;36m100\u001b[0m\u001b[0;34m)\u001b[0m \u001b[0;34m==\u001b[0m \u001b[0mord\u001b[0m\u001b[0;34m(\u001b[0m\u001b[0;34m'q'\u001b[0m\u001b[0;34m)\u001b[0m\u001b[0;34m:\u001b[0m\u001b[0;34m\u001b[0m\u001b[0;34m\u001b[0m\u001b[0m\n\u001b[1;32m     29\u001b[0m         \u001b[0;32mbreak\u001b[0m\u001b[0;34m\u001b[0m\u001b[0;34m\u001b[0m\u001b[0m\n",
      "\u001b[0;31merror\u001b[0m: OpenCV(4.5.5) /io/opencv/modules/highgui/src/window.cpp:1000: error: (-215:Assertion failed) size.width>0 && size.height>0 in function 'imshow'\n"
     ]
    }
   ],
   "source": [
    "def nothing(x):\n",
    "    pass\n",
    "\n",
    "cv2.namedWindow('coor')\n",
    "cv2.createTrackbar('x', 'coor', 120, 300, nothing)\n",
    "cv2.setTrackbarMin('x', 'coor', 120)\n",
    "cv2.createTrackbar('y', 'coor', 0, 100, nothing)\n",
    "cv2.setTrackbarMin('y', 'coor', -100)\n",
    "cv2.createTrackbar('z', 'coor', 20, 50, nothing)\n",
    "cv2.setTrackbarMin('z', 'coor', 13)\n",
    "\n",
    "cap = cv2.VideoCapture(0)\n",
    "cap.set(cv2.CAP_PROP_FRAME_WIDTH, 1000)\n",
    "cap.set(cv2.CAP_PROP_FRAME_HEIGHT, 500)\n",
    "\n",
    "while 1:\n",
    "    x = cv2.getTrackbarPos('x', 'coor')\n",
    "    y = cv2.getTrackbarPos('y', 'coor')    \n",
    "    z = cv2.getTrackbarPos('z', 'coor')    \n",
    "        \n",
    "    robot.swift.set_position(x=x, y=y, z=z, speed=2000, wait=False, timeout=10, cmd='G0')\n",
    "    robot.swift.flush_cmd()\n",
    "    \n",
    "    ret, frame = cap.read()\n",
    "    frame = cv2.transpose(frame)\n",
    "    frame = cv2.flip(frame, -1)\n",
    "    cv2.imshow('frame', frame)\n",
    "    if cv2.waitKey(100) == ord('q'):\n",
    "        break\n",
    "cv2.destroyAllWindows()"
   ]
  },
  {
   "cell_type": "code",
   "execution_count": null,
   "id": "8fe95318",
   "metadata": {},
   "outputs": [],
   "source": []
  }
 ],
 "metadata": {
  "kernelspec": {
   "display_name": "Python 3",
   "language": "python",
   "name": "python3"
  },
  "language_info": {
   "codemirror_mode": {
    "name": "ipython",
    "version": 3
   },
   "file_extension": ".py",
   "mimetype": "text/x-python",
   "name": "python",
   "nbconvert_exporter": "python",
   "pygments_lexer": "ipython3",
   "version": "3.6.9"
  }
 },
 "nbformat": 4,
 "nbformat_minor": 5
}
