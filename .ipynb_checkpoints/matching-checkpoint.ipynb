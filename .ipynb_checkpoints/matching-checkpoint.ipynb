{
 "cells": [
  {
   "cell_type": "code",
   "execution_count": 1,
   "id": "a719ca04",
   "metadata": {},
   "outputs": [],
   "source": [
    "import json\n",
    "from glob import glob\n",
    "from os.path import join as pjoin\n",
    "import os\n",
    "import cv2\n",
    "import numpy as np\n",
    "\n",
    "from match_elements.GUI_pair import GUIPair\n",
    "from GUI import GUI\n",
    "from Operation import Operation"
   ]
  },
  {
   "cell_type": "code",
   "execution_count": 2,
   "id": "a8ac13a4",
   "metadata": {},
   "outputs": [],
   "source": [
    "from keras.applications.resnet import ResNet50\n",
    "resnet_model = ResNet50(include_top=False, input_shape=(32, 32, 3))"
   ]
  },
  {
   "cell_type": "code",
   "execution_count": 3,
   "id": "94e4f43f",
   "metadata": {},
   "outputs": [
    {
     "name": "stdout",
     "output_type": "stream",
     "text": [
      "[2022/02/25 21:43:22] root WARNING: lang en is not support in PP-OCRv2, auto switch to version PP-OCR\n",
      "[2022/02/25 21:43:22] root WARNING: lang en is not support in PP-OCRv2, auto switch to version PP-OCR\n",
      "[2022/02/25 21:43:22] root WARNING: version PP-OCRv2 not support cls models, auto switch to version PP-OCR\n",
      "Namespace(benchmark=False, cls_batch_num=6, cls_image_shape='3, 48, 192', cls_model_dir='/home/ml/.paddleocr/2.3.0.2/ocr/cls/ch_ppocr_mobile_v2.0_cls_infer', cls_thresh=0.9, cpu_threads=10, det=True, det_algorithm='DB', det_db_box_thresh=0.6, det_db_score_mode='fast', det_db_thresh=0.3, det_db_unclip_ratio=1.5, det_east_cover_thresh=0.1, det_east_nms_thresh=0.2, det_east_score_thresh=0.8, det_limit_side_len=960, det_limit_type='max', det_model_dir='/home/ml/.paddleocr/2.3.0.2/ocr/det/en/en_ppocr_mobile_v2.0_det_infer', det_pse_box_thresh=0.85, det_pse_box_type='box', det_pse_min_area=16, det_pse_scale=1, det_pse_thresh=0, det_sast_nms_thresh=0.2, det_sast_polygon=False, det_sast_score_thresh=0.5, drop_score=0.5, e2e_algorithm='PGNet', e2e_char_dict_path='./ppocr/utils/ic15_dict.txt', e2e_limit_side_len=768, e2e_limit_type='max', e2e_model_dir=None, e2e_pgnet_mode='fast', e2e_pgnet_polygon=True, e2e_pgnet_score_thresh=0.5, e2e_pgnet_valid_set='totaltext', enable_mkldnn=False, gpu_mem=500, help='==SUPPRESS==', image_dir=None, ir_optim=True, label_list=['0', '180'], lang='en', layout_path_model='lp://PubLayNet/ppyolov2_r50vd_dcn_365e_publaynet/config', max_batch_size=10, max_text_length=25, min_subgraph_size=15, ocr_version='PP-OCRv2', output='./output/table', precision='fp32', process_id=0, rec=True, rec_algorithm='CRNN', rec_batch_num=6, rec_char_dict_path='/home/ml/.local/lib/python3.6/site-packages/paddleocr/ppocr/utils/en_dict.txt', rec_image_shape='3, 32, 320', rec_model_dir='/home/ml/.paddleocr/2.3.0.2/ocr/rec/en/en_number_mobile_v2.0_rec_infer', save_log_path='./log_output/', show_log=True, structure_version='STRUCTURE', table_char_dict_path=None, table_char_type='en', table_max_len=488, table_model_dir=None, total_process_num=1, type='ocr', use_angle_cls=True, use_dilation=False, use_gpu=False, use_mp=False, use_onnx=False, use_pdserving=False, use_space_char=True, use_tensorrt=False, vis_font_path='./doc/fonts/simfang.ttf', warmup=True)\n"
     ]
    }
   ],
   "source": [
    "from paddleocr import PaddleOCR\n",
    "paddle_ocr = PaddleOCR(use_angle_cls=True, lang='en')"
   ]
  },
  {
   "cell_type": "code",
   "execution_count": null,
   "id": "187a6340",
   "metadata": {},
   "outputs": [],
   "source": []
  },
  {
   "cell_type": "code",
   "execution_count": null,
   "id": "a2592a53",
   "metadata": {},
   "outputs": [],
   "source": []
  },
  {
   "cell_type": "code",
   "execution_count": 8,
   "id": "e7c9a7bb",
   "metadata": {},
   "outputs": [
    {
     "name": "stdout",
     "output_type": "stream",
     "text": [
      "[2022/02/25 21:44:33] root DEBUG: dt_boxes num : 23, elapse : 0.14209628105163574\n",
      "[2022/02/25 21:44:33] root DEBUG: cls num  : 23, elapse : 0.08286499977111816\n",
      "[2022/02/25 21:44:33] root DEBUG: rec_res num  : 23, elapse : 0.1570730209350586\n",
      "[Text Detection Completed in 0.434 s] Input: data/input/0.jpg Output: data/output/ocr/0.json\n",
      "[Compo Detection Completed in 0.386 s] Input: data/input/0.jpg Output: data/output/ip/0.json\n",
      "[Merge Completed] Input: data/input/0.jpg Output: data/output/merge/0.jpg\n"
     ]
    }
   ],
   "source": [
    "gui = GUI('data/input/0.jpg')\n",
    "gui.element_detection(True, True, True, paddle_cor=paddle_ocr)\n",
    "# gui.load_detection_result()\n",
    "gui.show_detection_result()"
   ]
  },
  {
   "cell_type": "code",
   "execution_count": null,
   "id": "91ce7f18",
   "metadata": {},
   "outputs": [],
   "source": []
  },
  {
   "cell_type": "code",
   "execution_count": 6,
   "id": "77c1184f",
   "metadata": {},
   "outputs": [],
   "source": [
    "testing_data_root = '/home/ml/Data/visual testing/experiments/humanoid-output/adguard-1'\n",
    "\n",
    "steps_file = pjoin(testing_data_root, 'output.json')\n",
    "steps = json.load(open(steps_file, 'r'))\n",
    "\n",
    "operations = []\n",
    "for step in steps:\n",
    "    op = Operation(pjoin(testing_data_root, step['tag'] + '.jpg'), step['event_type'], step['bounds'])\n",
    "    op.resize(gui.detection_resize_width, gui.detection_resize_height)        \n",
    "    operations.append(op)\n",
    "#     op.show_target_ele()"
   ]
  },
  {
   "cell_type": "code",
   "execution_count": null,
   "id": "339215a9",
   "metadata": {},
   "outputs": [],
   "source": []
  },
  {
   "cell_type": "code",
   "execution_count": 9,
   "id": "3c99cb6c",
   "metadata": {},
   "outputs": [],
   "source": [
    "gui.match_elements(op.target_element_img, resnet_model=resnet_model)"
   ]
  },
  {
   "cell_type": "code",
   "execution_count": 10,
   "id": "5c51e581",
   "metadata": {},
   "outputs": [],
   "source": [
    "operations[0].show_target_ele()"
   ]
  },
  {
   "cell_type": "code",
   "execution_count": null,
   "id": "9cae5446",
   "metadata": {},
   "outputs": [],
   "source": []
  },
  {
   "cell_type": "code",
   "execution_count": null,
   "id": "de398f3d",
   "metadata": {},
   "outputs": [],
   "source": []
  },
  {
   "cell_type": "code",
   "execution_count": null,
   "id": "21f59781",
   "metadata": {},
   "outputs": [],
   "source": []
  },
  {
   "cell_type": "code",
   "execution_count": null,
   "id": "ebe1fc39",
   "metadata": {},
   "outputs": [],
   "source": []
  },
  {
   "cell_type": "code",
   "execution_count": null,
   "id": "a5cdfe94",
   "metadata": {},
   "outputs": [],
   "source": []
  },
  {
   "cell_type": "code",
   "execution_count": 13,
   "id": "e22d4901",
   "metadata": {},
   "outputs": [
    {
     "name": "stdout",
     "output_type": "stream",
     "text": [
      "[2022/02/25 11:30:24] root DEBUG: dt_boxes num : 0, elapse : 0.15523529052734375\n",
      "[2022/02/25 11:30:24] root DEBUG: cls num  : 0, elapse : 0\n",
      "[2022/02/25 11:30:24] root DEBUG: rec_res num  : 0, elapse : 1.6689300537109375e-06\n",
      "[Text Detection Completed in 0.177 s] Input: data/output/temp.jpg Output: data/output/ocr/temp.json\n",
      "[Compo Detection Completed in 1.249 s] Input: data/output/temp.jpg Output: data/output/ip/temp.json\n",
      "[Merge Completed] Input: data/output/temp.jpg Output: data/output/merge/temp.jpg\n",
      "===================\n",
      "\n",
      "[2022/02/25 11:30:26] root DEBUG: dt_boxes num : 0, elapse : 0.1485152244567871\n",
      "[2022/02/25 11:30:26] root DEBUG: cls num  : 0, elapse : 0\n",
      "[2022/02/25 11:30:26] root DEBUG: rec_res num  : 0, elapse : 1.1920928955078125e-06\n",
      "[Text Detection Completed in 0.168 s] Input: data/output/temp.jpg Output: data/output/ocr/temp.json\n",
      "[Compo Detection Completed in 1.241 s] Input: data/output/temp.jpg Output: data/output/ip/temp.json\n",
      "[Merge Completed] Input: data/output/temp.jpg Output: data/output/merge/temp.jpg\n",
      "===================\n",
      "\n",
      "[2022/02/25 11:30:27] root DEBUG: dt_boxes num : 0, elapse : 0.18144679069519043\n",
      "[2022/02/25 11:30:27] root DEBUG: cls num  : 0, elapse : 0\n",
      "[2022/02/25 11:30:27] root DEBUG: rec_res num  : 0, elapse : 1.1920928955078125e-06\n",
      "[Text Detection Completed in 0.202 s] Input: data/output/temp.jpg Output: data/output/ocr/temp.json\n",
      "[Compo Detection Completed in 1.292 s] Input: data/output/temp.jpg Output: data/output/ip/temp.json\n",
      "[Merge Completed] Input: data/output/temp.jpg Output: data/output/merge/temp.jpg\n",
      "===================\n",
      "\n",
      "[2022/02/25 11:30:29] root DEBUG: dt_boxes num : 0, elapse : 0.14488506317138672\n",
      "[2022/02/25 11:30:29] root DEBUG: cls num  : 0, elapse : 0\n",
      "[2022/02/25 11:30:29] root DEBUG: rec_res num  : 0, elapse : 9.5367431640625e-07\n",
      "[Text Detection Completed in 0.164 s] Input: data/output/temp.jpg Output: data/output/ocr/temp.json\n",
      "[Compo Detection Completed in 1.272 s] Input: data/output/temp.jpg Output: data/output/ip/temp.json\n",
      "[Merge Completed] Input: data/output/temp.jpg Output: data/output/merge/temp.jpg\n",
      "===================\n",
      "\n",
      "[2022/02/25 11:30:30] root DEBUG: dt_boxes num : 0, elapse : 0.14505791664123535\n",
      "[2022/02/25 11:30:30] root DEBUG: cls num  : 0, elapse : 0\n",
      "[2022/02/25 11:30:30] root DEBUG: rec_res num  : 0, elapse : 1.1920928955078125e-06\n",
      "[Text Detection Completed in 0.167 s] Input: data/output/temp.jpg Output: data/output/ocr/temp.json\n",
      "[Compo Detection Completed in 1.254 s] Input: data/output/temp.jpg Output: data/output/ip/temp.json\n",
      "[Merge Completed] Input: data/output/temp.jpg Output: data/output/merge/temp.jpg\n",
      "===================\n",
      "\n",
      "[2022/02/25 11:30:32] root DEBUG: dt_boxes num : 0, elapse : 0.14479398727416992\n",
      "[2022/02/25 11:30:32] root DEBUG: cls num  : 0, elapse : 0\n",
      "[2022/02/25 11:30:32] root DEBUG: rec_res num  : 0, elapse : 9.5367431640625e-07\n",
      "[Text Detection Completed in 0.164 s] Input: data/output/temp.jpg Output: data/output/ocr/temp.json\n",
      "[Compo Detection Completed in 1.405 s] Input: data/output/temp.jpg Output: data/output/ip/temp.json\n",
      "[Merge Completed] Input: data/output/temp.jpg Output: data/output/merge/temp.jpg\n",
      "===================\n",
      "\n",
      "[2022/02/25 11:30:33] root DEBUG: dt_boxes num : 0, elapse : 0.14558172225952148\n",
      "[2022/02/25 11:30:33] root DEBUG: cls num  : 0, elapse : 0\n",
      "[2022/02/25 11:30:33] root DEBUG: rec_res num  : 0, elapse : 9.5367431640625e-07\n",
      "[Text Detection Completed in 0.166 s] Input: data/output/temp.jpg Output: data/output/ocr/temp.json\n",
      "[Compo Detection Completed in 0.965 s] Input: data/output/temp.jpg Output: data/output/ip/temp.json\n",
      "[Merge Completed] Input: data/output/temp.jpg Output: data/output/merge/temp.jpg\n",
      "===================\n",
      "\n",
      "[2022/02/25 11:30:34] root DEBUG: dt_boxes num : 0, elapse : 0.14420652389526367\n",
      "[2022/02/25 11:30:34] root DEBUG: cls num  : 0, elapse : 0\n",
      "[2022/02/25 11:30:34] root DEBUG: rec_res num  : 0, elapse : 9.5367431640625e-07\n",
      "[Text Detection Completed in 0.163 s] Input: data/output/temp.jpg Output: data/output/ocr/temp.json\n",
      "[Compo Detection Completed in 1.301 s] Input: data/output/temp.jpg Output: data/output/ip/temp.json\n",
      "[Merge Completed] Input: data/output/temp.jpg Output: data/output/merge/temp.jpg\n",
      "===================\n",
      "\n",
      "[2022/02/25 11:30:36] root DEBUG: dt_boxes num : 0, elapse : 0.14537262916564941\n",
      "[2022/02/25 11:30:36] root DEBUG: cls num  : 0, elapse : 0\n",
      "[2022/02/25 11:30:36] root DEBUG: rec_res num  : 0, elapse : 7.152557373046875e-07\n",
      "[Text Detection Completed in 0.165 s] Input: data/output/temp.jpg Output: data/output/ocr/temp.json\n",
      "[Compo Detection Completed in 0.970 s] Input: data/output/temp.jpg Output: data/output/ip/temp.json\n",
      "[Merge Completed] Input: data/output/temp.jpg Output: data/output/merge/temp.jpg\n",
      "===================\n",
      "\n",
      "[2022/02/25 11:30:37] root DEBUG: dt_boxes num : 0, elapse : 0.14470124244689941\n",
      "[2022/02/25 11:30:37] root DEBUG: cls num  : 0, elapse : 0\n",
      "[2022/02/25 11:30:37] root DEBUG: rec_res num  : 0, elapse : 7.152557373046875e-07\n",
      "[Text Detection Completed in 0.167 s] Input: data/output/temp.jpg Output: data/output/ocr/temp.json\n",
      "[Compo Detection Completed in 1.017 s] Input: data/output/temp.jpg Output: data/output/ip/temp.json\n",
      "[Merge Completed] Input: data/output/temp.jpg Output: data/output/merge/temp.jpg\n",
      "===================\n",
      "\n",
      "[2022/02/25 11:30:38] root DEBUG: dt_boxes num : 0, elapse : 0.14290809631347656\n",
      "[2022/02/25 11:30:38] root DEBUG: cls num  : 0, elapse : 0\n",
      "[2022/02/25 11:30:38] root DEBUG: rec_res num  : 0, elapse : 9.5367431640625e-07\n",
      "[Text Detection Completed in 0.164 s] Input: data/output/temp.jpg Output: data/output/ocr/temp.json\n",
      "[Compo Detection Completed in 0.989 s] Input: data/output/temp.jpg Output: data/output/ip/temp.json\n",
      "[Merge Completed] Input: data/output/temp.jpg Output: data/output/merge/temp.jpg\n",
      "===================\n",
      "\n",
      "[2022/02/25 11:30:39] root DEBUG: dt_boxes num : 0, elapse : 0.16309523582458496\n",
      "[2022/02/25 11:30:39] root DEBUG: cls num  : 0, elapse : 0\n",
      "[2022/02/25 11:30:39] root DEBUG: rec_res num  : 0, elapse : 1.9073486328125e-06\n",
      "[Text Detection Completed in 0.183 s] Input: data/output/temp.jpg Output: data/output/ocr/temp.json\n",
      "[Compo Detection Completed in 0.943 s] Input: data/output/temp.jpg Output: data/output/ip/temp.json\n",
      "[Merge Completed] Input: data/output/temp.jpg Output: data/output/merge/temp.jpg\n",
      "===================\n",
      "\n",
      "[2022/02/25 11:30:41] root DEBUG: dt_boxes num : 0, elapse : 0.14193964004516602\n",
      "[2022/02/25 11:30:41] root DEBUG: cls num  : 0, elapse : 0\n",
      "[2022/02/25 11:30:41] root DEBUG: rec_res num  : 0, elapse : 1.430511474609375e-06\n",
      "[Text Detection Completed in 0.162 s] Input: data/output/temp.jpg Output: data/output/ocr/temp.json\n",
      "[Compo Detection Completed in 1.173 s] Input: data/output/temp.jpg Output: data/output/ip/temp.json\n",
      "[Merge Completed] Input: data/output/temp.jpg Output: data/output/merge/temp.jpg\n",
      "===================\n",
      "\n",
      "[2022/02/25 11:30:42] root DEBUG: dt_boxes num : 0, elapse : 0.14138221740722656\n",
      "[2022/02/25 11:30:42] root DEBUG: cls num  : 0, elapse : 0\n",
      "[2022/02/25 11:30:42] root DEBUG: rec_res num  : 0, elapse : 1.6689300537109375e-06\n",
      "[Text Detection Completed in 0.163 s] Input: data/output/temp.jpg Output: data/output/ocr/temp.json\n",
      "[Compo Detection Completed in 0.902 s] Input: data/output/temp.jpg Output: data/output/ip/temp.json\n",
      "[Merge Completed] Input: data/output/temp.jpg Output: data/output/merge/temp.jpg\n",
      "===================\n",
      "\n",
      "[2022/02/25 11:30:43] root DEBUG: dt_boxes num : 0, elapse : 0.14524531364440918\n",
      "[2022/02/25 11:30:43] root DEBUG: cls num  : 0, elapse : 0\n",
      "[2022/02/25 11:30:43] root DEBUG: rec_res num  : 0, elapse : 1.1920928955078125e-06\n",
      "[Text Detection Completed in 0.165 s] Input: data/output/temp.jpg Output: data/output/ocr/temp.json\n",
      "[Compo Detection Completed in 0.804 s] Input: data/output/temp.jpg Output: data/output/ip/temp.json\n",
      "[Merge Completed] Input: data/output/temp.jpg Output: data/output/merge/temp.jpg\n",
      "===================\n",
      "\n",
      "[2022/02/25 11:30:44] root DEBUG: dt_boxes num : 5, elapse : 0.14547276496887207\n",
      "[2022/02/25 11:30:44] root DEBUG: cls num  : 5, elapse : 0.017864704132080078\n",
      "[2022/02/25 11:30:44] root DEBUG: rec_res num  : 5, elapse : 0.010598182678222656\n",
      "[Text Detection Completed in 0.194 s] Input: data/output/temp.jpg Output: data/output/ocr/temp.json\n"
     ]
    },
    {
     "name": "stdout",
     "output_type": "stream",
     "text": [
      "[Compo Detection Completed in 1.288 s] Input: data/output/temp.jpg Output: data/output/ip/temp.json\n",
      "[Merge Completed] Input: data/output/temp.jpg Output: data/output/merge/temp.jpg\n",
      "===================\n",
      "\n",
      "[2022/02/25 11:30:46] root DEBUG: dt_boxes num : 7, elapse : 0.14664459228515625\n",
      "[2022/02/25 11:30:46] root DEBUG: cls num  : 7, elapse : 0.025549650192260742\n",
      "[2022/02/25 11:30:46] root DEBUG: rec_res num  : 7, elapse : 0.015115976333618164\n",
      "[Text Detection Completed in 0.208 s] Input: data/output/temp.jpg Output: data/output/ocr/temp.json\n",
      "[Compo Detection Completed in 1.460 s] Input: data/output/temp.jpg Output: data/output/ip/temp.json\n",
      "[Merge Completed] Input: data/output/temp.jpg Output: data/output/merge/temp.jpg\n"
     ]
    }
   ],
   "source": [
    "# ***************************\n",
    "# *** Streaming Detection ***\n",
    "# ***************************\n",
    "\n",
    "cap = cv2.VideoCapture(0)\n",
    "cap.set(cv2.CAP_PROP_FRAME_WIDTH, 1000)\n",
    "cap.set(cv2.CAP_PROP_FRAME_HEIGHT, 500)\n",
    "\n",
    "while(1):\n",
    "    ret, frame = cap.read()\n",
    "    temp_frame_path = 'data/output/temp.jpg'\n",
    "    cv2.imwrite(temp_frame_path, frame)\n",
    "\n",
    "    gui = GUI(temp_frame_path)\n",
    "    gui.element_detection(True, True, True, paddle_cor=paddle_ocr)\n",
    "    \n",
    "    cv2.imshow('video', gui.det_result_imgs['merge'])\n",
    "    if cv2.waitKey(1) == ord('q'):\n",
    "        break\n",
    "    print('===================\\n')\n",
    "cap.release()\n",
    "cv2.destroyAllWindows()"
   ]
  },
  {
   "cell_type": "code",
   "execution_count": 6,
   "id": "ce82a52f",
   "metadata": {},
   "outputs": [],
   "source": [
    "cap.release()"
   ]
  }
 ],
 "metadata": {
  "kernelspec": {
   "display_name": "Python 3",
   "language": "python",
   "name": "python3"
  },
  "language_info": {
   "codemirror_mode": {
    "name": "ipython",
    "version": 3
   },
   "file_extension": ".py",
   "mimetype": "text/x-python",
   "name": "python",
   "nbconvert_exporter": "python",
   "pygments_lexer": "ipython3",
   "version": "3.6.9"
  }
 },
 "nbformat": 4,
 "nbformat_minor": 5
}
