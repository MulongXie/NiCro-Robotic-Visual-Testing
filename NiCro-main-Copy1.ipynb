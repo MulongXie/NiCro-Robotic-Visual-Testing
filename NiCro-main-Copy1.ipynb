{
 "cells": [
  {
   "cell_type": "code",
   "execution_count": 1,
   "id": "cf8fa401",
   "metadata": {},
   "outputs": [],
   "source": [
    "from NiCro import NiCro"
   ]
  },
  {
   "cell_type": "code",
   "execution_count": 2,
   "id": "3b8108d8",
   "metadata": {},
   "outputs": [],
   "source": [
    "nicro = NiCro()"
   ]
  },
  {
   "cell_type": "code",
   "execution_count": 3,
   "id": "49011f38",
   "metadata": {},
   "outputs": [
    {
     "name": "stdout",
     "output_type": "stream",
     "text": [
      "Selected Source Device:\n",
      "Device ID:0 Name:emulator-5554 Resolution:Size(width=1080, height=2280)\n",
      "\n",
      "All Devices:\n",
      "Device ID:0 Name:emulator-5554 Resolution:Size(width=1080, height=2280)\n",
      "Device ID:1 Name:emulator-5556 Resolution:Size(width=1080, height=1920)\n"
     ]
    }
   ],
   "source": [
    "nicro.get_devices_info()"
   ]
  },
  {
   "cell_type": "code",
   "execution_count": 4,
   "id": "88291196",
   "metadata": {
    "scrolled": true
   },
   "outputs": [
    {
     "name": "stdout",
     "output_type": "stream",
     "text": [
      "****** Device [1 / 2] ******\n",
      "[Text Detection Completed in 1.447 s] Input: data/screen/emulator-5554.png Output: data/output/ocr/emulator-5554.json\n",
      "[Compo Detection Completed in 0.421 s] Input: data/screen/emulator-5554.png Output: data/output/ip/emulator-5554.json\n",
      "[Merge Completed] Input: data/screen/emulator-5554.png Output: data/output/merge/emulator-5554.jpg\n",
      "****** Device [2 / 2] ******\n",
      "[Text Detection Completed in 0.134 s] Input: data/screen/emulator-5556.png Output: data/output/ocr/emulator-5556.json\n",
      "[Compo Detection Completed in 0.543 s] Input: data/screen/emulator-5556.png Output: data/output/ip/emulator-5556.json\n",
      "[Merge Completed] Input: data/screen/emulator-5556.png Output: data/output/merge/emulator-5556.jpg\n"
     ]
    }
   ],
   "source": [
    "nicro.detect_gui_info_for_all_devices(is_load=False)"
   ]
  },
  {
   "cell_type": "code",
   "execution_count": 5,
   "id": "e6f6a66e",
   "metadata": {},
   "outputs": [],
   "source": [
    "nicro.control_multiple_devices_through_source_device(is_replay=True)"
   ]
  },
  {
   "cell_type": "code",
   "execution_count": null,
   "id": "1d84cab8",
   "metadata": {},
   "outputs": [],
   "source": []
  },
  {
   "cell_type": "code",
   "execution_count": 6,
   "id": "bcb841b4",
   "metadata": {},
   "outputs": [],
   "source": [
    "resnet_model = nicro.resnet_model"
   ]
  },
  {
   "cell_type": "code",
   "execution_count": 7,
   "id": "13df66fe",
   "metadata": {},
   "outputs": [],
   "source": [
    "import cv2\n",
    "import numpy as np\n",
    "from sklearn.metrics.pairwise import cosine_similarity"
   ]
  },
  {
   "cell_type": "code",
   "execution_count": 8,
   "id": "bcbbe121",
   "metadata": {},
   "outputs": [],
   "source": [
    "clips1 = [cv2.resize(ele.clip, (32, 32), interpolation=cv2.INTER_AREA) for ele in nicro.devices[0].GUI.elements]\n",
    "clips2 = [cv2.resize(ele.clip, (32, 32), interpolation=cv2.INTER_AREA) for ele in nicro.devices[1].GUI.elements]"
   ]
  },
  {
   "cell_type": "code",
   "execution_count": 9,
   "id": "4571201d",
   "metadata": {},
   "outputs": [],
   "source": [
    "encodings = resnet_model.predict(np.array(clips1 + clips2))\n",
    "encodings = encodings.reshape((encodings.shape[0], -1))\n",
    "sim_matrix = cosine_similarity(encodings[:len(clips1)], encodings[len(clips1):])"
   ]
  },
  {
   "cell_type": "code",
   "execution_count": null,
   "id": "d7319b5f",
   "metadata": {},
   "outputs": [],
   "source": []
  },
  {
   "cell_type": "code",
   "execution_count": null,
   "id": "414500f4",
   "metadata": {},
   "outputs": [],
   "source": []
  },
  {
   "cell_type": "code",
   "execution_count": null,
   "id": "0a9cd47d",
   "metadata": {},
   "outputs": [],
   "source": []
  },
  {
   "cell_type": "code",
   "execution_count": 46,
   "id": "9ae676d9",
   "metadata": {},
   "outputs": [],
   "source": [
    "select = np.where(sim_matrix[11] > 0.8)[0]"
   ]
  },
  {
   "cell_type": "code",
   "execution_count": 48,
   "id": "e48ebf30",
   "metadata": {},
   "outputs": [
    {
     "data": {
      "text/plain": [
       "array([19, 21, 22, 25, 26, 28, 29])"
      ]
     },
     "execution_count": 48,
     "metadata": {},
     "output_type": "execute_result"
    }
   ],
   "source": [
    "select"
   ]
  },
  {
   "cell_type": "code",
   "execution_count": 87,
   "id": "863aa362",
   "metadata": {},
   "outputs": [],
   "source": [
    "eles = np.array(nicro.devices[1].GUI.elements)"
   ]
  },
  {
   "cell_type": "code",
   "execution_count": 22,
   "id": "2d30692c",
   "metadata": {},
   "outputs": [],
   "source": [
    "ids = [e.id for e in nicro.devices[1].GUI.elements]"
   ]
  },
  {
   "cell_type": "code",
   "execution_count": 49,
   "id": "09e7f3f0",
   "metadata": {},
   "outputs": [
    {
     "data": {
      "text/plain": [
       "{19, 21, 22, 25, 26, 28, 29}"
      ]
     },
     "execution_count": 49,
     "metadata": {},
     "output_type": "execute_result"
    }
   ],
   "source": [
    "set(select).intersection(set(ids))"
   ]
  },
  {
   "cell_type": "code",
   "execution_count": 37,
   "id": "72f787e7",
   "metadata": {},
   "outputs": [
    {
     "data": {
      "text/plain": [
       "(array([], dtype=int64),)"
      ]
     },
     "execution_count": 37,
     "metadata": {},
     "output_type": "execute_result"
    }
   ],
   "source": [
    "select"
   ]
  },
  {
   "cell_type": "code",
   "execution_count": null,
   "id": "f7ffe510",
   "metadata": {},
   "outputs": [],
   "source": []
  },
  {
   "cell_type": "code",
   "execution_count": 11,
   "id": "ad77d897",
   "metadata": {},
   "outputs": [],
   "source": [
    "from element_matching.matching import *"
   ]
  },
  {
   "cell_type": "code",
   "execution_count": 20,
   "id": "f2acd9ef",
   "metadata": {},
   "outputs": [],
   "source": [
    "sm = np.array(image_similarity_matrix(clips1, clips2, method='dhash', resnet_model=resnet_model))"
   ]
  },
  {
   "cell_type": "code",
   "execution_count": 24,
   "id": "06a7dcb2",
   "metadata": {},
   "outputs": [
    {
     "data": {
      "text/plain": [
       "154"
      ]
     },
     "execution_count": 24,
     "metadata": {},
     "output_type": "execute_result"
    }
   ],
   "source": [
    "np.argmax(sm)"
   ]
  },
  {
   "cell_type": "code",
   "execution_count": null,
   "id": "c5a1e895",
   "metadata": {},
   "outputs": [],
   "source": []
  },
  {
   "cell_type": "code",
   "execution_count": 21,
   "id": "63e9280f",
   "metadata": {},
   "outputs": [
    {
     "data": {
      "text/plain": [
       "(array([ 0,  0,  0,  0,  0,  0,  0,  0,  1,  2,  3,  4,  5,  5,  5,  5,  5,\n",
       "         5,  5,  5,  5,  6,  6,  6,  6,  6,  6,  7,  7,  7,  7,  7,  7,  7,\n",
       "         8, 12, 12, 12, 12, 13, 13, 16, 17, 17, 17, 17, 17, 17, 17, 17, 18,\n",
       "        18, 18, 18, 18, 18, 19, 19, 19, 19, 19, 19, 19, 20, 20, 20, 20, 20,\n",
       "        20, 22, 32]),\n",
       " array([ 4,  6,  8, 11, 14, 15, 16, 17,  0,  1,  2,  3,  4,  6,  8, 10, 11,\n",
       "        14, 15, 16, 17,  4,  6,  8, 14, 15, 16,  4,  6,  8, 14, 15, 16, 17,\n",
       "         9,  4, 10, 14, 17, 11, 12, 13,  4,  6,  8, 10, 14, 15, 16, 17,  4,\n",
       "         6,  8, 14, 15, 16,  4,  6,  8, 14, 15, 16, 17,  4,  6, 10, 14, 15,\n",
       "        17, 18, 29]))"
      ]
     },
     "execution_count": 21,
     "metadata": {},
     "output_type": "execute_result"
    }
   ],
   "source": [
    "np.where(sm > 0.8)"
   ]
  },
  {
   "cell_type": "code",
   "execution_count": 23,
   "id": "3c96a08c",
   "metadata": {},
   "outputs": [
    {
     "data": {
      "text/plain": [
       "(array([ 1,  2,  3,  4,  5,  5,  5,  5,  5,  5,  5,  5,  6,  6,  6,  6,  6,\n",
       "         6,  6,  6,  7,  7,  7,  7,  7,  7,  7,  7,  8,  9,  9, 10, 10, 10,\n",
       "        10, 10, 10, 10, 10, 10, 11, 11, 11, 11, 11, 11, 11, 11, 12, 12, 13,\n",
       "        16, 17, 17, 17, 17, 17, 17, 17, 17, 18, 18, 18, 18, 18, 18, 18, 18,\n",
       "        18, 18, 19, 19, 19, 19, 19, 19, 19, 19, 20, 20, 22, 22, 23, 23, 23,\n",
       "        23, 23, 23, 23, 23, 23, 23, 24, 24, 24, 24, 24, 24, 24, 24, 24, 24,\n",
       "        24, 24, 24, 24, 25, 25, 25, 25, 25, 25, 25, 25, 25, 25, 26, 26, 26,\n",
       "        26, 26, 26, 26, 26, 26, 27, 27, 27, 27, 27, 27, 27, 27, 27, 27, 27,\n",
       "        28, 28, 28, 28, 28, 28, 28, 28, 28, 28, 28, 28, 29, 29, 29, 29, 29,\n",
       "        29, 29, 29, 29, 29, 29, 30, 30, 30, 31, 31, 31, 31, 31, 31, 31, 32,\n",
       "        32, 32, 32, 32, 32, 32, 32, 32, 32]),\n",
       " array([ 0,  1,  2,  3,  4,  6,  8, 12, 14, 15, 16, 20,  4,  6,  8, 12, 14,\n",
       "        15, 16, 20,  4,  6,  8, 12, 14, 15, 16, 20,  9, 26, 29, 19, 21, 22,\n",
       "        23, 24, 25, 26, 28, 29, 19, 21, 22, 23, 24, 26, 28, 29, 10, 17, 11,\n",
       "        13,  4,  6,  8, 12, 14, 15, 16, 20,  4,  6,  8, 12, 14, 15, 16, 20,\n",
       "        23, 24,  4,  6,  8, 12, 14, 15, 16, 20, 10, 17, 18, 27, 19, 20, 21,\n",
       "        22, 23, 24, 25, 26, 28, 29,  6, 11, 12, 15, 16, 19, 20, 21, 22, 23,\n",
       "        24, 25, 28, 29, 12, 19, 20, 21, 22, 23, 24, 25, 28, 29, 19, 21, 22,\n",
       "        23, 24, 25, 26, 28, 29, 12, 19, 20, 21, 22, 23, 24, 25, 26, 28, 29,\n",
       "        12, 15, 16, 19, 20, 21, 22, 23, 24, 25, 28, 29, 11, 12, 19, 20, 21,\n",
       "        22, 23, 24, 25, 28, 29, 18, 20, 27, 19, 21, 22, 23, 26, 28, 29, 19,\n",
       "        20, 21, 22, 23, 24, 25, 26, 28, 29]))"
      ]
     },
     "execution_count": 23,
     "metadata": {},
     "output_type": "execute_result"
    }
   ],
   "source": [
    "np.where(sim_matrix > 0.8)"
   ]
  },
  {
   "cell_type": "code",
   "execution_count": null,
   "id": "fe5f430e",
   "metadata": {},
   "outputs": [],
   "source": []
  }
 ],
 "metadata": {
  "kernelspec": {
   "display_name": "Python 3",
   "language": "python",
   "name": "python3"
  },
  "language_info": {
   "codemirror_mode": {
    "name": "ipython",
    "version": 3
   },
   "file_extension": ".py",
   "mimetype": "text/x-python",
   "name": "python",
   "nbconvert_exporter": "python",
   "pygments_lexer": "ipython3",
   "version": "3.6.9"
  }
 },
 "nbformat": 4,
 "nbformat_minor": 5
}
