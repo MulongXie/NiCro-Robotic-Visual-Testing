{
 "cells": [
  {
   "cell_type": "code",
   "execution_count": 1,
   "id": "cf8fa401",
   "metadata": {},
   "outputs": [],
   "source": [
    "from NiCro import NiCro"
   ]
  },
  {
   "cell_type": "code",
   "execution_count": 2,
   "id": "3b8108d8",
   "metadata": {},
   "outputs": [],
   "source": [
    "nicro = NiCro()"
   ]
  },
  {
   "cell_type": "code",
   "execution_count": 3,
   "id": "49011f38",
   "metadata": {},
   "outputs": [
    {
     "name": "stdout",
     "output_type": "stream",
     "text": [
      "Selected Source Device:\n",
      "Device ID:0 Name:emulator-5554 Resolution:Size(width=1080, height=2280)\n",
      "\n",
      "All Devices:\n",
      "Device ID:0 Name:emulator-5554 Resolution:Size(width=1080, height=2280)\n",
      "Device ID:1 Name:emulator-5556 Resolution:Size(width=1080, height=1920)\n"
     ]
    }
   ],
   "source": [
    "nicro.get_devices_info()"
   ]
  },
  {
   "cell_type": "code",
   "execution_count": 4,
   "id": "88291196",
   "metadata": {
    "scrolled": true
   },
   "outputs": [
    {
     "name": "stdout",
     "output_type": "stream",
     "text": [
      "****** Device [1 / 2] ******\n",
      "[Text Detection Completed in 1.392 s] Input: data/screen/emulator-5554.png Output: data/output/ocr/emulator-5554.json\n",
      "[Compo Detection Completed in 0.435 s] Input: data/screen/emulator-5554.png Output: data/output/ip/emulator-5554.json\n",
      "[Merge Completed] Input: data/screen/emulator-5554.png Output: data/output/merge/emulator-5554.jpg\n",
      "****** Device [2 / 2] ******\n",
      "[Text Detection Completed in 0.132 s] Input: data/screen/emulator-5556.png Output: data/output/ocr/emulator-5556.json\n",
      "[Compo Detection Completed in 0.555 s] Input: data/screen/emulator-5556.png Output: data/output/ip/emulator-5556.json\n",
      "[Merge Completed] Input: data/screen/emulator-5556.png Output: data/output/merge/emulator-5556.jpg\n"
     ]
    }
   ],
   "source": [
    "nicro.detect_gui_info_for_all_devices(is_load=False)"
   ]
  },
  {
   "cell_type": "code",
   "execution_count": 5,
   "id": "e6f6a66e",
   "metadata": {},
   "outputs": [
    {
     "name": "stdout",
     "output_type": "stream",
     "text": [
      "\n",
      "****** Scroll from (684, 1251) to (678, 1330) ******\n",
      "Action: {'type': 'swipe', 'coordinate': [(684, 1251), (678, 1330)]}\n",
      "*** Replay Devices Number [1/2] ***\n",
      "Skip the Selected Source Device\n",
      "*** Replay Devices Number [2/2] ***\n",
      "Device ID:1 Name:emulator-5556 Resolution:Size(width=1080, height=1920)\n",
      "****** Re-detect Selected Device's screenshot and GUI ******\n",
      "[Text Detection Completed in 0.136 s] Input: data/screen/emulator-5554.png Output: data/output/ocr/emulator-5554.json\n",
      "[Compo Detection Completed in 0.425 s] Input: data/screen/emulator-5554.png Output: data/output/ip/emulator-5554.json\n",
      "[Merge Completed] Input: data/screen/emulator-5554.png Output: data/output/merge/emulator-5554.jpg\n"
     ]
    }
   ],
   "source": [
    "nicro.control_multiple_devices_through_source_device(is_replay=True)"
   ]
  },
  {
   "cell_type": "code",
   "execution_count": null,
   "id": "d2c716dc",
   "metadata": {},
   "outputs": [],
   "source": []
  },
  {
   "cell_type": "code",
   "execution_count": null,
   "id": "bcb841b4",
   "metadata": {},
   "outputs": [],
   "source": []
  },
  {
   "cell_type": "code",
   "execution_count": null,
   "id": "85536bc7",
   "metadata": {},
   "outputs": [],
   "source": []
  },
  {
   "cell_type": "code",
   "execution_count": null,
   "id": "8826524f",
   "metadata": {},
   "outputs": [],
   "source": []
  },
  {
   "cell_type": "code",
   "execution_count": 6,
   "id": "df0e0180",
   "metadata": {},
   "outputs": [],
   "source": [
    "from element_matching.GUI_pair import GUIPair\n",
    "resnet_model = nicro.resnet_model"
   ]
  },
  {
   "cell_type": "code",
   "execution_count": 7,
   "id": "59e95e0e",
   "metadata": {},
   "outputs": [],
   "source": [
    "gui1 = nicro.devices[0].GUI\n",
    "gui2 = nicro.devices[1].GUI\n",
    "pair = GUIPair(gui1, gui2, resnet_model=resnet_model)"
   ]
  },
  {
   "cell_type": "code",
   "execution_count": 8,
   "id": "2fa742b0",
   "metadata": {},
   "outputs": [
    {
     "name": "stdout",
     "output_type": "stream",
     "text": [
      "[[0.5625   0.96875  0.921875 0.75     0.890625 0.84375  0.953125 0.9375\n",
      "  0.90625 ]]\n",
      "[[0.5625   0.96875  0.921875 0.75     0.890625 0.84375  0.953125 0.9375\n",
      "  0.90625 ]]\n"
     ]
    },
    {
     "ename": "IndexError",
     "evalue": "index 1 is out of bounds for axis 0 with size 1",
     "output_type": "error",
     "traceback": [
      "\u001b[0;31m---------------------------------------------------------------------------\u001b[0m",
      "\u001b[0;31mIndexError\u001b[0m                                Traceback (most recent call last)",
      "\u001b[0;32m<ipython-input-8-3619c0cdd210>\u001b[0m in \u001b[0;36m<module>\u001b[0;34m\u001b[0m\n\u001b[0;32m----> 1\u001b[0;31m \u001b[0mpair\u001b[0m\u001b[0;34m.\u001b[0m\u001b[0mmatch_by_img\u001b[0m\u001b[0;34m(\u001b[0m\u001b[0mgui1\u001b[0m\u001b[0;34m.\u001b[0m\u001b[0melements\u001b[0m\u001b[0;34m[\u001b[0m\u001b[0;36m0\u001b[0m\u001b[0;34m]\u001b[0m\u001b[0;34m,\u001b[0m \u001b[0mgui2\u001b[0m\u001b[0;34m.\u001b[0m\u001b[0mele_compos\u001b[0m\u001b[0;34m)\u001b[0m\u001b[0;34m\u001b[0m\u001b[0;34m\u001b[0m\u001b[0m\n\u001b[0m",
      "\u001b[0;32m~/Code/github/Robot-Visual-Testing/element_matching/GUI_pair.py\u001b[0m in \u001b[0;36mmatch_by_img\u001b[0;34m(self, target_element, compared_elements, hash_check)\u001b[0m\n\u001b[1;32m     76\u001b[0m             \u001b[0mmatched_elements_id\u001b[0m \u001b[0;34m=\u001b[0m \u001b[0mnp\u001b[0m\u001b[0;34m.\u001b[0m\u001b[0mwhere\u001b[0m\u001b[0;34m(\u001b[0m\u001b[0mdhash_similarity\u001b[0m \u001b[0;34m>\u001b[0m \u001b[0mself\u001b[0m\u001b[0;34m.\u001b[0m\u001b[0mmin_similarity_img\u001b[0m\u001b[0;34m)\u001b[0m\u001b[0;34m[\u001b[0m\u001b[0;36m0\u001b[0m\u001b[0;34m]\u001b[0m\u001b[0;34m\u001b[0m\u001b[0;34m\u001b[0m\u001b[0m\n\u001b[1;32m     77\u001b[0m             \u001b[0mmatched_elements\u001b[0m \u001b[0;34m=\u001b[0m \u001b[0mnp\u001b[0m\u001b[0;34m.\u001b[0m\u001b[0marray\u001b[0m\u001b[0;34m(\u001b[0m\u001b[0mself\u001b[0m\u001b[0;34m.\u001b[0m\u001b[0mgui2\u001b[0m\u001b[0;34m.\u001b[0m\u001b[0melements\u001b[0m\u001b[0;34m)\u001b[0m\u001b[0;34m[\u001b[0m\u001b[0mmatched_elements_id\u001b[0m\u001b[0;34m]\u001b[0m\u001b[0;34m\u001b[0m\u001b[0;34m\u001b[0m\u001b[0m\n\u001b[0;32m---> 78\u001b[0;31m             \u001b[0mself\u001b[0m\u001b[0;34m.\u001b[0m\u001b[0mshow_target_and_matched_elements\u001b[0m\u001b[0;34m(\u001b[0m\u001b[0mtarget_element\u001b[0m\u001b[0;34m,\u001b[0m \u001b[0mmatched_elements\u001b[0m\u001b[0;34m,\u001b[0m \u001b[0msimilarities\u001b[0m\u001b[0;34m=\u001b[0m\u001b[0mdhash_similarity\u001b[0m\u001b[0;34m)\u001b[0m\u001b[0;34m\u001b[0m\u001b[0;34m\u001b[0m\u001b[0m\n\u001b[0m\u001b[1;32m     79\u001b[0m         \u001b[0;32mreturn\u001b[0m \u001b[0mmatched_elements\u001b[0m\u001b[0;34m\u001b[0m\u001b[0;34m\u001b[0m\u001b[0m\n\u001b[1;32m     80\u001b[0m \u001b[0;34m\u001b[0m\u001b[0m\n",
      "\u001b[0;32m~/Code/github/Robot-Visual-Testing/element_matching/GUI_pair.py\u001b[0m in \u001b[0;36mshow_target_and_matched_elements\u001b[0;34m(self, target, matched_elements, similarities)\u001b[0m\n\u001b[1;32m    130\u001b[0m             \u001b[0mtext\u001b[0m \u001b[0;34m=\u001b[0m \u001b[0;32mNone\u001b[0m\u001b[0;34m\u001b[0m\u001b[0;34m\u001b[0m\u001b[0m\n\u001b[1;32m    131\u001b[0m             \u001b[0;32mif\u001b[0m \u001b[0msimilarities\u001b[0m \u001b[0;32mis\u001b[0m \u001b[0;32mnot\u001b[0m \u001b[0;32mNone\u001b[0m\u001b[0;34m:\u001b[0m\u001b[0;34m\u001b[0m\u001b[0;34m\u001b[0m\u001b[0m\n\u001b[0;32m--> 132\u001b[0;31m                 \u001b[0mtext\u001b[0m \u001b[0;34m=\u001b[0m \u001b[0msimilarities\u001b[0m\u001b[0;34m[\u001b[0m\u001b[0mi\u001b[0m\u001b[0;34m]\u001b[0m\u001b[0;34m\u001b[0m\u001b[0;34m\u001b[0m\u001b[0m\n\u001b[0m\u001b[1;32m    133\u001b[0m             \u001b[0mele\u001b[0m\u001b[0;34m.\u001b[0m\u001b[0mdraw_element\u001b[0m\u001b[0;34m(\u001b[0m\u001b[0mboard2\u001b[0m\u001b[0;34m,\u001b[0m \u001b[0mput_text\u001b[0m\u001b[0;34m=\u001b[0m\u001b[0mtext\u001b[0m\u001b[0;34m,\u001b[0m \u001b[0mshow\u001b[0m\u001b[0;34m=\u001b[0m\u001b[0;32mFalse\u001b[0m\u001b[0;34m)\u001b[0m\u001b[0;34m\u001b[0m\u001b[0;34m\u001b[0m\u001b[0m\n\u001b[1;32m    134\u001b[0m         \u001b[0mcv2\u001b[0m\u001b[0;34m.\u001b[0m\u001b[0mimshow\u001b[0m\u001b[0;34m(\u001b[0m\u001b[0;34m'Target'\u001b[0m\u001b[0;34m,\u001b[0m \u001b[0mboard1\u001b[0m\u001b[0;34m)\u001b[0m\u001b[0;34m\u001b[0m\u001b[0;34m\u001b[0m\u001b[0m\n",
      "\u001b[0;31mIndexError\u001b[0m: index 1 is out of bounds for axis 0 with size 1"
     ]
    }
   ],
   "source": [
    "pair.match_by_img(gui1.elements[0], gui2.ele_compos)"
   ]
  },
  {
   "cell_type": "code",
   "execution_count": 12,
   "id": "edb86676",
   "metadata": {},
   "outputs": [
    {
     "data": {
      "text/plain": [
       "'Compo'"
      ]
     },
     "execution_count": 12,
     "metadata": {},
     "output_type": "execute_result"
    }
   ],
   "source": [
    "gui1.elements[0].category"
   ]
  },
  {
   "cell_type": "code",
   "execution_count": null,
   "id": "6ff6b411",
   "metadata": {},
   "outputs": [],
   "source": []
  }
 ],
 "metadata": {
  "kernelspec": {
   "display_name": "Python 3",
   "language": "python",
   "name": "python3"
  },
  "language_info": {
   "codemirror_mode": {
    "name": "ipython",
    "version": 3
   },
   "file_extension": ".py",
   "mimetype": "text/x-python",
   "name": "python",
   "nbconvert_exporter": "python",
   "pygments_lexer": "ipython3",
   "version": "3.6.9"
  }
 },
 "nbformat": 4,
 "nbformat_minor": 5
}
