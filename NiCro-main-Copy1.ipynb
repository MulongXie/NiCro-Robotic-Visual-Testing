{
 "cells": [
  {
   "cell_type": "code",
   "execution_count": 1,
   "id": "cf8fa401",
   "metadata": {},
   "outputs": [],
   "source": [
    "from NiCro import NiCro"
   ]
  },
  {
   "cell_type": "code",
   "execution_count": 2,
   "id": "3b8108d8",
   "metadata": {},
   "outputs": [],
   "source": [
    "nicro = NiCro()"
   ]
  },
  {
   "cell_type": "code",
   "execution_count": 3,
   "id": "49011f38",
   "metadata": {},
   "outputs": [
    {
     "name": "stdout",
     "output_type": "stream",
     "text": [
      "Selected Source Device:\n",
      "Device ID:0 Name:emulator-5554 Resolution:Size(width=1080, height=2280)\n",
      "\n",
      "All Devices:\n",
      "Device ID:0 Name:emulator-5554 Resolution:Size(width=1080, height=2280)\n",
      "Device ID:1 Name:emulator-5556 Resolution:Size(width=1080, height=1920)\n"
     ]
    }
   ],
   "source": [
    "nicro.get_devices_info()"
   ]
  },
  {
   "cell_type": "code",
   "execution_count": 4,
   "id": "88291196",
   "metadata": {
    "scrolled": true
   },
   "outputs": [
    {
     "name": "stdout",
     "output_type": "stream",
     "text": [
      "****** Device [1 / 2] ******\n",
      "[Text Detection Completed in 1.427 s] Input: data/screen/emulator-5554.png Output: data/output/ocr/emulator-5554.json\n",
      "[Compo Detection Completed in 0.413 s] Input: data/screen/emulator-5554.png Output: data/output/ip/emulator-5554.json\n",
      "[Merge Completed] Input: data/screen/emulator-5554.png Output: data/output/merge/emulator-5554.jpg\n",
      "****** Device [2 / 2] ******\n",
      "[Text Detection Completed in 0.131 s] Input: data/screen/emulator-5556.png Output: data/output/ocr/emulator-5556.json\n",
      "[Compo Detection Completed in 0.539 s] Input: data/screen/emulator-5556.png Output: data/output/ip/emulator-5556.json\n",
      "[Merge Completed] Input: data/screen/emulator-5556.png Output: data/output/merge/emulator-5556.jpg\n"
     ]
    }
   ],
   "source": [
    "nicro.detect_gui_info_for_all_devices(is_load=False)"
   ]
  },
  {
   "cell_type": "code",
   "execution_count": 5,
   "id": "e6f6a66e",
   "metadata": {},
   "outputs": [],
   "source": [
    "nicro.control_multiple_devices_through_source_device(is_replay=True)"
   ]
  },
  {
   "cell_type": "code",
   "execution_count": null,
   "id": "ea13471e",
   "metadata": {},
   "outputs": [],
   "source": []
  },
  {
   "cell_type": "code",
   "execution_count": null,
   "id": "bcb841b4",
   "metadata": {},
   "outputs": [],
   "source": []
  },
  {
   "cell_type": "code",
   "execution_count": null,
   "id": "f0bc2a1c",
   "metadata": {},
   "outputs": [],
   "source": []
  },
  {
   "cell_type": "code",
   "execution_count": null,
   "id": "622549b7",
   "metadata": {},
   "outputs": [],
   "source": []
  },
  {
   "cell_type": "code",
   "execution_count": 6,
   "id": "29571938",
   "metadata": {},
   "outputs": [],
   "source": [
    "from element_matching.GUI_pair import GUIPair\n",
    "resnet_model = nicro.resnet_model"
   ]
  },
  {
   "cell_type": "code",
   "execution_count": 7,
   "id": "6a3281d0",
   "metadata": {},
   "outputs": [],
   "source": [
    "gui1 = nicro.devices[0].GUI\n",
    "gui2 = nicro.devices[1].GUI\n",
    "pair = GUIPair(gui1, gui2, resnet_model=resnet_model)"
   ]
  },
  {
   "cell_type": "code",
   "execution_count": null,
   "id": "de550fbe",
   "metadata": {},
   "outputs": [
    {
     "name": "stdout",
     "output_type": "stream",
     "text": [
      "0 0\n",
      "0\n",
      "0 0\n",
      "0\n",
      "1 1\n",
      "1\n",
      "1 1\n",
      "1\n",
      "1 1\n",
      "1\n",
      "1 1\n",
      "1\n",
      "1 1\n",
      "1\n",
      "1 1\n",
      "1\n",
      "0 0\n",
      "0\n",
      "0 0\n",
      "0\n",
      "6 6\n",
      "6\n",
      "6 6\n",
      "6\n",
      "6 6\n",
      "6\n",
      "6 6\n",
      "6\n",
      "6 6\n",
      "6\n",
      "6 6\n",
      "6\n",
      "0 0\n",
      "0\n",
      "0 0\n",
      "0\n",
      "0 0\n",
      "0\n",
      "0 0\n",
      "0\n",
      "0 0\n",
      "0\n",
      "0 0\n",
      "0\n",
      "0 0\n",
      "0\n",
      "0 0\n",
      "0\n",
      "2 2\n",
      "2\n",
      "2 2\n",
      "2\n",
      "1 1\n",
      "1\n",
      "1 1\n",
      "1\n",
      "0 0\n",
      "0\n",
      "0 0\n",
      "0\n",
      "0 0\n",
      "0\n",
      "0 0\n",
      "0\n",
      "2 2\n",
      "2\n",
      "1 1\n",
      "1\n",
      "6 6\n",
      "6\n",
      "6 6\n",
      "6\n",
      "6 6\n",
      "6\n",
      "6 6\n",
      "6\n",
      "6 6\n",
      "6\n",
      "6 6\n",
      "6\n",
      "2 2\n",
      "2\n",
      "2 2\n",
      "2\n",
      "0 0\n"
     ]
    }
   ],
   "source": [
    "for ele in gui1.elements:\n",
    "    pair.match_by_img(ele, gui2.ele_compos)"
   ]
  },
  {
   "cell_type": "code",
   "execution_count": null,
   "id": "957f1d45",
   "metadata": {},
   "outputs": [],
   "source": []
  }
 ],
 "metadata": {
  "kernelspec": {
   "display_name": "Python 3",
   "language": "python",
   "name": "python3"
  },
  "language_info": {
   "codemirror_mode": {
    "name": "ipython",
    "version": 3
   },
   "file_extension": ".py",
   "mimetype": "text/x-python",
   "name": "python",
   "nbconvert_exporter": "python",
   "pygments_lexer": "ipython3",
   "version": "3.6.9"
  }
 },
 "nbformat": 4,
 "nbformat_minor": 5
}
