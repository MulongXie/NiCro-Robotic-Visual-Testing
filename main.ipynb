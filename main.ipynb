{
 "cells": [
  {
   "cell_type": "code",
   "execution_count": 1,
   "id": "a719ca04",
   "metadata": {},
   "outputs": [],
   "source": [
    "import json\n",
    "from glob import glob\n",
    "from os.path import join as pjoin\n",
    "import os\n",
    "import cv2\n",
    "import numpy as np\n",
    "\n",
    "from match_elements.GUI_pair import GUIPair\n",
    "from GUI import GUI\n",
    "from Operation import Operation"
   ]
  },
  {
   "cell_type": "code",
   "execution_count": 2,
   "id": "a8ac13a4",
   "metadata": {},
   "outputs": [],
   "source": [
    "from keras.applications.resnet import ResNet50\n",
    "resnet_model = ResNet50(include_top=False, input_shape=(32, 32, 3))"
   ]
  },
  {
   "cell_type": "code",
   "execution_count": 3,
   "id": "94e4f43f",
   "metadata": {},
   "outputs": [
    {
     "name": "stdout",
     "output_type": "stream",
     "text": [
      "[2022/02/28 10:03:17] root WARNING: lang en is not support in PP-OCRv2, auto switch to version PP-OCR\n",
      "[2022/02/28 10:03:17] root WARNING: lang en is not support in PP-OCRv2, auto switch to version PP-OCR\n",
      "[2022/02/28 10:03:17] root WARNING: version PP-OCRv2 not support cls models, auto switch to version PP-OCR\n",
      "Namespace(benchmark=False, cls_batch_num=6, cls_image_shape='3, 48, 192', cls_model_dir='/home/ml/.paddleocr/2.3.0.2/ocr/cls/ch_ppocr_mobile_v2.0_cls_infer', cls_thresh=0.9, cpu_threads=10, det=True, det_algorithm='DB', det_db_box_thresh=0.6, det_db_score_mode='fast', det_db_thresh=0.3, det_db_unclip_ratio=1.5, det_east_cover_thresh=0.1, det_east_nms_thresh=0.2, det_east_score_thresh=0.8, det_limit_side_len=960, det_limit_type='max', det_model_dir='/home/ml/.paddleocr/2.3.0.2/ocr/det/en/en_ppocr_mobile_v2.0_det_infer', det_pse_box_thresh=0.85, det_pse_box_type='box', det_pse_min_area=16, det_pse_scale=1, det_pse_thresh=0, det_sast_nms_thresh=0.2, det_sast_polygon=False, det_sast_score_thresh=0.5, drop_score=0.5, e2e_algorithm='PGNet', e2e_char_dict_path='./ppocr/utils/ic15_dict.txt', e2e_limit_side_len=768, e2e_limit_type='max', e2e_model_dir=None, e2e_pgnet_mode='fast', e2e_pgnet_polygon=True, e2e_pgnet_score_thresh=0.5, e2e_pgnet_valid_set='totaltext', enable_mkldnn=False, gpu_mem=500, help='==SUPPRESS==', image_dir=None, ir_optim=True, label_list=['0', '180'], lang='en', layout_path_model='lp://PubLayNet/ppyolov2_r50vd_dcn_365e_publaynet/config', max_batch_size=10, max_text_length=25, min_subgraph_size=15, ocr_version='PP-OCRv2', output='./output/table', precision='fp32', process_id=0, rec=True, rec_algorithm='CRNN', rec_batch_num=6, rec_char_dict_path='/home/ml/.local/lib/python3.6/site-packages/paddleocr/ppocr/utils/en_dict.txt', rec_image_shape='3, 32, 320', rec_model_dir='/home/ml/.paddleocr/2.3.0.2/ocr/rec/en/en_number_mobile_v2.0_rec_infer', save_log_path='./log_output/', show_log=True, structure_version='STRUCTURE', table_char_dict_path=None, table_char_type='en', table_max_len=488, table_model_dir=None, total_process_num=1, type='ocr', use_angle_cls=True, use_dilation=False, use_gpu=False, use_mp=False, use_onnx=False, use_pdserving=False, use_space_char=True, use_tensorrt=False, vis_font_path='./doc/fonts/simfang.ttf', warmup=True)\n"
     ]
    }
   ],
   "source": [
    "from paddleocr import PaddleOCR\n",
    "paddle_ocr = PaddleOCR(use_angle_cls=True, lang='en')"
   ]
  },
  {
   "cell_type": "code",
   "execution_count": 4,
   "id": "54080d25",
   "metadata": {},
   "outputs": [],
   "source": [
    "gui = GUI('data/input/2.jpg')\n",
    "# gui.element_detection(True, True, True, paddle_cor=paddle_ocr)\n",
    "gui.load_detection_result()\n",
    "gui.show_detection_result()"
   ]
  },
  {
   "cell_type": "code",
   "execution_count": 5,
   "id": "77c1184f",
   "metadata": {},
   "outputs": [
    {
     "name": "stdout",
     "output_type": "stream",
     "text": [
      "[2022/02/28 10:03:20] root DEBUG: dt_boxes num : 0, elapse : 0.03188943862915039\n",
      "[2022/02/28 10:03:20] root DEBUG: cls num  : 0, elapse : 0\n",
      "[2022/02/28 10:03:20] root DEBUG: rec_res num  : 0, elapse : 1.430511474609375e-06\n",
      "[Text Detection Completed in 0.036 s] Input: data/operation/target.png Output: data/operation/target.json\n",
      "[2022/02/28 10:03:20] root DEBUG: dt_boxes num : 3, elapse : 0.010835647583007812\n",
      "[2022/02/28 10:03:20] root DEBUG: cls num  : 3, elapse : 0.01233673095703125\n",
      "[2022/02/28 10:03:20] root DEBUG: rec_res num  : 3, elapse : 0.033182621002197266\n",
      "[Text Detection Completed in 0.061 s] Input: data/operation/target.png Output: data/operation/target.json\n",
      "[2022/02/28 10:03:20] root DEBUG: dt_boxes num : 0, elapse : 0.004488706588745117\n",
      "[2022/02/28 10:03:20] root DEBUG: cls num  : 0, elapse : 0\n",
      "[2022/02/28 10:03:20] root DEBUG: rec_res num  : 0, elapse : 9.5367431640625e-07\n",
      "[Text Detection Completed in 0.006 s] Input: data/operation/target.png Output: data/operation/target.json\n",
      "[2022/02/28 10:03:20] root DEBUG: dt_boxes num : 0, elapse : 0.0033075809478759766\n",
      "[2022/02/28 10:03:20] root DEBUG: cls num  : 0, elapse : 0\n",
      "[2022/02/28 10:03:20] root DEBUG: rec_res num  : 0, elapse : 7.152557373046875e-07\n",
      "[Text Detection Completed in 0.005 s] Input: data/operation/target.png Output: data/operation/target.json\n",
      "[2022/02/28 10:03:20] root DEBUG: dt_boxes num : 0, elapse : 0.003162860870361328\n",
      "[2022/02/28 10:03:20] root DEBUG: cls num  : 0, elapse : 0\n",
      "[2022/02/28 10:03:20] root DEBUG: rec_res num  : 0, elapse : 9.5367431640625e-07\n",
      "[Text Detection Completed in 0.005 s] Input: data/operation/target.png Output: data/operation/target.json\n",
      "[2022/02/28 10:03:20] root DEBUG: dt_boxes num : 1, elapse : 0.005158662796020508\n",
      "[2022/02/28 10:03:20] root DEBUG: cls num  : 1, elapse : 0.004337310791015625\n",
      "[2022/02/28 10:03:20] root DEBUG: rec_res num  : 1, elapse : 0.0026268959045410156\n",
      "[Text Detection Completed in 0.014 s] Input: data/operation/target.png Output: data/operation/target.json\n",
      "[2022/02/28 10:03:20] root DEBUG: dt_boxes num : 0, elapse : 0.0021893978118896484\n",
      "[2022/02/28 10:03:20] root DEBUG: cls num  : 0, elapse : 0\n",
      "[2022/02/28 10:03:20] root DEBUG: rec_res num  : 0, elapse : 9.5367431640625e-07\n",
      "[Text Detection Completed in 0.004 s] Input: data/operation/target.png Output: data/operation/target.json\n",
      "[2022/02/28 10:03:20] root DEBUG: dt_boxes num : 0, elapse : 0.003117799758911133\n",
      "[2022/02/28 10:03:20] root DEBUG: cls num  : 0, elapse : 0\n",
      "[2022/02/28 10:03:20] root DEBUG: rec_res num  : 0, elapse : 9.5367431640625e-07\n",
      "[Text Detection Completed in 0.005 s] Input: data/operation/target.png Output: data/operation/target.json\n",
      "[2022/02/28 10:03:20] root DEBUG: dt_boxes num : 3, elapse : 0.013354301452636719\n",
      "[2022/02/28 10:03:20] root DEBUG: cls num  : 3, elapse : 0.012071847915649414\n",
      "[2022/02/28 10:03:20] root DEBUG: rec_res num  : 3, elapse : 0.030271530151367188\n",
      "[Text Detection Completed in 0.060 s] Input: data/operation/target.png Output: data/operation/target.json\n",
      "[2022/02/28 10:03:20] root DEBUG: dt_boxes num : 0, elapse : 0.003107309341430664\n",
      "[2022/02/28 10:03:20] root DEBUG: cls num  : 0, elapse : 0\n",
      "[2022/02/28 10:03:20] root DEBUG: rec_res num  : 0, elapse : 1.1920928955078125e-06\n",
      "[Text Detection Completed in 0.005 s] Input: data/operation/target.png Output: data/operation/target.json\n",
      "[2022/02/28 10:03:20] root DEBUG: dt_boxes num : 0, elapse : 0.0024385452270507812\n",
      "[2022/02/28 10:03:20] root DEBUG: cls num  : 0, elapse : 0\n",
      "[2022/02/28 10:03:20] root DEBUG: rec_res num  : 0, elapse : 7.152557373046875e-07\n",
      "[Text Detection Completed in 0.004 s] Input: data/operation/target.png Output: data/operation/target.json\n",
      "[2022/02/28 10:03:20] root DEBUG: dt_boxes num : 0, elapse : 0.002814769744873047\n",
      "[2022/02/28 10:03:20] root DEBUG: cls num  : 0, elapse : 0\n",
      "[2022/02/28 10:03:20] root DEBUG: rec_res num  : 0, elapse : 7.152557373046875e-07\n",
      "[Text Detection Completed in 0.004 s] Input: data/operation/target.png Output: data/operation/target.json\n",
      "[2022/02/28 10:03:20] root DEBUG: dt_boxes num : 0, elapse : 0.0043163299560546875\n",
      "[2022/02/28 10:03:20] root DEBUG: cls num  : 0, elapse : 0\n",
      "[2022/02/28 10:03:20] root DEBUG: rec_res num  : 0, elapse : 9.5367431640625e-07\n",
      "[Text Detection Completed in 0.006 s] Input: data/operation/target.png Output: data/operation/target.json\n",
      "[2022/02/28 10:03:20] root DEBUG: dt_boxes num : 0, elapse : 0.005150556564331055\n",
      "[2022/02/28 10:03:20] root DEBUG: cls num  : 0, elapse : 0\n",
      "[2022/02/28 10:03:20] root DEBUG: rec_res num  : 0, elapse : 1.430511474609375e-06\n",
      "[Text Detection Completed in 0.014 s] Input: data/operation/target.png Output: data/operation/target.json\n",
      "[2022/02/28 10:03:20] root DEBUG: dt_boxes num : 1, elapse : 0.005015373229980469\n",
      "[2022/02/28 10:03:20] root DEBUG: cls num  : 1, elapse : 0.006196022033691406\n",
      "[2022/02/28 10:03:20] root DEBUG: rec_res num  : 1, elapse : 0.007307291030883789\n",
      "[Text Detection Completed in 0.021 s] Input: data/operation/target.png Output: data/operation/target.json\n",
      "[2022/02/28 10:03:20] root DEBUG: dt_boxes num : 0, elapse : 0.0024471282958984375\n",
      "[2022/02/28 10:03:20] root DEBUG: cls num  : 0, elapse : 0\n",
      "[2022/02/28 10:03:20] root DEBUG: rec_res num  : 0, elapse : 7.152557373046875e-07\n",
      "[Text Detection Completed in 0.004 s] Input: data/operation/target.png Output: data/operation/target.json\n",
      "[2022/02/28 10:03:20] root DEBUG: dt_boxes num : 3, elapse : 0.009824037551879883\n",
      "[2022/02/28 10:03:20] root DEBUG: cls num  : 3, elapse : 0.01097416877746582\n",
      "[2022/02/28 10:03:20] root DEBUG: rec_res num  : 3, elapse : 0.03051280975341797\n",
      "[Text Detection Completed in 0.055 s] Input: data/operation/target.png Output: data/operation/target.json\n",
      "[2022/02/28 10:03:20] root DEBUG: dt_boxes num : 0, elapse : 0.0042994022369384766\n",
      "[2022/02/28 10:03:20] root DEBUG: cls num  : 0, elapse : 0\n",
      "[2022/02/28 10:03:20] root DEBUG: rec_res num  : 0, elapse : 7.152557373046875e-07\n",
      "[Text Detection Completed in 0.006 s] Input: data/operation/target.png Output: data/operation/target.json\n",
      "[2022/02/28 10:03:20] root DEBUG: dt_boxes num : 0, elapse : 0.0027747154235839844\n",
      "[2022/02/28 10:03:20] root DEBUG: cls num  : 0, elapse : 0\n",
      "[2022/02/28 10:03:20] root DEBUG: rec_res num  : 0, elapse : 9.5367431640625e-07\n",
      "[Text Detection Completed in 0.004 s] Input: data/operation/target.png Output: data/operation/target.json\n",
      "[2022/02/28 10:03:20] root DEBUG: dt_boxes num : 0, elapse : 0.002324342727661133\n",
      "[2022/02/28 10:03:20] root DEBUG: cls num  : 0, elapse : 0\n",
      "[2022/02/28 10:03:20] root DEBUG: rec_res num  : 0, elapse : 1.1920928955078125e-06\n",
      "[Text Detection Completed in 0.003 s] Input: data/operation/target.png Output: data/operation/target.json\n",
      "[2022/02/28 10:03:20] root DEBUG: dt_boxes num : 0, elapse : 0.003525972366333008\n",
      "[2022/02/28 10:03:20] root DEBUG: cls num  : 0, elapse : 0\n",
      "[2022/02/28 10:03:20] root DEBUG: rec_res num  : 0, elapse : 9.5367431640625e-07\n",
      "[Text Detection Completed in 0.005 s] Input: data/operation/target.png Output: data/operation/target.json\n",
      "[2022/02/28 10:03:20] root DEBUG: dt_boxes num : 0, elapse : 0.0023076534271240234\n",
      "[2022/02/28 10:03:20] root DEBUG: cls num  : 0, elapse : 0\n",
      "[2022/02/28 10:03:20] root DEBUG: rec_res num  : 0, elapse : 1.430511474609375e-06\n",
      "[Text Detection Completed in 0.003 s] Input: data/operation/target.png Output: data/operation/target.json\n",
      "[2022/02/28 10:03:20] root DEBUG: dt_boxes num : 3, elapse : 0.008162736892700195\n",
      "[2022/02/28 10:03:20] root DEBUG: cls num  : 3, elapse : 0.016804933547973633\n",
      "[2022/02/28 10:03:20] root DEBUG: rec_res num  : 3, elapse : 0.0380864143371582\n",
      "[Text Detection Completed in 0.070 s] Input: data/operation/target.png Output: data/operation/target.json\n",
      "[2022/02/28 10:03:21] root DEBUG: dt_boxes num : 0, elapse : 0.0035576820373535156\n",
      "[2022/02/28 10:03:21] root DEBUG: cls num  : 0, elapse : 0\n",
      "[2022/02/28 10:03:21] root DEBUG: rec_res num  : 0, elapse : 9.5367431640625e-07\n",
      "[Text Detection Completed in 0.005 s] Input: data/operation/target.png Output: data/operation/target.json\n",
      "[2022/02/28 10:03:21] root DEBUG: dt_boxes num : 1, elapse : 0.0068209171295166016\n",
      "[2022/02/28 10:03:21] root DEBUG: cls num  : 1, elapse : 0.0061528682708740234\n",
      "[2022/02/28 10:03:21] root DEBUG: rec_res num  : 1, elapse : 0.0038003921508789062\n"
     ]
    },
    {
     "name": "stdout",
     "output_type": "stream",
     "text": [
      "[Text Detection Completed in 0.019 s] Input: data/operation/target.png Output: data/operation/target.json\n",
      "[2022/02/28 10:03:21] root DEBUG: dt_boxes num : 0, elapse : 0.003339529037475586\n",
      "[2022/02/28 10:03:21] root DEBUG: cls num  : 0, elapse : 0\n",
      "[2022/02/28 10:03:21] root DEBUG: rec_res num  : 0, elapse : 9.5367431640625e-07\n",
      "[Text Detection Completed in 0.005 s] Input: data/operation/target.png Output: data/operation/target.json\n",
      "[2022/02/28 10:03:21] root DEBUG: dt_boxes num : 3, elapse : 0.01357889175415039\n",
      "[2022/02/28 10:03:21] root DEBUG: cls num  : 3, elapse : 0.016651630401611328\n",
      "[2022/02/28 10:03:21] root DEBUG: rec_res num  : 3, elapse : 0.04752683639526367\n",
      "[Text Detection Completed in 0.082 s] Input: data/operation/target.png Output: data/operation/target.json\n",
      "[2022/02/28 10:03:21] root DEBUG: dt_boxes num : 0, elapse : 0.004327535629272461\n",
      "[2022/02/28 10:03:21] root DEBUG: cls num  : 0, elapse : 0\n",
      "[2022/02/28 10:03:21] root DEBUG: rec_res num  : 0, elapse : 7.152557373046875e-07\n",
      "[Text Detection Completed in 0.006 s] Input: data/operation/target.png Output: data/operation/target.json\n",
      "[2022/02/28 10:03:21] root DEBUG: dt_boxes num : 0, elapse : 0.003312826156616211\n",
      "[2022/02/28 10:03:21] root DEBUG: cls num  : 0, elapse : 0\n",
      "[2022/02/28 10:03:21] root DEBUG: rec_res num  : 0, elapse : 1.1920928955078125e-06\n",
      "[Text Detection Completed in 0.005 s] Input: data/operation/target.png Output: data/operation/target.json\n",
      "[2022/02/28 10:03:21] root DEBUG: dt_boxes num : 0, elapse : 0.0032515525817871094\n",
      "[2022/02/28 10:03:21] root DEBUG: cls num  : 0, elapse : 0\n",
      "[2022/02/28 10:03:21] root DEBUG: rec_res num  : 0, elapse : 7.152557373046875e-07\n",
      "[Text Detection Completed in 0.005 s] Input: data/operation/target.png Output: data/operation/target.json\n",
      "[2022/02/28 10:03:21] root DEBUG: dt_boxes num : 0, elapse : 0.004169464111328125\n",
      "[2022/02/28 10:03:21] root DEBUG: cls num  : 0, elapse : 0\n",
      "[2022/02/28 10:03:21] root DEBUG: rec_res num  : 0, elapse : 4.76837158203125e-07\n",
      "[Text Detection Completed in 0.006 s] Input: data/operation/target.png Output: data/operation/target.json\n"
     ]
    }
   ],
   "source": [
    "# load operations\n",
    "testing_data_root = '/home/ml/Data/visual testing/experiments/humanoid-output/adguard-1'\n",
    "\n",
    "steps_file = pjoin(testing_data_root, 'output.json')\n",
    "steps = json.load(open(steps_file, 'r'))\n",
    "\n",
    "operations = []\n",
    "for step in steps:\n",
    "    op = Operation(pjoin(testing_data_root, step['tag'] + '.jpg'), step['event_type'], step['bounds'])\n",
    "    op.shrink_target_element_img()\n",
    "    op.resize(gui.detection_resize_width, gui.detection_resize_height)        \n",
    "    op.detect_text(paddle_ocr)\n",
    "    operations.append(op)\n",
    "#     op.show_target_ele()"
   ]
  },
  {
   "cell_type": "code",
   "execution_count": null,
   "id": "a44b86e8",
   "metadata": {},
   "outputs": [],
   "source": []
  },
  {
   "cell_type": "code",
   "execution_count": 6,
   "id": "3c99cb6c",
   "metadata": {},
   "outputs": [
    {
     "name": "stdout",
     "output_type": "stream",
     "text": [
      "Match by text\n"
     ]
    },
    {
     "data": {
      "text/plain": [
       "<Element.Element at 0x7f2b1c28f6a0>"
      ]
     },
     "execution_count": 6,
     "metadata": {},
     "output_type": "execute_result"
    }
   ],
   "source": [
    "opr = operations[1]\n",
    "gui.match_elements(target_ele_img=opr.target_element_img, target_ele_text=opr.get_text_content(), resnet_model=resnet_model, show=True)"
   ]
  },
  {
   "cell_type": "code",
   "execution_count": null,
   "id": "8216420a",
   "metadata": {},
   "outputs": [],
   "source": []
  },
  {
   "cell_type": "code",
   "execution_count": null,
   "id": "ebe1fc39",
   "metadata": {},
   "outputs": [],
   "source": []
  },
  {
   "cell_type": "code",
   "execution_count": null,
   "id": "a5cdfe94",
   "metadata": {},
   "outputs": [],
   "source": []
  },
  {
   "cell_type": "code",
   "execution_count": 12,
   "id": "e22d4901",
   "metadata": {},
   "outputs": [],
   "source": [
    "# ***************************\n",
    "# *** Streaming Detection ***\n",
    "# ***************************\n",
    "\n",
    "cap = cv2.VideoCapture(0)\n",
    "cap.set(cv2.CAP_PROP_FRAME_WIDTH, 1000)\n",
    "cap.set(cv2.CAP_PROP_FRAME_HEIGHT, 500)\n",
    "\n",
    "while(1):\n",
    "    ret, frame = cap.read()\n",
    "    \n",
    "    cv2.imshow('camera', frame)\n",
    "    key = cv2.waitKey(1)\n",
    "    if key == ord('q'):\n",
    "        break\n",
    "    elif key == ord('s'):\n",
    "        cv2.imwrite('data/output/temp.jpg', frame)\n",
    "        gui = GUI('data/output/temp.jpg')\n",
    "        gui.element_detection(True, True, True, paddle_cor=paddle_ocr)\n",
    "        cv2.imshow('result', gui.det_result_imgs['merge'])\n",
    "        print('===================\\n')\n",
    "cap.release()\n",
    "cv2.destroyAllWindows()"
   ]
  },
  {
   "cell_type": "code",
   "execution_count": 6,
   "id": "ce82a52f",
   "metadata": {},
   "outputs": [],
   "source": [
    "# ***************************\n",
    "# *** Streaming Detection ***\n",
    "# ***************************\n",
    "\n",
    "cap = cv2.VideoCapture(0)\n",
    "cap.set(cv2.CAP_PROP_FRAME_WIDTH, 1000)\n",
    "cap.set(cv2.CAP_PROP_FRAME_HEIGHT, 500)\n",
    "\n",
    "while(1):\n",
    "    ret, frame = cap.read()\n",
    "    \n",
    "    cv2.imshow('camera', frame)\n",
    "    key = cv2.waitKey(1)\n",
    "    if key == ord('q'):\n",
    "        break\n",
    "    elif key == ord('s'):\n",
    "        cv2.imwrite('data/output/temp.jpg', frame)\n",
    "        gui = GUI('data/output/temp.jpg')\n",
    "        gui.element_detection(True, False, True, paddle_cor=paddle_ocr)\n",
    "        cv2.imshow('result', gui.det_result_imgs['merge'])\n",
    "        print('===================\\n')\n",
    "cap.release()\n",
    "cv2.destroyAllWindows()"
   ]
  }
 ],
 "metadata": {
  "kernelspec": {
   "display_name": "Python 3",
   "language": "python",
   "name": "python3"
  },
  "language_info": {
   "codemirror_mode": {
    "name": "ipython",
    "version": 3
   },
   "file_extension": ".py",
   "mimetype": "text/x-python",
   "name": "python",
   "nbconvert_exporter": "python",
   "pygments_lexer": "ipython3",
   "version": "3.6.9"
  }
 },
 "nbformat": 4,
 "nbformat_minor": 5
}
