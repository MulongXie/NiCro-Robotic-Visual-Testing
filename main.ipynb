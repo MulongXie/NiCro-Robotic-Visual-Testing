{
 "cells": [
  {
   "cell_type": "code",
   "execution_count": 1,
   "id": "a719ca04",
   "metadata": {},
   "outputs": [],
   "source": [
    "import json\n",
    "from glob import glob\n",
    "from os.path import join as pjoin\n",
    "import os\n",
    "import cv2\n",
    "import numpy as np\n",
    "\n",
    "from match_elements.GUI_pair import GUIPair\n",
    "from GUI import GUI\n",
    "from Operation import Operation"
   ]
  },
  {
   "cell_type": "code",
   "execution_count": 2,
   "id": "a8ac13a4",
   "metadata": {},
   "outputs": [],
   "source": [
    "from keras.applications.resnet import ResNet50\n",
    "resnet_model = ResNet50(include_top=False, input_shape=(32, 32, 3))"
   ]
  },
  {
   "cell_type": "code",
   "execution_count": 2,
   "id": "94e4f43f",
   "metadata": {},
   "outputs": [
    {
     "name": "stdout",
     "output_type": "stream",
     "text": [
      "[2022/02/27 12:07:01] root WARNING: lang en is not support in PP-OCRv2, auto switch to version PP-OCR\n",
      "[2022/02/27 12:07:01] root WARNING: lang en is not support in PP-OCRv2, auto switch to version PP-OCR\n",
      "[2022/02/27 12:07:01] root WARNING: version PP-OCRv2 not support cls models, auto switch to version PP-OCR\n",
      "Namespace(benchmark=False, cls_batch_num=6, cls_image_shape='3, 48, 192', cls_model_dir='/home/ml/.paddleocr/2.3.0.2/ocr/cls/ch_ppocr_mobile_v2.0_cls_infer', cls_thresh=0.9, cpu_threads=10, det=True, det_algorithm='DB', det_db_box_thresh=0.6, det_db_score_mode='fast', det_db_thresh=0.3, det_db_unclip_ratio=1.5, det_east_cover_thresh=0.1, det_east_nms_thresh=0.2, det_east_score_thresh=0.8, det_limit_side_len=960, det_limit_type='max', det_model_dir='/home/ml/.paddleocr/2.3.0.2/ocr/det/en/en_ppocr_mobile_v2.0_det_infer', det_pse_box_thresh=0.85, det_pse_box_type='box', det_pse_min_area=16, det_pse_scale=1, det_pse_thresh=0, det_sast_nms_thresh=0.2, det_sast_polygon=False, det_sast_score_thresh=0.5, drop_score=0.5, e2e_algorithm='PGNet', e2e_char_dict_path='./ppocr/utils/ic15_dict.txt', e2e_limit_side_len=768, e2e_limit_type='max', e2e_model_dir=None, e2e_pgnet_mode='fast', e2e_pgnet_polygon=True, e2e_pgnet_score_thresh=0.5, e2e_pgnet_valid_set='totaltext', enable_mkldnn=False, gpu_mem=500, help='==SUPPRESS==', image_dir=None, ir_optim=True, label_list=['0', '180'], lang='en', layout_path_model='lp://PubLayNet/ppyolov2_r50vd_dcn_365e_publaynet/config', max_batch_size=10, max_text_length=25, min_subgraph_size=15, ocr_version='PP-OCRv2', output='./output/table', precision='fp32', process_id=0, rec=True, rec_algorithm='CRNN', rec_batch_num=6, rec_char_dict_path='/home/ml/.local/lib/python3.6/site-packages/paddleocr/ppocr/utils/en_dict.txt', rec_image_shape='3, 32, 320', rec_model_dir='/home/ml/.paddleocr/2.3.0.2/ocr/rec/en/en_number_mobile_v2.0_rec_infer', save_log_path='./log_output/', show_log=True, structure_version='STRUCTURE', table_char_dict_path=None, table_char_type='en', table_max_len=488, table_model_dir=None, total_process_num=1, type='ocr', use_angle_cls=True, use_dilation=False, use_gpu=False, use_mp=False, use_onnx=False, use_pdserving=False, use_space_char=True, use_tensorrt=False, vis_font_path='./doc/fonts/simfang.ttf', warmup=True)\n"
     ]
    }
   ],
   "source": [
    "from paddleocr import PaddleOCR\n",
    "paddle_ocr = PaddleOCR(use_angle_cls=True, lang='en')"
   ]
  },
  {
   "cell_type": "code",
   "execution_count": null,
   "id": "187a6340",
   "metadata": {},
   "outputs": [],
   "source": []
  },
  {
   "cell_type": "code",
   "execution_count": null,
   "id": "a2592a53",
   "metadata": {},
   "outputs": [],
   "source": []
  },
  {
   "cell_type": "code",
   "execution_count": 3,
   "id": "e7c9a7bb",
   "metadata": {},
   "outputs": [],
   "source": [
    "gui = GUI('data/input/0.jpg')\n",
    "# gui.element_detection(True, True, True, paddle_cor=paddle_ocr)\n",
    "gui.load_detection_result()\n",
    "# gui.show_detection_result()"
   ]
  },
  {
   "cell_type": "code",
   "execution_count": null,
   "id": "91ce7f18",
   "metadata": {},
   "outputs": [],
   "source": []
  },
  {
   "cell_type": "code",
   "execution_count": 11,
   "id": "77c1184f",
   "metadata": {},
   "outputs": [
    {
     "name": "stdout",
     "output_type": "stream",
     "text": [
      "[2022/02/27 12:10:06] root DEBUG: dt_boxes num : 1, elapse : 0.0163729190826416\n",
      "[2022/02/27 12:10:06] root DEBUG: cls num  : 1, elapse : 0.006376504898071289\n",
      "[2022/02/27 12:10:06] root DEBUG: rec_res num  : 1, elapse : 0.004773139953613281\n",
      "[Text Detection Completed in 0.031 s] Input: data/operation/target.png Output: data/operation/target.json\n",
      "[2022/02/27 12:10:08] root DEBUG: dt_boxes num : 3, elapse : 0.11468625068664551\n",
      "[2022/02/27 12:10:08] root DEBUG: cls num  : 3, elapse : 0.01301121711730957\n",
      "[2022/02/27 12:10:08] root DEBUG: rec_res num  : 3, elapse : 0.03494906425476074\n",
      "[Text Detection Completed in 0.180 s] Input: data/operation/target.png Output: data/operation/target.json\n",
      "[2022/02/27 12:10:08] root DEBUG: dt_boxes num : 1, elapse : 0.04717659950256348\n",
      "[2022/02/27 12:10:08] root DEBUG: cls num  : 1, elapse : 0.0062563419342041016\n",
      "[2022/02/27 12:10:08] root DEBUG: rec_res num  : 1, elapse : 0.006976604461669922\n",
      "[Text Detection Completed in 0.067 s] Input: data/operation/target.png Output: data/operation/target.json\n",
      "[2022/02/27 12:10:09] root DEBUG: dt_boxes num : 0, elapse : 0.012425661087036133\n",
      "[2022/02/27 12:10:09] root DEBUG: cls num  : 0, elapse : 0\n",
      "[2022/02/27 12:10:09] root DEBUG: rec_res num  : 0, elapse : 7.152557373046875e-07\n",
      "[Text Detection Completed in 0.015 s] Input: data/operation/target.png Output: data/operation/target.json\n",
      "[2022/02/27 12:10:09] root DEBUG: dt_boxes num : 0, elapse : 0.015627145767211914\n",
      "[2022/02/27 12:10:09] root DEBUG: cls num  : 0, elapse : 0\n",
      "[2022/02/27 12:10:09] root DEBUG: rec_res num  : 0, elapse : 9.5367431640625e-07\n",
      "[Text Detection Completed in 0.019 s] Input: data/operation/target.png Output: data/operation/target.json\n",
      "[2022/02/27 12:10:10] root DEBUG: dt_boxes num : 0, elapse : 0.024372339248657227\n",
      "[2022/02/27 12:10:10] root DEBUG: cls num  : 0, elapse : 0\n",
      "[2022/02/27 12:10:10] root DEBUG: rec_res num  : 0, elapse : 1.1920928955078125e-06\n",
      "[Text Detection Completed in 0.029 s] Input: data/operation/target.png Output: data/operation/target.json\n",
      "[2022/02/27 12:10:10] root DEBUG: dt_boxes num : 0, elapse : 0.00891876220703125\n",
      "[2022/02/27 12:10:10] root DEBUG: cls num  : 0, elapse : 0\n",
      "[2022/02/27 12:10:10] root DEBUG: rec_res num  : 0, elapse : 1.430511474609375e-06\n",
      "[Text Detection Completed in 0.012 s] Input: data/operation/target.png Output: data/operation/target.json\n",
      "[2022/02/27 12:10:11] root DEBUG: dt_boxes num : 1, elapse : 0.01182103157043457\n",
      "[2022/02/27 12:10:11] root DEBUG: cls num  : 1, elapse : 0.006244182586669922\n",
      "[2022/02/27 12:10:11] root DEBUG: rec_res num  : 1, elapse : 0.0047283172607421875\n",
      "[Text Detection Completed in 0.026 s] Input: data/operation/target.png Output: data/operation/target.json\n",
      "[2022/02/27 12:10:11] root DEBUG: dt_boxes num : 3, elapse : 0.11924171447753906\n",
      "[2022/02/27 12:10:11] root DEBUG: cls num  : 3, elapse : 0.011476755142211914\n",
      "[2022/02/27 12:10:12] root DEBUG: rec_res num  : 3, elapse : 0.0352938175201416\n",
      "[Text Detection Completed in 0.182 s] Input: data/operation/target.png Output: data/operation/target.json\n",
      "[2022/02/27 12:10:12] root DEBUG: dt_boxes num : 1, elapse : 0.03359413146972656\n",
      "[2022/02/27 12:10:12] root DEBUG: cls num  : 1, elapse : 0.004179477691650391\n",
      "[2022/02/27 12:10:12] root DEBUG: rec_res num  : 1, elapse : 0.00485539436340332\n",
      "[Text Detection Completed in 0.048 s] Input: data/operation/target.png Output: data/operation/target.json\n",
      "[2022/02/27 12:10:13] root DEBUG: dt_boxes num : 0, elapse : 0.009018659591674805\n",
      "[2022/02/27 12:10:13] root DEBUG: cls num  : 0, elapse : 0\n",
      "[2022/02/27 12:10:13] root DEBUG: rec_res num  : 0, elapse : 1.1920928955078125e-06\n",
      "[Text Detection Completed in 0.012 s] Input: data/operation/target.png Output: data/operation/target.json\n",
      "[2022/02/27 12:10:13] root DEBUG: dt_boxes num : 0, elapse : 0.01525735855102539\n",
      "[2022/02/27 12:10:13] root DEBUG: cls num  : 0, elapse : 0\n",
      "[2022/02/27 12:10:13] root DEBUG: rec_res num  : 0, elapse : 9.5367431640625e-07\n",
      "[Text Detection Completed in 0.017 s] Input: data/operation/target.png Output: data/operation/target.json\n",
      "[2022/02/27 12:10:14] root DEBUG: dt_boxes num : 0, elapse : 0.026587486267089844\n",
      "[2022/02/27 12:10:14] root DEBUG: cls num  : 0, elapse : 0\n",
      "[2022/02/27 12:10:14] root DEBUG: rec_res num  : 0, elapse : 9.5367431640625e-07\n",
      "[Text Detection Completed in 0.031 s] Input: data/operation/target.png Output: data/operation/target.json\n",
      "[2022/02/27 12:10:14] root DEBUG: dt_boxes num : 1, elapse : 0.0204160213470459\n",
      "[2022/02/27 12:10:14] root DEBUG: cls num  : 1, elapse : 0.004492521286010742\n",
      "[2022/02/27 12:10:14] root DEBUG: rec_res num  : 1, elapse : 0.01882624626159668\n",
      "[Text Detection Completed in 0.052 s] Input: data/operation/target.png Output: data/operation/target.json\n",
      "[2022/02/27 12:10:15] root DEBUG: dt_boxes num : 1, elapse : 0.06210041046142578\n",
      "[2022/02/27 12:10:15] root DEBUG: cls num  : 1, elapse : 0.006322145462036133\n",
      "[2022/02/27 12:10:15] root DEBUG: rec_res num  : 1, elapse : 0.006396055221557617\n",
      "[Text Detection Completed in 0.082 s] Input: data/operation/target.png Output: data/operation/target.json\n",
      "[2022/02/27 12:10:16] root DEBUG: dt_boxes num : 1, elapse : 0.017412424087524414\n",
      "[2022/02/27 12:10:16] root DEBUG: cls num  : 1, elapse : 0.00417327880859375\n",
      "[2022/02/27 12:10:16] root DEBUG: rec_res num  : 1, elapse : 0.003271341323852539\n",
      "[Text Detection Completed in 0.028 s] Input: data/operation/target.png Output: data/operation/target.json\n",
      "[2022/02/27 12:10:16] root DEBUG: dt_boxes num : 3, elapse : 0.11456561088562012\n",
      "[2022/02/27 12:10:16] root DEBUG: cls num  : 3, elapse : 0.011369705200195312\n",
      "[2022/02/27 12:10:16] root DEBUG: rec_res num  : 3, elapse : 0.03508639335632324\n",
      "[Text Detection Completed in 0.177 s] Input: data/operation/target.png Output: data/operation/target.json\n",
      "[2022/02/27 12:10:17] root DEBUG: dt_boxes num : 1, elapse : 0.04374814033508301\n",
      "[2022/02/27 12:10:17] root DEBUG: cls num  : 1, elapse : 0.004308462142944336\n",
      "[2022/02/27 12:10:17] root DEBUG: rec_res num  : 1, elapse : 0.0068361759185791016\n",
      "[Text Detection Completed in 0.061 s] Input: data/operation/target.png Output: data/operation/target.json\n",
      "[2022/02/27 12:10:18] root DEBUG: dt_boxes num : 0, elapse : 0.01206207275390625\n",
      "[2022/02/27 12:10:18] root DEBUG: cls num  : 0, elapse : 0\n",
      "[2022/02/27 12:10:18] root DEBUG: rec_res num  : 0, elapse : 9.5367431640625e-07\n",
      "[Text Detection Completed in 0.015 s] Input: data/operation/target.png Output: data/operation/target.json\n",
      "[2022/02/27 12:10:18] root DEBUG: dt_boxes num : 0, elapse : 0.009563207626342773\n",
      "[2022/02/27 12:10:18] root DEBUG: cls num  : 0, elapse : 0\n",
      "[2022/02/27 12:10:18] root DEBUG: rec_res num  : 0, elapse : 9.5367431640625e-07\n",
      "[Text Detection Completed in 0.012 s] Input: data/operation/target.png Output: data/operation/target.json\n",
      "[2022/02/27 12:10:19] root DEBUG: dt_boxes num : 1, elapse : 0.025077104568481445\n",
      "[2022/02/27 12:10:19] root DEBUG: cls num  : 1, elapse : 0.004166603088378906\n",
      "[2022/02/27 12:10:19] root DEBUG: rec_res num  : 1, elapse : 0.008772850036621094\n",
      "[Text Detection Completed in 0.043 s] Input: data/operation/target.png Output: data/operation/target.json\n",
      "[2022/02/27 12:10:19] root DEBUG: dt_boxes num : 0, elapse : 0.015474557876586914\n",
      "[2022/02/27 12:10:19] root DEBUG: cls num  : 0, elapse : 0\n",
      "[2022/02/27 12:10:19] root DEBUG: rec_res num  : 0, elapse : 7.152557373046875e-07\n",
      "[Text Detection Completed in 0.018 s] Input: data/operation/target.png Output: data/operation/target.json\n",
      "[2022/02/27 12:10:20] root DEBUG: dt_boxes num : 3, elapse : 0.055335044860839844\n",
      "[2022/02/27 12:10:20] root DEBUG: cls num  : 3, elapse : 0.011153697967529297\n",
      "[2022/02/27 12:10:20] root DEBUG: rec_res num  : 3, elapse : 0.03674912452697754\n",
      "[Text Detection Completed in 0.114 s] Input: data/operation/target.png Output: data/operation/target.json\n",
      "[2022/02/27 12:10:21] root DEBUG: dt_boxes num : 0, elapse : 0.015089273452758789\n",
      "[2022/02/27 12:10:21] root DEBUG: cls num  : 0, elapse : 0\n",
      "[2022/02/27 12:10:21] root DEBUG: rec_res num  : 0, elapse : 9.5367431640625e-07\n",
      "[Text Detection Completed in 0.018 s] Input: data/operation/target.png Output: data/operation/target.json\n",
      "[2022/02/27 12:10:21] root DEBUG: dt_boxes num : 0, elapse : 0.018620967864990234\n"
     ]
    },
    {
     "name": "stdout",
     "output_type": "stream",
     "text": [
      "[2022/02/27 12:10:21] root DEBUG: cls num  : 0, elapse : 0\n",
      "[2022/02/27 12:10:21] root DEBUG: rec_res num  : 0, elapse : 9.5367431640625e-07\n",
      "[Text Detection Completed in 0.023 s] Input: data/operation/target.png Output: data/operation/target.json\n",
      "[2022/02/27 12:10:22] root DEBUG: dt_boxes num : 0, elapse : 0.015033245086669922\n",
      "[2022/02/27 12:10:22] root DEBUG: cls num  : 0, elapse : 0\n",
      "[2022/02/27 12:10:22] root DEBUG: rec_res num  : 0, elapse : 1.430511474609375e-06\n",
      "[Text Detection Completed in 0.018 s] Input: data/operation/target.png Output: data/operation/target.json\n",
      "[2022/02/27 12:10:23] root DEBUG: dt_boxes num : 3, elapse : 0.11504626274108887\n",
      "[2022/02/27 12:10:23] root DEBUG: cls num  : 3, elapse : 0.011212587356567383\n",
      "[2022/02/27 12:10:23] root DEBUG: rec_res num  : 3, elapse : 0.03509855270385742\n",
      "[Text Detection Completed in 0.177 s] Input: data/operation/target.png Output: data/operation/target.json\n",
      "[2022/02/27 12:10:23] root DEBUG: dt_boxes num : 1, elapse : 0.04661417007446289\n",
      "[2022/02/27 12:10:23] root DEBUG: cls num  : 1, elapse : 0.0063266754150390625\n",
      "[2022/02/27 12:10:23] root DEBUG: rec_res num  : 1, elapse : 0.0057163238525390625\n",
      "[Text Detection Completed in 0.066 s] Input: data/operation/target.png Output: data/operation/target.json\n",
      "[2022/02/27 12:10:24] root DEBUG: dt_boxes num : 0, elapse : 0.01069784164428711\n",
      "[2022/02/27 12:10:24] root DEBUG: cls num  : 0, elapse : 0\n",
      "[2022/02/27 12:10:24] root DEBUG: rec_res num  : 0, elapse : 1.430511474609375e-06\n",
      "[Text Detection Completed in 0.014 s] Input: data/operation/target.png Output: data/operation/target.json\n",
      "[2022/02/27 12:10:24] root DEBUG: dt_boxes num : 0, elapse : 0.009465694427490234\n",
      "[2022/02/27 12:10:24] root DEBUG: cls num  : 0, elapse : 0\n",
      "[2022/02/27 12:10:24] root DEBUG: rec_res num  : 0, elapse : 1.430511474609375e-06\n",
      "[Text Detection Completed in 0.012 s] Input: data/operation/target.png Output: data/operation/target.json\n",
      "[2022/02/27 12:10:25] root DEBUG: dt_boxes num : 1, elapse : 0.024352550506591797\n",
      "[2022/02/27 12:10:25] root DEBUG: cls num  : 1, elapse : 0.004172801971435547\n",
      "[2022/02/27 12:10:25] root DEBUG: rec_res num  : 1, elapse : 0.008692026138305664\n",
      "[Text Detection Completed in 0.043 s] Input: data/operation/target.png Output: data/operation/target.json\n"
     ]
    }
   ],
   "source": [
    "testing_data_root = '/home/ml/Data/visual testing/experiments/humanoid-output/adguard-1'\n",
    "\n",
    "steps_file = pjoin(testing_data_root, 'output.json')\n",
    "steps = json.load(open(steps_file, 'r'))\n",
    "\n",
    "operations = []\n",
    "for step in steps:\n",
    "    op = Operation(pjoin(testing_data_root, step['tag'] + '.jpg'), step['event_type'], step['bounds'])\n",
    "    op.shrink_target_element_img()\n",
    "    op.resize(gui.detection_resize_width, gui.detection_resize_height)        \n",
    "    op.detect_text(paddle_ocr)\n",
    "    operations.append(op)\n",
    "    op.show_target_ele()"
   ]
  },
  {
   "cell_type": "code",
   "execution_count": 7,
   "id": "3c99cb6c",
   "metadata": {},
   "outputs": [
    {
     "name": "stdout",
     "output_type": "stream",
     "text": [
      "0.9386408\n",
      "0.563463\n",
      "0.38649696\n",
      "0.5936606\n",
      "0.51987505\n"
     ]
    },
    {
     "data": {
      "text/plain": [
       "<Element.Element at 0x7fccf0cb5a90>"
      ]
     },
     "execution_count": 7,
     "metadata": {},
     "output_type": "execute_result"
    }
   ],
   "source": [
    "gui.match_elements(operations[0].target_element_img, resnet_model=resnet_model)"
   ]
  },
  {
   "cell_type": "code",
   "execution_count": 12,
   "id": "ab314d9c",
   "metadata": {},
   "outputs": [],
   "source": [
    "operations[1].show_target_ele()"
   ]
  },
  {
   "cell_type": "code",
   "execution_count": 13,
   "id": "c3b100a1",
   "metadata": {},
   "outputs": [
    {
     "data": {
      "text/plain": [
       "['ADGUARD v3.3 beta 3.1', 'Trial license', 'Until February 24.2022']"
      ]
     },
     "execution_count": 13,
     "metadata": {},
     "output_type": "execute_result"
    }
   ],
   "source": [
    "[t.content for t in operations[1].target_element_text]"
   ]
  },
  {
   "cell_type": "code",
   "execution_count": null,
   "id": "ebe1fc39",
   "metadata": {},
   "outputs": [],
   "source": []
  },
  {
   "cell_type": "code",
   "execution_count": null,
   "id": "a5cdfe94",
   "metadata": {},
   "outputs": [],
   "source": []
  },
  {
   "cell_type": "code",
   "execution_count": 9,
   "id": "e22d4901",
   "metadata": {},
   "outputs": [
    {
     "name": "stdout",
     "output_type": "stream",
     "text": [
      "[2022/02/26 13:25:22] root DEBUG: dt_boxes num : 0, elapse : 0.14470863342285156\n",
      "[2022/02/26 13:25:22] root DEBUG: cls num  : 0, elapse : 0\n",
      "[2022/02/26 13:25:22] root DEBUG: rec_res num  : 0, elapse : 1.1920928955078125e-06\n",
      "[Text Detection Completed in 0.161 s] Input: data/output/temp.jpg Output: data/output/ocr/temp.json\n",
      "[Compo Detection Completed in 1.063 s] Input: data/output/temp.jpg Output: data/output/ip/temp.json\n",
      "[Merge Completed] Input: data/output/temp.jpg Output: data/output/merge/temp.jpg\n",
      "===================\n",
      "\n"
     ]
    }
   ],
   "source": [
    "# ***************************\n",
    "# *** Streaming Detection ***\n",
    "# ***************************\n",
    "\n",
    "cap = cv2.VideoCapture(0)\n",
    "cap.set(cv2.CAP_PROP_FRAME_WIDTH, 1000)\n",
    "cap.set(cv2.CAP_PROP_FRAME_HEIGHT, 500)\n",
    "\n",
    "while(1):\n",
    "    ret, frame = cap.read()\n",
    "    \n",
    "    cv2.imshow('camera', frame)\n",
    "    key = cv2.waitKey(1)\n",
    "    if key == ord('q'):\n",
    "        break\n",
    "    elif key == ord('s'):\n",
    "        cv2.imwrite('data/output/temp.jpg', frame)\n",
    "        gui = GUI('data/output/temp.jpg')\n",
    "        gui.element_detection(True, True, True, paddle_cor=paddle_ocr)\n",
    "        cv2.imshow('result', gui.det_result_imgs['merge'])\n",
    "        print('===================\\n')\n",
    "cap.release()\n",
    "cv2.destroyAllWindows()"
   ]
  },
  {
   "cell_type": "code",
   "execution_count": 6,
   "id": "ce82a52f",
   "metadata": {},
   "outputs": [],
   "source": []
  }
 ],
 "metadata": {
  "kernelspec": {
   "display_name": "Python 3",
   "language": "python",
   "name": "python3"
  },
  "language_info": {
   "codemirror_mode": {
    "name": "ipython",
    "version": 3
   },
   "file_extension": ".py",
   "mimetype": "text/x-python",
   "name": "python",
   "nbconvert_exporter": "python",
   "pygments_lexer": "ipython3",
   "version": "3.6.9"
  }
 },
 "nbformat": 4,
 "nbformat_minor": 5
}
