{
 "cells": [
  {
   "cell_type": "code",
   "execution_count": 6,
   "id": "a6bfd0ff",
   "metadata": {},
   "outputs": [],
   "source": [
    "import json\n",
    "from glob import glob\n",
    "from os.path import join as pjoin\n",
    "import os\n",
    "import cv2\n",
    "import numpy as np\n",
    "from matplotlib import pyplot as plt\n",
    "\n",
    "from match_elements.GUI_pair import GUIPair\n",
    "from GUI import GUI\n",
    "from Operation import Operation"
   ]
  },
  {
   "cell_type": "code",
   "execution_count": 2,
   "id": "9ecc6232",
   "metadata": {},
   "outputs": [],
   "source": [
    "# load resnet for encoding image to match\n",
    "from keras.applications.resnet import ResNet50\n",
    "resnet_model = ResNet50(include_top=False, input_shape=(32, 32, 3))"
   ]
  },
  {
   "cell_type": "code",
   "execution_count": 3,
   "id": "27cba101",
   "metadata": {},
   "outputs": [
    {
     "name": "stdout",
     "output_type": "stream",
     "text": [
      "[2022/03/02 12:09:39] root WARNING: lang en is not support in PP-OCRv2, auto switch to version PP-OCR\n",
      "[2022/03/02 12:09:39] root WARNING: lang en is not support in PP-OCRv2, auto switch to version PP-OCR\n",
      "[2022/03/02 12:09:39] root WARNING: version PP-OCRv2 not support cls models, auto switch to version PP-OCR\n",
      "Namespace(benchmark=False, cls_batch_num=6, cls_image_shape='3, 48, 192', cls_model_dir='/home/ml/.paddleocr/2.3.0.2/ocr/cls/ch_ppocr_mobile_v2.0_cls_infer', cls_thresh=0.9, cpu_threads=10, det=True, det_algorithm='DB', det_db_box_thresh=0.6, det_db_score_mode='fast', det_db_thresh=0.3, det_db_unclip_ratio=1.5, det_east_cover_thresh=0.1, det_east_nms_thresh=0.2, det_east_score_thresh=0.8, det_limit_side_len=960, det_limit_type='max', det_model_dir='/home/ml/.paddleocr/2.3.0.2/ocr/det/en/en_ppocr_mobile_v2.0_det_infer', det_pse_box_thresh=0.85, det_pse_box_type='box', det_pse_min_area=16, det_pse_scale=1, det_pse_thresh=0, det_sast_nms_thresh=0.2, det_sast_polygon=False, det_sast_score_thresh=0.5, drop_score=0.5, e2e_algorithm='PGNet', e2e_char_dict_path='./ppocr/utils/ic15_dict.txt', e2e_limit_side_len=768, e2e_limit_type='max', e2e_model_dir=None, e2e_pgnet_mode='fast', e2e_pgnet_polygon=True, e2e_pgnet_score_thresh=0.5, e2e_pgnet_valid_set='totaltext', enable_mkldnn=False, gpu_mem=500, help='==SUPPRESS==', image_dir=None, ir_optim=True, label_list=['0', '180'], lang='en', layout_path_model='lp://PubLayNet/ppyolov2_r50vd_dcn_365e_publaynet/config', max_batch_size=10, max_text_length=25, min_subgraph_size=15, ocr_version='PP-OCRv2', output='./output/table', precision='fp32', process_id=0, rec=True, rec_algorithm='CRNN', rec_batch_num=6, rec_char_dict_path='/home/ml/.local/lib/python3.6/site-packages/paddleocr/ppocr/utils/en_dict.txt', rec_image_shape='3, 32, 320', rec_model_dir='/home/ml/.paddleocr/2.3.0.2/ocr/rec/en/en_number_mobile_v2.0_rec_infer', save_log_path='./log_output/', show_log=True, structure_version='STRUCTURE', table_char_dict_path=None, table_char_type='en', table_max_len=488, table_model_dir=None, total_process_num=1, type='ocr', use_angle_cls=True, use_dilation=False, use_gpu=False, use_mp=False, use_onnx=False, use_pdserving=False, use_space_char=True, use_tensorrt=False, vis_font_path='./doc/fonts/simfang.ttf', warmup=True)\n"
     ]
    }
   ],
   "source": [
    "# load PaddleOCR for text detection\n",
    "from paddleocr import PaddleOCR\n",
    "paddle_ocr = PaddleOCR(use_angle_cls=True, lang='en')"
   ]
  },
  {
   "cell_type": "code",
   "execution_count": 4,
   "id": "d85323da",
   "metadata": {},
   "outputs": [
    {
     "name": "stdout",
     "output_type": "stream",
     "text": [
      "[2022/03/02 12:09:39] root DEBUG: dt_boxes num : 0, elapse : 0.03370547294616699\n",
      "[2022/03/02 12:09:39] root DEBUG: cls num  : 0, elapse : 0\n",
      "[2022/03/02 12:09:39] root DEBUG: rec_res num  : 0, elapse : 2.1457672119140625e-06\n",
      "[Text Detection Completed in 0.036 s] Input: data/operation/target.png Output: data/operation/target.json\n"
     ]
    }
   ],
   "source": [
    "# load operations\n",
    "testing_data_root = '/home/ml/Data/visual testing/experiments/humanoid-output/adguard-1'\n",
    "\n",
    "steps_file = pjoin(testing_data_root, 'output.json')\n",
    "steps = json.load(open(steps_file, 'r'))\n",
    "\n",
    "operations = []\n",
    "for step in steps:\n",
    "    op = Operation(pjoin(testing_data_root, step['tag'] + '.jpg'), step['event_type'], step['bounds'])\n",
    "    op.shrink_target_element_img()\n",
    "    op.resize(int(op.ui_img_width * (800 / op.ui_img_height)), 800)        \n",
    "    op.detect_text(paddle_ocr)\n",
    "    operations.append(op)\n",
    "#     op.show_target_ele()\n",
    "    break\n",
    "\n",
    "# test with the first operation\n",
    "opr = operations[0]\n",
    "opr.show_target_ele()"
   ]
  },
  {
   "cell_type": "code",
   "execution_count": 5,
   "id": "e8a18559",
   "metadata": {},
   "outputs": [
    {
     "name": "stderr",
     "output_type": "stream",
     "text": [
      "[D 220302 12:09:42 robot_control:21] Loading Robot Drivers...\n"
     ]
    }
   ],
   "source": [
    "# activate the robot\n",
    "from robot.robot_control import RobotController\n",
    "robot = RobotController(speed=10000)\n",
    "robot.reset()\n",
    "\n",
    "robot_y2img_x = round(130/540, 2)  # y_robot : x_img = 130: 540\n",
    "robot_x2img_y = round((310-120)/820, 2)  # x_robot : y_img = 310: 820\n",
    "\n",
    "def cvt_image_pos_to_robot_coord(x_img, y_img):\n",
    "    x_robot = int((820 - y_img) * robot_x2img_y) + 120\n",
    "    y_robot = int((270 - x_img) * robot_y2img_x)\n",
    "    return x_robot, y_robot"
   ]
  },
  {
   "cell_type": "code",
   "execution_count": 6,
   "id": "32bdf666",
   "metadata": {},
   "outputs": [
    {
     "name": "stderr",
     "output_type": "stream",
     "text": [
      "[D 220302 12:09:56 robot_control:21] Loading Robot Drivers...\n"
     ]
    }
   ],
   "source": [
    "robot.reset()"
   ]
  },
  {
   "cell_type": "code",
   "execution_count": null,
   "id": "14cce44e",
   "metadata": {},
   "outputs": [],
   "source": []
  },
  {
   "cell_type": "code",
   "execution_count": 7,
   "id": "1ab56fa5",
   "metadata": {},
   "outputs": [
    {
     "name": "stdout",
     "output_type": "stream",
     "text": [
      "[2022/03/02 12:10:04] root DEBUG: dt_boxes num : 20, elapse : 0.15513110160827637\n",
      "[2022/03/02 12:10:05] root DEBUG: cls num  : 20, elapse : 0.07093262672424316\n",
      "[2022/03/02 12:10:05] root DEBUG: rec_res num  : 20, elapse : 0.1176462173461914\n",
      "[Text Detection Completed in 0.361 s] Input: data/output/temp.jpg Output: data/output/ocr/temp.json\n",
      "[Compo Detection Completed in 0.422 s] Input: data/output/temp.jpg Output: data/output/ip/temp.json\n",
      "[Merge Completed] Input: data/output/temp.jpg Output: data/output/merge/temp.jpg\n",
      "Match by image\n",
      "The position of matched element:(151, 91)\n"
     ]
    },
    {
     "name": "stderr",
     "output_type": "stream",
     "text": [
      "[D 220302 12:10:11 robot_control:36] Robot Click X: 287, Y:28\n",
      "[D 220302 12:10:11 robot_control:21] Loading Robot Drivers...\n"
     ]
    },
    {
     "name": "stdout",
     "output_type": "stream",
     "text": [
      "===================\n",
      "\n"
     ]
    }
   ],
   "source": [
    "# ********************************************\n",
    "# *** Streaming Detection with Key Control ***\n",
    "# ********************************************\n",
    "cap = cv2.VideoCapture(0)\n",
    "cap.set(cv2.CAP_PROP_FRAME_WIDTH, 960)\n",
    "cap.set(cv2.CAP_PROP_FRAME_HEIGHT, 540)\n",
    "\n",
    "while(1):\n",
    "    ret, frame = cap.read()\n",
    "    frame = cv2.rotate(frame, cv2.cv2.ROTATE_90_CLOCKWISE)\n",
    "    frame = frame[80:900, :]\n",
    "    \n",
    "    cv2.imshow('camera', frame)\n",
    "    key = cv2.waitKey(1)\n",
    "    if key == ord('q'):\n",
    "        break\n",
    "    elif key == ord('s'):\n",
    "        cv2.imwrite('data/output/temp.jpg', frame)\n",
    "        \n",
    "        # 1. detect GUI element in the frame         \n",
    "        gui = GUI('data/output/temp.jpg')\n",
    "        gui.detect_element(True, True, True, paddle_cor=paddle_ocr)\n",
    "        cv2.imshow('result', gui.det_result_imgs['merge'])\n",
    "        \n",
    "        # 2. focus on the screen region and adjust all elements\n",
    "        gui.adjust_elements_by_screen()\n",
    "        matched_ele = gui.match_elements(target_ele_img=opr.target_element_img, target_ele_text=opr.get_text_content(), resnet_model=resnet_model)\n",
    "        board = gui.img.copy()\n",
    "        matched_ele.draw_element(board, show=False)\n",
    "        # cv2.imshow('matching result', board)\n",
    "        plt.imshow(board)\n",
    "        plt.show()\n",
    "        \n",
    "        # 3. operate by the robot\n",
    "        print('The position of matched element:(%d, %d)' % (matched_ele.center_x, matched_ele.center_y))\n",
    "        x_robot, y_robot = cvt_image_pos_to_robot_coord(matched_ele.center_x, matched_ele.center_y)\n",
    "        robot.click((x_robot, y_robot, 20))\n",
    "        \n",
    "        print('===================\\n')\n",
    "cap.release()\n",
    "cv2.destroyAllWindows()"
   ]
  },
  {
   "cell_type": "code",
   "execution_count": null,
   "id": "1cc1cb17",
   "metadata": {},
   "outputs": [],
   "source": []
  },
  {
   "cell_type": "code",
   "execution_count": 3,
   "id": "c1a142ea",
   "metadata": {},
   "outputs": [],
   "source": [
    "from matplotlib import pyplot as plt\n",
    "import cv2"
   ]
  },
  {
   "cell_type": "code",
   "execution_count": 4,
   "id": "76a2dc01",
   "metadata": {},
   "outputs": [
    {
     "data": {
      "image/png": "[encoded data removed]",
      "text/plain": [
       "<Figure size 432x288 with 1 Axes>"
      ]
     },
     "metadata": {
      "needs_background": "light"
     },
     "output_type": "display_data"
    }
   ],
   "source": [
    "img = cv2.imread('data/input/temp.jpg')\n",
    "plt.imshow(img)\n",
    "plt.show()"
   ]
  },
  {
   "cell_type": "code",
   "execution_count": null,
   "id": "9320f3b7",
   "metadata": {},
   "outputs": [],
   "source": []
  }
 ],
 "metadata": {
  "kernelspec": {
   "display_name": "Python 3",
   "language": "python",
   "name": "python3"
  },
  "language_info": {
   "codemirror_mode": {
    "name": "ipython",
    "version": 3
   },
   "file_extension": ".py",
   "mimetype": "text/x-python",
   "name": "python",
   "nbconvert_exporter": "python",
   "pygments_lexer": "ipython3",
   "version": "3.6.9"
  }
 },
 "nbformat": 4,
 "nbformat_minor": 5
}
