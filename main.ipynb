{
 "cells": [
  {
   "cell_type": "code",
   "execution_count": 1,
   "id": "a719ca04",
   "metadata": {},
   "outputs": [],
   "source": [
    "import json\n",
    "from glob import glob\n",
    "from os.path import join as pjoin\n",
    "import os\n",
    "import cv2\n",
    "import numpy as np\n",
    "\n",
    "from match_elements.GUI_pair import GUIPair\n",
    "from GUI import GUI\n",
    "from Operation import Operation"
   ]
  },
  {
   "cell_type": "code",
   "execution_count": 2,
   "id": "a8ac13a4",
   "metadata": {},
   "outputs": [],
   "source": [
    "from keras.applications.resnet import ResNet50\n",
    "resnet_model = ResNet50(include_top=False, input_shape=(32, 32, 3))"
   ]
  },
  {
   "cell_type": "code",
   "execution_count": 3,
   "id": "94e4f43f",
   "metadata": {},
   "outputs": [
    {
     "name": "stdout",
     "output_type": "stream",
     "text": [
      "[2022/02/28 09:04:53] root WARNING: lang en is not support in PP-OCRv2, auto switch to version PP-OCR\n",
      "[2022/02/28 09:04:53] root WARNING: lang en is not support in PP-OCRv2, auto switch to version PP-OCR\n",
      "[2022/02/28 09:04:53] root WARNING: version PP-OCRv2 not support cls models, auto switch to version PP-OCR\n",
      "Namespace(benchmark=False, cls_batch_num=6, cls_image_shape='3, 48, 192', cls_model_dir='/home/ml/.paddleocr/2.3.0.2/ocr/cls/ch_ppocr_mobile_v2.0_cls_infer', cls_thresh=0.9, cpu_threads=10, det=True, det_algorithm='DB', det_db_box_thresh=0.6, det_db_score_mode='fast', det_db_thresh=0.3, det_db_unclip_ratio=1.5, det_east_cover_thresh=0.1, det_east_nms_thresh=0.2, det_east_score_thresh=0.8, det_limit_side_len=960, det_limit_type='max', det_model_dir='/home/ml/.paddleocr/2.3.0.2/ocr/det/en/en_ppocr_mobile_v2.0_det_infer', det_pse_box_thresh=0.85, det_pse_box_type='box', det_pse_min_area=16, det_pse_scale=1, det_pse_thresh=0, det_sast_nms_thresh=0.2, det_sast_polygon=False, det_sast_score_thresh=0.5, drop_score=0.5, e2e_algorithm='PGNet', e2e_char_dict_path='./ppocr/utils/ic15_dict.txt', e2e_limit_side_len=768, e2e_limit_type='max', e2e_model_dir=None, e2e_pgnet_mode='fast', e2e_pgnet_polygon=True, e2e_pgnet_score_thresh=0.5, e2e_pgnet_valid_set='totaltext', enable_mkldnn=False, gpu_mem=500, help='==SUPPRESS==', image_dir=None, ir_optim=True, label_list=['0', '180'], lang='en', layout_path_model='lp://PubLayNet/ppyolov2_r50vd_dcn_365e_publaynet/config', max_batch_size=10, max_text_length=25, min_subgraph_size=15, ocr_version='PP-OCRv2', output='./output/table', precision='fp32', process_id=0, rec=True, rec_algorithm='CRNN', rec_batch_num=6, rec_char_dict_path='/home/ml/.local/lib/python3.6/site-packages/paddleocr/ppocr/utils/en_dict.txt', rec_image_shape='3, 32, 320', rec_model_dir='/home/ml/.paddleocr/2.3.0.2/ocr/rec/en/en_number_mobile_v2.0_rec_infer', save_log_path='./log_output/', show_log=True, structure_version='STRUCTURE', table_char_dict_path=None, table_char_type='en', table_max_len=488, table_model_dir=None, total_process_num=1, type='ocr', use_angle_cls=True, use_dilation=False, use_gpu=False, use_mp=False, use_onnx=False, use_pdserving=False, use_space_char=True, use_tensorrt=False, vis_font_path='./doc/fonts/simfang.ttf', warmup=True)\n"
     ]
    }
   ],
   "source": [
    "from paddleocr import PaddleOCR\n",
    "paddle_ocr = PaddleOCR(use_angle_cls=True, lang='en')"
   ]
  },
  {
   "cell_type": "code",
   "execution_count": null,
   "id": "187a6340",
   "metadata": {},
   "outputs": [],
   "source": []
  },
  {
   "cell_type": "code",
   "execution_count": 4,
   "id": "e7c9a7bb",
   "metadata": {},
   "outputs": [
    {
     "name": "stdout",
     "output_type": "stream",
     "text": [
      "[2022/02/28 09:04:56] root DEBUG: dt_boxes num : 30, elapse : 0.19381284713745117\n",
      "[2022/02/28 09:04:56] root DEBUG: cls num  : 30, elapse : 0.10383129119873047\n",
      "[2022/02/28 09:04:56] root DEBUG: rec_res num  : 30, elapse : 0.14563560485839844\n",
      "[Text Detection Completed in 0.498 s] Input: data/input/2.jpg Output: data/output/ocr/2.json\n",
      "[Compo Detection Completed in 0.370 s] Input: data/input/2.jpg Output: data/output/ip/2.json\n",
      "[Merge Completed] Input: data/input/2.jpg Output: data/output/merge/2.jpg\n"
     ]
    }
   ],
   "source": [
    "gui = GUI('data/input/2.jpg')\n",
    "gui.element_detection(True, True, True, paddle_cor=paddle_ocr)\n",
    "# gui.load_detection_result()\n",
    "gui.show_detection_result()"
   ]
  },
  {
   "cell_type": "code",
   "execution_count": null,
   "id": "dbac9bb3",
   "metadata": {},
   "outputs": [],
   "source": []
  },
  {
   "cell_type": "code",
   "execution_count": null,
   "id": "f5ff52fc",
   "metadata": {},
   "outputs": [],
   "source": []
  },
  {
   "cell_type": "code",
   "execution_count": 5,
   "id": "77c1184f",
   "metadata": {},
   "outputs": [
    {
     "name": "stdout",
     "output_type": "stream",
     "text": [
      "[2022/02/28 09:05:00] root DEBUG: dt_boxes num : 0, elapse : 0.002778768539428711\n",
      "[2022/02/28 09:05:00] root DEBUG: cls num  : 0, elapse : 0\n",
      "[2022/02/28 09:05:00] root DEBUG: rec_res num  : 0, elapse : 1.430511474609375e-06\n",
      "[Text Detection Completed in 0.006 s] Input: data/operation/target.png Output: data/operation/target.json\n",
      "[2022/02/28 09:05:02] root DEBUG: dt_boxes num : 3, elapse : 0.013417720794677734\n",
      "[2022/02/28 09:05:02] root DEBUG: cls num  : 3, elapse : 0.01670551300048828\n",
      "[2022/02/28 09:05:02] root DEBUG: rec_res num  : 3, elapse : 0.04688096046447754\n",
      "[Text Detection Completed in 0.081 s] Input: data/operation/target.png Output: data/operation/target.json\n",
      "[2022/02/28 09:05:02] root DEBUG: dt_boxes num : 0, elapse : 0.0034732818603515625\n",
      "[2022/02/28 09:05:02] root DEBUG: cls num  : 0, elapse : 0\n",
      "[2022/02/28 09:05:02] root DEBUG: rec_res num  : 0, elapse : 9.5367431640625e-07\n",
      "[Text Detection Completed in 0.006 s] Input: data/operation/target.png Output: data/operation/target.json\n",
      "[2022/02/28 09:05:02] root DEBUG: dt_boxes num : 0, elapse : 0.003519296646118164\n",
      "[2022/02/28 09:05:02] root DEBUG: cls num  : 0, elapse : 0\n",
      "[2022/02/28 09:05:02] root DEBUG: rec_res num  : 0, elapse : 1.430511474609375e-06\n",
      "[Text Detection Completed in 0.006 s] Input: data/operation/target.png Output: data/operation/target.json\n",
      "[2022/02/28 09:05:04] root DEBUG: dt_boxes num : 0, elapse : 0.002759695053100586\n",
      "[2022/02/28 09:05:04] root DEBUG: cls num  : 0, elapse : 0\n",
      "[2022/02/28 09:05:04] root DEBUG: rec_res num  : 0, elapse : 7.152557373046875e-07\n",
      "[Text Detection Completed in 0.008 s] Input: data/operation/target.png Output: data/operation/target.json\n",
      "[2022/02/28 09:05:05] root DEBUG: dt_boxes num : 1, elapse : 0.006727695465087891\n",
      "[2022/02/28 09:05:05] root DEBUG: cls num  : 1, elapse : 0.006197929382324219\n",
      "[2022/02/28 09:05:05] root DEBUG: rec_res num  : 1, elapse : 0.0039048194885253906\n",
      "[Text Detection Completed in 0.019 s] Input: data/operation/target.png Output: data/operation/target.json\n",
      "[2022/02/28 09:05:06] root DEBUG: dt_boxes num : 0, elapse : 0.0037615299224853516\n",
      "[2022/02/28 09:05:06] root DEBUG: cls num  : 0, elapse : 0\n",
      "[2022/02/28 09:05:06] root DEBUG: rec_res num  : 0, elapse : 1.430511474609375e-06\n",
      "[Text Detection Completed in 0.005 s] Input: data/operation/target.png Output: data/operation/target.json\n",
      "[2022/02/28 09:05:06] root DEBUG: dt_boxes num : 0, elapse : 0.002624988555908203\n",
      "[2022/02/28 09:05:06] root DEBUG: cls num  : 0, elapse : 0\n",
      "[2022/02/28 09:05:06] root DEBUG: rec_res num  : 0, elapse : 7.152557373046875e-07\n",
      "[Text Detection Completed in 0.004 s] Input: data/operation/target.png Output: data/operation/target.json\n",
      "[2022/02/28 09:05:07] root DEBUG: dt_boxes num : 3, elapse : 0.010943889617919922\n",
      "[2022/02/28 09:05:07] root DEBUG: cls num  : 3, elapse : 0.011093854904174805\n",
      "[2022/02/28 09:05:07] root DEBUG: rec_res num  : 3, elapse : 0.03142499923706055\n",
      "[Text Detection Completed in 0.058 s] Input: data/operation/target.png Output: data/operation/target.json\n",
      "[2022/02/28 09:05:07] root DEBUG: dt_boxes num : 0, elapse : 0.0036573410034179688\n",
      "[2022/02/28 09:05:07] root DEBUG: cls num  : 0, elapse : 0\n",
      "[2022/02/28 09:05:07] root DEBUG: rec_res num  : 0, elapse : 9.5367431640625e-07\n",
      "[Text Detection Completed in 0.006 s] Input: data/operation/target.png Output: data/operation/target.json\n",
      "[2022/02/28 09:05:07] root DEBUG: dt_boxes num : 0, elapse : 0.003572225570678711\n",
      "[2022/02/28 09:05:07] root DEBUG: cls num  : 0, elapse : 0\n",
      "[2022/02/28 09:05:07] root DEBUG: rec_res num  : 0, elapse : 1.9073486328125e-06\n",
      "[Text Detection Completed in 0.006 s] Input: data/operation/target.png Output: data/operation/target.json\n",
      "[2022/02/28 09:05:08] root DEBUG: dt_boxes num : 0, elapse : 0.003656148910522461\n",
      "[2022/02/28 09:05:08] root DEBUG: cls num  : 0, elapse : 0\n",
      "[2022/02/28 09:05:08] root DEBUG: rec_res num  : 0, elapse : 1.430511474609375e-06\n",
      "[Text Detection Completed in 0.006 s] Input: data/operation/target.png Output: data/operation/target.json\n",
      "[2022/02/28 09:05:08] root DEBUG: dt_boxes num : 0, elapse : 0.0042874813079833984\n",
      "[2022/02/28 09:05:08] root DEBUG: cls num  : 0, elapse : 0\n",
      "[2022/02/28 09:05:08] root DEBUG: rec_res num  : 0, elapse : 1.430511474609375e-06\n",
      "[Text Detection Completed in 0.006 s] Input: data/operation/target.png Output: data/operation/target.json\n",
      "[2022/02/28 09:05:09] root DEBUG: dt_boxes num : 0, elapse : 0.0070798397064208984\n",
      "[2022/02/28 09:05:09] root DEBUG: cls num  : 0, elapse : 0\n",
      "[2022/02/28 09:05:09] root DEBUG: rec_res num  : 0, elapse : 7.152557373046875e-07\n",
      "[Text Detection Completed in 0.016 s] Input: data/operation/target.png Output: data/operation/target.json\n",
      "[2022/02/28 09:05:09] root DEBUG: dt_boxes num : 1, elapse : 0.005778312683105469\n",
      "[2022/02/28 09:05:09] root DEBUG: cls num  : 1, elapse : 0.0061991214752197266\n",
      "[2022/02/28 09:05:09] root DEBUG: rec_res num  : 1, elapse : 0.007632255554199219\n",
      "[Text Detection Completed in 0.023 s] Input: data/operation/target.png Output: data/operation/target.json\n",
      "[2022/02/28 09:05:09] root DEBUG: dt_boxes num : 0, elapse : 0.0035004615783691406\n",
      "[2022/02/28 09:05:09] root DEBUG: cls num  : 0, elapse : 0\n",
      "[2022/02/28 09:05:09] root DEBUG: rec_res num  : 0, elapse : 1.430511474609375e-06\n",
      "[Text Detection Completed in 0.005 s] Input: data/operation/target.png Output: data/operation/target.json\n",
      "[2022/02/28 09:05:10] root DEBUG: dt_boxes num : 3, elapse : 0.010216951370239258\n",
      "[2022/02/28 09:05:10] root DEBUG: cls num  : 3, elapse : 0.010911941528320312\n",
      "[2022/02/28 09:05:10] root DEBUG: rec_res num  : 3, elapse : 0.030585289001464844\n",
      "[Text Detection Completed in 0.055 s] Input: data/operation/target.png Output: data/operation/target.json\n",
      "[2022/02/28 09:05:10] root DEBUG: dt_boxes num : 0, elapse : 0.004513740539550781\n",
      "[2022/02/28 09:05:10] root DEBUG: cls num  : 0, elapse : 0\n",
      "[2022/02/28 09:05:10] root DEBUG: rec_res num  : 0, elapse : 1.6689300537109375e-06\n",
      "[Text Detection Completed in 0.007 s] Input: data/operation/target.png Output: data/operation/target.json\n",
      "[2022/02/28 09:05:10] root DEBUG: dt_boxes num : 0, elapse : 0.002540111541748047\n",
      "[2022/02/28 09:05:10] root DEBUG: cls num  : 0, elapse : 0\n",
      "[2022/02/28 09:05:10] root DEBUG: rec_res num  : 0, elapse : 1.430511474609375e-06\n",
      "[Text Detection Completed in 0.004 s] Input: data/operation/target.png Output: data/operation/target.json\n",
      "[2022/02/28 09:05:11] root DEBUG: dt_boxes num : 0, elapse : 0.004108428955078125\n",
      "[2022/02/28 09:05:11] root DEBUG: cls num  : 0, elapse : 0\n",
      "[2022/02/28 09:05:11] root DEBUG: rec_res num  : 0, elapse : 9.5367431640625e-07\n",
      "[Text Detection Completed in 0.006 s] Input: data/operation/target.png Output: data/operation/target.json\n",
      "[2022/02/28 09:05:11] root DEBUG: dt_boxes num : 0, elapse : 0.005032777786254883\n",
      "[2022/02/28 09:05:11] root DEBUG: cls num  : 0, elapse : 0\n",
      "[2022/02/28 09:05:11] root DEBUG: rec_res num  : 0, elapse : 9.5367431640625e-07\n",
      "[Text Detection Completed in 0.007 s] Input: data/operation/target.png Output: data/operation/target.json\n",
      "[2022/02/28 09:05:11] root DEBUG: dt_boxes num : 0, elapse : 0.002942800521850586\n",
      "[2022/02/28 09:05:11] root DEBUG: cls num  : 0, elapse : 0\n",
      "[2022/02/28 09:05:11] root DEBUG: rec_res num  : 0, elapse : 1.1920928955078125e-06\n",
      "[Text Detection Completed in 0.005 s] Input: data/operation/target.png Output: data/operation/target.json\n",
      "[2022/02/28 09:05:12] root DEBUG: dt_boxes num : 3, elapse : 0.006968975067138672\n",
      "[2022/02/28 09:05:12] root DEBUG: cls num  : 3, elapse : 0.010950326919555664\n",
      "[2022/02/28 09:05:12] root DEBUG: rec_res num  : 3, elapse : 0.024800539016723633\n",
      "[Text Detection Completed in 0.046 s] Input: data/operation/target.png Output: data/operation/target.json\n",
      "[2022/02/28 09:05:12] root DEBUG: dt_boxes num : 0, elapse : 0.0026731491088867188\n",
      "[2022/02/28 09:05:12] root DEBUG: cls num  : 0, elapse : 0\n",
      "[2022/02/28 09:05:12] root DEBUG: rec_res num  : 0, elapse : 1.1920928955078125e-06\n",
      "[Text Detection Completed in 0.005 s] Input: data/operation/target.png Output: data/operation/target.json\n",
      "[2022/02/28 09:05:13] root DEBUG: dt_boxes num : 1, elapse : 0.005695343017578125\n",
      "[2022/02/28 09:05:13] root DEBUG: cls num  : 1, elapse : 0.004294872283935547\n",
      "[2022/02/28 09:05:13] root DEBUG: rec_res num  : 1, elapse : 0.002699613571166992\n"
     ]
    },
    {
     "name": "stdout",
     "output_type": "stream",
     "text": [
      "[Text Detection Completed in 0.015 s] Input: data/operation/target.png Output: data/operation/target.json\n",
      "[2022/02/28 09:05:13] root DEBUG: dt_boxes num : 0, elapse : 0.0027914047241210938\n",
      "[2022/02/28 09:05:13] root DEBUG: cls num  : 0, elapse : 0\n",
      "[2022/02/28 09:05:13] root DEBUG: rec_res num  : 0, elapse : 1.430511474609375e-06\n",
      "[Text Detection Completed in 0.005 s] Input: data/operation/target.png Output: data/operation/target.json\n",
      "[2022/02/28 09:05:14] root DEBUG: dt_boxes num : 3, elapse : 0.014405965805053711\n",
      "[2022/02/28 09:05:14] root DEBUG: cls num  : 3, elapse : 0.015900373458862305\n",
      "[2022/02/28 09:05:14] root DEBUG: rec_res num  : 3, elapse : 0.030788898468017578\n",
      "[Text Detection Completed in 0.065 s] Input: data/operation/target.png Output: data/operation/target.json\n",
      "[2022/02/28 09:05:14] root DEBUG: dt_boxes num : 0, elapse : 0.00454401969909668\n",
      "[2022/02/28 09:05:14] root DEBUG: cls num  : 0, elapse : 0\n",
      "[2022/02/28 09:05:14] root DEBUG: rec_res num  : 0, elapse : 1.430511474609375e-06\n",
      "[Text Detection Completed in 0.007 s] Input: data/operation/target.png Output: data/operation/target.json\n",
      "[2022/02/28 09:05:15] root DEBUG: dt_boxes num : 0, elapse : 0.003851652145385742\n",
      "[2022/02/28 09:05:15] root DEBUG: cls num  : 0, elapse : 0\n",
      "[2022/02/28 09:05:15] root DEBUG: rec_res num  : 0, elapse : 1.6689300537109375e-06\n",
      "[Text Detection Completed in 0.008 s] Input: data/operation/target.png Output: data/operation/target.json\n",
      "[2022/02/28 09:05:16] root DEBUG: dt_boxes num : 0, elapse : 0.0036056041717529297\n",
      "[2022/02/28 09:05:16] root DEBUG: cls num  : 0, elapse : 0\n",
      "[2022/02/28 09:05:16] root DEBUG: rec_res num  : 0, elapse : 1.430511474609375e-06\n",
      "[Text Detection Completed in 0.006 s] Input: data/operation/target.png Output: data/operation/target.json\n",
      "[2022/02/28 09:05:16] root DEBUG: dt_boxes num : 0, elapse : 0.00469660758972168\n",
      "[2022/02/28 09:05:16] root DEBUG: cls num  : 0, elapse : 0\n",
      "[2022/02/28 09:05:16] root DEBUG: rec_res num  : 0, elapse : 9.5367431640625e-07\n",
      "[Text Detection Completed in 0.007 s] Input: data/operation/target.png Output: data/operation/target.json\n"
     ]
    }
   ],
   "source": [
    "testing_data_root = '/home/ml/Data/visual testing/experiments/humanoid-output/adguard-1'\n",
    "\n",
    "steps_file = pjoin(testing_data_root, 'output.json')\n",
    "steps = json.load(open(steps_file, 'r'))\n",
    "\n",
    "operations = []\n",
    "for step in steps:\n",
    "    op = Operation(pjoin(testing_data_root, step['tag'] + '.jpg'), step['event_type'], step['bounds'])\n",
    "    op.shrink_target_element_img()\n",
    "    op.resize(gui.detection_resize_width, gui.detection_resize_height)        \n",
    "    op.detect_text(paddle_ocr)\n",
    "    operations.append(op)\n",
    "#     op.show_target_ele()"
   ]
  },
  {
   "cell_type": "code",
   "execution_count": 10,
   "id": "3c99cb6c",
   "metadata": {},
   "outputs": [
    {
     "data": {
      "text/plain": [
       "<Element.Element at 0x7f32b80e7b70>"
      ]
     },
     "execution_count": 10,
     "metadata": {},
     "output_type": "execute_result"
    }
   ],
   "source": [
    "opr = operations[1]\n",
    "gui.match_elements(target_ele_img=opr.target_element_img, target_ele_text=opr.get_text_content(), resnet_model=resnet_model)"
   ]
  },
  {
   "cell_type": "code",
   "execution_count": null,
   "id": "dc586e64",
   "metadata": {},
   "outputs": [],
   "source": []
  },
  {
   "cell_type": "code",
   "execution_count": null,
   "id": "547bc469",
   "metadata": {},
   "outputs": [],
   "source": []
  },
  {
   "cell_type": "code",
   "execution_count": null,
   "id": "ebe1fc39",
   "metadata": {},
   "outputs": [],
   "source": []
  },
  {
   "cell_type": "code",
   "execution_count": null,
   "id": "a5cdfe94",
   "metadata": {},
   "outputs": [],
   "source": []
  },
  {
   "cell_type": "code",
   "execution_count": 9,
   "id": "e22d4901",
   "metadata": {},
   "outputs": [
    {
     "name": "stdout",
     "output_type": "stream",
     "text": [
      "[2022/02/26 13:25:22] root DEBUG: dt_boxes num : 0, elapse : 0.14470863342285156\n",
      "[2022/02/26 13:25:22] root DEBUG: cls num  : 0, elapse : 0\n",
      "[2022/02/26 13:25:22] root DEBUG: rec_res num  : 0, elapse : 1.1920928955078125e-06\n",
      "[Text Detection Completed in 0.161 s] Input: data/output/temp.jpg Output: data/output/ocr/temp.json\n",
      "[Compo Detection Completed in 1.063 s] Input: data/output/temp.jpg Output: data/output/ip/temp.json\n",
      "[Merge Completed] Input: data/output/temp.jpg Output: data/output/merge/temp.jpg\n",
      "===================\n",
      "\n"
     ]
    }
   ],
   "source": [
    "# ***************************\n",
    "# *** Streaming Detection ***\n",
    "# ***************************\n",
    "\n",
    "cap = cv2.VideoCapture(0)\n",
    "cap.set(cv2.CAP_PROP_FRAME_WIDTH, 1000)\n",
    "cap.set(cv2.CAP_PROP_FRAME_HEIGHT, 500)\n",
    "\n",
    "while(1):\n",
    "    ret, frame = cap.read()\n",
    "    \n",
    "    cv2.imshow('camera', frame)\n",
    "    key = cv2.waitKey(1)\n",
    "    if key == ord('q'):\n",
    "        break\n",
    "    elif key == ord('s'):\n",
    "        cv2.imwrite('data/output/temp.jpg', frame)\n",
    "        gui = GUI('data/output/temp.jpg')\n",
    "        gui.element_detection(True, True, True, paddle_cor=paddle_ocr)\n",
    "        cv2.imshow('result', gui.det_result_imgs['merge'])\n",
    "        print('===================\\n')\n",
    "cap.release()\n",
    "cv2.destroyAllWindows()"
   ]
  },
  {
   "cell_type": "code",
   "execution_count": 6,
   "id": "ce82a52f",
   "metadata": {},
   "outputs": [],
   "source": []
  }
 ],
 "metadata": {
  "kernelspec": {
   "display_name": "Python 3",
   "language": "python",
   "name": "python3"
  },
  "language_info": {
   "codemirror_mode": {
    "name": "ipython",
    "version": 3
   },
   "file_extension": ".py",
   "mimetype": "text/x-python",
   "name": "python",
   "nbconvert_exporter": "python",
   "pygments_lexer": "ipython3",
   "version": "3.6.9"
  }
 },
 "nbformat": 4,
 "nbformat_minor": 5
}
