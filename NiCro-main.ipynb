{
 "cells": [
  {
   "cell_type": "code",
   "execution_count": 1,
   "id": "cf8fa401",
   "metadata": {},
   "outputs": [],
   "source": [
    "from NiCro import NiCro"
   ]
  },
  {
   "cell_type": "code",
   "execution_count": 2,
   "id": "3b8108d8",
   "metadata": {},
   "outputs": [],
   "source": [
    "nicro = NiCro(ocr_opt='google')"
   ]
  },
  {
   "cell_type": "code",
   "execution_count": 3,
   "id": "3404b4fb",
   "metadata": {},
   "outputs": [
    {
     "name": "stdout",
     "output_type": "stream",
     "text": [
      "Load Robot Arm System\n"
     ]
    }
   ],
   "source": [
    "nicro.load_robot()\n",
    "nicro.robot.control_robot_by_clicking_on_cam_video()"
   ]
  },
  {
   "cell_type": "code",
   "execution_count": 4,
   "id": "ff5779bf",
   "metadata": {},
   "outputs": [
    {
     "name": "stdout",
     "output_type": "stream",
     "text": [
      "Load 4 Device Emulators\n",
      "Selected Source Device:\n",
      "Device ID:0 Name:emulator-5554 Resolution:Size(width=2200, height=2480)\n",
      "\n",
      "Device Emulators:\n",
      "Device ID:0 Name:emulator-5554 Resolution:Size(width=2200, height=2480)\n",
      "Device ID:1 Name:emulator-5556 Resolution:Size(width=1080, height=2280)\n",
      "Device ID:2 Name:emulator-5558 Resolution:Size(width=1080, height=1920)\n",
      "Device ID:3 Name:emulator-5560 Resolution:Size(width=480, height=800)\n",
      "Robot Arm System Loaded\n"
     ]
    }
   ],
   "source": [
    "nicro.load_devices()\n",
    "nicro.select_source_device(0)"
   ]
  },
  {
   "cell_type": "code",
   "execution_count": 5,
   "id": "88291196",
   "metadata": {
    "scrolled": true
   },
   "outputs": [
    {
     "name": "stdout",
     "output_type": "stream",
     "text": [
      "****** Device [1 / 4] ******\n",
      "*** Please replace the Google OCR key at detect_text/ocr.py line 28 with your own (apply in https://cloud.google.com/vision) ***\n",
      "[Text Detection Completed in 0.146 s] Input: data/screen/emulator-5554.png Output: data/output/ocr/emulator-5554.json\n",
      "[Compo Detection Completed in 0.665 s] Input: data/screen/emulator-5554.png Output: data/output/ip/emulator-5554.json\n",
      "[Merge Completed] Input: data/screen/emulator-5554.png Output: data/output/merge/emulator-5554.jpg\n",
      "****** Device [2 / 4] ******\n",
      "*** Please replace the Google OCR key at detect_text/ocr.py line 28 with your own (apply in https://cloud.google.com/vision) ***\n",
      "[Text Detection Completed in 0.091 s] Input: data/screen/emulator-5556.png Output: data/output/ocr/emulator-5556.json\n",
      "[Compo Detection Completed in 0.411 s] Input: data/screen/emulator-5556.png Output: data/output/ip/emulator-5556.json\n",
      "[Merge Completed] Input: data/screen/emulator-5556.png Output: data/output/merge/emulator-5556.jpg\n",
      "****** Device [3 / 4] ******\n",
      "*** Please replace the Google OCR key at detect_text/ocr.py line 28 with your own (apply in https://cloud.google.com/vision) ***\n",
      "[Text Detection Completed in 0.077 s] Input: data/screen/emulator-5558.png Output: data/output/ocr/emulator-5558.json\n",
      "[Compo Detection Completed in 0.559 s] Input: data/screen/emulator-5558.png Output: data/output/ip/emulator-5558.json\n",
      "[Merge Completed] Input: data/screen/emulator-5558.png Output: data/output/merge/emulator-5558.jpg\n",
      "****** Device [4 / 4] ******\n",
      "*** Please replace the Google OCR key at detect_text/ocr.py line 28 with your own (apply in https://cloud.google.com/vision) ***\n",
      "[Text Detection Completed in 0.025 s] Input: data/screen/emulator-5560.png Output: data/output/ocr/emulator-5560.json\n",
      "[Compo Detection Completed in 0.461 s] Input: data/screen/emulator-5560.png Output: data/output/ip/emulator-5560.json\n",
      "[Merge Completed] Input: data/screen/emulator-5560.png Output: data/output/merge/emulator-5560.jpg\n",
      "****** Robot Arm [1 / 1] ******\n",
      "*** Please replace the Google OCR key at detect_text/ocr.py line 28 with your own (apply in https://cloud.google.com/vision) ***\n",
      "[Text Detection Completed in 0.061 s] Input: data/screen/robot_photo.png Output: data/output/ocr/robot_photo.json\n",
      "[Compo Detection Completed in 0.453 s] Input: data/screen/robot_photo.png Output: data/output/ip/robot_photo.json\n",
      "[Merge Completed] Input: data/screen/robot_photo.png Output: data/output/merge/robot_photo.jpg\n"
     ]
    }
   ],
   "source": [
    "nicro.detect_gui_info_for_all_devices(is_load=False, show=True)"
   ]
  },
  {
   "cell_type": "code",
   "execution_count": 8,
   "id": "e6f6a66e",
   "metadata": {},
   "outputs": [],
   "source": [
    "# nicro.control_multiple_devices_through_source_device(is_replay=True)"
   ]
  },
  {
   "cell_type": "code",
   "execution_count": null,
   "id": "5fdd7b51",
   "metadata": {},
   "outputs": [],
   "source": []
  },
  {
   "cell_type": "code",
   "execution_count": 6,
   "id": "bcb841b4",
   "metadata": {},
   "outputs": [],
   "source": [
    "nicro.reset_matching_accuracy()"
   ]
  },
  {
   "cell_type": "code",
   "execution_count": 7,
   "id": "2bc02f61",
   "metadata": {},
   "outputs": [
    {
     "name": "stdout",
     "output_type": "stream",
     "text": [
      "\n",
      "****** Test Round: 1 ******\n",
      "*** Matching Method: sift in Test Round 1 ***\n",
      "Device: emulator-5556 [0. 1. 0. 0. 0.]\n",
      "Device: emulator-5558 [0. 1. 0. 0. 0.]\n",
      "Device: emulator-5560 [0. 1. 0. 1. 0.]\n",
      "*** Matching Method: resnet in Test Round 1 ***\n",
      "Device: emulator-5556 [0. 1. 0. 0. 0.]\n",
      "Device: emulator-5558 [0. 1. 1. 0. 0.]\n",
      "Device: emulator-5560 [0. 1. 1. 1. 0.]\n",
      "*** Matching Method: template-match in Test Round 1 ***\n",
      "Device: emulator-5556 [0. 1. 0. 0. 0.]\n",
      "Device: emulator-5558 [0. 1. 1. 0. 0.]\n",
      "Device: emulator-5560 [0. 1. 1. 0. 0.]\n",
      "*** Matching Method: text in Test Round 1 ***\n",
      "Device: emulator-5556 [0. 0. 0. 0. 0.]\n",
      "Device: emulator-5558 [0. 0. 0. 0. 0.]\n",
      "Device: emulator-5560 [0. 0. 0. 0. 0.]\n",
      "*** Matching Method: nicro in Test Round 1 ***\n",
      "Successfully match element\n",
      "Device: emulator-5556 [0. 1. 0. 0. 0.]\n",
      "Successfully match element\n",
      "Device: emulator-5558 [0. 1. 1. 0. 0.]\n",
      "Successfully match element\n",
      "Device: emulator-5560 [0. 1. 1. 1. 0.]\n",
      "{'sift': array([0., 1., 0., 1., 0.]), 'resnet': array([0., 1., 1., 1., 0.]), 'template-match': array([0., 1., 1., 0., 0.]), 'text': array([0., 0., 0., 0., 0.]), 'nicro': array([0., 1., 1., 1., 0.])}\n"
     ]
    }
   ],
   "source": [
    "nicro.click_to_match_widgets_cross_devices()"
   ]
  },
  {
   "cell_type": "code",
   "execution_count": null,
   "id": "334fcccd",
   "metadata": {},
   "outputs": [],
   "source": []
  },
  {
   "cell_type": "code",
   "execution_count": 6,
   "id": "1eee2da5",
   "metadata": {},
   "outputs": [],
   "source": [
    "nicro.robot.control_robot_by_clicking_on_cam_video()"
   ]
  },
  {
   "cell_type": "code",
   "execution_count": 8,
   "id": "b7919d27",
   "metadata": {},
   "outputs": [
    {
     "name": "stdout",
     "output_type": "stream",
     "text": [
      "*** Please replace the Google OCR key at detect_text/ocr.py line 28 with your own (apply in https://cloud.google.com/vision) ***\n",
      "[Text Detection Completed in 0.072 s] Input: data/screen/robot_photo.png Output: data/output/ocr/robot_photo.json\n",
      "[Compo Detection Completed in 0.563 s] Input: data/screen/robot_photo.png Output: data/output/ip/robot_photo.json\n",
      "[Merge Completed] Input: data/screen/robot_photo.png Output: data/output/merge/robot_photo.jpg\n"
     ]
    }
   ],
   "source": [
    "nicro.robot.detect_gui_element(nicro.paddle_ocr, show=True, ocr_opt='google')"
   ]
  },
  {
   "cell_type": "code",
   "execution_count": null,
   "id": "c6af7afc",
   "metadata": {},
   "outputs": [],
   "source": []
  }
 ],
 "metadata": {
  "kernelspec": {
   "display_name": "Python 3",
   "language": "python",
   "name": "python3"
  },
  "language_info": {
   "codemirror_mode": {
    "name": "ipython",
    "version": 3
   },
   "file_extension": ".py",
   "mimetype": "text/x-python",
   "name": "python",
   "nbconvert_exporter": "python",
   "pygments_lexer": "ipython3",
   "version": "3.6.9"
  }
 },
 "nbformat": 4,
 "nbformat_minor": 5
}
