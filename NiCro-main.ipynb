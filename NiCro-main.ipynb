{
 "cells": [
  {
   "cell_type": "code",
   "execution_count": 1,
   "id": "cf8fa401",
   "metadata": {},
   "outputs": [],
   "source": [
    "from NiCro import NiCro"
   ]
  },
  {
   "cell_type": "code",
   "execution_count": 2,
   "id": "3b8108d8",
   "metadata": {},
   "outputs": [],
   "source": [
    "nicro = NiCro()"
   ]
  },
  {
   "cell_type": "code",
   "execution_count": 3,
   "id": "49011f38",
   "metadata": {},
   "outputs": [
    {
     "name": "stdout",
     "output_type": "stream",
     "text": [
      "Selected Source Device:\n",
      "Device ID:0 Name:emulator-5554 Resolution:Size(width=2200, height=2480)\n",
      "\n",
      "Device Emulators:\n",
      "Device ID:0 Name:emulator-5554 Resolution:Size(width=2200, height=2480)\n",
      "Device ID:1 Name:emulator-5556 Resolution:Size(width=1080, height=2280)\n",
      "Device ID:2 Name:emulator-5558 Resolution:Size(width=1080, height=1920)\n",
      "Device ID:3 Name:emulator-5560 Resolution:Size(width=480, height=800)\n",
      "No Robot Arm System\n"
     ]
    }
   ],
   "source": [
    "nicro.get_devices_info()"
   ]
  },
  {
   "cell_type": "code",
   "execution_count": 4,
   "id": "88291196",
   "metadata": {
    "scrolled": true
   },
   "outputs": [
    {
     "name": "stdout",
     "output_type": "stream",
     "text": [
      "****** Device [1 / 4] ******\n",
      "[Text Detection Completed in 1.480 s] Input: data/screen/emulator-5554.png Output: data/output/ocr/emulator-5554.json\n",
      "[Compo Detection Completed in 0.563 s] Input: data/screen/emulator-5554.png Output: data/output/ip/emulator-5554.json\n",
      "[Merge Completed] Input: data/screen/emulator-5554.png Output: data/output/merge/emulator-5554.jpg\n",
      "****** Device [2 / 4] ******\n",
      "[Text Detection Completed in 0.170 s] Input: data/screen/emulator-5556.png Output: data/output/ocr/emulator-5556.json\n",
      "[Compo Detection Completed in 0.335 s] Input: data/screen/emulator-5556.png Output: data/output/ip/emulator-5556.json\n",
      "[Merge Completed] Input: data/screen/emulator-5556.png Output: data/output/merge/emulator-5556.jpg\n",
      "****** Device [3 / 4] ******\n",
      "[Text Detection Completed in 0.168 s] Input: data/screen/emulator-5558.png Output: data/output/ocr/emulator-5558.json\n",
      "[Compo Detection Completed in 0.386 s] Input: data/screen/emulator-5558.png Output: data/output/ip/emulator-5558.json\n",
      "[Merge Completed] Input: data/screen/emulator-5558.png Output: data/output/merge/emulator-5558.jpg\n",
      "****** Device [4 / 4] ******\n",
      "[Text Detection Completed in 0.077 s] Input: data/screen/emulator-5560.png Output: data/output/ocr/emulator-5560.json\n",
      "[Compo Detection Completed in 0.431 s] Input: data/screen/emulator-5560.png Output: data/output/ip/emulator-5560.json\n",
      "[Merge Completed] Input: data/screen/emulator-5560.png Output: data/output/merge/emulator-5560.jpg\n"
     ]
    }
   ],
   "source": [
    "nicro.detect_gui_info_for_all_devices(is_load=False, show=False)"
   ]
  },
  {
   "cell_type": "code",
   "execution_count": 5,
   "id": "e6f6a66e",
   "metadata": {},
   "outputs": [
    {
     "name": "stdout",
     "output_type": "stream",
     "text": [
      "\n",
      "****** Tap (1596, 2228) ******\n",
      "Action: {'type': 'click', 'coordinate': [(1596, 2228), (-1, -1)]}\n",
      "No element found at (514, 718)\n",
      "Skip the Selected Source Device\n",
      "*** Replay Devices Number [2/4] ***\n",
      "Device ID:1 Name:emulator-5556 Resolution:Size(width=1080, height=2280)\n",
      "[Text Detection Completed in 0.164 s] Input: data/screen/emulator-5556.png Output: data/output/ocr/emulator-5556.json\n",
      "[Compo Detection Completed in 0.331 s] Input: data/screen/emulator-5556.png Output: data/output/ip/emulator-5556.json\n",
      "[Merge Completed] Input: data/screen/emulator-5556.png Output: data/output/merge/emulator-5556.jpg\n",
      "*** Replay Devices Number [3/4] ***\n",
      "Device ID:2 Name:emulator-5558 Resolution:Size(width=1080, height=1920)\n",
      "[Text Detection Completed in 0.155 s] Input: data/screen/emulator-5558.png Output: data/output/ocr/emulator-5558.json\n",
      "[Compo Detection Completed in 0.480 s] Input: data/screen/emulator-5558.png Output: data/output/ip/emulator-5558.json\n",
      "[Merge Completed] Input: data/screen/emulator-5558.png Output: data/output/merge/emulator-5558.jpg\n",
      "*** Replay Devices Number [4/4] ***\n",
      "Device ID:3 Name:emulator-5560 Resolution:Size(width=480, height=800)\n",
      "[Text Detection Completed in 0.075 s] Input: data/screen/emulator-5560.png Output: data/output/ocr/emulator-5560.json\n",
      "[Compo Detection Completed in 0.427 s] Input: data/screen/emulator-5560.png Output: data/output/ip/emulator-5560.json\n",
      "[Merge Completed] Input: data/screen/emulator-5560.png Output: data/output/merge/emulator-5560.jpg\n",
      "****** Re-detect Selected Device's screenshot and GUI ******\n",
      "[Text Detection Completed in 0.253 s] Input: data/screen/emulator-5554.png Output: data/output/ocr/emulator-5554.json\n",
      "[Compo Detection Completed in 0.555 s] Input: data/screen/emulator-5554.png Output: data/output/ip/emulator-5554.json\n",
      "[Merge Completed] Input: data/screen/emulator-5554.png Output: data/output/merge/emulator-5554.jpg\n"
     ]
    }
   ],
   "source": [
    "nicro.control_multiple_devices_through_source_device(is_replay=True)"
   ]
  },
  {
   "cell_type": "code",
   "execution_count": null,
   "id": "5fdd7b51",
   "metadata": {},
   "outputs": [],
   "source": []
  },
  {
   "cell_type": "code",
   "execution_count": 5,
   "id": "bcb841b4",
   "metadata": {},
   "outputs": [],
   "source": [
    "nicro.reset_matching_accuracy()"
   ]
  },
  {
   "cell_type": "code",
   "execution_count": null,
   "id": "2bc02f61",
   "metadata": {},
   "outputs": [
    {
     "name": "stdout",
     "output_type": "stream",
     "text": [
      "\n",
      "****** Test Round: 1 ******\n",
      "*** Matching Method: sift in Test Round 1 ***\n",
      "Device: emulator-5556 [0. 1. 0. 0.]\n",
      "Device: emulator-5558 [0. 1. 0. 0.]\n",
      "Device: emulator-5560 [0. 1. 0. 0.]\n",
      "*** Matching Method: resnet in Test Round 1 ***\n",
      "Device: emulator-5556 [0. 1. 0. 0.]\n",
      "Device: emulator-5558 [0. 1. 1. 0.]\n",
      "Device: emulator-5560 [0. 1. 1. 1.]\n",
      "*** Matching Method: template-match in Test Round 1 ***\n",
      "Device: emulator-5556 [0. 1. 0. 0.]\n",
      "Device: emulator-5558 [0. 1. 1. 0.]\n",
      "Device: emulator-5560 [0. 1. 1. 0.]\n",
      "*** Matching Method: text in Test Round 1 ***\n",
      "Device: emulator-5556 [0. 0. 0. 0.]\n",
      "Device: emulator-5558 [0. 0. 0. 0.]\n",
      "Device: emulator-5560 [0. 0. 0. 0.]\n",
      "*** Matching Method: nicro in Test Round 1 ***\n",
      "Device: emulator-5556 [0. 1. 0. 0.]\n",
      "Device: emulator-5558 [0. 1. 1. 0.]\n",
      "Device: emulator-5560 [0. 1. 1. 1.]\n",
      "{'sift': array([0., 1., 0., 0.]), 'resnet': array([0., 1., 1., 1.]), 'template-match': array([0., 1., 1., 0.]), 'text': array([0., 0., 0., 0.]), 'nicro': array([0., 1., 1., 1.])}\n",
      "\n",
      "****** Test Round: 2 ******\n",
      "*** Matching Method: sift in Test Round 2 ***\n",
      "Device: emulator-5556 [0. 2. 0. 0.]\n",
      "Device: emulator-5558 [0. 2. 1. 0.]\n",
      "Device: emulator-5560 [0. 2. 1. 0.]\n",
      "*** Matching Method: resnet in Test Round 2 ***\n",
      "Device: emulator-5556 [0. 2. 1. 1.]\n",
      "Device: emulator-5558 [0. 2. 2. 1.]\n",
      "Device: emulator-5560 [0. 2. 2. 1.]\n",
      "*** Matching Method: template-match in Test Round 2 ***\n",
      "Device: emulator-5556 [0. 2. 1. 0.]\n",
      "Device: emulator-5558 [0. 2. 1. 0.]\n",
      "Device: emulator-5560 [0. 2. 1. 0.]\n",
      "*** Matching Method: text in Test Round 2 ***\n",
      "Device: emulator-5556 [0. 0. 0. 0.]\n",
      "Device: emulator-5558 [0. 0. 0. 0.]\n",
      "Device: emulator-5560 [0. 0. 0. 0.]\n",
      "*** Matching Method: nicro in Test Round 2 ***\n",
      "Device: emulator-5556 [0. 2. 1. 1.]\n",
      "Device: emulator-5558 [0. 2. 2. 1.]\n",
      "Device: emulator-5560 [0. 2. 2. 1.]\n",
      "{'sift': array([0., 2., 1., 0.]), 'resnet': array([0., 2., 2., 1.]), 'template-match': array([0., 2., 1., 0.]), 'text': array([0., 0., 0., 0.]), 'nicro': array([0., 2., 2., 1.])}\n",
      "\n",
      "****** Test Round: 3 ******\n",
      "*** Matching Method: sift in Test Round 3 ***\n",
      "Device: emulator-5556 [0. 3. 1. 0.]\n",
      "Device: emulator-5558 [0. 3. 2. 0.]\n",
      "Device: emulator-5560 [0. 3. 2. 0.]\n",
      "*** Matching Method: resnet in Test Round 3 ***\n",
      "Device: emulator-5556 [0. 3. 2. 1.]\n",
      "Device: emulator-5558 [0. 3. 2. 1.]\n",
      "Device: emulator-5560 [0. 3. 2. 1.]\n",
      "*** Matching Method: template-match in Test Round 3 ***\n",
      "Device: emulator-5556 [0. 3. 1. 0.]\n",
      "Device: emulator-5558 [0. 3. 2. 0.]\n",
      "Device: emulator-5560 [0. 3. 2. 0.]\n",
      "*** Matching Method: text in Test Round 3 ***\n",
      "Device: emulator-5556 [0. 0. 0. 0.]\n",
      "Device: emulator-5558 [0. 0. 0. 0.]\n",
      "Device: emulator-5560 [0. 0. 0. 0.]\n",
      "*** Matching Method: nicro in Test Round 3 ***\n",
      "Device: emulator-5556 [0. 3. 2. 1.]\n",
      "Device: emulator-5558 [0. 3. 2. 1.]\n",
      "Device: emulator-5560 [0. 3. 2. 1.]\n",
      "{'sift': array([0., 3., 2., 0.]), 'resnet': array([0., 3., 2., 1.]), 'template-match': array([0., 3., 2., 0.]), 'text': array([0., 0., 0., 0.]), 'nicro': array([0., 3., 2., 1.])}\n",
      "\n",
      "****** Test Round: 4 ******\n",
      "*** Matching Method: sift in Test Round 4 ***\n",
      "Device: emulator-5556 [0. 4. 2. 0.]\n",
      "Device: emulator-5558 [0. 4. 3. 0.]\n",
      "Device: emulator-5560 [0. 4. 3. 0.]\n",
      "*** Matching Method: resnet in Test Round 4 ***\n",
      "Device: emulator-5556 [0. 3. 2. 1.]\n",
      "Device: emulator-5558 [0. 3. 2. 1.]\n",
      "Device: emulator-5560 [0. 3. 2. 1.]\n",
      "*** Matching Method: template-match in Test Round 4 ***\n",
      "Device: emulator-5556 [0. 3. 2. 0.]\n",
      "Device: emulator-5558 [0. 3. 2. 0.]\n",
      "Device: emulator-5560 [0. 3. 2. 0.]\n",
      "*** Matching Method: text in Test Round 4 ***\n"
     ]
    },
    {
     "ename": "AttributeError",
     "evalue": "'numpy.ndarray' object has no attribute 'draw_element'",
     "output_type": "error",
     "traceback": [
      "\u001b[0;31m---------------------------------------------------------------------------\u001b[0m",
      "\u001b[0;31mAttributeError\u001b[0m                            Traceback (most recent call last)",
      "\u001b[0;32m~/Code/github/Robot-Visual-Testing/NiCro.py\u001b[0m in \u001b[0;36mon_mouse\u001b[0;34m(event, x, y, flags, params)\u001b[0m\n\u001b[1;32m    217\u001b[0m                 \u001b[0mmethods\u001b[0m \u001b[0;34m=\u001b[0m \u001b[0;34m[\u001b[0m\u001b[0;34m'sift'\u001b[0m\u001b[0;34m,\u001b[0m \u001b[0;34m'resnet'\u001b[0m\u001b[0;34m,\u001b[0m \u001b[0;34m'template-match'\u001b[0m\u001b[0;34m,\u001b[0m \u001b[0;34m'text'\u001b[0m\u001b[0;34m,\u001b[0m \u001b[0;34m'nicro'\u001b[0m\u001b[0;34m]\u001b[0m\u001b[0;34m\u001b[0m\u001b[0;34m\u001b[0m\u001b[0m\n\u001b[1;32m    218\u001b[0m                 \u001b[0;32mfor\u001b[0m \u001b[0mmethod\u001b[0m \u001b[0;32min\u001b[0m \u001b[0mmethods\u001b[0m\u001b[0;34m:\u001b[0m\u001b[0;34m\u001b[0m\u001b[0;34m\u001b[0m\u001b[0m\n\u001b[0;32m--> 219\u001b[0;31m                     \u001b[0mself\u001b[0m\u001b[0;34m.\u001b[0m\u001b[0mmatch_widgets_cross_device\u001b[0m\u001b[0;34m(\u001b[0m\u001b[0mmethod\u001b[0m\u001b[0;34m)\u001b[0m\u001b[0;34m\u001b[0m\u001b[0;34m\u001b[0m\u001b[0m\n\u001b[0m\u001b[1;32m    220\u001b[0m                 \u001b[0mprint\u001b[0m\u001b[0;34m(\u001b[0m\u001b[0mself\u001b[0m\u001b[0;34m.\u001b[0m\u001b[0mwidget_matching_acc\u001b[0m\u001b[0;34m)\u001b[0m\u001b[0;34m\u001b[0m\u001b[0;34m\u001b[0m\u001b[0m\n\u001b[1;32m    221\u001b[0m                 \u001b[0mparams\u001b[0m\u001b[0;34m[\u001b[0m\u001b[0;36m0\u001b[0m\u001b[0;34m]\u001b[0m \u001b[0;34m=\u001b[0m \u001b[0ms_dev\u001b[0m\u001b[0;34m.\u001b[0m\u001b[0mGUI\u001b[0m\u001b[0;34m.\u001b[0m\u001b[0mdet_result_imgs\u001b[0m\u001b[0;34m[\u001b[0m\u001b[0;34m'merge'\u001b[0m\u001b[0;34m]\u001b[0m\u001b[0;34m.\u001b[0m\u001b[0mcopy\u001b[0m\u001b[0;34m(\u001b[0m\u001b[0;34m)\u001b[0m\u001b[0;34m\u001b[0m\u001b[0;34m\u001b[0m\u001b[0m\n",
      "\u001b[0;32m~/Code/github/Robot-Visual-Testing/NiCro.py\u001b[0m in \u001b[0;36mmatch_widgets_cross_device\u001b[0;34m(self, method)\u001b[0m\n\u001b[1;32m    189\u001b[0m             \u001b[0;32melse\u001b[0m\u001b[0;34m:\u001b[0m\u001b[0;34m\u001b[0m\u001b[0;34m\u001b[0m\u001b[0m\n\u001b[1;32m    190\u001b[0m                 \u001b[0mmatched_element\u001b[0m \u001b[0;34m=\u001b[0m \u001b[0mgui_matcher\u001b[0m\u001b[0;34m.\u001b[0m\u001b[0mmatch_target_element_test\u001b[0m\u001b[0;34m(\u001b[0m\u001b[0mself\u001b[0m\u001b[0;34m.\u001b[0m\u001b[0mtarget_element\u001b[0m\u001b[0;34m,\u001b[0m \u001b[0mmethod\u001b[0m\u001b[0;34m=\u001b[0m\u001b[0mmethod\u001b[0m\u001b[0;34m,\u001b[0m \u001b[0mshow\u001b[0m\u001b[0;34m=\u001b[0m\u001b[0;32mFalse\u001b[0m\u001b[0;34m)\u001b[0m\u001b[0;34m\u001b[0m\u001b[0;34m\u001b[0m\u001b[0m\n\u001b[0;32m--> 191\u001b[0;31m             \u001b[0mkey\u001b[0m \u001b[0;34m=\u001b[0m \u001b[0mgui_matcher\u001b[0m\u001b[0;34m.\u001b[0m\u001b[0mshow_target_and_matched_elements\u001b[0m\u001b[0;34m(\u001b[0m\u001b[0mself\u001b[0m\u001b[0;34m.\u001b[0m\u001b[0mtarget_element\u001b[0m\u001b[0;34m,\u001b[0m \u001b[0;34m[\u001b[0m\u001b[0mmatched_element\u001b[0m\u001b[0;34m]\u001b[0m\u001b[0;34m)\u001b[0m\u001b[0;34m\u001b[0m\u001b[0;34m\u001b[0m\u001b[0m\n\u001b[0m\u001b[1;32m    192\u001b[0m             \u001b[0;31m# correct matching\u001b[0m\u001b[0;34m\u001b[0m\u001b[0;34m\u001b[0m\u001b[0;34m\u001b[0m\u001b[0m\n\u001b[1;32m    193\u001b[0m             \u001b[0;32mif\u001b[0m \u001b[0mkey\u001b[0m \u001b[0;34m==\u001b[0m \u001b[0mord\u001b[0m\u001b[0;34m(\u001b[0m\u001b[0;34m'a'\u001b[0m\u001b[0;34m)\u001b[0m\u001b[0;34m:\u001b[0m\u001b[0;34m\u001b[0m\u001b[0;34m\u001b[0m\u001b[0m\n",
      "\u001b[0;32m~/Code/github/Robot-Visual-Testing/element_matching/GUI_pair.py\u001b[0m in \u001b[0;36mshow_target_and_matched_elements\u001b[0;34m(self, target, matched_elements, similarities)\u001b[0m\n\u001b[1;32m    186\u001b[0m             \u001b[0;32mif\u001b[0m \u001b[0msimilarities\u001b[0m \u001b[0;32mis\u001b[0m \u001b[0;32mnot\u001b[0m \u001b[0;32mNone\u001b[0m\u001b[0;34m:\u001b[0m\u001b[0;34m\u001b[0m\u001b[0;34m\u001b[0m\u001b[0m\n\u001b[1;32m    187\u001b[0m                 \u001b[0mtext\u001b[0m \u001b[0;34m=\u001b[0m \u001b[0msimilarities\u001b[0m\u001b[0;34m[\u001b[0m\u001b[0mi\u001b[0m\u001b[0;34m]\u001b[0m\u001b[0;34m\u001b[0m\u001b[0;34m\u001b[0m\u001b[0m\n\u001b[0;32m--> 188\u001b[0;31m             \u001b[0mele\u001b[0m\u001b[0;34m.\u001b[0m\u001b[0mdraw_element\u001b[0m\u001b[0;34m(\u001b[0m\u001b[0mboard2\u001b[0m\u001b[0;34m,\u001b[0m \u001b[0mput_text\u001b[0m\u001b[0;34m=\u001b[0m\u001b[0mtext\u001b[0m\u001b[0;34m,\u001b[0m \u001b[0mshow\u001b[0m\u001b[0;34m=\u001b[0m\u001b[0;32mFalse\u001b[0m\u001b[0;34m)\u001b[0m\u001b[0;34m\u001b[0m\u001b[0;34m\u001b[0m\u001b[0m\n\u001b[0m\u001b[1;32m    189\u001b[0m         \u001b[0mcv2\u001b[0m\u001b[0;34m.\u001b[0m\u001b[0mimshow\u001b[0m\u001b[0;34m(\u001b[0m\u001b[0;34m'Target'\u001b[0m\u001b[0;34m,\u001b[0m \u001b[0mboard1\u001b[0m\u001b[0;34m)\u001b[0m\u001b[0;34m\u001b[0m\u001b[0;34m\u001b[0m\u001b[0m\n\u001b[1;32m    190\u001b[0m         \u001b[0mcv2\u001b[0m\u001b[0;34m.\u001b[0m\u001b[0mimshow\u001b[0m\u001b[0;34m(\u001b[0m\u001b[0;34m'Matched Elements'\u001b[0m\u001b[0;34m,\u001b[0m \u001b[0mboard2\u001b[0m\u001b[0;34m)\u001b[0m\u001b[0;34m\u001b[0m\u001b[0;34m\u001b[0m\u001b[0m\n",
      "\u001b[0;31mAttributeError\u001b[0m: 'numpy.ndarray' object has no attribute 'draw_element'"
     ]
    }
   ],
   "source": [
    "nicro.click_to_match_widgets_cross_devices()"
   ]
  },
  {
   "cell_type": "code",
   "execution_count": null,
   "id": "554e995d",
   "metadata": {},
   "outputs": [],
   "source": []
  }
 ],
 "metadata": {
  "kernelspec": {
   "display_name": "Python 3",
   "language": "python",
   "name": "python3"
  },
  "language_info": {
   "codemirror_mode": {
    "name": "ipython",
    "version": 3
   },
   "file_extension": ".py",
   "mimetype": "text/x-python",
   "name": "python",
   "nbconvert_exporter": "python",
   "pygments_lexer": "ipython3",
   "version": "3.6.9"
  }
 },
 "nbformat": 4,
 "nbformat_minor": 5
}
