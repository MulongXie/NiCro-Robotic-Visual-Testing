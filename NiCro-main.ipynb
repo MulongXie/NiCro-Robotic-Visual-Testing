{
 "cells": [
  {
   "cell_type": "code",
   "execution_count": 1,
   "id": "cf8fa401",
   "metadata": {},
   "outputs": [
    {
     "name": "stdout",
     "output_type": "stream",
     "text": [
      "[2022/04/28 09:15:10] root WARNING: lang en is not support in PP-OCRv2, auto switch to version PP-OCR\n",
      "[2022/04/28 09:15:10] root WARNING: lang en is not support in PP-OCRv2, auto switch to version PP-OCR\n",
      "[2022/04/28 09:15:10] root WARNING: version PP-OCRv2 not support cls models, auto switch to version PP-OCR\n",
      "Namespace(benchmark=False, cls_batch_num=6, cls_image_shape='3, 48, 192', cls_model_dir='/home/ml/.paddleocr/2.3.0.2/ocr/cls/ch_ppocr_mobile_v2.0_cls_infer', cls_thresh=0.9, cpu_threads=10, det=True, det_algorithm='DB', det_db_box_thresh=0.6, det_db_score_mode='fast', det_db_thresh=0.3, det_db_unclip_ratio=1.5, det_east_cover_thresh=0.1, det_east_nms_thresh=0.2, det_east_score_thresh=0.8, det_limit_side_len=960, det_limit_type='max', det_model_dir='/home/ml/.paddleocr/2.3.0.2/ocr/det/en/en_ppocr_mobile_v2.0_det_infer', det_pse_box_thresh=0.85, det_pse_box_type='box', det_pse_min_area=16, det_pse_scale=1, det_pse_thresh=0, det_sast_nms_thresh=0.2, det_sast_polygon=False, det_sast_score_thresh=0.5, drop_score=0.5, e2e_algorithm='PGNet', e2e_char_dict_path='./ppocr/utils/ic15_dict.txt', e2e_limit_side_len=768, e2e_limit_type='max', e2e_model_dir=None, e2e_pgnet_mode='fast', e2e_pgnet_polygon=True, e2e_pgnet_score_thresh=0.5, e2e_pgnet_valid_set='totaltext', enable_mkldnn=False, gpu_mem=500, help='==SUPPRESS==', image_dir=None, ir_optim=True, label_list=['0', '180'], lang='en', layout_path_model='lp://PubLayNet/ppyolov2_r50vd_dcn_365e_publaynet/config', max_batch_size=10, max_text_length=25, min_subgraph_size=15, ocr_version='PP-OCRv2', output='./output/table', precision='fp32', process_id=0, rec=True, rec_algorithm='CRNN', rec_batch_num=6, rec_char_dict_path='/home/ml/.local/lib/python3.6/site-packages/paddleocr/ppocr/utils/en_dict.txt', rec_image_shape='3, 32, 320', rec_model_dir='/home/ml/.paddleocr/2.3.0.2/ocr/rec/en/en_number_mobile_v2.0_rec_infer', save_log_path='./log_output/', show_log=False, structure_version='STRUCTURE', table_char_dict_path=None, table_char_type='en', table_max_len=488, table_model_dir=None, total_process_num=1, type='ocr', use_angle_cls=True, use_dilation=False, use_gpu=False, use_mp=False, use_onnx=False, use_pdserving=False, use_space_char=True, use_tensorrt=False, vis_font_path='./doc/fonts/simfang.ttf', warmup=True)\n"
     ]
    }
   ],
   "source": [
    "from NiCro import NiCro"
   ]
  },
  {
   "cell_type": "code",
   "execution_count": 2,
   "id": "3b8108d8",
   "metadata": {},
   "outputs": [],
   "source": [
    "nicro = NiCro()"
   ]
  },
  {
   "cell_type": "code",
   "execution_count": 3,
   "id": "49011f38",
   "metadata": {},
   "outputs": [
    {
     "name": "stdout",
     "output_type": "stream",
     "text": [
      "Selected Source Device:\n",
      "Device ID: 0 Name:emulator-5554 Resolution:Size(width=1080, height=1920)\n",
      "\n",
      "All Devices:\n",
      "Device ID: 0 Name:emulator-5554 Resolution:Size(width=1080, height=1920)\n",
      "Device ID: 1 Name:emulator-5556 Resolution:Size(width=1080, height=2280)\n"
     ]
    }
   ],
   "source": [
    "nicro.get_devices_info()"
   ]
  },
  {
   "cell_type": "code",
   "execution_count": 4,
   "id": "88291196",
   "metadata": {},
   "outputs": [
    {
     "name": "stdout",
     "output_type": "stream",
     "text": [
      "****** Device [1 / 2] ******\n",
      "[Text Detection Completed in 0.626 s] Input: data/screen/0.png Output: data/output/ocr/0.json\n",
      "[Compo Detection Completed in 0.449 s] Input: data/screen/0.png Output: data/output/ip/0.json\n",
      "[Merge Completed] Input: data/screen/0.png Output: data/output/merge/0.jpg\n",
      "****** Device [2 / 2] ******\n",
      "[Text Detection Completed in 0.509 s] Input: data/screen/1.png Output: data/output/ocr/1.json\n",
      "[Compo Detection Completed in 0.386 s] Input: data/screen/1.png Output: data/output/ip/1.json\n",
      "[Merge Completed] Input: data/screen/1.png Output: data/output/merge/1.jpg\n"
     ]
    }
   ],
   "source": [
    "nicro.detect_gui_info_for_all_devices(is_load=False)"
   ]
  },
  {
   "cell_type": "code",
   "execution_count": 5,
   "id": "e6f6a66e",
   "metadata": {},
   "outputs": [
    {
     "name": "stdout",
     "output_type": "stream",
     "text": [
      "\n",
      "*** Tap (204, 1063) ***\n",
      "Action: {'type': 'click', 'coordinate': [(204, 1063), (-1, -1)]}\n",
      "****** Replay Devices Number [1/2] ******\n",
      "Skip the Selected Source Device\n",
      "****** Replay Devices Number [2/2] ******\n",
      "Device ID: 1 Name:emulator-5556 Resolution:Size(width=1080, height=2280)\n",
      "*** Re-detect Selected Device's screenshot and GUI ***\n",
      "[Text Detection Completed in 0.559 s] Input: data/screen/0.png Output: data/output/ocr/0.json\n",
      "[Compo Detection Completed in 0.443 s] Input: data/screen/0.png Output: data/output/ip/0.json\n",
      "[Merge Completed] Input: data/screen/0.png Output: data/output/merge/0.jpg\n",
      "\n",
      "*** Tap (240, 679) ***\n",
      "Action: {'type': 'click', 'coordinate': [(240, 679), (-1, -1)]}\n",
      "****** Replay Devices Number [1/2] ******\n",
      "Skip the Selected Source Device\n",
      "****** Replay Devices Number [2/2] ******\n",
      "Device ID: 1 Name:emulator-5556 Resolution:Size(width=1080, height=2280)\n",
      "*** Re-detect Selected Device's screenshot and GUI ***\n",
      "[Text Detection Completed in 0.479 s] Input: data/screen/0.png Output: data/output/ocr/0.json\n",
      "[Compo Detection Completed in 0.537 s] Input: data/screen/0.png Output: data/output/ip/0.json\n",
      "[Merge Completed] Input: data/screen/0.png Output: data/output/merge/0.jpg\n",
      "\n",
      "*** Tap (163, 1243) ***\n",
      "Action: {'type': 'click', 'coordinate': [(163, 1243), (-1, -1)]}\n",
      "****** Replay Devices Number [1/2] ******\n",
      "Skip the Selected Source Device\n",
      "****** Replay Devices Number [2/2] ******\n",
      "Device ID: 1 Name:emulator-5556 Resolution:Size(width=1080, height=2280)\n",
      "*** Re-detect Selected Device's screenshot and GUI ***\n",
      "[Text Detection Completed in 0.550 s] Input: data/screen/0.png Output: data/output/ocr/0.json\n",
      "[Compo Detection Completed in 0.546 s] Input: data/screen/0.png Output: data/output/ip/0.json\n",
      "[Merge Completed] Input: data/screen/0.png Output: data/output/merge/0.jpg\n",
      "\n",
      "*** Tap (62, 141) ***\n",
      "Action: {'type': 'click', 'coordinate': [(62, 141), (-1, -1)]}\n",
      "****** Replay Devices Number [1/2] ******\n",
      "Skip the Selected Source Device\n",
      "****** Replay Devices Number [2/2] ******\n",
      "Device ID: 1 Name:emulator-5556 Resolution:Size(width=1080, height=2280)\n",
      "*** Re-detect Selected Device's screenshot and GUI ***\n",
      "[Text Detection Completed in 0.575 s] Input: data/screen/0.png Output: data/output/ocr/0.json\n",
      "[Compo Detection Completed in 0.455 s] Input: data/screen/0.png Output: data/output/ip/0.json\n",
      "[Merge Completed] Input: data/screen/0.png Output: data/output/merge/0.jpg\n",
      "\n",
      "*** Tap (81, 124) ***\n",
      "Action: {'type': 'click', 'coordinate': [(81, 124), (-1, -1)]}\n",
      "No element found at (33, 51)\n",
      "****** Replay Devices Number [1/2] ******\n",
      "Skip the Selected Source Device\n",
      "****** Replay Devices Number [2/2] ******\n",
      "Device ID: 1 Name:emulator-5556 Resolution:Size(width=1080, height=2280)\n",
      "*** Re-detect Selected Device's screenshot and GUI ***\n",
      "[Text Detection Completed in 0.582 s] Input: data/screen/0.png Output: data/output/ocr/0.json\n",
      "[Compo Detection Completed in 0.567 s] Input: data/screen/0.png Output: data/output/ip/0.json\n",
      "[Merge Completed] Input: data/screen/0.png Output: data/output/merge/0.jpg\n",
      "\n",
      "*** Tap (79, 120) ***\n",
      "Action: {'type': 'click', 'coordinate': [(79, 120), (-1, -1)]}\n",
      "****** Replay Devices Number [1/2] ******\n",
      "Skip the Selected Source Device\n",
      "****** Replay Devices Number [2/2] ******\n",
      "Device ID: 1 Name:emulator-5556 Resolution:Size(width=1080, height=2280)\n",
      "*** Re-detect Selected Device's screenshot and GUI ***\n",
      "[Text Detection Completed in 0.560 s] Input: data/screen/0.png Output: data/output/ocr/0.json\n",
      "[Compo Detection Completed in 0.535 s] Input: data/screen/0.png Output: data/output/ip/0.json\n",
      "[Merge Completed] Input: data/screen/0.png Output: data/output/merge/0.jpg\n",
      "\n",
      "*** Scroll from (585, 1560) to (751, 746) ***\n",
      "Action: {'type': 'swipe', 'coordinate': [(585, 1560), (751, 746)]}\n",
      "****** Replay Devices Number [1/2] ******\n",
      "Skip the Selected Source Device\n",
      "****** Replay Devices Number [2/2] ******\n",
      "Device ID: 1 Name:emulator-5556 Resolution:Size(width=1080, height=2280)\n",
      "*** Re-detect Selected Device's screenshot and GUI ***\n",
      "[Text Detection Completed in 0.617 s] Input: data/screen/0.png Output: data/output/ocr/0.json\n",
      "[Compo Detection Completed in 0.450 s] Input: data/screen/0.png Output: data/output/ip/0.json\n",
      "[Merge Completed] Input: data/screen/0.png Output: data/output/merge/0.jpg\n",
      "\n",
      "*** Tap (216, 648) ***\n",
      "Action: {'type': 'click', 'coordinate': [(216, 648), (-1, -1)]}\n",
      "****** Replay Devices Number [1/2] ******\n",
      "Skip the Selected Source Device\n",
      "****** Replay Devices Number [2/2] ******\n",
      "Device ID: 1 Name:emulator-5556 Resolution:Size(width=1080, height=2280)\n",
      "*** Re-detect Selected Device's screenshot and GUI ***\n",
      "[Text Detection Completed in 0.601 s] Input: data/screen/0.png Output: data/output/ocr/0.json\n",
      "[Compo Detection Completed in 0.423 s] Input: data/screen/0.png Output: data/output/ip/0.json\n",
      "[Merge Completed] Input: data/screen/0.png Output: data/output/merge/0.jpg\n",
      "\n",
      "*** Tap (115, 1144) ***\n",
      "Action: {'type': 'click', 'coordinate': [(115, 1144), (-1, -1)]}\n",
      "****** Replay Devices Number [1/2] ******\n",
      "Skip the Selected Source Device\n",
      "****** Replay Devices Number [2/2] ******\n",
      "Device ID: 1 Name:emulator-5556 Resolution:Size(width=1080, height=2280)\n",
      "*** Re-detect Selected Device's screenshot and GUI ***\n",
      "[Text Detection Completed in 0.473 s] Input: data/screen/0.png Output: data/output/ocr/0.json\n",
      "[Compo Detection Completed in 0.421 s] Input: data/screen/0.png Output: data/output/ip/0.json\n",
      "[Merge Completed] Input: data/screen/0.png Output: data/output/merge/0.jpg\n",
      "\n",
      "*** Tap (55, 141) ***\n",
      "Action: {'type': 'click', 'coordinate': [(55, 141), (-1, -1)]}\n",
      "****** Replay Devices Number [1/2] ******\n",
      "Skip the Selected Source Device\n",
      "****** Replay Devices Number [2/2] ******\n",
      "Device ID: 1 Name:emulator-5556 Resolution:Size(width=1080, height=2280)\n",
      "*** Re-detect Selected Device's screenshot and GUI ***\n",
      "[Text Detection Completed in 0.596 s] Input: data/screen/0.png Output: data/output/ocr/0.json\n",
      "[Compo Detection Completed in 0.444 s] Input: data/screen/0.png Output: data/output/ip/0.json\n",
      "[Merge Completed] Input: data/screen/0.png Output: data/output/merge/0.jpg\n"
     ]
    }
   ],
   "source": [
    "nicro.control_multiple_devices_through_source_device(is_replay=True)"
   ]
  },
  {
   "cell_type": "code",
   "execution_count": 6,
   "id": "33486a4e",
   "metadata": {},
   "outputs": [],
   "source": [
    "dev = nicro.source_device"
   ]
  },
  {
   "cell_type": "code",
   "execution_count": 8,
   "id": "d3bf2d16",
   "metadata": {},
   "outputs": [],
   "source": [
    "dev.GUI.show_detection_result()"
   ]
  },
  {
   "cell_type": "code",
   "execution_count": 10,
   "id": "967e6172",
   "metadata": {},
   "outputs": [
    {
     "data": {
      "text/plain": [
       "(800, 450, 3)"
      ]
     },
     "execution_count": 10,
     "metadata": {},
     "output_type": "execute_result"
    }
   ],
   "source": [
    "dev.GUI.det_result_imgs['merge'].shape"
   ]
  },
  {
   "cell_type": "code",
   "execution_count": null,
   "id": "ff1db6cc",
   "metadata": {},
   "outputs": [],
   "source": []
  }
 ],
 "metadata": {
  "kernelspec": {
   "display_name": "Python 3",
   "language": "python",
   "name": "python3"
  },
  "language_info": {
   "codemirror_mode": {
    "name": "ipython",
    "version": 3
   },
   "file_extension": ".py",
   "mimetype": "text/x-python",
   "name": "python",
   "nbconvert_exporter": "python",
   "pygments_lexer": "ipython3",
   "version": "3.6.9"
  }
 },
 "nbformat": 4,
 "nbformat_minor": 5
}
