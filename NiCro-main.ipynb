{
 "cells": [
  {
   "cell_type": "markdown",
   "id": "dd3befbc",
   "metadata": {},
   "source": [
    "# Run NiCro"
   ]
  },
  {
   "cell_type": "markdown",
   "id": "ce782afa",
   "metadata": {},
   "source": [
    "## 0. Initiate NiCro with ocr option (paddle or google)"
   ]
  },
  {
   "cell_type": "code",
   "execution_count": 1,
   "id": "3eda2d23",
   "metadata": {},
   "outputs": [],
   "source": [
    "from NiCro import NiCro\n",
    "\n",
    "nicro = NiCro(ocr_opt='google')"
   ]
  },
  {
   "cell_type": "markdown",
   "id": "0b2f596f",
   "metadata": {},
   "source": [
    "## 1. Load virtual devices and select one of them as the source device"
   ]
  },
  {
   "cell_type": "code",
   "execution_count": 3,
   "id": "efc1776f",
   "metadata": {},
   "outputs": [
    {
     "name": "stdout",
     "output_type": "stream",
     "text": [
      "Load 1 Device Emulators\n",
      "Selected Source Device:\n",
      "Device ID:0 Name:emulator-5554 Resolution:Size(width=1080, height=2340)\n",
      "\n",
      "Device Emulators:\n",
      "Device ID:0 Name:emulator-5554 Resolution:Size(width=1080, height=2340)\n",
      "No Robot Arm System\n"
     ]
    }
   ],
   "source": [
    "nicro.load_devices()"
   ]
  },
  {
   "cell_type": "markdown",
   "id": "21530685",
   "metadata": {},
   "source": [
    "## 2. Load robot system (optional)"
   ]
  },
  {
   "cell_type": "code",
   "execution_count": null,
   "id": "3f8449dd",
   "metadata": {},
   "outputs": [],
   "source": [
    "nicro.load_robot()"
   ]
  },
  {
   "cell_type": "markdown",
   "id": "cce3b7dc",
   "metadata": {},
   "source": [
    "## 3. Select a device as the recording device (source device) by device id"
   ]
  },
  {
   "cell_type": "code",
   "execution_count": null,
   "id": "77cffb11",
   "metadata": {},
   "outputs": [],
   "source": [
    "nicro.select_source_device(0)"
   ]
  },
  {
   "cell_type": "markdown",
   "id": "ecefa8e7",
   "metadata": {},
   "source": [
    "## 4. Detect GUI components for all the devices for their current GUI"
   ]
  },
  {
   "cell_type": "code",
   "execution_count": 5,
   "id": "25957d06",
   "metadata": {},
   "outputs": [
    {
     "name": "stdout",
     "output_type": "stream",
     "text": [
      "****** Device [1 / 1] ******\n",
      "\n",
      "****** Click (128, 582) ******\n",
      "Record action 0 to /home/ml/Data/visual testing/testcase/Desktop/4\n",
      "****** Re-detect Source Device's screenshot and GUI ******\n",
      "\n",
      "****** Click (798, 2269) ******\n",
      "Record action 1 to /home/ml/Data/visual testing/testcase/Desktop/4\n",
      "****** Re-detect Source Device's screenshot and GUI ******\n",
      "\n",
      "****** Scroll from (652, 1769) to (775, 210) ******\n",
      "Record action 2 to /home/ml/Data/visual testing/testcase/Desktop/4\n",
      "****** Re-detect Source Device's screenshot and GUI ******\n"
     ]
    }
   ],
   "source": [
    "nicro.detect_gui_info_for_all_devices(verbose=False, show=False)"
   ]
  },
  {
   "cell_type": "markdown",
   "id": "3ed66da1",
   "metadata": {},
   "source": [
    "## 5. Control the source device by mouse in real time"
   ]
  },
  {
   "cell_type": "markdown",
   "id": "3d3a808d",
   "metadata": {},
   "source": [
    "### 5.1 Replay the action on all devices"
   ]
  },
  {
   "cell_type": "code",
   "execution_count": 1,
   "id": "6b80ab14",
   "metadata": {},
   "outputs": [
    {
     "ename": "NameError",
     "evalue": "name 'nicro' is not defined",
     "output_type": "error",
     "traceback": [
      "\u001b[0;31m---------------------------------------------------------------------------\u001b[0m",
      "\u001b[0;31mNameError\u001b[0m                                 Traceback (most recent call last)",
      "\u001b[0;32m<ipython-input-1-4a22795ca6aa>\u001b[0m in \u001b[0;36m<module>\u001b[0;34m\u001b[0m\n\u001b[1;32m      1\u001b[0m \u001b[0;31m# 4. control the source device by mouse and replay the action on all other devices\u001b[0m\u001b[0;34m\u001b[0m\u001b[0;34m\u001b[0m\u001b[0;34m\u001b[0m\u001b[0m\n\u001b[0;32m----> 2\u001b[0;31m nicro.record_and_replay_actions(output_root='/home/ml/Data/visual testing/testcase', \n\u001b[0m\u001b[1;32m      3\u001b[0m                                 \u001b[0mapp_name\u001b[0m\u001b[0;34m=\u001b[0m\u001b[0;34m'Desktop'\u001b[0m\u001b[0;34m,\u001b[0m\u001b[0;34m\u001b[0m\u001b[0;34m\u001b[0m\u001b[0m\n\u001b[1;32m      4\u001b[0m                                 \u001b[0mtestcase_id\u001b[0m\u001b[0;34m=\u001b[0m\u001b[0;34m'4'\u001b[0m\u001b[0;34m,\u001b[0m\u001b[0;34m\u001b[0m\u001b[0;34m\u001b[0m\u001b[0m\n\u001b[1;32m      5\u001b[0m                                 \u001b[0mis_record\u001b[0m\u001b[0;34m=\u001b[0m\u001b[0;32mTrue\u001b[0m\u001b[0;34m,\u001b[0m\u001b[0;34m\u001b[0m\u001b[0;34m\u001b[0m\u001b[0m\n",
      "\u001b[0;31mNameError\u001b[0m: name 'nicro' is not defined"
     ]
    }
   ],
   "source": [
    "nicro.record_and_replay_actions(output_root='/home/ml/Data/visual testing/testcase', \n",
    "                                app_name='Desktop',\n",
    "                                testcase_id='1',\n",
    "                                is_record=False,\n",
    "                                is_replay=True)"
   ]
  },
  {
   "cell_type": "markdown",
   "id": "286723d2",
   "metadata": {},
   "source": [
    "### 5.2 Only save the action without replaying"
   ]
  },
  {
   "cell_type": "code",
   "execution_count": null,
   "id": "6ce79683",
   "metadata": {},
   "outputs": [],
   "source": [
    "nicro.record_and_replay_actions(output_root='/home/ml/Data/visual testing/testcase', \n",
    "                                app_name='Desktop',\n",
    "                                testcase_id='1',\n",
    "                                is_record=True,\n",
    "                                is_replay=False)"
   ]
  },
  {
   "cell_type": "markdown",
   "id": "0db4bbb6",
   "metadata": {},
   "source": [
    "# Module Testing"
   ]
  },
  {
   "cell_type": "markdown",
   "id": "ca3d9975",
   "metadata": {},
   "source": [
    "## Test Robotic system"
   ]
  },
  {
   "cell_type": "code",
   "execution_count": null,
   "id": "a8ea1377",
   "metadata": {},
   "outputs": [],
   "source": [
    "nicro.robot.control_robot_by_clicking_on_cam_video()   # test the robot system"
   ]
  },
  {
   "cell_type": "code",
   "execution_count": null,
   "id": "ad62bd46",
   "metadata": {},
   "outputs": [],
   "source": [
    "nicro.robot.detect_gui_element(nicro.paddle_ocr, show=True, ocr_opt=nicro.ocr_opt)   # detect GUI elements from photo (screen region)"
   ]
  },
  {
   "cell_type": "code",
   "execution_count": null,
   "id": "e3fb03e0",
   "metadata": {},
   "outputs": [],
   "source": [
    "nicro.robot.GUI.screen.show_clip()    # show the screen region"
   ]
  },
  {
   "cell_type": "markdown",
   "id": "31b89a7b",
   "metadata": {},
   "source": [
    "## Test widget matching methods on all devices"
   ]
  },
  {
   "cell_type": "code",
   "execution_count": null,
   "id": "50d6780c",
   "metadata": {},
   "outputs": [],
   "source": [
    "nicro.reset_matching_accuracy()\n",
    "nicro.click_to_match_widgets_cross_devices()  # click the target widget on the source device and match it on other devices"
   ]
  }
 ],
 "metadata": {
  "kernelspec": {
   "display_name": "Python 3",
   "language": "python",
   "name": "python3"
  },
  "language_info": {
   "codemirror_mode": {
    "name": "ipython",
    "version": 3
   },
   "file_extension": ".py",
   "mimetype": "text/x-python",
   "name": "python",
   "nbconvert_exporter": "python",
   "pygments_lexer": "ipython3",
   "version": "3.6.9"
  }
 },
 "nbformat": 4,
 "nbformat_minor": 5
}
