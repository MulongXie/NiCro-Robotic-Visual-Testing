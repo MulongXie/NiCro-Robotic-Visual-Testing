{
 "cells": [
  {
   "cell_type": "code",
   "execution_count": 1,
   "id": "cf8fa401",
   "metadata": {},
   "outputs": [],
   "source": [
    "from NiCro import NiCro"
   ]
  },
  {
   "cell_type": "code",
   "execution_count": 2,
   "id": "3b8108d8",
   "metadata": {},
   "outputs": [],
   "source": [
    "nicro = NiCro()"
   ]
  },
  {
   "cell_type": "code",
   "execution_count": 3,
   "id": "bb396a63",
   "metadata": {},
   "outputs": [
    {
     "name": "stdout",
     "output_type": "stream",
     "text": [
      "Load Robot Arm System\n"
     ]
    }
   ],
   "source": [
    "nicro.load_robot()"
   ]
  },
  {
   "cell_type": "code",
   "execution_count": 5,
   "id": "7e330c24",
   "metadata": {},
   "outputs": [],
   "source": [
    "nicro.robot.control_robot_by_clicking_on_cam_video()"
   ]
  },
  {
   "cell_type": "code",
   "execution_count": 6,
   "id": "49011f38",
   "metadata": {},
   "outputs": [
    {
     "name": "stdout",
     "output_type": "stream",
     "text": [
      "Selected Source Device:\n",
      "Device ID:0 Name:emulator-5554 Resolution:Size(width=2200, height=2480)\n",
      "\n",
      "Device Emulators:\n",
      "Device ID:0 Name:emulator-5554 Resolution:Size(width=2200, height=2480)\n",
      "Device ID:1 Name:emulator-5556 Resolution:Size(width=1080, height=2280)\n",
      "Device ID:2 Name:emulator-5558 Resolution:Size(width=1080, height=1920)\n",
      "Device ID:3 Name:emulator-5560 Resolution:Size(width=480, height=800)\n",
      "Robot Arm System Loaded\n"
     ]
    }
   ],
   "source": [
    "nicro.get_devices_info()"
   ]
  },
  {
   "cell_type": "code",
   "execution_count": 7,
   "id": "88291196",
   "metadata": {
    "scrolled": true
   },
   "outputs": [
    {
     "name": "stdout",
     "output_type": "stream",
     "text": [
      "****** Device [1 / 4] ******\n",
      "[Text Detection Completed in 1.616 s] Input: data/screen/emulator-5554.png Output: data/output/ocr/emulator-5554.json\n",
      "[Compo Detection Completed in 0.919 s] Input: data/screen/emulator-5554.png Output: data/output/ip/emulator-5554.json\n",
      "[Merge Completed] Input: data/screen/emulator-5554.png Output: data/output/merge/emulator-5554.jpg\n",
      "****** Device [2 / 4] ******\n",
      "[Text Detection Completed in 0.181 s] Input: data/screen/emulator-5556.png Output: data/output/ocr/emulator-5556.json\n",
      "[Compo Detection Completed in 0.467 s] Input: data/screen/emulator-5556.png Output: data/output/ip/emulator-5556.json\n",
      "[Merge Completed] Input: data/screen/emulator-5556.png Output: data/output/merge/emulator-5556.jpg\n",
      "****** Device [3 / 4] ******\n",
      "[Text Detection Completed in 0.139 s] Input: data/screen/emulator-5558.png Output: data/output/ocr/emulator-5558.json\n",
      "[Compo Detection Completed in 0.539 s] Input: data/screen/emulator-5558.png Output: data/output/ip/emulator-5558.json\n",
      "[Merge Completed] Input: data/screen/emulator-5558.png Output: data/output/merge/emulator-5558.jpg\n",
      "****** Device [4 / 4] ******\n",
      "[Text Detection Completed in 0.078 s] Input: data/screen/emulator-5560.png Output: data/output/ocr/emulator-5560.json\n",
      "[Compo Detection Completed in 0.365 s] Input: data/screen/emulator-5560.png Output: data/output/ip/emulator-5560.json\n",
      "[Merge Completed] Input: data/screen/emulator-5560.png Output: data/output/merge/emulator-5560.jpg\n",
      "****** Robot Arm [1 / 1] ******\n",
      "[Text Detection Completed in 0.089 s] Input: data/screen/robot_photo.png Output: data/output/ocr/robot_photo.json\n",
      "[Compo Detection Completed in 0.450 s] Input: data/screen/robot_photo.png Output: data/output/ip/robot_photo.json\n",
      "[Merge Completed] Input: data/screen/robot_photo.png Output: data/output/merge/robot_photo.jpg\n"
     ]
    }
   ],
   "source": [
    "nicro.detect_gui_info_for_all_devices(is_load=False, show=True)"
   ]
  },
  {
   "cell_type": "code",
   "execution_count": 6,
   "id": "e6f6a66e",
   "metadata": {},
   "outputs": [],
   "source": [
    "# nicro.control_multiple_devices_through_source_device(is_replay=True)"
   ]
  },
  {
   "cell_type": "code",
   "execution_count": null,
   "id": "5fdd7b51",
   "metadata": {},
   "outputs": [],
   "source": []
  },
  {
   "cell_type": "code",
   "execution_count": null,
   "id": "5af315ae",
   "metadata": {},
   "outputs": [],
   "source": [
    "nicro.detect_gui_info_for_all_devices(is_load=False, show=True)"
   ]
  },
  {
   "cell_type": "code",
   "execution_count": 7,
   "id": "bcb841b4",
   "metadata": {},
   "outputs": [],
   "source": [
    "nicro.reset_matching_accuracy()"
   ]
  },
  {
   "cell_type": "code",
   "execution_count": 8,
   "id": "2bc02f61",
   "metadata": {},
   "outputs": [
    {
     "name": "stdout",
     "output_type": "stream",
     "text": [
      "\n",
      "****** Test Round: 1 ******\n",
      "*** Matching Method: sift in Test Round 1 ***\n",
      "Device: emulator-5556 [0. 0. 0. 0. 0.]\n",
      "Device: emulator-5558 [0. 0. 0. 0. 0.]\n",
      "Device: emulator-5560 [0. 0. 0. 0. 0.]\n",
      "*** Matching Method: resnet in Test Round 1 ***\n",
      "Device: emulator-5556 [0. 1. 0. 0. 0.]\n",
      "Device: emulator-5558 [0. 1. 1. 0. 0.]\n",
      "Device: emulator-5560 [0. 1. 1. 0. 0.]\n",
      "*** Matching Method: template-match in Test Round 1 ***\n",
      "Device: emulator-5556 [0. 1. 0. 0. 0.]\n",
      "Device: emulator-5558 [0. 1. 0. 0. 0.]\n",
      "Device: emulator-5560 [0. 1. 0. 0. 0.]\n",
      "*** Matching Method: text in Test Round 1 ***\n",
      "Device: emulator-5556 [0. 0. 0. 0. 0.]\n",
      "Device: emulator-5558 [0. 0. 0. 0. 0.]\n",
      "Device: emulator-5560 [0. 0. 0. 0. 0.]\n",
      "*** Matching Method: nicro in Test Round 1 ***\n",
      "Successfully match element\n",
      "Device: emulator-5556 [0. 1. 0. 0. 0.]\n",
      "Successfully match element\n",
      "Device: emulator-5558 [0. 1. 1. 0. 0.]\n",
      "No element matched\n",
      "Device: emulator-5560 [0. 1. 1. 0. 0.]\n",
      "{'sift': array([0., 0., 0., 0., 0.]), 'resnet': array([0., 1., 1., 0., 0.]), 'template-match': array([0., 1., 0., 0., 0.]), 'text': array([0., 0., 0., 0., 0.]), 'nicro': array([0., 1., 1., 0., 0.])}\n",
      "\n",
      "****** Test Round: 2 ******\n",
      "*** Matching Method: sift in Test Round 2 ***\n",
      "Device: emulator-5556 [0. 0. 0. 0. 0.]\n",
      "Device: emulator-5558 [0. 0. 0. 0. 0.]\n",
      "Device: emulator-5560 [0. 0. 0. 0. 0.]\n",
      "*** Matching Method: resnet in Test Round 2 ***\n",
      "Device: emulator-5556 [0. 1. 1. 0. 0.]\n",
      "Device: emulator-5558 [0. 1. 1. 0. 0.]\n",
      "Device: emulator-5560 [0. 1. 1. 0. 0.]\n",
      "*** Matching Method: template-match in Test Round 2 ***\n",
      "Device: emulator-5556 [0. 1. 0. 0. 0.]\n",
      "Device: emulator-5558 [0. 1. 0. 0. 0.]\n",
      "Device: emulator-5560 [0. 1. 0. 0. 0.]\n",
      "*** Matching Method: text in Test Round 2 ***\n",
      "Device: emulator-5556 [0. 0. 0. 0. 0.]\n",
      "Device: emulator-5558 [0. 0. 0. 0. 0.]\n",
      "Device: emulator-5560 [0. 0. 0. 0. 0.]\n",
      "*** Matching Method: nicro in Test Round 2 ***\n",
      "No element matched\n",
      "Device: emulator-5556 [0. 1. 1. 0. 0.]\n",
      "No element matched\n",
      "Device: emulator-5558 [0. 1. 1. 0. 0.]\n",
      "No element matched\n",
      "Device: emulator-5560 [0. 1. 1. 0. 0.]\n",
      "{'sift': array([0., 0., 0., 0., 0.]), 'resnet': array([0., 1., 1., 0., 0.]), 'template-match': array([0., 1., 0., 0., 0.]), 'text': array([0., 0., 0., 0., 0.]), 'nicro': array([0., 1., 1., 0., 0.])}\n",
      "\n",
      "****** Test Round: 3 ******\n",
      "*** Matching Method: sift in Test Round 3 ***\n",
      "Device: emulator-5556 [0. 0. 0. 0. 0.]\n",
      "Device: emulator-5558 [0. 0. 0. 0. 0.]\n",
      "Device: emulator-5560 [0. 0. 0. 0. 0.]\n",
      "*** Matching Method: resnet in Test Round 3 ***\n",
      "Device: emulator-5556 [0. 2. 1. 0. 0.]\n",
      "Device: emulator-5558 [0. 2. 2. 0. 0.]\n",
      "Device: emulator-5560 [0. 2. 2. 0. 0.]\n",
      "*** Matching Method: template-match in Test Round 3 ***\n",
      "Device: emulator-5556 [0. 2. 0. 0. 0.]\n",
      "Device: emulator-5558 [0. 2. 0. 0. 0.]\n",
      "Device: emulator-5560 [0. 2. 0. 0. 0.]\n",
      "*** Matching Method: text in Test Round 3 ***\n",
      "Device: emulator-5556 [0. 0. 0. 0. 0.]\n",
      "Device: emulator-5558 [0. 0. 0. 0. 0.]\n",
      "Device: emulator-5560 [0. 0. 0. 0. 0.]\n",
      "*** Matching Method: nicro in Test Round 3 ***\n",
      "Successfully match element\n",
      "Device: emulator-5556 [0. 1. 1. 0. 0.]\n",
      "Successfully match element\n",
      "Device: emulator-5558 [0. 1. 2. 0. 0.]\n",
      "No element matched\n",
      "Device: emulator-5560 [0. 1. 2. 0. 0.]\n",
      "{'sift': array([0., 0., 0., 0., 0.]), 'resnet': array([0., 2., 2., 0., 0.]), 'template-match': array([0., 2., 0., 0., 0.]), 'text': array([0., 0., 0., 0., 0.]), 'nicro': array([0., 1., 2., 0., 0.])}\n",
      "\n",
      "****** Test Round: 4 ******\n",
      "*** Matching Method: sift in Test Round 4 ***\n",
      "Device: emulator-5556 [0. 0. 0. 0. 0.]\n",
      "Device: emulator-5558 [0. 0. 0. 0. 0.]\n",
      "Device: emulator-5560 [0. 0. 0. 0. 0.]\n",
      "*** Matching Method: resnet in Test Round 4 ***\n",
      "Device: emulator-5556 [0. 3. 2. 0. 0.]\n",
      "Device: emulator-5558 [0. 3. 3. 0. 0.]\n",
      "Device: emulator-5560 [0. 3. 3. 1. 0.]\n",
      "*** Matching Method: template-match in Test Round 4 ***\n",
      "Device: emulator-5556 [0. 3. 0. 0. 0.]\n",
      "Device: emulator-5558 [0. 3. 0. 0. 0.]\n",
      "Device: emulator-5560 [0. 3. 0. 0. 0.]\n",
      "*** Matching Method: text in Test Round 4 ***\n",
      "Device: emulator-5556 [0. 0. 0. 0. 0.]\n",
      "Device: emulator-5558 [0. 0. 0. 0. 0.]\n",
      "Device: emulator-5560 [0. 0. 0. 0. 0.]\n",
      "*** Matching Method: nicro in Test Round 4 ***\n",
      "Successfully match element\n",
      "Device: emulator-5556 [0. 2. 2. 0. 0.]\n",
      "Successfully match element\n",
      "Device: emulator-5558 [0. 2. 3. 0. 0.]\n",
      "Successfully match element\n",
      "Device: emulator-5560 [0. 2. 3. 1. 0.]\n",
      "{'sift': array([0., 0., 0., 0., 0.]), 'resnet': array([0., 3., 3., 1., 0.]), 'template-match': array([0., 3., 0., 0., 0.]), 'text': array([0., 0., 0., 0., 0.]), 'nicro': array([0., 2., 3., 1., 0.])}\n",
      "\n",
      "****** Test Round: 5 ******\n",
      "*** Matching Method: sift in Test Round 5 ***\n",
      "Device: emulator-5556 [0. 0. 0. 0. 0.]\n",
      "Device: emulator-5558 [0. 0. 0. 0. 0.]\n",
      "Device: emulator-5560 [0. 0. 0. 0. 0.]\n",
      "*** Matching Method: resnet in Test Round 5 ***\n",
      "Device: emulator-5556 [0. 4. 3. 1. 0.]\n",
      "Device: emulator-5558 [0. 4. 4. 1. 0.]\n",
      "Device: emulator-5560 [0. 4. 4. 1. 0.]\n",
      "*** Matching Method: template-match in Test Round 5 ***\n",
      "Device: emulator-5556 [0. 3. 0. 0. 0.]\n",
      "Device: emulator-5558 [0. 3. 0. 0. 0.]\n",
      "Device: emulator-5560 [0. 3. 0. 0. 0.]\n",
      "*** Matching Method: text in Test Round 5 ***\n",
      "Device: emulator-5556 [0. 0. 0. 0. 0.]\n",
      "Device: emulator-5558 [0. 0. 0. 0. 0.]\n",
      "Device: emulator-5560 [0. 0. 0. 0. 0.]\n",
      "*** Matching Method: nicro in Test Round 5 ***\n",
      "Successfully match element\n",
      "Device: emulator-5556 [0. 3. 3. 1. 0.]\n",
      "Successfully match element\n",
      "Device: emulator-5558 [0. 3. 4. 1. 0.]\n",
      "No element matched\n",
      "Device: emulator-5560 [0. 3. 4. 1. 0.]\n",
      "{'sift': array([0., 0., 0., 0., 0.]), 'resnet': array([0., 4., 4., 1., 0.]), 'template-match': array([0., 3., 0., 0., 0.]), 'text': array([0., 0., 0., 0., 0.]), 'nicro': array([0., 3., 4., 1., 0.])}\n",
      "\n",
      "****** Test Round: 6 ******\n",
      "*** Matching Method: sift in Test Round 6 ***\n",
      "Device: emulator-5556 [0. 0. 0. 0. 0.]\n",
      "Device: emulator-5558 [0. 0. 0. 0. 0.]\n",
      "Device: emulator-5560 [0. 0. 0. 0. 0.]\n",
      "*** Matching Method: resnet in Test Round 6 ***\n",
      "Device: emulator-5556 [0. 4. 4. 1. 0.]\n",
      "Device: emulator-5558 [0. 4. 4. 1. 0.]\n",
      "Device: emulator-5560 [0. 4. 4. 1. 0.]\n",
      "*** Matching Method: template-match in Test Round 6 ***\n",
      "Device: emulator-5556 [0. 3. 0. 0. 0.]\n",
      "Device: emulator-5558 [0. 3. 0. 0. 0.]\n",
      "Device: emulator-5560 [0. 3. 0. 0. 0.]\n",
      "*** Matching Method: text in Test Round 6 ***\n",
      "Device: emulator-5556 [0. 0. 0. 0. 0.]\n",
      "Device: emulator-5558 [0. 0. 0. 0. 0.]\n",
      "Device: emulator-5560 [0. 0. 0. 0. 0.]\n",
      "*** Matching Method: nicro in Test Round 6 ***\n",
      "Successfully match element\n",
      "Device: emulator-5556 [0. 3. 4. 1. 0.]\n",
      "Successfully match element\n",
      "Device: emulator-5558 [0. 3. 4. 1. 0.]\n",
      "Successfully match element\n",
      "Device: emulator-5560 [0. 3. 4. 1. 0.]\n",
      "{'sift': array([0., 0., 0., 0., 0.]), 'resnet': array([0., 4., 4., 1., 0.]), 'template-match': array([0., 3., 0., 0., 0.]), 'text': array([0., 0., 0., 0., 0.]), 'nicro': array([0., 3., 4., 1., 0.])}\n"
     ]
    }
   ],
   "source": [
    "nicro.click_to_match_widgets_cross_devices()"
   ]
  },
  {
   "cell_type": "code",
   "execution_count": 6,
   "id": "9c699543",
   "metadata": {},
   "outputs": [],
   "source": []
  },
  {
   "cell_type": "code",
   "execution_count": 12,
   "id": "b6d0a160",
   "metadata": {},
   "outputs": [
    {
     "name": "stdout",
     "output_type": "stream",
     "text": [
      "[Text Detection Completed in 0.080 s] Input: data/screen/robot_photo.png Output: data/output/ocr/robot_photo.json\n",
      "[Compo Detection Completed in 0.746 s] Input: data/screen/robot_photo.png Output: data/output/ip/robot_photo.json\n",
      "[Merge Completed] Input: data/screen/robot_photo.png Output: data/output/merge/robot_photo.jpg\n"
     ]
    }
   ],
   "source": [
    "nicro.robot.detect_gui_element(nicro.paddle_ocr, show=True)"
   ]
  },
  {
   "cell_type": "code",
   "execution_count": null,
   "id": "9460350d",
   "metadata": {},
   "outputs": [],
   "source": []
  }
 ],
 "metadata": {
  "kernelspec": {
   "display_name": "Python 3",
   "language": "python",
   "name": "python3"
  },
  "language_info": {
   "codemirror_mode": {
    "name": "ipython",
    "version": 3
   },
   "file_extension": ".py",
   "mimetype": "text/x-python",
   "name": "python",
   "nbconvert_exporter": "python",
   "pygments_lexer": "ipython3",
   "version": "3.6.9"
  }
 },
 "nbformat": 4,
 "nbformat_minor": 5
}
