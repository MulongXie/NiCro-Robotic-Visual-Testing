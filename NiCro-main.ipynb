{
 "cells": [
  {
   "cell_type": "code",
   "execution_count": 1,
   "id": "cf8fa401",
   "metadata": {},
   "outputs": [],
   "source": [
    "from NiCro import NiCro"
   ]
  },
  {
   "cell_type": "code",
   "execution_count": 2,
   "id": "3b8108d8",
   "metadata": {},
   "outputs": [],
   "source": [
    "nicro = NiCro(ocr_opt='paddle')"
   ]
  },
  {
   "cell_type": "code",
   "execution_count": 3,
   "id": "3404b4fb",
   "metadata": {},
   "outputs": [
    {
     "name": "stdout",
     "output_type": "stream",
     "text": [
      "Load Robot Arm System\n"
     ]
    }
   ],
   "source": [
    "nicro.load_robot()\n",
    "nicro.robot.control_robot_by_clicking_on_cam_video()"
   ]
  },
  {
   "cell_type": "code",
   "execution_count": 4,
   "id": "ff5779bf",
   "metadata": {},
   "outputs": [
    {
     "name": "stdout",
     "output_type": "stream",
     "text": [
      "Load 4 Device Emulators\n",
      "Selected Source Device:\n",
      "Device ID:0 Name:emulator-5554 Resolution:Size(width=2200, height=2480)\n",
      "\n",
      "Device Emulators:\n",
      "Device ID:0 Name:emulator-5554 Resolution:Size(width=2200, height=2480)\n",
      "Device ID:1 Name:emulator-5556 Resolution:Size(width=1080, height=2280)\n",
      "Device ID:2 Name:emulator-5558 Resolution:Size(width=1080, height=1920)\n",
      "Device ID:3 Name:emulator-5560 Resolution:Size(width=480, height=800)\n",
      "Robot Arm System Loaded\n"
     ]
    }
   ],
   "source": [
    "nicro.load_devices()\n",
    "nicro.select_source_device(0)"
   ]
  },
  {
   "cell_type": "code",
   "execution_count": 5,
   "id": "88291196",
   "metadata": {
    "scrolled": true
   },
   "outputs": [
    {
     "name": "stdout",
     "output_type": "stream",
     "text": [
      "****** Device [1 / 4] ******\n",
      "[Text Detection Completed in 1.471 s] Input: data/screen/emulator-5554.png Output: data/output/ocr/emulator-5554.json\n",
      "[Compo Detection Completed in 0.664 s] Input: data/screen/emulator-5554.png Output: data/output/ip/emulator-5554.json\n",
      "[Merge Completed] Input: data/screen/emulator-5554.png Output: data/output/merge/emulator-5554.jpg\n",
      "****** Device [2 / 4] ******\n",
      "[Text Detection Completed in 0.130 s] Input: data/screen/emulator-5556.png Output: data/output/ocr/emulator-5556.json\n",
      "[Compo Detection Completed in 0.416 s] Input: data/screen/emulator-5556.png Output: data/output/ip/emulator-5556.json\n",
      "[Merge Completed] Input: data/screen/emulator-5556.png Output: data/output/merge/emulator-5556.jpg\n",
      "****** Device [3 / 4] ******\n",
      "[Text Detection Completed in 0.131 s] Input: data/screen/emulator-5558.png Output: data/output/ocr/emulator-5558.json\n",
      "[Compo Detection Completed in 0.541 s] Input: data/screen/emulator-5558.png Output: data/output/ip/emulator-5558.json\n",
      "[Merge Completed] Input: data/screen/emulator-5558.png Output: data/output/merge/emulator-5558.jpg\n",
      "****** Device [4 / 4] ******\n",
      "[Text Detection Completed in 0.082 s] Input: data/screen/emulator-5560.png Output: data/output/ocr/emulator-5560.json\n",
      "[Compo Detection Completed in 0.451 s] Input: data/screen/emulator-5560.png Output: data/output/ip/emulator-5560.json\n",
      "[Merge Completed] Input: data/screen/emulator-5560.png Output: data/output/merge/emulator-5560.jpg\n",
      "****** Robot Arm [1 / 1] ******\n",
      "[Text Detection Completed in 0.087 s] Input: data/screen/robot_photo.png Output: data/output/ocr/robot_photo.json\n",
      "[Compo Detection Completed in 0.444 s] Input: data/screen/robot_photo.png Output: data/output/ip/robot_photo.json\n",
      "[Merge Completed] Input: data/screen/robot_photo.png Output: data/output/merge/robot_photo.jpg\n"
     ]
    }
   ],
   "source": [
    "nicro.detect_gui_info_for_all_devices(is_load=False, show=True)"
   ]
  },
  {
   "cell_type": "code",
   "execution_count": 6,
   "id": "e6f6a66e",
   "metadata": {},
   "outputs": [],
   "source": [
    "# nicro.control_multiple_devices_through_source_device(is_replay=True)"
   ]
  },
  {
   "cell_type": "code",
   "execution_count": null,
   "id": "5fdd7b51",
   "metadata": {},
   "outputs": [],
   "source": []
  },
  {
   "cell_type": "code",
   "execution_count": 9,
   "id": "bcb841b4",
   "metadata": {},
   "outputs": [],
   "source": [
    "nicro.reset_matching_accuracy()"
   ]
  },
  {
   "cell_type": "code",
   "execution_count": 10,
   "id": "2bc02f61",
   "metadata": {},
   "outputs": [
    {
     "ename": "AttributeError",
     "evalue": "'NoneType' object has no attribute 'copy'",
     "output_type": "error",
     "traceback": [
      "\u001b[0;31m---------------------------------------------------------------------------\u001b[0m",
      "\u001b[0;31mAttributeError\u001b[0m                            Traceback (most recent call last)",
      "\u001b[0;32m<ipython-input-10-83a64f79ae17>\u001b[0m in \u001b[0;36m<module>\u001b[0;34m\u001b[0m\n\u001b[0;32m----> 1\u001b[0;31m \u001b[0mnicro\u001b[0m\u001b[0;34m.\u001b[0m\u001b[0mclick_to_match_widgets_cross_devices\u001b[0m\u001b[0;34m(\u001b[0m\u001b[0;34m)\u001b[0m\u001b[0;34m\u001b[0m\u001b[0;34m\u001b[0m\u001b[0m\n\u001b[0m",
      "\u001b[0;32m~/Code/github/Robot-Visual-Testing/NiCro.py\u001b[0m in \u001b[0;36mclick_to_match_widgets_cross_devices\u001b[0;34m(self)\u001b[0m\n\u001b[1;32m    222\u001b[0m                 \u001b[0mcv2\u001b[0m\u001b[0;34m.\u001b[0m\u001b[0mimshow\u001b[0m\u001b[0;34m(\u001b[0m\u001b[0mwin_name\u001b[0m\u001b[0;34m,\u001b[0m \u001b[0mparams\u001b[0m\u001b[0;34m[\u001b[0m\u001b[0;36m0\u001b[0m\u001b[0;34m]\u001b[0m\u001b[0;34m)\u001b[0m\u001b[0;34m\u001b[0m\u001b[0;34m\u001b[0m\u001b[0m\n\u001b[1;32m    223\u001b[0m \u001b[0;34m\u001b[0m\u001b[0m\n\u001b[0;32m--> 224\u001b[0;31m         \u001b[0mboard\u001b[0m \u001b[0;34m=\u001b[0m \u001b[0ms_dev\u001b[0m\u001b[0;34m.\u001b[0m\u001b[0mGUI\u001b[0m\u001b[0;34m.\u001b[0m\u001b[0mdet_result_imgs\u001b[0m\u001b[0;34m[\u001b[0m\u001b[0;34m'merge'\u001b[0m\u001b[0;34m]\u001b[0m\u001b[0;34m.\u001b[0m\u001b[0mcopy\u001b[0m\u001b[0;34m(\u001b[0m\u001b[0;34m)\u001b[0m\u001b[0;34m\u001b[0m\u001b[0;34m\u001b[0m\u001b[0m\n\u001b[0m\u001b[1;32m    225\u001b[0m         \u001b[0mcv2\u001b[0m\u001b[0;34m.\u001b[0m\u001b[0mimshow\u001b[0m\u001b[0;34m(\u001b[0m\u001b[0mwin_name\u001b[0m\u001b[0;34m,\u001b[0m \u001b[0mboard\u001b[0m\u001b[0;34m)\u001b[0m\u001b[0;34m\u001b[0m\u001b[0;34m\u001b[0m\u001b[0m\n\u001b[1;32m    226\u001b[0m         \u001b[0mcv2\u001b[0m\u001b[0;34m.\u001b[0m\u001b[0msetMouseCallback\u001b[0m\u001b[0;34m(\u001b[0m\u001b[0mwin_name\u001b[0m\u001b[0;34m,\u001b[0m \u001b[0mon_mouse\u001b[0m\u001b[0;34m,\u001b[0m \u001b[0;34m[\u001b[0m\u001b[0mboard\u001b[0m\u001b[0;34m]\u001b[0m\u001b[0;34m)\u001b[0m\u001b[0;34m\u001b[0m\u001b[0;34m\u001b[0m\u001b[0m\n",
      "\u001b[0;31mAttributeError\u001b[0m: 'NoneType' object has no attribute 'copy'"
     ]
    }
   ],
   "source": [
    "nicro.click_to_match_widgets_cross_devices()"
   ]
  },
  {
   "cell_type": "code",
   "execution_count": 6,
   "id": "1eee2da5",
   "metadata": {},
   "outputs": [],
   "source": [
    "nicro.robot.control_robot_by_clicking_on_cam_video()"
   ]
  },
  {
   "cell_type": "code",
   "execution_count": 8,
   "id": "b7919d27",
   "metadata": {},
   "outputs": [
    {
     "name": "stdout",
     "output_type": "stream",
     "text": [
      "*** Please replace the Google OCR key at detect_text/ocr.py line 28 with your own (apply in https://cloud.google.com/vision) ***\n",
      "[Text Detection Completed in 0.072 s] Input: data/screen/robot_photo.png Output: data/output/ocr/robot_photo.json\n",
      "[Compo Detection Completed in 0.563 s] Input: data/screen/robot_photo.png Output: data/output/ip/robot_photo.json\n",
      "[Merge Completed] Input: data/screen/robot_photo.png Output: data/output/merge/robot_photo.jpg\n"
     ]
    }
   ],
   "source": [
    "nicro.robot.detect_gui_element(nicro.paddle_ocr, show=True, ocr_opt='google')"
   ]
  },
  {
   "cell_type": "code",
   "execution_count": null,
   "id": "c6af7afc",
   "metadata": {},
   "outputs": [],
   "source": []
  }
 ],
 "metadata": {
  "kernelspec": {
   "display_name": "Python 3",
   "language": "python",
   "name": "python3"
  },
  "language_info": {
   "codemirror_mode": {
    "name": "ipython",
    "version": 3
   },
   "file_extension": ".py",
   "mimetype": "text/x-python",
   "name": "python",
   "nbconvert_exporter": "python",
   "pygments_lexer": "ipython3",
   "version": "3.6.9"
  }
 },
 "nbformat": 4,
 "nbformat_minor": 5
}
