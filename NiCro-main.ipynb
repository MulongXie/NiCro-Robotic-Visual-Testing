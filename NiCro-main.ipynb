{
 "cells": [
  {
   "cell_type": "code",
   "execution_count": 1,
   "id": "cf8fa401",
   "metadata": {},
   "outputs": [],
   "source": [
    "from NiCro import NiCro"
   ]
  },
  {
   "cell_type": "code",
   "execution_count": 2,
   "id": "3b8108d8",
   "metadata": {},
   "outputs": [],
   "source": [
    "nicro = NiCro()"
   ]
  },
  {
   "cell_type": "code",
   "execution_count": 3,
   "id": "49011f38",
   "metadata": {},
   "outputs": [
    {
     "name": "stdout",
     "output_type": "stream",
     "text": [
      "Selected Source Device:\n",
      "Device ID:0 Name:emulator-5554 Resolution:Size(width=1080, height=2280)\n",
      "\n",
      "All Devices:\n",
      "Device ID:0 Name:emulator-5554 Resolution:Size(width=1080, height=2280)\n",
      "Device ID:1 Name:emulator-5556 Resolution:Size(width=1080, height=1920)\n"
     ]
    }
   ],
   "source": [
    "nicro.get_devices_info()"
   ]
  },
  {
   "cell_type": "code",
   "execution_count": 7,
   "id": "88291196",
   "metadata": {
    "scrolled": true
   },
   "outputs": [
    {
     "name": "stdout",
     "output_type": "stream",
     "text": [
      "****** Device [1 / 2] ******\n",
      "[Text Detection Completed in 0.132 s] Input: data/screen/emulator-5554.png Output: data/output/ocr/emulator-5554.json\n",
      "[Compo Detection Completed in 0.406 s] Input: data/screen/emulator-5554.png Output: data/output/ip/emulator-5554.json\n",
      "[Merge Completed] Input: data/screen/emulator-5554.png Output: data/output/merge/emulator-5554.jpg\n",
      "****** Device [2 / 2] ******\n",
      "[Text Detection Completed in 0.127 s] Input: data/screen/emulator-5556.png Output: data/output/ocr/emulator-5556.json\n",
      "[Compo Detection Completed in 0.531 s] Input: data/screen/emulator-5556.png Output: data/output/ip/emulator-5556.json\n",
      "[Merge Completed] Input: data/screen/emulator-5556.png Output: data/output/merge/emulator-5556.jpg\n"
     ]
    }
   ],
   "source": [
    "nicro.detect_gui_info_for_all_devices(is_load=False)"
   ]
  },
  {
   "cell_type": "code",
   "execution_count": 6,
   "id": "e6f6a66e",
   "metadata": {},
   "outputs": [
    {
     "name": "stdout",
     "output_type": "stream",
     "text": [
      "\n",
      "****** Tap (675, 1279) ******\n",
      "Action: {'type': 'click', 'coordinate': [(675, 1279), (-1, -1)]}\n",
      "No element found at (236, 448)\n",
      "*** Replay Devices Number [1/2] ***\n",
      "Skip the Selected Source Device\n",
      "*** Replay Devices Number [2/2] ***\n",
      "Device ID:1 Name:emulator-5556 Resolution:Size(width=1080, height=1920)\n",
      "****** Re-detect Selected Device's screenshot and GUI ******\n",
      "[Text Detection Completed in 0.165 s] Input: data/screen/emulator-5554.png Output: data/output/ocr/emulator-5554.json\n",
      "[Compo Detection Completed in 0.376 s] Input: data/screen/emulator-5554.png Output: data/output/ip/emulator-5554.json\n",
      "[Merge Completed] Input: data/screen/emulator-5554.png Output: data/output/merge/emulator-5554.jpg\n",
      "\n",
      "****** Tap (897, 259) ******\n",
      "Action: {'type': 'click', 'coordinate': [(897, 259), (-1, -1)]}\n",
      "*** Replay Devices Number [1/2] ***\n",
      "Skip the Selected Source Device\n",
      "*** Replay Devices Number [2/2] ***\n",
      "Device ID:1 Name:emulator-5556 Resolution:Size(width=1080, height=1920)\n",
      "Match by image\n",
      "[(909, 134)]\n",
      "****** Re-detect Selected Device's screenshot and GUI ******\n",
      "[Text Detection Completed in 0.176 s] Input: data/screen/emulator-5554.png Output: data/output/ocr/emulator-5554.json\n",
      "[Compo Detection Completed in 0.395 s] Input: data/screen/emulator-5554.png Output: data/output/ip/emulator-5554.json\n",
      "[Merge Completed] Input: data/screen/emulator-5554.png Output: data/output/merge/emulator-5554.jpg\n",
      "\n",
      "****** Tap (498, 1305) ******\n",
      "Action: {'type': 'click', 'coordinate': [(498, 1305), (-1, -1)]}\n",
      "No element found at (174, 457)\n",
      "*** Replay Devices Number [1/2] ***\n",
      "Skip the Selected Source Device\n",
      "*** Replay Devices Number [2/2] ***\n",
      "Device ID:1 Name:emulator-5556 Resolution:Size(width=1080, height=1920)\n",
      "****** Re-detect Selected Device's screenshot and GUI ******\n",
      "[Text Detection Completed in 0.163 s] Input: data/screen/emulator-5554.png Output: data/output/ocr/emulator-5554.json\n",
      "[Compo Detection Completed in 0.378 s] Input: data/screen/emulator-5554.png Output: data/output/ip/emulator-5554.json\n",
      "[Merge Completed] Input: data/screen/emulator-5554.png Output: data/output/merge/emulator-5554.jpg\n",
      "\n",
      "****** Scroll from (607, 1336) to (547, 384) ******\n",
      "Action: {'type': 'swipe', 'coordinate': [(607, 1336), (547, 384)]}\n",
      "*** Replay Devices Number [1/2] ***\n",
      "Skip the Selected Source Device\n",
      "*** Replay Devices Number [2/2] ***\n",
      "Device ID:1 Name:emulator-5556 Resolution:Size(width=1080, height=1920)\n",
      "****** Re-detect Selected Device's screenshot and GUI ******\n",
      "[Text Detection Completed in 0.179 s] Input: data/screen/emulator-5554.png Output: data/output/ocr/emulator-5554.json\n",
      "[Compo Detection Completed in 0.379 s] Input: data/screen/emulator-5554.png Output: data/output/ip/emulator-5554.json\n",
      "[Merge Completed] Input: data/screen/emulator-5554.png Output: data/output/merge/emulator-5554.jpg\n",
      "\n",
      "****** Scroll from (615, 1479) to (513, 333) ******\n",
      "Action: {'type': 'swipe', 'coordinate': [(615, 1479), (513, 333)]}\n",
      "*** Replay Devices Number [1/2] ***\n",
      "Skip the Selected Source Device\n",
      "*** Replay Devices Number [2/2] ***\n",
      "Device ID:1 Name:emulator-5556 Resolution:Size(width=1080, height=1920)\n",
      "****** Re-detect Selected Device's screenshot and GUI ******\n",
      "[Text Detection Completed in 0.182 s] Input: data/screen/emulator-5554.png Output: data/output/ocr/emulator-5554.json\n",
      "[Compo Detection Completed in 0.445 s] Input: data/screen/emulator-5554.png Output: data/output/ip/emulator-5554.json\n",
      "[Merge Completed] Input: data/screen/emulator-5554.png Output: data/output/merge/emulator-5554.jpg\n",
      "\n",
      "****** Scroll from (629, 775) to (555, 1162) ******\n",
      "Action: {'type': 'swipe', 'coordinate': [(629, 775), (555, 1162)]}\n",
      "*** Replay Devices Number [1/2] ***\n",
      "Skip the Selected Source Device\n",
      "*** Replay Devices Number [2/2] ***\n",
      "Device ID:1 Name:emulator-5556 Resolution:Size(width=1080, height=1920)\n",
      "****** Re-detect Selected Device's screenshot and GUI ******\n",
      "[Text Detection Completed in 0.182 s] Input: data/screen/emulator-5554.png Output: data/output/ocr/emulator-5554.json\n",
      "[Compo Detection Completed in 0.385 s] Input: data/screen/emulator-5554.png Output: data/output/ip/emulator-5554.json\n",
      "[Merge Completed] Input: data/screen/emulator-5554.png Output: data/output/merge/emulator-5554.jpg\n",
      "\n",
      "****** Scroll from (655, 655) to (775, 1473) ******\n",
      "Action: {'type': 'swipe', 'coordinate': [(655, 655), (775, 1473)]}\n",
      "*** Replay Devices Number [1/2] ***\n",
      "Skip the Selected Source Device\n",
      "*** Replay Devices Number [2/2] ***\n",
      "Device ID:1 Name:emulator-5556 Resolution:Size(width=1080, height=1920)\n",
      "****** Re-detect Selected Device's screenshot and GUI ******\n",
      "[Text Detection Completed in 0.195 s] Input: data/screen/emulator-5554.png Output: data/output/ocr/emulator-5554.json\n",
      "[Compo Detection Completed in 0.442 s] Input: data/screen/emulator-5554.png Output: data/output/ip/emulator-5554.json\n",
      "[Merge Completed] Input: data/screen/emulator-5554.png Output: data/output/merge/emulator-5554.jpg\n",
      "\n",
      "****** Scroll from (532, 689) to (532, 1615) ******\n",
      "Action: {'type': 'swipe', 'coordinate': [(532, 689), (532, 1615)]}\n",
      "*** Replay Devices Number [1/2] ***\n",
      "Skip the Selected Source Device\n",
      "*** Replay Devices Number [2/2] ***\n",
      "Device ID:1 Name:emulator-5556 Resolution:Size(width=1080, height=1920)\n",
      "****** Re-detect Selected Device's screenshot and GUI ******\n",
      "[Text Detection Completed in 0.173 s] Input: data/screen/emulator-5554.png Output: data/output/ocr/emulator-5554.json\n",
      "[Compo Detection Completed in 0.431 s] Input: data/screen/emulator-5554.png Output: data/output/ip/emulator-5554.json\n",
      "[Merge Completed] Input: data/screen/emulator-5554.png Output: data/output/merge/emulator-5554.jpg\n",
      "\n",
      "****** Scroll from (723, 584) to (789, 1809) ******\n",
      "Action: {'type': 'swipe', 'coordinate': [(723, 584), (789, 1809)]}\n",
      "*** Replay Devices Number [1/2] ***\n",
      "Skip the Selected Source Device\n",
      "*** Replay Devices Number [2/2] ***\n",
      "Device ID:1 Name:emulator-5556 Resolution:Size(width=1080, height=1920)\n",
      "****** Re-detect Selected Device's screenshot and GUI ******\n",
      "[Text Detection Completed in 0.134 s] Input: data/screen/emulator-5554.png Output: data/output/ocr/emulator-5554.json\n",
      "[Compo Detection Completed in 0.531 s] Input: data/screen/emulator-5554.png Output: data/output/ip/emulator-5554.json\n",
      "[Merge Completed] Input: data/screen/emulator-5554.png Output: data/output/merge/emulator-5554.jpg\n"
     ]
    }
   ],
   "source": [
    "nicro.control_multiple_devices_through_source_device(is_replay=True)"
   ]
  },
  {
   "cell_type": "code",
   "execution_count": null,
   "id": "bcb841b4",
   "metadata": {},
   "outputs": [],
   "source": []
  },
  {
   "cell_type": "code",
   "execution_count": null,
   "id": "bcbbe121",
   "metadata": {},
   "outputs": [],
   "source": []
  },
  {
   "cell_type": "code",
   "execution_count": null,
   "id": "3f8f923b",
   "metadata": {},
   "outputs": [],
   "source": []
  }
 ],
 "metadata": {
  "kernelspec": {
   "display_name": "Python 3",
   "language": "python",
   "name": "python3"
  },
  "language_info": {
   "codemirror_mode": {
    "name": "ipython",
    "version": 3
   },
   "file_extension": ".py",
   "mimetype": "text/x-python",
   "name": "python",
   "nbconvert_exporter": "python",
   "pygments_lexer": "ipython3",
   "version": "3.6.9"
  }
 },
 "nbformat": 4,
 "nbformat_minor": 5
}
