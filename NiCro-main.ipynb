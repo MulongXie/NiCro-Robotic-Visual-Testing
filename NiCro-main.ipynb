{
 "cells": [
  {
   "cell_type": "code",
   "execution_count": 1,
   "id": "cb62fc31",
   "metadata": {},
   "outputs": [
    {
     "name": "stdout",
     "output_type": "stream",
     "text": [
      "[2022/04/27 19:46:20] root WARNING: lang en is not support in PP-OCRv2, auto switch to version PP-OCR\n",
      "[2022/04/27 19:46:20] root WARNING: lang en is not support in PP-OCRv2, auto switch to version PP-OCR\n",
      "[2022/04/27 19:46:20] root WARNING: version PP-OCRv2 not support cls models, auto switch to version PP-OCR\n",
      "Namespace(benchmark=False, cls_batch_num=6, cls_image_shape='3, 48, 192', cls_model_dir='/home/ml/.paddleocr/2.3.0.2/ocr/cls/ch_ppocr_mobile_v2.0_cls_infer', cls_thresh=0.9, cpu_threads=10, det=True, det_algorithm='DB', det_db_box_thresh=0.6, det_db_score_mode='fast', det_db_thresh=0.3, det_db_unclip_ratio=1.5, det_east_cover_thresh=0.1, det_east_nms_thresh=0.2, det_east_score_thresh=0.8, det_limit_side_len=960, det_limit_type='max', det_model_dir='/home/ml/.paddleocr/2.3.0.2/ocr/det/en/en_ppocr_mobile_v2.0_det_infer', det_pse_box_thresh=0.85, det_pse_box_type='box', det_pse_min_area=16, det_pse_scale=1, det_pse_thresh=0, det_sast_nms_thresh=0.2, det_sast_polygon=False, det_sast_score_thresh=0.5, drop_score=0.5, e2e_algorithm='PGNet', e2e_char_dict_path='./ppocr/utils/ic15_dict.txt', e2e_limit_side_len=768, e2e_limit_type='max', e2e_model_dir=None, e2e_pgnet_mode='fast', e2e_pgnet_polygon=True, e2e_pgnet_score_thresh=0.5, e2e_pgnet_valid_set='totaltext', enable_mkldnn=False, gpu_mem=500, help='==SUPPRESS==', image_dir=None, ir_optim=True, label_list=['0', '180'], lang='en', layout_path_model='lp://PubLayNet/ppyolov2_r50vd_dcn_365e_publaynet/config', max_batch_size=10, max_text_length=25, min_subgraph_size=15, ocr_version='PP-OCRv2', output='./output/table', precision='fp32', process_id=0, rec=True, rec_algorithm='CRNN', rec_batch_num=6, rec_char_dict_path='/home/ml/.local/lib/python3.6/site-packages/paddleocr/ppocr/utils/en_dict.txt', rec_image_shape='3, 32, 320', rec_model_dir='/home/ml/.paddleocr/2.3.0.2/ocr/rec/en/en_number_mobile_v2.0_rec_infer', save_log_path='./log_output/', show_log=False, structure_version='STRUCTURE', table_char_dict_path=None, table_char_type='en', table_max_len=488, table_model_dir=None, total_process_num=1, type='ocr', use_angle_cls=True, use_dilation=False, use_gpu=False, use_mp=False, use_onnx=False, use_pdserving=False, use_space_char=True, use_tensorrt=False, vis_font_path='./doc/fonts/simfang.ttf', warmup=True)\n"
     ]
    }
   ],
   "source": [
    "from NiCro import NiCro"
   ]
  },
  {
   "cell_type": "code",
   "execution_count": 2,
   "id": "8ca6b41e",
   "metadata": {},
   "outputs": [],
   "source": [
    "nicro = NiCro()"
   ]
  },
  {
   "cell_type": "code",
   "execution_count": 3,
   "id": "d558510c",
   "metadata": {},
   "outputs": [
    {
     "name": "stdout",
     "output_type": "stream",
     "text": [
      "Selected Source Device:\n",
      "0 - Number:emulator-5554 Resolution:Size(width=1080, height=2280)\n",
      "\n",
      "All Devices:\n",
      "0 - Number:emulator-5554 Resolution:Size(width=1080, height=2280)\n",
      "1 - Number:emulator-5556 Resolution:Size(width=1080, height=1920)\n"
     ]
    }
   ],
   "source": [
    "nicro.get_devices_info()"
   ]
  },
  {
   "cell_type": "code",
   "execution_count": null,
   "id": "62e94397",
   "metadata": {},
   "outputs": [
    {
     "name": "stdout",
     "output_type": "stream",
     "text": [
      "****** Device [1 / 2] ******\n",
      "[Text Detection Completed in 0.621 s] Input: data/screen/0.png Output: data/output/ocr/0.json\n",
      "[Compo Detection Completed in 0.396 s] Input: data/screen/0.png Output: data/output/ip/0.json\n",
      "[Merge Completed] Input: data/screen/0.png Output: data/output/merge/0.jpg\n",
      "****** Device [2 / 2] ******\n",
      "[Text Detection Completed in 0.522 s] Input: data/screen/1.png Output: data/output/ocr/1.json\n",
      "[Compo Detection Completed in 0.456 s] Input: data/screen/1.png Output: data/output/ip/1.json\n",
      "[Merge Completed] Input: data/screen/1.png Output: data/output/merge/1.jpg\n"
     ]
    }
   ],
   "source": [
    "nicro.detect_gui_info_for_all_devices(is_load=False)"
   ]
  },
  {
   "cell_type": "code",
   "execution_count": null,
   "id": "9b678770",
   "metadata": {},
   "outputs": [],
   "source": []
  },
  {
   "cell_type": "code",
   "execution_count": 5,
   "id": "76fb7eca",
   "metadata": {},
   "outputs": [
    {
     "name": "stdout",
     "output_type": "stream",
     "text": [
      "\n",
      "Tap (72, 243)\n",
      "Re-detect screenshot and GUI\n",
      "[Text Detection Completed in 0.544 s] Input: data/screen/0.png Output: data/output/ocr/0.json\n",
      "[Compo Detection Completed in 0.367 s] Input: data/screen/0.png Output: data/output/ip/0.json\n",
      "[Merge Completed] Input: data/screen/0.png Output: data/output/merge/0.jpg\n",
      "\n",
      "Scroll from (630, 660) to (663, 1239)\n",
      "Re-detect screenshot and GUI\n",
      "[Text Detection Completed in 0.559 s] Input: data/screen/0.png Output: data/output/ocr/0.json\n",
      "[Compo Detection Completed in 0.390 s] Input: data/screen/0.png Output: data/output/ip/0.json\n",
      "[Merge Completed] Input: data/screen/0.png Output: data/output/merge/0.jpg\n"
     ]
    }
   ],
   "source": [
    "nicro.control_multiple_devices_through_source_device(is_replay=False)"
   ]
  },
  {
   "cell_type": "code",
   "execution_count": null,
   "id": "97d78a58",
   "metadata": {},
   "outputs": [],
   "source": []
  }
 ],
 "metadata": {
  "kernelspec": {
   "display_name": "Python 3",
   "language": "python",
   "name": "python3"
  },
  "language_info": {
   "codemirror_mode": {
    "name": "ipython",
    "version": 3
   },
   "file_extension": ".py",
   "mimetype": "text/x-python",
   "name": "python",
   "nbconvert_exporter": "python",
   "pygments_lexer": "ipython3",
   "version": "3.6.9"
  }
 },
 "nbformat": 4,
 "nbformat_minor": 5
}
