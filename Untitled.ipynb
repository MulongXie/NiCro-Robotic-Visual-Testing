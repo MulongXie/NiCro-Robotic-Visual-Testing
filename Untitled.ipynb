{
 "cells": [
  {
   "cell_type": "code",
   "execution_count": 7,
   "id": "1838ddc7",
   "metadata": {},
   "outputs": [],
   "source": [
    "import json\n",
    "from glob import glob\n",
    "from os.path import join as pjoin\n",
    "import os\n",
    "import cv2"
   ]
  },
  {
   "cell_type": "code",
   "execution_count": 2,
   "id": "cf01d620",
   "metadata": {},
   "outputs": [],
   "source": [
    "data_root = '/home/ml/Data/visual testing/experiments/humanoid-output/adguard-1'"
   ]
  },
  {
   "cell_type": "code",
   "execution_count": 4,
   "id": "19da741b",
   "metadata": {},
   "outputs": [],
   "source": [
    "steps_file = pjoin(data_root, 'output.json')\n",
    "steps = json.load(open(steps_file, 'r'))"
   ]
  },
  {
   "cell_type": "code",
   "execution_count": 18,
   "id": "8f7ffade",
   "metadata": {},
   "outputs": [],
   "source": [
    "for step in steps:\n",
    "    img = cv2.imread(pjoin(data_root, step['tag'] + '.jpg'))\n",
    "    bounds = step['bounds']\n",
    "    clip = img[bounds[0][1]: bounds[1][1], bounds[0][0]: bounds[1][0]]\n",
    "    cv2.rectangle(img, bounds[0], bounds[1], (255,0,0), 2)\n",
    "    cv2.imshow('img', cv2.resize(img, (800, 600)))\n",
    "    cv2.imshow('clip', clip)\n",
    "    cv2.waitKey()\n",
    "cv2.destroyAllWindows()"
   ]
  },
  {
   "cell_type": "code",
   "execution_count": 16,
   "id": "f7edd2d4",
   "metadata": {},
   "outputs": [],
   "source": []
  }
 ],
 "metadata": {
  "kernelspec": {
   "display_name": "Python 3",
   "language": "python",
   "name": "python3"
  },
  "language_info": {
   "codemirror_mode": {
    "name": "ipython",
    "version": 3
   },
   "file_extension": ".py",
   "mimetype": "text/x-python",
   "name": "python",
   "nbconvert_exporter": "python",
   "pygments_lexer": "ipython3",
   "version": "3.6.9"
  }
 },
 "nbformat": 4,
 "nbformat_minor": 5
}
