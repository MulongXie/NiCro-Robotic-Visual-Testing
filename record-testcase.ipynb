{
 "cells": [
  {
   "cell_type": "code",
   "execution_count": 1,
   "id": "3eda2d23",
   "metadata": {},
   "outputs": [],
   "source": [
    "from NiCro import NiCro"
   ]
  },
  {
   "cell_type": "code",
   "execution_count": 2,
   "id": "79ebb1c7",
   "metadata": {},
   "outputs": [],
   "source": [
    "nicro = NiCro(ocr_opt='google')"
   ]
  },
  {
   "cell_type": "code",
   "execution_count": 3,
   "id": "efc1776f",
   "metadata": {},
   "outputs": [
    {
     "name": "stdout",
     "output_type": "stream",
     "text": [
      "Load 1 Device Emulators\n",
      "Selected Source Device:\n",
      "Device ID:0 Name:emulator-5554 Resolution:Size(width=1080, height=2340)\n",
      "\n",
      "Device Emulators:\n",
      "Device ID:0 Name:emulator-5554 Resolution:Size(width=1080, height=2340)\n",
      "No Robot Arm System\n"
     ]
    }
   ],
   "source": [
    "nicro.load_devices()\n",
    "nicro.select_source_device(0)"
   ]
  },
  {
   "cell_type": "code",
   "execution_count": 6,
   "id": "25957d06",
   "metadata": {},
   "outputs": [
    {
     "name": "stdout",
     "output_type": "stream",
     "text": [
      "****** Device [1 / 1] ******\n",
      "\n",
      "****** Click (400, 312) ******\n",
      "Record action 0 to /home/ml/Data/visual testing/testcase2/Booking/1\n",
      "****** Re-detect Source Device's screenshot and GUI ******\n",
      "\n",
      "****** Click (441, 538) ******\n",
      "Record action 1 to /home/ml/Data/visual testing/testcase2/Booking/1\n",
      "****** Re-detect Source Device's screenshot and GUI ******\n",
      "\n",
      "****** Click (476, 810) ******\n",
      "Record action 2 to /home/ml/Data/visual testing/testcase2/Booking/1\n",
      "****** Re-detect Source Device's screenshot and GUI ******\n"
     ]
    }
   ],
   "source": [
    "nicro.detect_gui_info_for_all_devices(verbose=False, show=False)\n",
    "nicro.record_actions(output_root='/home/ml/Data/visual testing/testcase2', \n",
    "                     app_name='Booking', \n",
    "                     testcase_id='1', \n",
    "                     wait_fresh_time=2.0)"
   ]
  },
  {
   "cell_type": "code",
   "execution_count": null,
   "id": "6b80ab14",
   "metadata": {},
   "outputs": [],
   "source": []
  }
 ],
 "metadata": {
  "kernelspec": {
   "display_name": "Python 3",
   "language": "python",
   "name": "python3"
  },
  "language_info": {
   "codemirror_mode": {
    "name": "ipython",
    "version": 3
   },
   "file_extension": ".py",
   "mimetype": "text/x-python",
   "name": "python",
   "nbconvert_exporter": "python",
   "pygments_lexer": "ipython3",
   "version": "3.6.9"
  }
 },
 "nbformat": 4,
 "nbformat_minor": 5
}
