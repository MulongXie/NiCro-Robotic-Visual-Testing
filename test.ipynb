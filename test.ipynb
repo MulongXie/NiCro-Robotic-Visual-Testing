{
 "cells": [
  {
   "cell_type": "code",
   "execution_count": 1,
   "id": "6ba90f19",
   "metadata": {},
   "outputs": [],
   "source": [
    "from NiCro import NiCro"
   ]
  },
  {
   "cell_type": "code",
   "execution_count": 2,
   "id": "368cec15",
   "metadata": {},
   "outputs": [],
   "source": [
    "nicro = NiCro(ocr_opt='google')"
   ]
  },
  {
   "cell_type": "code",
   "execution_count": 3,
   "id": "585518d8",
   "metadata": {},
   "outputs": [
    {
     "name": "stdout",
     "output_type": "stream",
     "text": [
      "Load 3 Device Emulators\n",
      "Selected Source Device:\n",
      "Device ID:0 Name:emulator-5554 Resolution:Size(width=1080, height=2340)\n",
      "\n",
      "Device Emulators:\n",
      "Device ID:0 Name:emulator-5554 Resolution:Size(width=1080, height=2340)\n",
      "Device ID:1 Name:emulator-5556 Resolution:Size(width=480, height=800)\n",
      "Device ID:2 Name:emulator-5558 Resolution:Size(width=2200, height=2480)\n",
      "No Robot Arm System\n"
     ]
    }
   ],
   "source": [
    "nicro.load_devices()\n",
    "nicro.select_source_device(0)"
   ]
  },
  {
   "cell_type": "code",
   "execution_count": null,
   "id": "92d53eaa",
   "metadata": {},
   "outputs": [
    {
     "name": "stdout",
     "output_type": "stream",
     "text": [
      "****** GUI Component Detection Device [1 / 3] ******\n"
     ]
    }
   ],
   "source": [
    "nicro.detect_gui_info_for_all_devices(verbose=False, show=False)\n",
    "nicro.record_and_replay_actions(output_root='/home/ml/Data/visual testing/replay', \n",
    "                                app_name='Desktop',\n",
    "                                testcase_id='1',\n",
    "                                is_record=False,\n",
    "                                is_replay=True)"
   ]
  },
  {
   "cell_type": "code",
   "execution_count": null,
   "id": "9e66b64d",
   "metadata": {},
   "outputs": [],
   "source": []
  },
  {
   "cell_type": "code",
   "execution_count": null,
   "id": "964907d0",
   "metadata": {},
   "outputs": [],
   "source": []
  },
  {
   "cell_type": "code",
   "execution_count": null,
   "id": "9433c591",
   "metadata": {},
   "outputs": [],
   "source": []
  },
  {
   "cell_type": "code",
   "execution_count": 5,
   "id": "65a3fd67",
   "metadata": {},
   "outputs": [],
   "source": [
    "device = nicro.devices[2]"
   ]
  },
  {
   "cell_type": "code",
   "execution_count": 6,
   "id": "8efe0686",
   "metadata": {},
   "outputs": [
    {
     "data": {
      "text/plain": [
       "(800, 709, 3)"
      ]
     },
     "execution_count": 6,
     "metadata": {},
     "output_type": "execute_result"
    }
   ],
   "source": [
    "device.GUI.det_result_imgs['merge'].shape"
   ]
  },
  {
   "cell_type": "code",
   "execution_count": null,
   "id": "604ded78",
   "metadata": {},
   "outputs": [],
   "source": []
  },
  {
   "cell_type": "code",
   "execution_count": 13,
   "id": "ef1bf536",
   "metadata": {},
   "outputs": [
    {
     "name": "stdout",
     "output_type": "stream",
     "text": [
      "((289, 475), (339, 218))\n"
     ]
    }
   ],
   "source": [
    "device.execute_action('swipe', ((289, 475), (339, 218)), '/home/ml/Data/visual testing/replay/Desktop/1/s.jpg')"
   ]
  },
  {
   "cell_type": "code",
   "execution_count": 11,
   "id": "c57fe1d1",
   "metadata": {},
   "outputs": [
    {
     "name": "stdout",
     "output_type": "stream",
     "text": [
      "Device ID:0 Name:emulator-5554 Resolution:Size(width=1080, height=2340)\n"
     ]
    }
   ],
   "source": [
    "nicro.source_device.get_devices_info()"
   ]
  },
  {
   "cell_type": "code",
   "execution_count": 8,
   "id": "8ef91f53",
   "metadata": {},
   "outputs": [
    {
     "name": "stdout",
     "output_type": "stream",
     "text": [
      "Device ID:1 Name:emulator-5556 Resolution:Size(width=480, height=800)\n"
     ]
    }
   ],
   "source": [
    "device.get_devices_info()"
   ]
  },
  {
   "cell_type": "code",
   "execution_count": 12,
   "id": "766cccd8",
   "metadata": {},
   "outputs": [
    {
     "name": "stdout",
     "output_type": "stream",
     "text": [
      "0.59375 0.2725\n",
      "0.5948717948717949 0.27350427350427353\n"
     ]
    }
   ],
   "source": [
    "print(475/800, 218/800)\n",
    "print(1392/2340, 640/2340)"
   ]
  },
  {
   "cell_type": "code",
   "execution_count": null,
   "id": "39a7b33f",
   "metadata": {},
   "outputs": [],
   "source": []
  },
  {
   "cell_type": "code",
   "execution_count": 1,
   "id": "c446b1e8",
   "metadata": {},
   "outputs": [],
   "source": [
    "import cv2\n",
    "import element_detection.detect_text.text_detection as text\n",
    "import element_detection.detect_compo.lib_ip.ip_preprocessing as pre"
   ]
  },
  {
   "cell_type": "code",
   "execution_count": 3,
   "id": "9f3d4cf0",
   "metadata": {},
   "outputs": [
    {
     "name": "stdout",
     "output_type": "stream",
     "text": [
      "[Text Detection Completed in 0.213 s] Input: data/screen/emulator-5556.png Output: data/output/ocr/emulator-5556.json\n"
     ]
    }
   ],
   "source": [
    "b, result = text.text_detection_google('data/screen/emulator-5556.png', 'data/output/ocr', True)"
   ]
  },
  {
   "cell_type": "code",
   "execution_count": 3,
   "id": "5d84bfd1",
   "metadata": {},
   "outputs": [
    {
     "data": {
      "text/plain": [
       "33"
      ]
     },
     "execution_count": 3,
     "metadata": {},
     "output_type": "execute_result"
    }
   ],
   "source": [
    "len(result)"
   ]
  },
  {
   "cell_type": "code",
   "execution_count": 4,
   "id": "bf8afdd7",
   "metadata": {},
   "outputs": [
    {
     "name": "stdout",
     "output_type": "stream",
     "text": [
      "0 12:42\n",
      "1 o Ç\n",
      "2 Booking.com\n",
      "3 Stays\n",
      "4 Flights\n",
      "5 Car rental\n",
      "6 TAXI\n",
      "7 Q\n",
      "8 Melbourne\n",
      "9 Sat, Aug 20 - Sun , Aug 21\n",
      "10 8\n",
      "11 0 children\n",
      "12 2 adults\n",
      "13 1 room\n",
      "14 Search\n",
      "15 i\n",
      "16 Get the l a test COVID - 19 travel advice\n",
      "17 >\n",
      "18 Travel more , spend less\n",
      "19 Genius\n",
      "20 10 % discounts\n",
      "21 Xie , you're at Genius Level 1\n",
      "22 in\n",
      "23 Enjoy discounts at part\n",
      "24 our loyalty program\n",
      "25 properties worldwide\n",
      "26 Continue your search\n",
      "27 a\n",
      "28 Ô\n",
      "29 Profile\n",
      "30 Saved\n",
      "31 Bookings\n",
      "32 Search\n"
     ]
    }
   ],
   "source": [
    "for i, t in enumerate(result):\n",
    "    print(i, t.content)"
   ]
  },
  {
   "cell_type": "code",
   "execution_count": 6,
   "id": "1221bc31",
   "metadata": {
    "scrolled": false
   },
   "outputs": [
    {
     "name": "stdout",
     "output_type": "stream",
     "text": [
      "0 12:42\n",
      "1 o Ç\n",
      "2 Booking.com\n",
      "3 Stays\n",
      "4 Flights\n",
      "5 Car rental\n",
      "6 TAXI\n",
      "7 Q\n",
      "8 Melbourne\n",
      "9 Sat, Aug 20 - Sun , Aug 21\n",
      "10 8\n",
      "11 0 children\n",
      "12 2 adults\n",
      "13 1 room\n",
      "14 Search\n",
      "15 i\n",
      "16 Get the test COVID 19 travel advice\n",
      "17 l\n",
      "18 a\n",
      "19 -\n",
      "20 >\n",
      "21 Travel more , spend less\n",
      "22 Genius\n",
      "23 10 % discounts\n",
      "24 Xie , you're at Genius Level\n",
      "25 in\n",
      "26 1\n",
      "27 Enjoy discounts at part\n",
      "28 our loyalty program\n",
      "29 properties worldwide\n",
      "30 Continue your search\n",
      "31 a\n",
      "32 Ô\n",
      "33 Profile\n",
      "34 Saved\n",
      "35 Bookings\n",
      "36 Search\n"
     ]
    }
   ],
   "source": [
    "for i, t in enumerate(result):\n",
    "    print(i, t.content)\n",
    "#     binary = pre.binarization(t.clip, 20)\n",
    "#     cv2.imshow('bin', binary)\n",
    "#     cv2.waitKey()\n",
    "#     cv2.destroyAllWindows()"
   ]
  },
  {
   "cell_type": "code",
   "execution_count": null,
   "id": "762e8a26",
   "metadata": {},
   "outputs": [],
   "source": []
  }
 ],
 "metadata": {
  "kernelspec": {
   "display_name": "Python 3",
   "language": "python",
   "name": "python3"
  },
  "language_info": {
   "codemirror_mode": {
    "name": "ipython",
    "version": 3
   },
   "file_extension": ".py",
   "mimetype": "text/x-python",
   "name": "python",
   "nbconvert_exporter": "python",
   "pygments_lexer": "ipython3",
   "version": "3.6.9"
  }
 },
 "nbformat": 4,
 "nbformat_minor": 5
}
