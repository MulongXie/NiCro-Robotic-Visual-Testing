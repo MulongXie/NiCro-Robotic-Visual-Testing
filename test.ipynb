{
 "cells": [
  {
   "cell_type": "code",
   "execution_count": 2,
   "id": "6ba90f19",
   "metadata": {},
   "outputs": [],
   "source": [
    "from NiCro import NiCro"
   ]
  },
  {
   "cell_type": "code",
   "execution_count": 3,
   "id": "368cec15",
   "metadata": {},
   "outputs": [],
   "source": [
    "nicro = NiCro(ocr_opt='google')"
   ]
  },
  {
   "cell_type": "code",
   "execution_count": 4,
   "id": "585518d8",
   "metadata": {},
   "outputs": [
    {
     "name": "stdout",
     "output_type": "stream",
     "text": [
      "Load 1 Device Emulators\n",
      "Selected Source Device:\n",
      "Device ID:0 Name:emulator-5554 Resolution:Size(width=1080, height=2280)\n",
      "\n",
      "Device Emulators:\n",
      "Device ID:0 Name:emulator-5554 Resolution:Size(width=1080, height=2280)\n",
      "No Robot Arm System\n"
     ]
    }
   ],
   "source": [
    "nicro.load_devices()\n",
    "nicro.select_source_device(0)"
   ]
  },
  {
   "cell_type": "code",
   "execution_count": 7,
   "id": "c1ff84ee",
   "metadata": {},
   "outputs": [
    {
     "name": "stdout",
     "output_type": "stream",
     "text": [
      "****** Device [1 / 1] ******\n",
      "[Text Detection Completed in 0.120 s] Input: data/screen/emulator-5554.png Output: data/output/ocr/emulator-5554.json\n",
      "[Compo Detection Completed in 0.415 s] Input: data/screen/emulator-5554.png Output: data/output/ip/emulator-5554.json\n",
      "[Merge Completed] Input: data/screen/emulator-5554.png Output: data/output/merge/emulator-5554.jpg\n"
     ]
    }
   ],
   "source": [
    "nicro.detect_gui_info_for_all_devices(verbose=True)"
   ]
  },
  {
   "cell_type": "code",
   "execution_count": null,
   "id": "92d53eaa",
   "metadata": {},
   "outputs": [],
   "source": []
  },
  {
   "cell_type": "code",
   "execution_count": 8,
   "id": "f1604184",
   "metadata": {},
   "outputs": [],
   "source": [
    "nicro.show_all_device_detection_results()"
   ]
  },
  {
   "cell_type": "code",
   "execution_count": 8,
   "id": "234facad",
   "metadata": {},
   "outputs": [
    {
     "name": "stdout",
     "output_type": "stream",
     "text": [
      "\n",
      "****** Tap (393, 404) ******\n",
      "****** Re-detect Source Device's screenshot and GUI ******\n",
      "\n",
      "****** Tap (336, 914) ******\n",
      "****** Re-detect Source Device's screenshot and GUI ******\n",
      "\n",
      "****** Tap (946, 250) ******\n",
      "****** Re-detect Source Device's screenshot and GUI ******\n",
      "\n",
      "****** Tap (567, 632) ******\n",
      "****** Re-detect Source Device's screenshot and GUI ******\n",
      "\n",
      "****** Tap (857, 629) ******\n",
      "****** Re-detect Source Device's screenshot and GUI ******\n"
     ]
    }
   ],
   "source": [
    "nicro.control_multiple_devices_through_source_device(False, detection_verbose=False)"
   ]
  },
  {
   "cell_type": "code",
   "execution_count": 9,
   "id": "ce216187",
   "metadata": {},
   "outputs": [],
   "source": [
    "nicro.click_to_match_widgets_cross_devices()"
   ]
  },
  {
   "cell_type": "code",
   "execution_count": null,
   "id": "f9022614",
   "metadata": {},
   "outputs": [],
   "source": []
  },
  {
   "cell_type": "code",
   "execution_count": null,
   "id": "6b369554",
   "metadata": {},
   "outputs": [],
   "source": []
  },
  {
   "cell_type": "code",
   "execution_count": 6,
   "id": "463668e4",
   "metadata": {},
   "outputs": [],
   "source": [
    "nicro.record_actions('/home/ml/Data/visual testing/testcase', 'booking', '1')"
   ]
  },
  {
   "cell_type": "code",
   "execution_count": null,
   "id": "d371e60b",
   "metadata": {},
   "outputs": [],
   "source": []
  },
  {
   "cell_type": "code",
   "execution_count": 5,
   "id": "c446b1e8",
   "metadata": {},
   "outputs": [],
   "source": [
    "import cv2\n",
    "import element_detection.detect_text.text_detection as text\n",
    "import element_detection.detect_compo.lib_ip.ip_preprocessing as pre"
   ]
  },
  {
   "cell_type": "code",
   "execution_count": null,
   "id": "9f3d4cf0",
   "metadata": {},
   "outputs": [],
   "source": [
    "b, result = text.text_detection_google('data/screen/emulator-5554.png', 'data/output/ocr', True)"
   ]
  },
  {
   "cell_type": "code",
   "execution_count": 8,
   "id": "1221bc31",
   "metadata": {
    "scrolled": false
   },
   "outputs": [
    {
     "name": "stdout",
     "output_type": "stream",
     "text": [
      "←\n",
      "X\n",
      ".b\n",
      "Queenstown\n",
      "City in Otago New Zealand\n",
      ",\n",
      "824 properties\n",
      "QQ HOMESTAY\n",
      "Homestay\n",
      "Property in Takengon Indonesia\n",
      ",\n",
      "TREVI QQ ROOMS\n",
      "Property in Rome , Italy\n",
      "QQłka Apartament\n",
      "Property in Szklarska Poręba , Poland\n",
      "Qq LUXURY APARTMENTS\n",
      "Property in London , United Kingdom\n",
      "AQ\n",
      "AW\n",
      "was\n",
      "1\n",
      "e\n",
      "³\n",
      "rªt4\n",
      "5\n",
      "7\n",
      "8\n",
      "0\n",
      "v\n",
      "²\n",
      "6\n",
      "9\n",
      "i\n",
      "y\n",
      "u\n",
      "p\n",
      "q\n",
      "O\n",
      "×\n",
      "a\n",
      "s\n",
      "d\n",
      "f\n",
      "g\n",
      "h\n",
      "j\n",
      "k\n",
      "I\n",
      "?\n",
      "!\n",
      "n\n",
      "m\n",
      "b\n",
      "C\n",
      "V\n",
      "X\n",
      "Z\n",
      "O\n",
      "?\n",
      "1\n",
      "2\n",
      "3\n"
     ]
    }
   ],
   "source": [
    "for t in result:\n",
    "    print(t.content)\n",
    "    binary = pre.binarization(t.clip, 20)\n",
    "    cv2.imshow('bin', binary)\n",
    "    cv2.waitKey()\n",
    "    cv2.destroyAllWindows()"
   ]
  }
 ],
 "metadata": {
  "kernelspec": {
   "display_name": "Python 3",
   "language": "python",
   "name": "python3"
  },
  "language_info": {
   "codemirror_mode": {
    "name": "ipython",
    "version": 3
   },
   "file_extension": ".py",
   "mimetype": "text/x-python",
   "name": "python",
   "nbconvert_exporter": "python",
   "pygments_lexer": "ipython3",
   "version": "3.6.9"
  }
 },
 "nbformat": 4,
 "nbformat_minor": 5
}
