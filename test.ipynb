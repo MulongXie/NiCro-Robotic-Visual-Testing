{
 "cells": [
  {
   "cell_type": "code",
   "execution_count": 1,
   "id": "6ba90f19",
   "metadata": {},
   "outputs": [],
   "source": [
    "from NiCro import NiCro"
   ]
  },
  {
   "cell_type": "code",
   "execution_count": 2,
   "id": "368cec15",
   "metadata": {},
   "outputs": [],
   "source": [
    "nicro = NiCro(ocr_opt='google')"
   ]
  },
  {
   "cell_type": "code",
   "execution_count": 3,
   "id": "585518d8",
   "metadata": {},
   "outputs": [
    {
     "name": "stdout",
     "output_type": "stream",
     "text": [
      "Load 2 Device Emulators\n",
      "Selected Source Device:\n",
      "Device ID:0 Name:emulator-5554 Resolution:Size(width=1080, height=2280)\n",
      "\n",
      "Device Emulators:\n",
      "Device ID:0 Name:emulator-5554 Resolution:Size(width=1080, height=2280)\n",
      "Device ID:1 Name:emulator-5558 Resolution:Size(width=2200, height=2480)\n",
      "No Robot Arm System\n"
     ]
    }
   ],
   "source": [
    "nicro.load_devices()\n",
    "nicro.select_source_device(0)"
   ]
  },
  {
   "cell_type": "code",
   "execution_count": null,
   "id": "c1ff84ee",
   "metadata": {},
   "outputs": [
    {
     "name": "stdout",
     "output_type": "stream",
     "text": [
      "****** Device [1 / 2] ******\n",
      "[Text Detection Completed in 0.177 s] Input: data/screen/emulator-5554.png Output: data/output/ocr/emulator-5554.json\n",
      "[Compo Detection Completed in 0.394 s] Input: data/screen/emulator-5554.png Output: data/output/ip/emulator-5554.json\n",
      "[Merge Completed] Input: data/screen/emulator-5554.png Output: data/output/merge/emulator-5554.jpg\n",
      "****** Device [2 / 2] ******\n",
      "[Text Detection Completed in 0.218 s] Input: data/screen/emulator-5558.png Output: data/output/ocr/emulator-5558.json\n"
     ]
    }
   ],
   "source": [
    "nicro.detect_gui_info_for_all_devices(verbose=True)"
   ]
  },
  {
   "cell_type": "code",
   "execution_count": null,
   "id": "618877dd",
   "metadata": {},
   "outputs": [],
   "source": []
  },
  {
   "cell_type": "code",
   "execution_count": 5,
   "id": "1ba5c896",
   "metadata": {},
   "outputs": [
    {
     "name": "stdout",
     "output_type": "stream",
     "text": [
      "\n",
      "****** Tap (151, 1558) ******\n",
      "Action: {'type': 'click', 'coordinate': [(151, 1558), (-1, -1)]}\n",
      "*** Replay Devices Number [2/2] ***\n",
      "Device ID:1 Name:emulator-5558 Resolution:Size(width=2200, height=2480)\n",
      "No element matched\n",
      "aaaa\n",
      "bbbbb\n",
      "****** Re-detect Source Device's screenshot and GUI ******\n",
      "\n",
      "****** Tap (108, 1727) ******\n",
      "Action: {'type': 'click', 'coordinate': [(108, 1727), (-1, -1)]}\n",
      "*** Replay Devices Number [2/2] ***\n",
      "Device ID:1 Name:emulator-5558 Resolution:Size(width=2200, height=2480)\n",
      "Successfully match element\n",
      "aaaa\n",
      "bbbbb\n",
      "****** Re-detect Source Device's screenshot and GUI ******\n"
     ]
    }
   ],
   "source": [
    "nicro.control_multiple_devices_through_source_device(True, detection_verbose=False)"
   ]
  },
  {
   "cell_type": "code",
   "execution_count": 7,
   "id": "086dcb43",
   "metadata": {},
   "outputs": [],
   "source": [
    "nicro.click_to_match_widgets_cross_devices()"
   ]
  },
  {
   "cell_type": "code",
   "execution_count": null,
   "id": "6843a4c1",
   "metadata": {},
   "outputs": [],
   "source": []
  },
  {
   "cell_type": "code",
   "execution_count": null,
   "id": "51093345",
   "metadata": {},
   "outputs": [],
   "source": []
  },
  {
   "cell_type": "code",
   "execution_count": 6,
   "id": "4a963ee1",
   "metadata": {},
   "outputs": [],
   "source": [
    "import cv2\n",
    "import element_detection.detect_text.text_detection as text\n",
    "import element_detection.detect_compo.lib_ip.ip_preprocessing as pre"
   ]
  },
  {
   "cell_type": "code",
   "execution_count": 7,
   "id": "f8900f16",
   "metadata": {},
   "outputs": [
    {
     "name": "stdout",
     "output_type": "stream",
     "text": [
      "[Text Detection Completed in 0.293 s] Input: data/screen/emulator-5558.png Output: data/output/ocr/emulator-5558.json\n"
     ]
    }
   ],
   "source": [
    "b, result = text.text_detection_google('data/screen/emulator-5558.png', 'data/output/ocr', True)"
   ]
  },
  {
   "cell_type": "code",
   "execution_count": 8,
   "id": "9734f809",
   "metadata": {
    "scrolled": false
   },
   "outputs": [
    {
     "name": "stdout",
     "output_type": "stream",
     "text": [
      "←\n",
      "X\n",
      ".b\n",
      "Queenstown\n",
      "City in Otago New Zealand\n",
      ",\n",
      "824 properties\n",
      "QQ HOMESTAY\n",
      "Homestay\n",
      "Property in Takengon Indonesia\n",
      ",\n",
      "TREVI QQ ROOMS\n",
      "Property in Rome , Italy\n",
      "QQłka Apartament\n",
      "Property in Szklarska Poręba , Poland\n",
      "Qq LUXURY APARTMENTS\n",
      "Property in London , United Kingdom\n",
      "AQ\n",
      "AW\n",
      "was\n",
      "1\n",
      "e\n",
      "³\n",
      "rªt4\n",
      "5\n",
      "7\n",
      "8\n",
      "0\n",
      "v\n",
      "²\n",
      "6\n",
      "9\n",
      "i\n",
      "y\n",
      "u\n",
      "p\n",
      "q\n",
      "O\n",
      "×\n",
      "a\n",
      "s\n",
      "d\n",
      "f\n",
      "g\n",
      "h\n",
      "j\n",
      "k\n",
      "I\n",
      "?\n",
      "!\n",
      "n\n",
      "m\n",
      "b\n",
      "C\n",
      "V\n",
      "X\n",
      "Z\n",
      "O\n",
      "?\n",
      "1\n",
      "2\n",
      "3\n"
     ]
    }
   ],
   "source": [
    "for t in result:\n",
    "    print(t.content)\n",
    "    binary = pre.binarization(t.clip, 20)\n",
    "    cv2.imshow('bin', binary)\n",
    "    cv2.waitKey()\n",
    "    cv2.destroyAllWindows()"
   ]
  },
  {
   "cell_type": "code",
   "execution_count": 4,
   "id": "6637d1b2",
   "metadata": {},
   "outputs": [
    {
     "data": {
      "text/plain": [
       "117"
      ]
     },
     "execution_count": 4,
     "metadata": {},
     "output_type": "execute_result"
    }
   ],
   "source": [
    "ord(result[16].content[0])"
   ]
  },
  {
   "cell_type": "code",
   "execution_count": 5,
   "id": "33ec5783",
   "metadata": {},
   "outputs": [
    {
     "data": {
      "text/plain": [
       "117"
      ]
     },
     "execution_count": 5,
     "metadata": {},
     "output_type": "execute_result"
    }
   ],
   "source": [
    "ord(result[19].content[-1])"
   ]
  },
  {
   "cell_type": "code",
   "execution_count": 8,
   "id": "13274628",
   "metadata": {},
   "outputs": [],
   "source": [
    "l = 'abc'\n",
    "l2 = l"
   ]
  },
  {
   "cell_type": "code",
   "execution_count": 15,
   "id": "fe61f532",
   "metadata": {},
   "outputs": [],
   "source": [
    "l = l.replace('c', '')"
   ]
  },
  {
   "cell_type": "code",
   "execution_count": 16,
   "id": "10be2e40",
   "metadata": {},
   "outputs": [
    {
     "data": {
      "text/plain": [
       "'a'"
      ]
     },
     "execution_count": 16,
     "metadata": {},
     "output_type": "execute_result"
    }
   ],
   "source": [
    "l"
   ]
  },
  {
   "cell_type": "code",
   "execution_count": 14,
   "id": "13f3f887",
   "metadata": {},
   "outputs": [
    {
     "data": {
      "text/plain": [
       "'abc'"
      ]
     },
     "execution_count": 14,
     "metadata": {},
     "output_type": "execute_result"
    }
   ],
   "source": [
    "l2"
   ]
  },
  {
   "cell_type": "code",
   "execution_count": null,
   "id": "0dd9aad3",
   "metadata": {},
   "outputs": [],
   "source": []
  }
 ],
 "metadata": {
  "kernelspec": {
   "display_name": "Python 3",
   "language": "python",
   "name": "python3"
  },
  "language_info": {
   "codemirror_mode": {
    "name": "ipython",
    "version": 3
   },
   "file_extension": ".py",
   "mimetype": "text/x-python",
   "name": "python",
   "nbconvert_exporter": "python",
   "pygments_lexer": "ipython3",
   "version": "3.6.9"
  }
 },
 "nbformat": 4,
 "nbformat_minor": 5
}
