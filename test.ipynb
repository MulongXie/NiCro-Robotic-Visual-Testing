{
 "cells": [
  {
   "cell_type": "code",
   "execution_count": 1,
   "id": "6ba90f19",
   "metadata": {},
   "outputs": [],
   "source": [
    "from NiCro import NiCro"
   ]
  },
  {
   "cell_type": "code",
   "execution_count": 2,
   "id": "368cec15",
   "metadata": {},
   "outputs": [],
   "source": [
    "nicro = NiCro(ocr_opt='google')"
   ]
  },
  {
   "cell_type": "code",
   "execution_count": 3,
   "id": "585518d8",
   "metadata": {},
   "outputs": [
    {
     "name": "stdout",
     "output_type": "stream",
     "text": [
      "Load 3 Device Emulators\n",
      "Selected Source Device:\n",
      "Device ID:0 Name:emulator-5554 Resolution:Size(width=1080, height=2340)\n",
      "\n",
      "Device Emulators:\n",
      "Device ID:0 Name:emulator-5554 Resolution:Size(width=1080, height=2340)\n",
      "Device ID:1 Name:emulator-5556 Resolution:Size(width=480, height=800)\n",
      "Device ID:2 Name:emulator-5558 Resolution:Size(width=2200, height=2480)\n",
      "No Robot Arm System\n"
     ]
    }
   ],
   "source": [
    "nicro.load_devices()\n",
    "nicro.select_source_device(0)"
   ]
  },
  {
   "cell_type": "code",
   "execution_count": 4,
   "id": "92d53eaa",
   "metadata": {},
   "outputs": [
    {
     "name": "stdout",
     "output_type": "stream",
     "text": [
      "****** GUI Component Detection Device [1 / 3] ******\n",
      "****** GUI Component Detection Device [2 / 3] ******\n",
      "****** GUI Component Detection Device [3 / 3] ******\n",
      "\n",
      "****** Click (172, 1582) ******\n",
      "Action: {'type': 'click', 'coordinate': [(172, 1582), (-1, -1)]}\n",
      "*** Replay Devices Number [2/3] ***\n",
      "Device ID:1 Name:emulator-5556 Resolution:Size(width=480, height=800)\n",
      "No element matched\n",
      "Scroll down and try to match again\n",
      "Successfully match element\n",
      "*** Replay Devices Number [3/3] ***\n",
      "Device ID:2 Name:emulator-5558 Resolution:Size(width=2200, height=2480)\n",
      "Successfully match element\n",
      "****** Re-detect Source Device's screenshot and GUI ******\n"
     ]
    }
   ],
   "source": [
    "nicro.detect_gui_info_for_all_devices(verbose=False, show=False)\n",
    "nicro.record_and_replay_actions(output_root='/home/ml/Data/visual testing/testcase', \n",
    "                                app_name='Desktop',\n",
    "                                testcase_id='4',\n",
    "                                is_record=False,\n",
    "                                is_replay=True)"
   ]
  },
  {
   "cell_type": "code",
   "execution_count": null,
   "id": "37189bc2",
   "metadata": {},
   "outputs": [],
   "source": []
  },
  {
   "cell_type": "code",
   "execution_count": null,
   "id": "625423ce",
   "metadata": {},
   "outputs": [],
   "source": []
  },
  {
   "cell_type": "code",
   "execution_count": 8,
   "id": "1d6bc8a3",
   "metadata": {},
   "outputs": [],
   "source": [
    "device = nicro.devices[1]"
   ]
  },
  {
   "cell_type": "code",
   "execution_count": 14,
   "id": "e0460466",
   "metadata": {},
   "outputs": [
    {
     "data": {
      "text/plain": [
       "''"
      ]
     },
     "execution_count": 14,
     "metadata": {},
     "output_type": "execute_result"
    }
   ],
   "source": [
    "device.device.input_swipe(50, device.device.wm_size().height * 0.8, 50, 0, 500)"
   ]
  },
  {
   "cell_type": "code",
   "execution_count": null,
   "id": "0ec8ac25",
   "metadata": {},
   "outputs": [],
   "source": []
  },
  {
   "cell_type": "code",
   "execution_count": null,
   "id": "39a7b33f",
   "metadata": {},
   "outputs": [],
   "source": []
  },
  {
   "cell_type": "code",
   "execution_count": 1,
   "id": "c446b1e8",
   "metadata": {},
   "outputs": [],
   "source": [
    "import cv2\n",
    "import element_detection.detect_text.text_detection as text\n",
    "import element_detection.detect_compo.lib_ip.ip_preprocessing as pre"
   ]
  },
  {
   "cell_type": "code",
   "execution_count": 8,
   "id": "9f3d4cf0",
   "metadata": {},
   "outputs": [
    {
     "name": "stdout",
     "output_type": "stream",
     "text": [
      "[Text Detection Completed in 0.306 s] Input: data/screen/emulator-5554.png Output: data/output/ocr/emulator-5554.json\n"
     ]
    }
   ],
   "source": [
    "b, result = text.text_detection_google('data/screen/emulator-5554.png', 'data/output/ocr', True)"
   ]
  },
  {
   "cell_type": "code",
   "execution_count": 9,
   "id": "1221bc31",
   "metadata": {
    "scrolled": false
   },
   "outputs": [
    {
     "name": "stdout",
     "output_type": "stream",
     "text": [
      "6:21\n",
      "Search or type web address\n",
      "G\n",
      "Q\n",
      "Text you copied\n",
      "K\n",
      "jbhifi\n",
      "K\n",
      "ascii table\n",
      "K\n",
      "163\n",
      "K\n",
      "icse 2023\n",
      "K\n",
      "google drive\n",
      "K\n",
      "insta360 diving\n",
      "K\n",
      "3\n",
      "rico\n",
      "da taset\n",
      "Q\n",
      "<\n",
      "q\n",
      "¹\n",
      "w\n",
      "²\n",
      "e\n",
      "²\n",
      "4\n",
      "°\n",
      "¡ º\n",
      "0\n",
      "t\n",
      "y\n",
      "°\n",
      "u\n",
      "’\n",
      "o\n",
      "°\n",
      "p\n",
      "r\n",
      "a\n",
      "s\n",
      "d\n",
      "f\n",
      "g\n",
      "h\n",
      "j\n",
      "k\n",
      "l\n",
      "X\n",
      "c\n",
      "v\n",
      "b\n",
      "n\n",
      "m\n",
      "N\n",
      "X\n",
      "☹\n",
      "1\n",
      "?\n",
      "1\n",
      "2\n",
      "3\n",
      "—\n"
     ]
    }
   ],
   "source": [
    "for t in result:\n",
    "    print(t.content)\n",
    "    binary = pre.binarization(t.clip, 20)\n",
    "    cv2.imshow('bin', binary)\n",
    "    cv2.waitKey()\n",
    "    cv2.destroyAllWindows()"
   ]
  },
  {
   "cell_type": "code",
   "execution_count": null,
   "id": "762e8a26",
   "metadata": {},
   "outputs": [],
   "source": []
  }
 ],
 "metadata": {
  "kernelspec": {
   "display_name": "Python 3",
   "language": "python",
   "name": "python3"
  },
  "language_info": {
   "codemirror_mode": {
    "name": "ipython",
    "version": 3
   },
   "file_extension": ".py",
   "mimetype": "text/x-python",
   "name": "python",
   "nbconvert_exporter": "python",
   "pygments_lexer": "ipython3",
   "version": "3.6.9"
  }
 },
 "nbformat": 4,
 "nbformat_minor": 5
}
