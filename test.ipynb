{
 "cells": [
  {
   "cell_type": "code",
   "execution_count": 1,
   "id": "6ba90f19",
   "metadata": {},
   "outputs": [],
   "source": [
    "from NiCro import NiCro"
   ]
  },
  {
   "cell_type": "code",
   "execution_count": 2,
   "id": "368cec15",
   "metadata": {},
   "outputs": [],
   "source": [
    "nicro = NiCro(ocr_opt='google')"
   ]
  },
  {
   "cell_type": "code",
   "execution_count": 3,
   "id": "585518d8",
   "metadata": {},
   "outputs": [
    {
     "name": "stdout",
     "output_type": "stream",
     "text": [
      "Load 3 Device Emulators\n",
      "Selected Source Device:\n",
      "Device ID:0 Name:emulator-5554 Resolution:Size(width=1080, height=2340)\n",
      "\n",
      "Device Emulators:\n",
      "Device ID:0 Name:emulator-5554 Resolution:Size(width=1080, height=2340)\n",
      "Device ID:1 Name:emulator-5556 Resolution:Size(width=480, height=800)\n",
      "Device ID:2 Name:emulator-5558 Resolution:Size(width=2200, height=2480)\n",
      "No Robot Arm System\n"
     ]
    }
   ],
   "source": [
    "nicro.load_devices()\n",
    "nicro.select_source_device(0)"
   ]
  },
  {
   "cell_type": "code",
   "execution_count": 4,
   "id": "92d53eaa",
   "metadata": {},
   "outputs": [
    {
     "name": "stdout",
     "output_type": "stream",
     "text": [
      "****** GUI Component Detection Device [1 / 3] ******\n",
      "****** GUI Component Detection Device [2 / 3] ******\n",
      "****** GUI Component Detection Device [3 / 3] ******\n"
     ]
    }
   ],
   "source": [
    "nicro.detect_gui_info_for_all_devices(verbose=False, show=False)\n",
    "nicro.record_and_replay_actions(output_root='/home/ml/Data/visual testing/testcase', \n",
    "                                app_name='Desktop',\n",
    "                                testcase_id='4',\n",
    "                                wait_fresh_time=2,\n",
    "                                is_record=False,\n",
    "                                is_replay=True)"
   ]
  },
  {
   "cell_type": "code",
   "execution_count": 5,
   "id": "d371e60b",
   "metadata": {},
   "outputs": [
    {
     "name": "stdout",
     "output_type": "stream",
     "text": [
      "\n",
      "****** Scroll from (930, 1082) to (242, 1085) ******\n",
      "Action: {'type': 'swipe', 'coordinate': [(930, 1082), (242, 1085)]}\n",
      "*** Replay Devices Number [2/3] ***\n",
      "Device ID:1 Name:emulator-5556 Resolution:Size(width=480, height=800)\n",
      "*** Replay Devices Number [3/3] ***\n",
      "Device ID:2 Name:emulator-5558 Resolution:Size(width=2200, height=2480)\n",
      "****** Re-detect Source Device's screenshot and GUI ******\n",
      "\n",
      "****** Scroll from (424, 1409) to (409, 763) ******\n",
      "Action: {'type': 'swipe', 'coordinate': [(424, 1409), (409, 763)]}\n",
      "*** Replay Devices Number [2/3] ***\n",
      "Device ID:1 Name:emulator-5556 Resolution:Size(width=480, height=800)\n",
      "*** Replay Devices Number [3/3] ***\n",
      "Device ID:2 Name:emulator-5558 Resolution:Size(width=2200, height=2480)\n",
      "****** Re-detect Source Device's screenshot and GUI ******\n",
      "\n",
      "****** Click (546, 2076) ******\n",
      "Action: {'type': 'click', 'coordinate': [(546, 2076), (-1, -1)]}\n",
      "*** Replay Devices Number [2/3] ***\n",
      "Device ID:1 Name:emulator-5556 Resolution:Size(width=480, height=800)\n",
      "No element matched\n",
      "*** Replay Devices Number [3/3] ***\n",
      "Device ID:2 Name:emulator-5558 Resolution:Size(width=2200, height=2480)\n",
      "Successfully match element\n"
     ]
    },
    {
     "ename": "AttributeError",
     "evalue": "'NoneType' object has no attribute 'shape'",
     "output_type": "error",
     "traceback": [
      "\u001b[0;31m---------------------------------------------------------------------------\u001b[0m",
      "\u001b[0;31mAttributeError\u001b[0m                            Traceback (most recent call last)",
      "\u001b[0;32m~/Code/github/Robot-Visual-Testing/NiCro.py\u001b[0m in \u001b[0;36mon_mouse\u001b[0;34m(event, x, y, flags, params)\u001b[0m\n\u001b[1;32m    155\u001b[0m                 \u001b[0;31m# replay the action on all devices\u001b[0m\u001b[0;34m\u001b[0m\u001b[0;34m\u001b[0m\u001b[0;34m\u001b[0m\u001b[0m\n\u001b[1;32m    156\u001b[0m                 \u001b[0;32mif\u001b[0m \u001b[0mis_replay\u001b[0m\u001b[0;34m:\u001b[0m\u001b[0;34m\u001b[0m\u001b[0;34m\u001b[0m\u001b[0m\n\u001b[0;32m--> 157\u001b[0;31m                     \u001b[0mself\u001b[0m\u001b[0;34m.\u001b[0m\u001b[0mreplay_action_on_all_devices\u001b[0m\u001b[0;34m(\u001b[0m\u001b[0mdetection_verbose\u001b[0m\u001b[0;34m=\u001b[0m\u001b[0mdetection_verbose\u001b[0m\u001b[0;34m)\u001b[0m\u001b[0;34m\u001b[0m\u001b[0;34m\u001b[0m\u001b[0m\n\u001b[0m\u001b[1;32m    158\u001b[0m \u001b[0;34m\u001b[0m\u001b[0m\n\u001b[1;32m    159\u001b[0m                 \u001b[0;31m# update the screenshot and GUI of the selected target device\u001b[0m\u001b[0;34m\u001b[0m\u001b[0;34m\u001b[0m\u001b[0;34m\u001b[0m\u001b[0m\n",
      "\u001b[0;32m~/Code/github/Robot-Visual-Testing/NiCro.py\u001b[0m in \u001b[0;36mreplay_action_on_all_devices\u001b[0;34m(self, detection_verbose)\u001b[0m\n\u001b[1;32m    223\u001b[0m                 \u001b[0;32mcontinue\u001b[0m\u001b[0;34m\u001b[0m\u001b[0;34m\u001b[0m\u001b[0m\n\u001b[1;32m    224\u001b[0m             \u001b[0mself\u001b[0m\u001b[0;34m.\u001b[0m\u001b[0mreplay_action_on_device\u001b[0m\u001b[0;34m(\u001b[0m\u001b[0mdev\u001b[0m\u001b[0;34m)\u001b[0m\u001b[0;34m\u001b[0m\u001b[0;34m\u001b[0m\u001b[0m\n\u001b[0;32m--> 225\u001b[0;31m             \u001b[0mdev\u001b[0m\u001b[0;34m.\u001b[0m\u001b[0mupdate_screenshot_and_gui\u001b[0m\u001b[0;34m(\u001b[0m\u001b[0mself\u001b[0m\u001b[0;34m.\u001b[0m\u001b[0mpaddle_ocr\u001b[0m\u001b[0;34m,\u001b[0m \u001b[0mocr_opt\u001b[0m\u001b[0;34m=\u001b[0m\u001b[0mself\u001b[0m\u001b[0;34m.\u001b[0m\u001b[0mocr_opt\u001b[0m\u001b[0;34m,\u001b[0m \u001b[0mverbose\u001b[0m\u001b[0;34m=\u001b[0m\u001b[0mdetection_verbose\u001b[0m\u001b[0;34m)\u001b[0m\u001b[0;34m\u001b[0m\u001b[0;34m\u001b[0m\u001b[0m\n\u001b[0m\u001b[1;32m    226\u001b[0m         \u001b[0;32mif\u001b[0m \u001b[0mself\u001b[0m\u001b[0;34m.\u001b[0m\u001b[0mrobot\u001b[0m \u001b[0;32mis\u001b[0m \u001b[0;32mnot\u001b[0m \u001b[0;32mNone\u001b[0m\u001b[0;34m:\u001b[0m\u001b[0;34m\u001b[0m\u001b[0;34m\u001b[0m\u001b[0m\n\u001b[1;32m    227\u001b[0m             \u001b[0mself\u001b[0m\u001b[0;34m.\u001b[0m\u001b[0mreplay_action_on_robot\u001b[0m\u001b[0;34m(\u001b[0m\u001b[0;34m)\u001b[0m\u001b[0;34m\u001b[0m\u001b[0;34m\u001b[0m\u001b[0m\n",
      "\u001b[0;32m~/Code/github/Robot-Visual-Testing/Device.py\u001b[0m in \u001b[0;36mupdate_screenshot_and_gui\u001b[0;34m(self, paddle_ocr, is_load, show, ocr_opt, verbose, wait_time)\u001b[0m\n\u001b[1;32m     43\u001b[0m         \u001b[0mtime\u001b[0m\u001b[0;34m.\u001b[0m\u001b[0msleep\u001b[0m\u001b[0;34m(\u001b[0m\u001b[0mwait_time\u001b[0m\u001b[0;34m)\u001b[0m\u001b[0;34m\u001b[0m\u001b[0;34m\u001b[0m\u001b[0m\n\u001b[1;32m     44\u001b[0m         \u001b[0mself\u001b[0m\u001b[0;34m.\u001b[0m\u001b[0mcap_screenshot\u001b[0m\u001b[0;34m(\u001b[0m\u001b[0;34m)\u001b[0m\u001b[0;34m\u001b[0m\u001b[0;34m\u001b[0m\u001b[0m\n\u001b[0;32m---> 45\u001b[0;31m         \u001b[0mself\u001b[0m\u001b[0;34m.\u001b[0m\u001b[0mdetect_gui_info\u001b[0m\u001b[0;34m(\u001b[0m\u001b[0mpaddle_ocr\u001b[0m\u001b[0;34m,\u001b[0m \u001b[0mis_load\u001b[0m\u001b[0;34m=\u001b[0m\u001b[0mis_load\u001b[0m\u001b[0;34m,\u001b[0m \u001b[0mshow\u001b[0m\u001b[0;34m=\u001b[0m\u001b[0mshow\u001b[0m\u001b[0;34m,\u001b[0m \u001b[0mocr_opt\u001b[0m\u001b[0;34m=\u001b[0m\u001b[0mocr_opt\u001b[0m\u001b[0;34m,\u001b[0m \u001b[0mverbose\u001b[0m\u001b[0;34m=\u001b[0m\u001b[0mverbose\u001b[0m\u001b[0;34m)\u001b[0m\u001b[0;34m\u001b[0m\u001b[0;34m\u001b[0m\u001b[0m\n\u001b[0m\u001b[1;32m     46\u001b[0m \u001b[0;34m\u001b[0m\u001b[0m\n\u001b[1;32m     47\u001b[0m     \u001b[0;32mdef\u001b[0m \u001b[0mfind_element_by_coordinate\u001b[0m\u001b[0;34m(\u001b[0m\u001b[0mself\u001b[0m\u001b[0;34m,\u001b[0m \u001b[0mx\u001b[0m\u001b[0;34m,\u001b[0m \u001b[0my\u001b[0m\u001b[0;34m,\u001b[0m \u001b[0mshow\u001b[0m\u001b[0;34m=\u001b[0m\u001b[0;32mFalse\u001b[0m\u001b[0;34m)\u001b[0m\u001b[0;34m:\u001b[0m\u001b[0;34m\u001b[0m\u001b[0;34m\u001b[0m\u001b[0m\n",
      "\u001b[0;32m~/Code/github/Robot-Visual-Testing/Device.py\u001b[0m in \u001b[0;36mdetect_gui_info\u001b[0;34m(self, paddle_ocr, is_load, show, ocr_opt, verbose)\u001b[0m\n\u001b[1;32m     32\u001b[0m \u001b[0;34m\u001b[0m\u001b[0m\n\u001b[1;32m     33\u001b[0m     \u001b[0;32mdef\u001b[0m \u001b[0mdetect_gui_info\u001b[0m\u001b[0;34m(\u001b[0m\u001b[0mself\u001b[0m\u001b[0;34m,\u001b[0m \u001b[0mpaddle_ocr\u001b[0m\u001b[0;34m,\u001b[0m \u001b[0mis_load\u001b[0m\u001b[0;34m=\u001b[0m\u001b[0;32mFalse\u001b[0m\u001b[0;34m,\u001b[0m \u001b[0mshow\u001b[0m\u001b[0;34m=\u001b[0m\u001b[0;32mFalse\u001b[0m\u001b[0;34m,\u001b[0m \u001b[0mocr_opt\u001b[0m\u001b[0;34m=\u001b[0m\u001b[0;34m'paddle'\u001b[0m\u001b[0;34m,\u001b[0m \u001b[0mverbose\u001b[0m\u001b[0;34m=\u001b[0m\u001b[0;32mTrue\u001b[0m\u001b[0;34m)\u001b[0m\u001b[0;34m:\u001b[0m\u001b[0;34m\u001b[0m\u001b[0;34m\u001b[0m\u001b[0m\n\u001b[0;32m---> 34\u001b[0;31m         \u001b[0mself\u001b[0m\u001b[0;34m.\u001b[0m\u001b[0mGUI\u001b[0m \u001b[0;34m=\u001b[0m \u001b[0mGUI\u001b[0m\u001b[0;34m(\u001b[0m\u001b[0mself\u001b[0m\u001b[0;34m.\u001b[0m\u001b[0mscreenshot_path\u001b[0m\u001b[0;34m)\u001b[0m\u001b[0;34m\u001b[0m\u001b[0;34m\u001b[0m\u001b[0m\n\u001b[0m\u001b[1;32m     35\u001b[0m         \u001b[0;32mif\u001b[0m \u001b[0mis_load\u001b[0m\u001b[0;34m:\u001b[0m\u001b[0;34m\u001b[0m\u001b[0;34m\u001b[0m\u001b[0m\n\u001b[1;32m     36\u001b[0m             \u001b[0mself\u001b[0m\u001b[0;34m.\u001b[0m\u001b[0mGUI\u001b[0m\u001b[0;34m.\u001b[0m\u001b[0mload_detection_result\u001b[0m\u001b[0;34m(\u001b[0m\u001b[0;34m)\u001b[0m\u001b[0;34m\u001b[0m\u001b[0;34m\u001b[0m\u001b[0m\n",
      "\u001b[0;32m~/Code/github/Robot-Visual-Testing/GUI.py\u001b[0m in \u001b[0;36m__init__\u001b[0;34m(self, img_path, output_dir, detection_resize_height)\u001b[0m\n\u001b[1;32m     18\u001b[0m \u001b[0;34m\u001b[0m\u001b[0m\n\u001b[1;32m     19\u001b[0m         \u001b[0mself\u001b[0m\u001b[0;34m.\u001b[0m\u001b[0mdetection_resize_height\u001b[0m \u001b[0;34m=\u001b[0m \u001b[0mdetection_resize_height\u001b[0m  \u001b[0;31m# resize the input gui while detecting\u001b[0m\u001b[0;34m\u001b[0m\u001b[0;34m\u001b[0m\u001b[0m\n\u001b[0;32m---> 20\u001b[0;31m         \u001b[0mself\u001b[0m\u001b[0;34m.\u001b[0m\u001b[0mdetection_resize_width\u001b[0m \u001b[0;34m=\u001b[0m \u001b[0mint\u001b[0m\u001b[0;34m(\u001b[0m\u001b[0mself\u001b[0m\u001b[0;34m.\u001b[0m\u001b[0mimg_org\u001b[0m\u001b[0;34m.\u001b[0m\u001b[0mshape\u001b[0m\u001b[0;34m[\u001b[0m\u001b[0;36m1\u001b[0m\u001b[0;34m]\u001b[0m \u001b[0;34m*\u001b[0m \u001b[0;34m(\u001b[0m\u001b[0mself\u001b[0m\u001b[0;34m.\u001b[0m\u001b[0mdetection_resize_height\u001b[0m \u001b[0;34m/\u001b[0m \u001b[0mself\u001b[0m\u001b[0;34m.\u001b[0m\u001b[0mimg_org\u001b[0m\u001b[0;34m.\u001b[0m\u001b[0mshape\u001b[0m\u001b[0;34m[\u001b[0m\u001b[0;36m0\u001b[0m\u001b[0;34m]\u001b[0m\u001b[0;34m)\u001b[0m\u001b[0;34m)\u001b[0m\u001b[0;34m\u001b[0m\u001b[0;34m\u001b[0m\u001b[0m\n\u001b[0m\u001b[1;32m     21\u001b[0m         \u001b[0mself\u001b[0m\u001b[0;34m.\u001b[0m\u001b[0mimg\u001b[0m \u001b[0;34m=\u001b[0m \u001b[0mcv2\u001b[0m\u001b[0;34m.\u001b[0m\u001b[0mresize\u001b[0m\u001b[0;34m(\u001b[0m\u001b[0mself\u001b[0m\u001b[0;34m.\u001b[0m\u001b[0mimg_org\u001b[0m\u001b[0;34m,\u001b[0m \u001b[0;34m(\u001b[0m\u001b[0mself\u001b[0m\u001b[0;34m.\u001b[0m\u001b[0mdetection_resize_width\u001b[0m\u001b[0;34m,\u001b[0m \u001b[0mself\u001b[0m\u001b[0;34m.\u001b[0m\u001b[0mdetection_resize_height\u001b[0m\u001b[0;34m)\u001b[0m\u001b[0;34m)\u001b[0m\u001b[0;34m\u001b[0m\u001b[0;34m\u001b[0m\u001b[0m\n\u001b[1;32m     22\u001b[0m \u001b[0;34m\u001b[0m\u001b[0m\n",
      "\u001b[0;31mAttributeError\u001b[0m: 'NoneType' object has no attribute 'shape'"
     ]
    }
   ],
   "source": [
    "nicro.record_and_replay_actions(output_root='/home/ml/Data/visual testing/testcase', \n",
    "                                app_name='Desktop',\n",
    "                                testcase_id='4',\n",
    "                                wait_fresh_time=2,\n",
    "                                is_record=False,\n",
    "                                is_replay=True)"
   ]
  },
  {
   "cell_type": "code",
   "execution_count": null,
   "id": "00d2f66f",
   "metadata": {},
   "outputs": [],
   "source": []
  },
  {
   "cell_type": "code",
   "execution_count": null,
   "id": "39a7b33f",
   "metadata": {},
   "outputs": [],
   "source": []
  },
  {
   "cell_type": "code",
   "execution_count": 1,
   "id": "c446b1e8",
   "metadata": {},
   "outputs": [],
   "source": [
    "import cv2\n",
    "import element_detection.detect_text.text_detection as text\n",
    "import element_detection.detect_compo.lib_ip.ip_preprocessing as pre"
   ]
  },
  {
   "cell_type": "code",
   "execution_count": 8,
   "id": "9f3d4cf0",
   "metadata": {},
   "outputs": [
    {
     "name": "stdout",
     "output_type": "stream",
     "text": [
      "[Text Detection Completed in 0.306 s] Input: data/screen/emulator-5554.png Output: data/output/ocr/emulator-5554.json\n"
     ]
    }
   ],
   "source": [
    "b, result = text.text_detection_google('data/screen/emulator-5554.png', 'data/output/ocr', True)"
   ]
  },
  {
   "cell_type": "code",
   "execution_count": 9,
   "id": "1221bc31",
   "metadata": {
    "scrolled": false
   },
   "outputs": [
    {
     "name": "stdout",
     "output_type": "stream",
     "text": [
      "6:21\n",
      "Search or type web address\n",
      "G\n",
      "Q\n",
      "Text you copied\n",
      "K\n",
      "jbhifi\n",
      "K\n",
      "ascii table\n",
      "K\n",
      "163\n",
      "K\n",
      "icse 2023\n",
      "K\n",
      "google drive\n",
      "K\n",
      "insta360 diving\n",
      "K\n",
      "3\n",
      "rico\n",
      "da taset\n",
      "Q\n",
      "<\n",
      "q\n",
      "¹\n",
      "w\n",
      "²\n",
      "e\n",
      "²\n",
      "4\n",
      "°\n",
      "¡ º\n",
      "0\n",
      "t\n",
      "y\n",
      "°\n",
      "u\n",
      "’\n",
      "o\n",
      "°\n",
      "p\n",
      "r\n",
      "a\n",
      "s\n",
      "d\n",
      "f\n",
      "g\n",
      "h\n",
      "j\n",
      "k\n",
      "l\n",
      "X\n",
      "c\n",
      "v\n",
      "b\n",
      "n\n",
      "m\n",
      "N\n",
      "X\n",
      "☹\n",
      "1\n",
      "?\n",
      "1\n",
      "2\n",
      "3\n",
      "—\n"
     ]
    }
   ],
   "source": [
    "for t in result:\n",
    "    print(t.content)\n",
    "    binary = pre.binarization(t.clip, 20)\n",
    "    cv2.imshow('bin', binary)\n",
    "    cv2.waitKey()\n",
    "    cv2.destroyAllWindows()"
   ]
  },
  {
   "cell_type": "code",
   "execution_count": null,
   "id": "762e8a26",
   "metadata": {},
   "outputs": [],
   "source": []
  }
 ],
 "metadata": {
  "kernelspec": {
   "display_name": "Python 3",
   "language": "python",
   "name": "python3"
  },
  "language_info": {
   "codemirror_mode": {
    "name": "ipython",
    "version": 3
   },
   "file_extension": ".py",
   "mimetype": "text/x-python",
   "name": "python",
   "nbconvert_exporter": "python",
   "pygments_lexer": "ipython3",
   "version": "3.6.9"
  }
 },
 "nbformat": 4,
 "nbformat_minor": 5
}
