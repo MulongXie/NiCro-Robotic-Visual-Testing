{
 "cells": [
  {
   "cell_type": "code",
   "execution_count": 1,
   "id": "6ba90f19",
   "metadata": {},
   "outputs": [],
   "source": [
    "from NiCro import NiCro"
   ]
  },
  {
   "cell_type": "code",
   "execution_count": 2,
   "id": "368cec15",
   "metadata": {},
   "outputs": [],
   "source": [
    "nicro = NiCro(ocr_opt='google')"
   ]
  },
  {
   "cell_type": "code",
   "execution_count": 3,
   "id": "585518d8",
   "metadata": {},
   "outputs": [
    {
     "name": "stdout",
     "output_type": "stream",
     "text": [
      "Load 2 Device Emulators\n",
      "Selected Source Device:\n",
      "Device ID:0 Name:emulator-5554 Resolution:Size(width=1080, height=2280)\n",
      "\n",
      "Device Emulators:\n",
      "Device ID:0 Name:emulator-5554 Resolution:Size(width=1080, height=2280)\n",
      "Device ID:1 Name:emulator-5558 Resolution:Size(width=2200, height=2480)\n",
      "No Robot Arm System\n"
     ]
    }
   ],
   "source": [
    "nicro.load_devices()\n",
    "nicro.select_source_device(0)"
   ]
  },
  {
   "cell_type": "code",
   "execution_count": 4,
   "id": "c1ff84ee",
   "metadata": {},
   "outputs": [
    {
     "name": "stdout",
     "output_type": "stream",
     "text": [
      "****** Device [1 / 2] ******\n",
      "[Text Detection Completed in 0.102 s] Input: data/screen/emulator-5554.png Output: data/output/ocr/emulator-5554.json\n",
      "[Compo Detection Completed in 0.327 s] Input: data/screen/emulator-5554.png Output: data/output/ip/emulator-5554.json\n",
      "[Merge Completed] Input: data/screen/emulator-5554.png Output: data/output/merge/emulator-5554.jpg\n",
      "****** Device [2 / 2] ******\n",
      "[Text Detection Completed in 0.188 s] Input: data/screen/emulator-5558.png Output: data/output/ocr/emulator-5558.json\n",
      "[Compo Detection Completed in 0.618 s] Input: data/screen/emulator-5558.png Output: data/output/ip/emulator-5558.json\n",
      "[Merge Completed] Input: data/screen/emulator-5558.png Output: data/output/merge/emulator-5558.jpg\n"
     ]
    }
   ],
   "source": [
    "nicro.detect_gui_info_for_all_devices()"
   ]
  },
  {
   "cell_type": "code",
   "execution_count": null,
   "id": "e805d8d7",
   "metadata": {},
   "outputs": [],
   "source": []
  },
  {
   "cell_type": "code",
   "execution_count": 5,
   "id": "a7c43ee2",
   "metadata": {},
   "outputs": [
    {
     "name": "stdout",
     "output_type": "stream",
     "text": [
      "\n",
      "****** Tap (54, 1573) ******\n",
      "Action: {'type': 'click', 'coordinate': [(54, 1573), (-1, -1)]}\n",
      "*** Replay Devices Number [2/2] ***\n",
      "Device ID:1 Name:emulator-5558 Resolution:Size(width=2200, height=2480)\n",
      "Successfully match element\n",
      "[Text Detection Completed in 0.191 s] Input: data/screen/emulator-5558.png Output: data/output/ocr/emulator-5558.json\n",
      "[Compo Detection Completed in 0.657 s] Input: data/screen/emulator-5558.png Output: data/output/ip/emulator-5558.json\n",
      "[Merge Completed] Input: data/screen/emulator-5558.png Output: data/output/merge/emulator-5558.jpg\n",
      "****** Re-detect Selected Device's screenshot and GUI ******\n",
      "[Text Detection Completed in 0.136 s] Input: data/screen/emulator-5554.png Output: data/output/ocr/emulator-5554.json\n",
      "[Compo Detection Completed in 0.335 s] Input: data/screen/emulator-5554.png Output: data/output/ip/emulator-5554.json\n",
      "[Merge Completed] Input: data/screen/emulator-5554.png Output: data/output/merge/emulator-5554.jpg\n"
     ]
    }
   ],
   "source": [
    "nicro.control_multiple_devices_through_source_device(True)"
   ]
  },
  {
   "cell_type": "code",
   "execution_count": 7,
   "id": "06a2e6ba",
   "metadata": {},
   "outputs": [],
   "source": [
    "nicro.click_to_match_widgets_cross_devices()"
   ]
  },
  {
   "cell_type": "code",
   "execution_count": null,
   "id": "9e88599a",
   "metadata": {},
   "outputs": [],
   "source": []
  },
  {
   "cell_type": "code",
   "execution_count": null,
   "id": "32e68116",
   "metadata": {},
   "outputs": [],
   "source": []
  },
  {
   "cell_type": "code",
   "execution_count": 1,
   "id": "fbfcb607",
   "metadata": {},
   "outputs": [],
   "source": [
    "import cv2\n",
    "import element_detection.detect_text.text_detection as text\n",
    "import element_detection.detect_compo.lib_ip.ip_preprocessing as pre"
   ]
  },
  {
   "cell_type": "code",
   "execution_count": 2,
   "id": "ecc45922",
   "metadata": {},
   "outputs": [
    {
     "name": "stdout",
     "output_type": "stream",
     "text": [
      "*** Please replace the Google OCR key at detect_text/ocr.py line 28 with your own (apply in https://cloud.google.com/vision) ***\n",
      "[Text Detection Completed in 0.323 s] Input: data/screen/emulator-5558.png Output: data/output/ocr/emulator-5558.json\n"
     ]
    }
   ],
   "source": [
    "b, result = text.text_detection_google('data/screen/emulator-5558.png', 'data/output/ocr', True)"
   ]
  },
  {
   "cell_type": "code",
   "execution_count": 3,
   "id": "2c0e6ebc",
   "metadata": {
    "scrolled": false
   },
   "outputs": [
    {
     "name": "stdout",
     "output_type": "stream",
     "text": [
      "←\n",
      "Around\n",
      "current\n",
      "location\n",
      "quickly\n",
      "3\n",
      "q\n",
      "wert\n",
      "1\n",
      "?\n",
      "123\n",
      "2\n",
      "4\n",
      "5\n",
      "a\n",
      "7\n",
      "u\n",
      "i\n",
      "6\n",
      "yu\n",
      "8\n",
      "quality\n",
      "9\n",
      "O\n",
      "p\n",
      "asdfghjk\n",
      "Z\n",
      "X\n",
      "CV\n",
      "b\n",
      "nm\n",
      "!\n",
      "?\n",
      "k\n",
      "I\n",
      "0\n",
      "X\n",
      "×\n",
      "O\n"
     ]
    }
   ],
   "source": [
    "for t in result:\n",
    "    print(t.content)\n",
    "    binary = pre.binarization(t.clip, 20)\n",
    "    cv2.imshow('bin', binary)\n",
    "    cv2.waitKey()\n",
    "    cv2.destroyAllWindows()"
   ]
  },
  {
   "cell_type": "code",
   "execution_count": 4,
   "id": "82f6e4c1",
   "metadata": {},
   "outputs": [
    {
     "data": {
      "text/plain": [
       "117"
      ]
     },
     "execution_count": 4,
     "metadata": {},
     "output_type": "execute_result"
    }
   ],
   "source": [
    "ord(result[16].content[0])"
   ]
  },
  {
   "cell_type": "code",
   "execution_count": 5,
   "id": "10fd3c78",
   "metadata": {},
   "outputs": [
    {
     "data": {
      "text/plain": [
       "117"
      ]
     },
     "execution_count": 5,
     "metadata": {},
     "output_type": "execute_result"
    }
   ],
   "source": [
    "ord(result[19].content[-1])"
   ]
  },
  {
   "cell_type": "code",
   "execution_count": 8,
   "id": "2c31c90e",
   "metadata": {},
   "outputs": [],
   "source": [
    "l = 'abc'\n",
    "l2 = l"
   ]
  },
  {
   "cell_type": "code",
   "execution_count": 15,
   "id": "844fdd7c",
   "metadata": {},
   "outputs": [],
   "source": [
    "l = l.replace('c', '')"
   ]
  },
  {
   "cell_type": "code",
   "execution_count": 16,
   "id": "b63a67ca",
   "metadata": {},
   "outputs": [
    {
     "data": {
      "text/plain": [
       "'a'"
      ]
     },
     "execution_count": 16,
     "metadata": {},
     "output_type": "execute_result"
    }
   ],
   "source": [
    "l"
   ]
  },
  {
   "cell_type": "code",
   "execution_count": 14,
   "id": "15d237c3",
   "metadata": {},
   "outputs": [
    {
     "data": {
      "text/plain": [
       "'abc'"
      ]
     },
     "execution_count": 14,
     "metadata": {},
     "output_type": "execute_result"
    }
   ],
   "source": [
    "l2"
   ]
  },
  {
   "cell_type": "code",
   "execution_count": null,
   "id": "ef2e543a",
   "metadata": {},
   "outputs": [],
   "source": []
  }
 ],
 "metadata": {
  "kernelspec": {
   "display_name": "Python 3",
   "language": "python",
   "name": "python3"
  },
  "language_info": {
   "codemirror_mode": {
    "name": "ipython",
    "version": 3
   },
   "file_extension": ".py",
   "mimetype": "text/x-python",
   "name": "python",
   "nbconvert_exporter": "python",
   "pygments_lexer": "ipython3",
   "version": "3.6.9"
  }
 },
 "nbformat": 4,
 "nbformat_minor": 5
}
