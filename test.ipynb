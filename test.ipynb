{
 "cells": [
  {
   "cell_type": "code",
   "execution_count": 1,
   "id": "6ba90f19",
   "metadata": {},
   "outputs": [],
   "source": [
    "from NiCro import NiCro"
   ]
  },
  {
   "cell_type": "code",
   "execution_count": 2,
   "id": "368cec15",
   "metadata": {},
   "outputs": [],
   "source": [
    "nicro = NiCro(ocr_opt='google')"
   ]
  },
  {
   "cell_type": "code",
   "execution_count": 3,
   "id": "585518d8",
   "metadata": {},
   "outputs": [
    {
     "name": "stdout",
     "output_type": "stream",
     "text": [
      "Load 1 Device Emulators\n",
      "Selected Source Device:\n",
      "Device ID:0 Name:emulator-5554 Resolution:Size(width=1080, height=2280)\n",
      "\n",
      "Device Emulators:\n",
      "Device ID:0 Name:emulator-5554 Resolution:Size(width=1080, height=2280)\n",
      "No Robot Arm System\n"
     ]
    }
   ],
   "source": [
    "nicro.load_devices()\n",
    "nicro.select_source_device(0)"
   ]
  },
  {
   "cell_type": "code",
   "execution_count": 4,
   "id": "c1ff84ee",
   "metadata": {},
   "outputs": [
    {
     "name": "stdout",
     "output_type": "stream",
     "text": [
      "****** Device [1 / 1] ******\n",
      "[Text Detection Completed in 0.105 s] Input: data/screen/emulator-5554.png Output: data/output/ocr/emulator-5554.json\n",
      "[Compo Detection Completed in 0.341 s] Input: data/screen/emulator-5554.png Output: data/output/ip/emulator-5554.json\n",
      "[Merge Completed] Input: data/screen/emulator-5554.png Output: data/output/merge/emulator-5554.jpg\n"
     ]
    }
   ],
   "source": [
    "nicro.detect_gui_info_for_all_devices(verbose=True)"
   ]
  },
  {
   "cell_type": "code",
   "execution_count": null,
   "id": "6bc8d682",
   "metadata": {},
   "outputs": [],
   "source": [
    "nicro.detect_gui_info_for_all_devices(verbose=False, show=False)\n",
    "nicro.record_actions('/home/ml/Data/visual testing/testcase', 'amazon', '2', wait_fresh_time=2.0)"
   ]
  },
  {
   "cell_type": "code",
   "execution_count": null,
   "id": "92d53eaa",
   "metadata": {},
   "outputs": [],
   "source": []
  },
  {
   "cell_type": "code",
   "execution_count": 8,
   "id": "f1604184",
   "metadata": {},
   "outputs": [],
   "source": [
    "nicro.show_all_device_detection_results()"
   ]
  },
  {
   "cell_type": "code",
   "execution_count": 5,
   "id": "234facad",
   "metadata": {},
   "outputs": [],
   "source": [
    "nicro.control_multiple_devices_through_source_device(False, detection_verbose=False)"
   ]
  },
  {
   "cell_type": "code",
   "execution_count": 9,
   "id": "ce216187",
   "metadata": {},
   "outputs": [],
   "source": [
    "nicro.click_to_match_widgets_cross_devices()"
   ]
  },
  {
   "cell_type": "code",
   "execution_count": null,
   "id": "f9022614",
   "metadata": {},
   "outputs": [],
   "source": []
  },
  {
   "cell_type": "code",
   "execution_count": null,
   "id": "6b369554",
   "metadata": {},
   "outputs": [],
   "source": []
  },
  {
   "cell_type": "code",
   "execution_count": 3,
   "id": "463668e4",
   "metadata": {},
   "outputs": [
    {
     "name": "stdout",
     "output_type": "stream",
     "text": [
      "****** Device [1 / 1] ******\n",
      "[Text Detection Completed in 0.119 s] Input: data/screen/emulator-5554.png Output: data/output/ocr/emulator-5554.json\n",
      "[Compo Detection Completed in 0.413 s] Input: data/screen/emulator-5554.png Output: data/output/ip/emulator-5554.json\n",
      "[Merge Completed] Input: data/screen/emulator-5554.png Output: data/output/merge/emulator-5554.jpg\n",
      "\n",
      "****** Scroll from (672, 1510) to (661, 1000) ******\n",
      "Record action 0 to /home/ml/Data/visual testing/testcase/booking/2\n",
      "****** Re-detect Source Device's screenshot and GUI ******\n",
      "\n",
      "****** Tap (829, 1678) ******\n",
      "Record action 1 to /home/ml/Data/visual testing/testcase/booking/2\n",
      "****** Re-detect Source Device's screenshot and GUI ******\n",
      "\n",
      "****** Tap (79, 247) ******\n",
      "Record action 2 to /home/ml/Data/visual testing/testcase/booking/2\n",
      "****** Re-detect Source Device's screenshot and GUI ******\n"
     ]
    }
   ],
   "source": [
    "nicro.detect_gui_info_for_all_devices(verbose=True)"
   ]
  },
  {
   "cell_type": "code",
   "execution_count": null,
   "id": "d371e60b",
   "metadata": {},
   "outputs": [],
   "source": []
  },
  {
   "cell_type": "code",
   "execution_count": 1,
   "id": "c446b1e8",
   "metadata": {},
   "outputs": [],
   "source": [
    "import cv2\n",
    "import element_detection.detect_text.text_detection as text\n",
    "import element_detection.detect_compo.lib_ip.ip_preprocessing as pre"
   ]
  },
  {
   "cell_type": "code",
   "execution_count": 2,
   "id": "9f3d4cf0",
   "metadata": {},
   "outputs": [
    {
     "name": "stdout",
     "output_type": "stream",
     "text": [
      "[Text Detection Completed in 0.226 s] Input: data/screen/emulator-5554.png Output: data/output/ocr/emulator-5554.json\n"
     ]
    }
   ],
   "source": [
    "b, result = text.text_detection_google('data/screen/emulator-5554.png', 'data/output/ocr', True)"
   ]
  },
  {
   "cell_type": "code",
   "execution_count": 3,
   "id": "1221bc31",
   "metadata": {
    "scrolled": false
   },
   "outputs": [
    {
     "name": "stdout",
     "output_type": "stream",
     "text": [
      "Q Search Amazon\n",
      "O\n",
      "O\n",
      "←\n",
      "Tap to enable contact suggestions\n",
      ">\n",
      ".\n",
      "uiop8\n",
      "We'rt4\n",
      "1\n",
      "6\n",
      "5\n",
      "q\n",
      "y\n",
      "k\n",
      "l\n",
      "a\n",
      "s\n",
      "d\n",
      "f\n",
      "g\n",
      "h\n",
      "j\n",
      "x\n",
      "c\n",
      "v\n",
      "b\n",
      "n\n",
      "m\n",
      "N\n",
      "X\n",
      ".\n",
      "↑\n",
      "?\n",
      "1\n",
      "2\n",
      "3\n",
      "J\n"
     ]
    }
   ],
   "source": [
    "for t in result:\n",
    "    print(t.content)\n",
    "    binary = pre.binarization(t.clip, 20)\n",
    "    cv2.imshow('bin', binary)\n",
    "    cv2.waitKey()\n",
    "    cv2.destroyAllWindows()"
   ]
  },
  {
   "cell_type": "code",
   "execution_count": null,
   "id": "742a39d0",
   "metadata": {},
   "outputs": [],
   "source": [
    "   "
   ]
  }
 ],
 "metadata": {
  "kernelspec": {
   "display_name": "Python 3",
   "language": "python",
   "name": "python3"
  },
  "language_info": {
   "codemirror_mode": {
    "name": "ipython",
    "version": 3
   },
   "file_extension": ".py",
   "mimetype": "text/x-python",
   "name": "python",
   "nbconvert_exporter": "python",
   "pygments_lexer": "ipython3",
   "version": "3.6.9"
  }
 },
 "nbformat": 4,
 "nbformat_minor": 5
}
