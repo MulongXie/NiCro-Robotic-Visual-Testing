{
 "cells": [
  {
   "cell_type": "code",
   "execution_count": 1,
   "id": "a719ca04",
   "metadata": {},
   "outputs": [],
   "source": [
    "import json\n",
    "from glob import glob\n",
    "from os.path import join as pjoin\n",
    "import os\n",
    "import cv2\n",
    "import numpy as np\n",
    "\n",
    "from match_elements.GUI_pair import GUIPair\n",
    "from GUI import GUI\n",
    "from Operation import Operation"
   ]
  },
  {
   "cell_type": "code",
   "execution_count": 2,
   "id": "a8ac13a4",
   "metadata": {},
   "outputs": [],
   "source": [
    "from keras.applications.resnet import ResNet50\n",
    "resnet_model = ResNet50(include_top=False, input_shape=(32, 32, 3))"
   ]
  },
  {
   "cell_type": "code",
   "execution_count": 3,
   "id": "94e4f43f",
   "metadata": {},
   "outputs": [
    {
     "name": "stdout",
     "output_type": "stream",
     "text": [
      "[2022/03/01 20:17:16] root WARNING: lang en is not support in PP-OCRv2, auto switch to version PP-OCR\n",
      "[2022/03/01 20:17:16] root WARNING: lang en is not support in PP-OCRv2, auto switch to version PP-OCR\n",
      "[2022/03/01 20:17:16] root WARNING: version PP-OCRv2 not support cls models, auto switch to version PP-OCR\n",
      "Namespace(benchmark=False, cls_batch_num=6, cls_image_shape='3, 48, 192', cls_model_dir='/home/ml/.paddleocr/2.3.0.2/ocr/cls/ch_ppocr_mobile_v2.0_cls_infer', cls_thresh=0.9, cpu_threads=10, det=True, det_algorithm='DB', det_db_box_thresh=0.6, det_db_score_mode='fast', det_db_thresh=0.3, det_db_unclip_ratio=1.5, det_east_cover_thresh=0.1, det_east_nms_thresh=0.2, det_east_score_thresh=0.8, det_limit_side_len=960, det_limit_type='max', det_model_dir='/home/ml/.paddleocr/2.3.0.2/ocr/det/en/en_ppocr_mobile_v2.0_det_infer', det_pse_box_thresh=0.85, det_pse_box_type='box', det_pse_min_area=16, det_pse_scale=1, det_pse_thresh=0, det_sast_nms_thresh=0.2, det_sast_polygon=False, det_sast_score_thresh=0.5, drop_score=0.5, e2e_algorithm='PGNet', e2e_char_dict_path='./ppocr/utils/ic15_dict.txt', e2e_limit_side_len=768, e2e_limit_type='max', e2e_model_dir=None, e2e_pgnet_mode='fast', e2e_pgnet_polygon=True, e2e_pgnet_score_thresh=0.5, e2e_pgnet_valid_set='totaltext', enable_mkldnn=False, gpu_mem=500, help='==SUPPRESS==', image_dir=None, ir_optim=True, label_list=['0', '180'], lang='en', layout_path_model='lp://PubLayNet/ppyolov2_r50vd_dcn_365e_publaynet/config', max_batch_size=10, max_text_length=25, min_subgraph_size=15, ocr_version='PP-OCRv2', output='./output/table', precision='fp32', process_id=0, rec=True, rec_algorithm='CRNN', rec_batch_num=6, rec_char_dict_path='/home/ml/.local/lib/python3.6/site-packages/paddleocr/ppocr/utils/en_dict.txt', rec_image_shape='3, 32, 320', rec_model_dir='/home/ml/.paddleocr/2.3.0.2/ocr/rec/en/en_number_mobile_v2.0_rec_infer', save_log_path='./log_output/', show_log=True, structure_version='STRUCTURE', table_char_dict_path=None, table_char_type='en', table_max_len=488, table_model_dir=None, total_process_num=1, type='ocr', use_angle_cls=True, use_dilation=False, use_gpu=False, use_mp=False, use_onnx=False, use_pdserving=False, use_space_char=True, use_tensorrt=False, vis_font_path='./doc/fonts/simfang.ttf', warmup=True)\n"
     ]
    }
   ],
   "source": [
    "from paddleocr import PaddleOCR\n",
    "paddle_ocr = PaddleOCR(use_angle_cls=True, lang='en')"
   ]
  },
  {
   "cell_type": "code",
   "execution_count": 13,
   "id": "028f42a8",
   "metadata": {},
   "outputs": [
    {
     "name": "stdout",
     "output_type": "stream",
     "text": [
      "[2022/03/01 20:18:52] root DEBUG: dt_boxes num : 17, elapse : 0.13954925537109375\n",
      "[2022/03/01 20:18:52] root DEBUG: cls num  : 17, elapse : 0.06224226951599121\n",
      "[2022/03/01 20:18:52] root DEBUG: rec_res num  : 17, elapse : 0.12114596366882324\n",
      "[Text Detection Completed in 0.343 s] Input: data/input/temp.jpg Output: data/output/ocr/temp.json\n",
      "[Compo Detection Completed in 0.400 s] Input: data/input/temp.jpg Output: data/output/ip/temp.json\n",
      "[Merge Completed] Input: data/input/temp.jpg Output: data/output/merge/temp.jpg\n"
     ]
    }
   ],
   "source": [
    "gui = GUI('data/input/temp.jpg')\n",
    "gui.detect_element(True, True, True, paddle_cor=paddle_ocr)\n",
    "# gui.load_detection_result()\n",
    "gui.show_detection_result()"
   ]
  },
  {
   "cell_type": "code",
   "execution_count": 14,
   "id": "77c1184f",
   "metadata": {},
   "outputs": [
    {
     "name": "stdout",
     "output_type": "stream",
     "text": [
      "[2022/03/01 20:18:55] root DEBUG: dt_boxes num : 0, elapse : 0.0036602020263671875\n",
      "[2022/03/01 20:18:55] root DEBUG: cls num  : 0, elapse : 0\n",
      "[2022/03/01 20:18:55] root DEBUG: rec_res num  : 0, elapse : 1.6689300537109375e-06\n",
      "[Text Detection Completed in 0.006 s] Input: data/operation/target.png Output: data/operation/target.json\n"
     ]
    }
   ],
   "source": [
    "# load operations\n",
    "testing_data_root = '/home/ml/Data/visual testing/experiments/humanoid-output/adguard-1'\n",
    "\n",
    "steps_file = pjoin(testing_data_root, 'output.json')\n",
    "steps = json.load(open(steps_file, 'r'))\n",
    "\n",
    "operations = []\n",
    "for step in steps:\n",
    "    op = Operation(pjoin(testing_data_root, step['tag'] + '.jpg'), step['event_type'], step['bounds'])\n",
    "    op.shrink_target_element_img()\n",
    "    op.resize(int(op.ui_img_width * (800 / op.ui_img_height)), 800)        \n",
    "    op.detect_text(paddle_ocr)\n",
    "    operations.append(op)\n",
    "#     op.show_target_ele()\n",
    "    break"
   ]
  },
  {
   "cell_type": "code",
   "execution_count": null,
   "id": "042c31c8",
   "metadata": {},
   "outputs": [],
   "source": []
  },
  {
   "cell_type": "code",
   "execution_count": 15,
   "id": "3c99cb6c",
   "metadata": {},
   "outputs": [
    {
     "name": "stdout",
     "output_type": "stream",
     "text": [
      "2 0.7920485\n",
      "3 0.31549275\n",
      "6 0.32304513\n",
      "7 0.25114357\n",
      "11 0.329207\n",
      "12 0.1678816\n",
      "13 0.5638797\n",
      "Match by image\n"
     ]
    }
   ],
   "source": [
    "opr = operations[0]\n",
    "matched_e = gui.match_elements(target_ele_img=opr.target_element_img, target_ele_text=opr.get_text_content(), resnet_model=resnet_model, show=True)"
   ]
  },
  {
   "cell_type": "code",
   "execution_count": 13,
   "id": "d987e789",
   "metadata": {},
   "outputs": [],
   "source": [
    "opr.show_target_ele()"
   ]
  },
  {
   "cell_type": "code",
   "execution_count": null,
   "id": "10cce2a3",
   "metadata": {},
   "outputs": [],
   "source": []
  },
  {
   "cell_type": "code",
   "execution_count": 7,
   "id": "7b9b3094",
   "metadata": {},
   "outputs": [],
   "source": [
    "gui.adjust_elements_by_screen()"
   ]
  },
  {
   "cell_type": "code",
   "execution_count": 8,
   "id": "9b2fb1c4",
   "metadata": {},
   "outputs": [],
   "source": [
    "b = gui.draw_element_after_screen_conversion()"
   ]
  },
  {
   "cell_type": "code",
   "execution_count": null,
   "id": "a40e06ba",
   "metadata": {},
   "outputs": [],
   "source": []
  },
  {
   "cell_type": "code",
   "execution_count": 16,
   "id": "b7cae6b3",
   "metadata": {},
   "outputs": [
    {
     "data": {
      "text/plain": [
       "(12, 18, 3)"
      ]
     },
     "execution_count": 16,
     "metadata": {},
     "output_type": "execute_result"
    }
   ],
   "source": [
    "matched_e.clip.shape"
   ]
  },
  {
   "cell_type": "code",
   "execution_count": 12,
   "id": "f3bb6d1d",
   "metadata": {},
   "outputs": [
    {
     "data": {
      "text/plain": [
       "(14, 19, 3)"
      ]
     },
     "execution_count": 12,
     "metadata": {},
     "output_type": "execute_result"
    }
   ],
   "source": [
    "opr.target_element_img.shape"
   ]
  },
  {
   "cell_type": "code",
   "execution_count": null,
   "id": "1d5ab438",
   "metadata": {},
   "outputs": [],
   "source": []
  }
 ],
 "metadata": {
  "kernelspec": {
   "display_name": "Python 3",
   "language": "python",
   "name": "python3"
  },
  "language_info": {
   "codemirror_mode": {
    "name": "ipython",
    "version": 3
   },
   "file_extension": ".py",
   "mimetype": "text/x-python",
   "name": "python",
   "nbconvert_exporter": "python",
   "pygments_lexer": "ipython3",
   "version": "3.6.9"
  }
 },
 "nbformat": 4,
 "nbformat_minor": 5
}
