{
 "cells": [
  {
   "cell_type": "code",
   "execution_count": 1,
   "id": "a719ca04",
   "metadata": {},
   "outputs": [],
   "source": [
    "import json\n",
    "from glob import glob\n",
    "from os.path import join as pjoin\n",
    "import os\n",
    "import cv2\n",
    "import numpy as np\n",
    "\n",
    "from match_elements.GUI_pair import GUIPair\n",
    "from GUI import GUI\n",
    "from Operation import Operation"
   ]
  },
  {
   "cell_type": "code",
   "execution_count": 2,
   "id": "a8ac13a4",
   "metadata": {},
   "outputs": [],
   "source": [
    "from keras.applications.resnet import ResNet50\n",
    "resnet_model = ResNet50(include_top=False, input_shape=(32, 32, 3))"
   ]
  },
  {
   "cell_type": "code",
   "execution_count": 3,
   "id": "94e4f43f",
   "metadata": {},
   "outputs": [
    {
     "name": "stdout",
     "output_type": "stream",
     "text": [
      "[2022/02/28 16:15:59] root WARNING: lang en is not support in PP-OCRv2, auto switch to version PP-OCR\n",
      "[2022/02/28 16:15:59] root WARNING: lang en is not support in PP-OCRv2, auto switch to version PP-OCR\n",
      "[2022/02/28 16:15:59] root WARNING: version PP-OCRv2 not support cls models, auto switch to version PP-OCR\n",
      "Namespace(benchmark=False, cls_batch_num=6, cls_image_shape='3, 48, 192', cls_model_dir='/home/ml/.paddleocr/2.3.0.2/ocr/cls/ch_ppocr_mobile_v2.0_cls_infer', cls_thresh=0.9, cpu_threads=10, det=True, det_algorithm='DB', det_db_box_thresh=0.6, det_db_score_mode='fast', det_db_thresh=0.3, det_db_unclip_ratio=1.5, det_east_cover_thresh=0.1, det_east_nms_thresh=0.2, det_east_score_thresh=0.8, det_limit_side_len=960, det_limit_type='max', det_model_dir='/home/ml/.paddleocr/2.3.0.2/ocr/det/en/en_ppocr_mobile_v2.0_det_infer', det_pse_box_thresh=0.85, det_pse_box_type='box', det_pse_min_area=16, det_pse_scale=1, det_pse_thresh=0, det_sast_nms_thresh=0.2, det_sast_polygon=False, det_sast_score_thresh=0.5, drop_score=0.5, e2e_algorithm='PGNet', e2e_char_dict_path='./ppocr/utils/ic15_dict.txt', e2e_limit_side_len=768, e2e_limit_type='max', e2e_model_dir=None, e2e_pgnet_mode='fast', e2e_pgnet_polygon=True, e2e_pgnet_score_thresh=0.5, e2e_pgnet_valid_set='totaltext', enable_mkldnn=False, gpu_mem=500, help='==SUPPRESS==', image_dir=None, ir_optim=True, label_list=['0', '180'], lang='en', layout_path_model='lp://PubLayNet/ppyolov2_r50vd_dcn_365e_publaynet/config', max_batch_size=10, max_text_length=25, min_subgraph_size=15, ocr_version='PP-OCRv2', output='./output/table', precision='fp32', process_id=0, rec=True, rec_algorithm='CRNN', rec_batch_num=6, rec_char_dict_path='/home/ml/.local/lib/python3.6/site-packages/paddleocr/ppocr/utils/en_dict.txt', rec_image_shape='3, 32, 320', rec_model_dir='/home/ml/.paddleocr/2.3.0.2/ocr/rec/en/en_number_mobile_v2.0_rec_infer', save_log_path='./log_output/', show_log=True, structure_version='STRUCTURE', table_char_dict_path=None, table_char_type='en', table_max_len=488, table_model_dir=None, total_process_num=1, type='ocr', use_angle_cls=True, use_dilation=False, use_gpu=False, use_mp=False, use_onnx=False, use_pdserving=False, use_space_char=True, use_tensorrt=False, vis_font_path='./doc/fonts/simfang.ttf', warmup=True)\n"
     ]
    }
   ],
   "source": [
    "from paddleocr import PaddleOCR\n",
    "paddle_ocr = PaddleOCR(use_angle_cls=True, lang='en')"
   ]
  },
  {
   "cell_type": "code",
   "execution_count": 4,
   "id": "028f42a8",
   "metadata": {},
   "outputs": [
    {
     "name": "stdout",
     "output_type": "stream",
     "text": [
      "[2022/02/28 16:16:06] root DEBUG: dt_boxes num : 30, elapse : 0.22300076484680176\n",
      "[2022/02/28 16:16:06] root DEBUG: cls num  : 30, elapse : 0.10329771041870117\n",
      "[2022/02/28 16:16:06] root DEBUG: rec_res num  : 30, elapse : 0.14495420455932617\n",
      "[Text Detection Completed in 0.528 s] Input: data/input/2.jpg Output: data/output/ocr/2.json\n",
      "[Compo Detection Completed in 0.291 s] Input: data/input/2.jpg Output: data/output/ip/2.json\n",
      "[Merge Completed] Input: data/input/2.jpg Output: data/output/merge/2.jpg\n"
     ]
    }
   ],
   "source": [
    "gui = GUI('data/input/2.jpg')\n",
    "gui.detect_element(True, True, True, paddle_cor=paddle_ocr)\n",
    "# gui.load_detection_result()\n",
    "gui.show_detection_result()"
   ]
  },
  {
   "cell_type": "code",
   "execution_count": 5,
   "id": "77c1184f",
   "metadata": {},
   "outputs": [
    {
     "name": "stdout",
     "output_type": "stream",
     "text": [
      "[2022/02/28 16:16:09] root DEBUG: dt_boxes num : 0, elapse : 0.002596139907836914\n",
      "[2022/02/28 16:16:09] root DEBUG: cls num  : 0, elapse : 0\n",
      "[2022/02/28 16:16:09] root DEBUG: rec_res num  : 0, elapse : 1.430511474609375e-06\n",
      "[Text Detection Completed in 0.005 s] Input: data/operation/target.png Output: data/operation/target.json\n",
      "[2022/02/28 16:16:09] root DEBUG: dt_boxes num : 3, elapse : 0.009908199310302734\n",
      "[2022/02/28 16:16:09] root DEBUG: cls num  : 3, elapse : 0.011749029159545898\n",
      "[2022/02/28 16:16:09] root DEBUG: rec_res num  : 3, elapse : 0.03329801559448242\n",
      "[Text Detection Completed in 0.059 s] Input: data/operation/target.png Output: data/operation/target.json\n",
      "[2022/02/28 16:16:09] root DEBUG: dt_boxes num : 0, elapse : 0.004084348678588867\n",
      "[2022/02/28 16:16:09] root DEBUG: cls num  : 0, elapse : 0\n",
      "[2022/02/28 16:16:09] root DEBUG: rec_res num  : 0, elapse : 1.1920928955078125e-06\n",
      "[Text Detection Completed in 0.006 s] Input: data/operation/target.png Output: data/operation/target.json\n",
      "[2022/02/28 16:16:09] root DEBUG: dt_boxes num : 0, elapse : 0.003743410110473633\n",
      "[2022/02/28 16:16:09] root DEBUG: cls num  : 0, elapse : 0\n",
      "[2022/02/28 16:16:09] root DEBUG: rec_res num  : 0, elapse : 9.5367431640625e-07\n",
      "[Text Detection Completed in 0.005 s] Input: data/operation/target.png Output: data/operation/target.json\n",
      "[2022/02/28 16:16:09] root DEBUG: dt_boxes num : 0, elapse : 0.0038263797760009766\n",
      "[2022/02/28 16:16:09] root DEBUG: cls num  : 0, elapse : 0\n",
      "[2022/02/28 16:16:09] root DEBUG: rec_res num  : 0, elapse : 9.5367431640625e-07\n",
      "[Text Detection Completed in 0.006 s] Input: data/operation/target.png Output: data/operation/target.json\n",
      "[2022/02/28 16:16:09] root DEBUG: dt_boxes num : 1, elapse : 0.006999015808105469\n",
      "[2022/02/28 16:16:09] root DEBUG: cls num  : 1, elapse : 0.006262063980102539\n",
      "[2022/02/28 16:16:09] root DEBUG: rec_res num  : 1, elapse : 0.004067182540893555\n",
      "[Text Detection Completed in 0.020 s] Input: data/operation/target.png Output: data/operation/target.json\n",
      "[2022/02/28 16:16:09] root DEBUG: dt_boxes num : 0, elapse : 0.0034630298614501953\n",
      "[2022/02/28 16:16:09] root DEBUG: cls num  : 0, elapse : 0\n",
      "[2022/02/28 16:16:09] root DEBUG: rec_res num  : 0, elapse : 7.152557373046875e-07\n",
      "[Text Detection Completed in 0.005 s] Input: data/operation/target.png Output: data/operation/target.json\n",
      "[2022/02/28 16:16:09] root DEBUG: dt_boxes num : 0, elapse : 0.0035414695739746094\n",
      "[2022/02/28 16:16:09] root DEBUG: cls num  : 0, elapse : 0\n",
      "[2022/02/28 16:16:09] root DEBUG: rec_res num  : 0, elapse : 7.152557373046875e-07\n",
      "[Text Detection Completed in 0.006 s] Input: data/operation/target.png Output: data/operation/target.json\n",
      "[2022/02/28 16:16:09] root DEBUG: dt_boxes num : 3, elapse : 0.011606931686401367\n",
      "[2022/02/28 16:16:09] root DEBUG: cls num  : 3, elapse : 0.011066913604736328\n",
      "[2022/02/28 16:16:09] root DEBUG: rec_res num  : 3, elapse : 0.035559654235839844\n",
      "[Text Detection Completed in 0.062 s] Input: data/operation/target.png Output: data/operation/target.json\n",
      "[2022/02/28 16:16:09] root DEBUG: dt_boxes num : 0, elapse : 0.0029401779174804688\n",
      "[2022/02/28 16:16:09] root DEBUG: cls num  : 0, elapse : 0\n",
      "[2022/02/28 16:16:09] root DEBUG: rec_res num  : 0, elapse : 1.1920928955078125e-06\n",
      "[Text Detection Completed in 0.005 s] Input: data/operation/target.png Output: data/operation/target.json\n",
      "[2022/02/28 16:16:09] root DEBUG: dt_boxes num : 0, elapse : 0.0027217864990234375\n",
      "[2022/02/28 16:16:09] root DEBUG: cls num  : 0, elapse : 0\n",
      "[2022/02/28 16:16:09] root DEBUG: rec_res num  : 0, elapse : 9.5367431640625e-07\n",
      "[Text Detection Completed in 0.004 s] Input: data/operation/target.png Output: data/operation/target.json\n",
      "[2022/02/28 16:16:09] root DEBUG: dt_boxes num : 0, elapse : 0.0025815963745117188\n",
      "[2022/02/28 16:16:09] root DEBUG: cls num  : 0, elapse : 0\n",
      "[2022/02/28 16:16:09] root DEBUG: rec_res num  : 0, elapse : 7.152557373046875e-07\n",
      "[Text Detection Completed in 0.004 s] Input: data/operation/target.png Output: data/operation/target.json\n",
      "[2022/02/28 16:16:09] root DEBUG: dt_boxes num : 0, elapse : 0.0037186145782470703\n",
      "[2022/02/28 16:16:09] root DEBUG: cls num  : 0, elapse : 0\n",
      "[2022/02/28 16:16:09] root DEBUG: rec_res num  : 0, elapse : 4.76837158203125e-07\n",
      "[Text Detection Completed in 0.005 s] Input: data/operation/target.png Output: data/operation/target.json\n",
      "[2022/02/28 16:16:09] root DEBUG: dt_boxes num : 0, elapse : 0.004549264907836914\n",
      "[2022/02/28 16:16:09] root DEBUG: cls num  : 0, elapse : 0\n",
      "[2022/02/28 16:16:09] root DEBUG: rec_res num  : 0, elapse : 4.76837158203125e-07\n",
      "[Text Detection Completed in 0.015 s] Input: data/operation/target.png Output: data/operation/target.json\n",
      "[2022/02/28 16:16:09] root DEBUG: dt_boxes num : 1, elapse : 0.003916740417480469\n",
      "[2022/02/28 16:16:09] root DEBUG: cls num  : 1, elapse : 0.004248142242431641\n",
      "[2022/02/28 16:16:09] root DEBUG: rec_res num  : 1, elapse : 0.006574869155883789\n",
      "[Text Detection Completed in 0.017 s] Input: data/operation/target.png Output: data/operation/target.json\n",
      "[2022/02/28 16:16:09] root DEBUG: dt_boxes num : 0, elapse : 0.0035767555236816406\n",
      "[2022/02/28 16:16:09] root DEBUG: cls num  : 0, elapse : 0\n",
      "[2022/02/28 16:16:09] root DEBUG: rec_res num  : 0, elapse : 1.1920928955078125e-06\n",
      "[Text Detection Completed in 0.005 s] Input: data/operation/target.png Output: data/operation/target.json\n",
      "[2022/02/28 16:16:09] root DEBUG: dt_boxes num : 3, elapse : 0.013067960739135742\n",
      "[2022/02/28 16:16:09] root DEBUG: cls num  : 3, elapse : 0.01675701141357422\n",
      "[2022/02/28 16:16:09] root DEBUG: rec_res num  : 3, elapse : 0.048749685287475586\n",
      "[Text Detection Completed in 0.083 s] Input: data/operation/target.png Output: data/operation/target.json\n",
      "[2022/02/28 16:16:09] root DEBUG: dt_boxes num : 0, elapse : 0.003866910934448242\n",
      "[2022/02/28 16:16:09] root DEBUG: cls num  : 0, elapse : 0\n",
      "[2022/02/28 16:16:09] root DEBUG: rec_res num  : 0, elapse : 1.1920928955078125e-06\n",
      "[Text Detection Completed in 0.006 s] Input: data/operation/target.png Output: data/operation/target.json\n",
      "[2022/02/28 16:16:09] root DEBUG: dt_boxes num : 0, elapse : 0.0032596588134765625\n",
      "[2022/02/28 16:16:09] root DEBUG: cls num  : 0, elapse : 0\n",
      "[2022/02/28 16:16:09] root DEBUG: rec_res num  : 0, elapse : 1.1920928955078125e-06\n",
      "[Text Detection Completed in 0.005 s] Input: data/operation/target.png Output: data/operation/target.json\n",
      "[2022/02/28 16:16:10] root DEBUG: dt_boxes num : 0, elapse : 0.0032701492309570312\n",
      "[2022/02/28 16:16:10] root DEBUG: cls num  : 0, elapse : 0\n",
      "[2022/02/28 16:16:10] root DEBUG: rec_res num  : 0, elapse : 1.1920928955078125e-06\n",
      "[Text Detection Completed in 0.005 s] Input: data/operation/target.png Output: data/operation/target.json\n",
      "[2022/02/28 16:16:10] root DEBUG: dt_boxes num : 0, elapse : 0.004171848297119141\n",
      "[2022/02/28 16:16:10] root DEBUG: cls num  : 0, elapse : 0\n",
      "[2022/02/28 16:16:10] root DEBUG: rec_res num  : 0, elapse : 9.5367431640625e-07\n",
      "[Text Detection Completed in 0.007 s] Input: data/operation/target.png Output: data/operation/target.json\n",
      "[2022/02/28 16:16:10] root DEBUG: dt_boxes num : 0, elapse : 0.0032110214233398438\n",
      "[2022/02/28 16:16:10] root DEBUG: cls num  : 0, elapse : 0\n",
      "[2022/02/28 16:16:10] root DEBUG: rec_res num  : 0, elapse : 9.5367431640625e-07\n",
      "[Text Detection Completed in 0.005 s] Input: data/operation/target.png Output: data/operation/target.json\n",
      "[2022/02/28 16:16:10] root DEBUG: dt_boxes num : 1, elapse : 0.0074291229248046875\n",
      "[2022/02/28 16:16:10] root DEBUG: cls num  : 1, elapse : 0.006221771240234375\n",
      "[2022/02/28 16:16:10] root DEBUG: rec_res num  : 1, elapse : 0.016235828399658203\n",
      "[Text Detection Completed in 0.034 s] Input: data/operation/target.png Output: data/operation/target.json\n",
      "[2022/02/28 16:16:10] root DEBUG: dt_boxes num : 0, elapse : 0.0025658607482910156\n",
      "[2022/02/28 16:16:10] root DEBUG: cls num  : 0, elapse : 0\n",
      "[2022/02/28 16:16:10] root DEBUG: rec_res num  : 0, elapse : 1.6689300537109375e-06\n",
      "[Text Detection Completed in 0.004 s] Input: data/operation/target.png Output: data/operation/target.json\n",
      "[2022/02/28 16:16:10] root DEBUG: dt_boxes num : 1, elapse : 0.0048253536224365234\n",
      "[2022/02/28 16:16:10] root DEBUG: cls num  : 1, elapse : 0.004261493682861328\n"
     ]
    },
    {
     "name": "stdout",
     "output_type": "stream",
     "text": [
      "[2022/02/28 16:16:10] root DEBUG: rec_res num  : 1, elapse : 0.0029222965240478516\n",
      "[Text Detection Completed in 0.014 s] Input: data/operation/target.png Output: data/operation/target.json\n",
      "[2022/02/28 16:16:10] root DEBUG: dt_boxes num : 0, elapse : 0.0026540756225585938\n",
      "[2022/02/28 16:16:10] root DEBUG: cls num  : 0, elapse : 0\n",
      "[2022/02/28 16:16:10] root DEBUG: rec_res num  : 0, elapse : 9.5367431640625e-07\n",
      "[Text Detection Completed in 0.004 s] Input: data/operation/target.png Output: data/operation/target.json\n",
      "[2022/02/28 16:16:10] root DEBUG: dt_boxes num : 3, elapse : 0.009444475173950195\n",
      "[2022/02/28 16:16:10] root DEBUG: cls num  : 3, elapse : 0.010867118835449219\n",
      "[2022/02/28 16:16:10] root DEBUG: rec_res num  : 3, elapse : 0.03201150894165039\n",
      "[Text Detection Completed in 0.056 s] Input: data/operation/target.png Output: data/operation/target.json\n",
      "[2022/02/28 16:16:10] root DEBUG: dt_boxes num : 0, elapse : 0.003285646438598633\n",
      "[2022/02/28 16:16:10] root DEBUG: cls num  : 0, elapse : 0\n",
      "[2022/02/28 16:16:10] root DEBUG: rec_res num  : 0, elapse : 1.430511474609375e-06\n",
      "[Text Detection Completed in 0.005 s] Input: data/operation/target.png Output: data/operation/target.json\n",
      "[2022/02/28 16:16:10] root DEBUG: dt_boxes num : 0, elapse : 0.0025992393493652344\n",
      "[2022/02/28 16:16:10] root DEBUG: cls num  : 0, elapse : 0\n",
      "[2022/02/28 16:16:10] root DEBUG: rec_res num  : 0, elapse : 7.152557373046875e-07\n",
      "[Text Detection Completed in 0.004 s] Input: data/operation/target.png Output: data/operation/target.json\n",
      "[2022/02/28 16:16:10] root DEBUG: dt_boxes num : 0, elapse : 0.0025131702423095703\n",
      "[2022/02/28 16:16:10] root DEBUG: cls num  : 0, elapse : 0\n",
      "[2022/02/28 16:16:10] root DEBUG: rec_res num  : 0, elapse : 1.1920928955078125e-06\n",
      "[Text Detection Completed in 0.004 s] Input: data/operation/target.png Output: data/operation/target.json\n",
      "[2022/02/28 16:16:10] root DEBUG: dt_boxes num : 0, elapse : 0.0031304359436035156\n",
      "[2022/02/28 16:16:10] root DEBUG: cls num  : 0, elapse : 0\n",
      "[2022/02/28 16:16:10] root DEBUG: rec_res num  : 0, elapse : 9.5367431640625e-07\n",
      "[Text Detection Completed in 0.005 s] Input: data/operation/target.png Output: data/operation/target.json\n"
     ]
    }
   ],
   "source": [
    "# load operations\n",
    "testing_data_root = '/home/ml/Data/visual testing/experiments/humanoid-output/adguard-1'\n",
    "\n",
    "steps_file = pjoin(testing_data_root, 'output.json')\n",
    "steps = json.load(open(steps_file, 'r'))\n",
    "\n",
    "operations = []\n",
    "for step in steps:\n",
    "    op = Operation(pjoin(testing_data_root, step['tag'] + '.jpg'), step['event_type'], step['bounds'])\n",
    "    op.shrink_target_element_img()\n",
    "    op.resize(gui.detection_resize_width, gui.detection_resize_height)        \n",
    "    op.detect_text(paddle_ocr)\n",
    "    operations.append(op)\n",
    "#     op.show_target_ele()"
   ]
  },
  {
   "cell_type": "code",
   "execution_count": null,
   "id": "042c31c8",
   "metadata": {},
   "outputs": [],
   "source": []
  },
  {
   "cell_type": "code",
   "execution_count": 13,
   "id": "3c99cb6c",
   "metadata": {},
   "outputs": [
    {
     "name": "stdout",
     "output_type": "stream",
     "text": [
      "Match by text\n"
     ]
    },
    {
     "data": {
      "text/plain": [
       "<Element.Element at 0x7f9a503d4518>"
      ]
     },
     "execution_count": 13,
     "metadata": {},
     "output_type": "execute_result"
    }
   ],
   "source": [
    "opr = operations[1]\n",
    "gui.match_elements(target_ele_img=opr.target_element_img, target_ele_text=opr.get_text_content(), resnet_model=resnet_model, show=True)"
   ]
  },
  {
   "cell_type": "code",
   "execution_count": null,
   "id": "d987e789",
   "metadata": {},
   "outputs": [],
   "source": []
  },
  {
   "cell_type": "code",
   "execution_count": null,
   "id": "ebe1fc39",
   "metadata": {},
   "outputs": [],
   "source": []
  },
  {
   "cell_type": "code",
   "execution_count": null,
   "id": "a5cdfe94",
   "metadata": {},
   "outputs": [],
   "source": []
  }
 ],
 "metadata": {
  "kernelspec": {
   "display_name": "Python 3",
   "language": "python",
   "name": "python3"
  },
  "language_info": {
   "codemirror_mode": {
    "name": "ipython",
    "version": 3
   },
   "file_extension": ".py",
   "mimetype": "text/x-python",
   "name": "python",
   "nbconvert_exporter": "python",
   "pygments_lexer": "ipython3",
   "version": "3.6.9"
  }
 },
 "nbformat": 4,
 "nbformat_minor": 5
}
