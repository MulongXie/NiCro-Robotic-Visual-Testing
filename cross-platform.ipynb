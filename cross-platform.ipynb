{
 "cells": [
  {
   "cell_type": "code",
   "execution_count": 1,
   "id": "b8a9b5f1",
   "metadata": {},
   "outputs": [],
   "source": [
    "import json\n",
    "from glob import glob\n",
    "from os.path import join as pjoin\n",
    "import os\n",
    "import cv2\n",
    "import numpy as np\n",
    "\n",
    "from match_elements.GUI_pair import GUIPair\n",
    "from GUI import GUI\n",
    "from Operation import Operation"
   ]
  },
  {
   "cell_type": "code",
   "execution_count": 2,
   "id": "f9eddd2f",
   "metadata": {},
   "outputs": [],
   "source": [
    "from keras.applications.resnet import ResNet50\n",
    "resnet_model = ResNet50(include_top=False, input_shape=(32, 32, 3))"
   ]
  },
  {
   "cell_type": "code",
   "execution_count": 2,
   "id": "b850b8dd",
   "metadata": {},
   "outputs": [
    {
     "name": "stdout",
     "output_type": "stream",
     "text": [
      "[2022/04/09 18:49:06] root WARNING: lang en is not support in PP-OCRv2, auto switch to version PP-OCR\n",
      "[2022/04/09 18:49:06] root WARNING: lang en is not support in PP-OCRv2, auto switch to version PP-OCR\n",
      "[2022/04/09 18:49:06] root WARNING: version PP-OCRv2 not support cls models, auto switch to version PP-OCR\n",
      "Namespace(benchmark=False, cls_batch_num=6, cls_image_shape='3, 48, 192', cls_model_dir='/home/ml/.paddleocr/2.3.0.2/ocr/cls/ch_ppocr_mobile_v2.0_cls_infer', cls_thresh=0.9, cpu_threads=10, det=True, det_algorithm='DB', det_db_box_thresh=0.6, det_db_score_mode='fast', det_db_thresh=0.3, det_db_unclip_ratio=1.5, det_east_cover_thresh=0.1, det_east_nms_thresh=0.2, det_east_score_thresh=0.8, det_limit_side_len=960, det_limit_type='max', det_model_dir='/home/ml/.paddleocr/2.3.0.2/ocr/det/en/en_ppocr_mobile_v2.0_det_infer', det_pse_box_thresh=0.85, det_pse_box_type='box', det_pse_min_area=16, det_pse_scale=1, det_pse_thresh=0, det_sast_nms_thresh=0.2, det_sast_polygon=False, det_sast_score_thresh=0.5, drop_score=0.5, e2e_algorithm='PGNet', e2e_char_dict_path='./ppocr/utils/ic15_dict.txt', e2e_limit_side_len=768, e2e_limit_type='max', e2e_model_dir=None, e2e_pgnet_mode='fast', e2e_pgnet_polygon=True, e2e_pgnet_score_thresh=0.5, e2e_pgnet_valid_set='totaltext', enable_mkldnn=False, gpu_mem=500, help='==SUPPRESS==', image_dir=None, ir_optim=True, label_list=['0', '180'], lang='en', layout_path_model='lp://PubLayNet/ppyolov2_r50vd_dcn_365e_publaynet/config', max_batch_size=10, max_text_length=25, min_subgraph_size=15, ocr_version='PP-OCRv2', output='./output/table', precision='fp32', process_id=0, rec=True, rec_algorithm='CRNN', rec_batch_num=6, rec_char_dict_path='/home/ml/.local/lib/python3.6/site-packages/paddleocr/ppocr/utils/en_dict.txt', rec_image_shape='3, 32, 320', rec_model_dir='/home/ml/.paddleocr/2.3.0.2/ocr/rec/en/en_number_mobile_v2.0_rec_infer', save_log_path='./log_output/', show_log=True, structure_version='STRUCTURE', table_char_dict_path=None, table_char_type='en', table_max_len=488, table_model_dir=None, total_process_num=1, type='ocr', use_angle_cls=True, use_dilation=False, use_gpu=False, use_mp=False, use_onnx=False, use_pdserving=False, use_space_char=True, use_tensorrt=False, vis_font_path='./doc/fonts/simfang.ttf', warmup=True)\n"
     ]
    }
   ],
   "source": [
    "from paddleocr import PaddleOCR\n",
    "paddle_ocr = PaddleOCR(use_angle_cls=True, lang='en')"
   ]
  },
  {
   "cell_type": "code",
   "execution_count": 2,
   "id": "511aa2ce",
   "metadata": {},
   "outputs": [],
   "source": [
    "gui1 = GUI('data/UIComparison/80.png')\n",
    "# gui1.detect_element(True, True, True, paddle_cor=paddle_ocr)\n",
    "gui1.load_detection_result()\n",
    "gui1.show_detection_result()"
   ]
  },
  {
   "cell_type": "code",
   "execution_count": 5,
   "id": "9e764784",
   "metadata": {},
   "outputs": [
    {
     "name": "stdout",
     "output_type": "stream",
     "text": [
      "[2022/04/09 18:50:06] root DEBUG: dt_boxes num : 32, elapse : 0.1388866901397705\n",
      "[2022/04/09 18:50:06] root DEBUG: cls num  : 32, elapse : 0.11372685432434082\n",
      "[2022/04/09 18:50:07] root DEBUG: rec_res num  : 32, elapse : 0.19258332252502441\n",
      "[Text Detection Completed in 0.505 s] Input: data/UIComparison/60.png Output: data/output/ocr/60.json\n",
      "[Compo Detection Completed in 0.450 s] Input: data/UIComparison/60.png Output: data/output/ip/60.json\n",
      "[Merge Completed] Input: data/UIComparison/60.png Output: data/output/merge/60.jpg\n"
     ]
    }
   ],
   "source": [
    "gui2 = GUI('data/UIComparison/60.png')\n",
    "gui2.detect_element(True, True, True, paddle_cor=paddle_ocr)\n",
    "# gui1.load_detection_result()\n",
    "gui2.show_detection_result()"
   ]
  },
  {
   "cell_type": "code",
   "execution_count": 6,
   "id": "ec451f66",
   "metadata": {},
   "outputs": [
    {
     "name": "stdout",
     "output_type": "stream",
     "text": [
      "[2022/04/09 18:50:24] root DEBUG: dt_boxes num : 29, elapse : 0.16683387756347656\n",
      "[2022/04/09 18:50:24] root DEBUG: cls num  : 29, elapse : 0.0996859073638916\n",
      "[2022/04/09 18:50:25] root DEBUG: rec_res num  : 29, elapse : 0.1550447940826416\n",
      "[Text Detection Completed in 0.475 s] Input: data/UIComparison/50.png Output: data/output/ocr/50.json\n",
      "[Compo Detection Completed in 0.519 s] Input: data/UIComparison/50.png Output: data/output/ip/50.json\n",
      "[Merge Completed] Input: data/UIComparison/50.png Output: data/output/merge/50.jpg\n"
     ]
    }
   ],
   "source": [
    "gui3 = GUI('data/UIComparison/50.png')\n",
    "gui3.detect_element(True, True, True, paddle_cor=paddle_ocr)\n",
    "# gui1.load_detection_result()\n",
    "gui3.show_detection_result()"
   ]
  },
  {
   "cell_type": "code",
   "execution_count": 7,
   "id": "ec81e1d2",
   "metadata": {},
   "outputs": [
    {
     "name": "stdout",
     "output_type": "stream",
     "text": [
      "[2022/04/09 18:50:38] root DEBUG: dt_boxes num : 20, elapse : 0.14643526077270508\n",
      "[2022/04/09 18:50:38] root DEBUG: cls num  : 20, elapse : 0.08402824401855469\n",
      "[2022/04/09 18:50:38] root DEBUG: rec_res num  : 20, elapse : 0.12517690658569336\n",
      "[Text Detection Completed in 0.371 s] Input: data/UIComparison/37.png Output: data/output/ocr/37.json\n",
      "[Compo Detection Completed in 0.435 s] Input: data/UIComparison/37.png Output: data/output/ip/37.json\n",
      "[Merge Completed] Input: data/UIComparison/37.png Output: data/output/merge/37.jpg\n"
     ]
    }
   ],
   "source": [
    "gui4 = GUI('data/UIComparison/37.png')\n",
    "gui4.detect_element(True, True, True, paddle_cor=paddle_ocr)\n",
    "# gui1.load_detection_result()\n",
    "gui4.show_detection_result()"
   ]
  },
  {
   "cell_type": "code",
   "execution_count": 3,
   "id": "d1d4ca00",
   "metadata": {},
   "outputs": [
    {
     "name": "stdout",
     "output_type": "stream",
     "text": [
      "Click (211, 542)\n"
     ]
    }
   ],
   "source": [
    "e = gui1.get_element_by_clicking()"
   ]
  },
  {
   "cell_type": "code",
   "execution_count": 4,
   "id": "5b87dbc3",
   "metadata": {},
   "outputs": [
    {
     "data": {
      "text/plain": [
       "(None, -1, -1)"
      ]
     },
     "execution_count": 4,
     "metadata": {},
     "output_type": "execute_result"
    }
   ],
   "source": [
    "e"
   ]
  },
  {
   "cell_type": "code",
   "execution_count": null,
   "id": "28c76811",
   "metadata": {},
   "outputs": [],
   "source": []
  }
 ],
 "metadata": {
  "kernelspec": {
   "display_name": "Python 3",
   "language": "python",
   "name": "python3"
  },
  "language_info": {
   "codemirror_mode": {
    "name": "ipython",
    "version": 3
   },
   "file_extension": ".py",
   "mimetype": "text/x-python",
   "name": "python",
   "nbconvert_exporter": "python",
   "pygments_lexer": "ipython3",
   "version": "3.6.9"
  }
 },
 "nbformat": 4,
 "nbformat_minor": 5
}
