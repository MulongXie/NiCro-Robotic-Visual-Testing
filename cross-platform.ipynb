{
 "cells": [
  {
   "cell_type": "code",
   "execution_count": 3,
   "id": "b8a9b5f1",
   "metadata": {},
   "outputs": [],
   "source": [
    "import json\n",
    "from glob import glob\n",
    "from os.path import join as pjoin\n",
    "import os\n",
    "import cv2\n",
    "import numpy as np"
   ]
  },
  {
   "cell_type": "code",
   "execution_count": 5,
   "id": "71ea1faa",
   "metadata": {},
   "outputs": [],
   "source": [
    "from match_elements.GUI_pair import GUIPair\n",
    "from GUI import GUI"
   ]
  },
  {
   "cell_type": "code",
   "execution_count": 3,
   "id": "f9eddd2f",
   "metadata": {},
   "outputs": [],
   "source": [
    "from keras.applications.resnet import ResNet50\n",
    "resnet_model = ResNet50(include_top=False, input_shape=(32, 32, 3))"
   ]
  },
  {
   "cell_type": "code",
   "execution_count": 2,
   "id": "b850b8dd",
   "metadata": {},
   "outputs": [
    {
     "name": "stdout",
     "output_type": "stream",
     "text": [
      "[2022/04/27 17:47:41] root WARNING: lang en is not support in PP-OCRv2, auto switch to version PP-OCR\n",
      "[2022/04/27 17:47:41] root WARNING: lang en is not support in PP-OCRv2, auto switch to version PP-OCR\n",
      "[2022/04/27 17:47:41] root WARNING: version PP-OCRv2 not support cls models, auto switch to version PP-OCR\n",
      "Namespace(benchmark=False, cls_batch_num=6, cls_image_shape='3, 48, 192', cls_model_dir='/home/ml/.paddleocr/2.3.0.2/ocr/cls/ch_ppocr_mobile_v2.0_cls_infer', cls_thresh=0.9, cpu_threads=10, det=True, det_algorithm='DB', det_db_box_thresh=0.6, det_db_score_mode='fast', det_db_thresh=0.3, det_db_unclip_ratio=1.5, det_east_cover_thresh=0.1, det_east_nms_thresh=0.2, det_east_score_thresh=0.8, det_limit_side_len=960, det_limit_type='max', det_model_dir='/home/ml/.paddleocr/2.3.0.2/ocr/det/en/en_ppocr_mobile_v2.0_det_infer', det_pse_box_thresh=0.85, det_pse_box_type='box', det_pse_min_area=16, det_pse_scale=1, det_pse_thresh=0, det_sast_nms_thresh=0.2, det_sast_polygon=False, det_sast_score_thresh=0.5, drop_score=0.5, e2e_algorithm='PGNet', e2e_char_dict_path='./ppocr/utils/ic15_dict.txt', e2e_limit_side_len=768, e2e_limit_type='max', e2e_model_dir=None, e2e_pgnet_mode='fast', e2e_pgnet_polygon=True, e2e_pgnet_score_thresh=0.5, e2e_pgnet_valid_set='totaltext', enable_mkldnn=False, gpu_mem=500, help='==SUPPRESS==', image_dir=None, ir_optim=True, label_list=['0', '180'], lang='en', layout_path_model='lp://PubLayNet/ppyolov2_r50vd_dcn_365e_publaynet/config', max_batch_size=10, max_text_length=25, min_subgraph_size=15, ocr_version='PP-OCRv2', output='./output/table', precision='fp32', process_id=0, rec=True, rec_algorithm='CRNN', rec_batch_num=6, rec_char_dict_path='/home/ml/.local/lib/python3.6/site-packages/paddleocr/ppocr/utils/en_dict.txt', rec_image_shape='3, 32, 320', rec_model_dir='/home/ml/.paddleocr/2.3.0.2/ocr/rec/en/en_number_mobile_v2.0_rec_infer', save_log_path='./log_output/', show_log=False, structure_version='STRUCTURE', table_char_dict_path=None, table_char_type='en', table_max_len=488, table_model_dir=None, total_process_num=1, type='ocr', use_angle_cls=True, use_dilation=False, use_gpu=False, use_mp=False, use_onnx=False, use_pdserving=False, use_space_char=True, use_tensorrt=False, vis_font_path='./doc/fonts/simfang.ttf', warmup=True)\n"
     ]
    }
   ],
   "source": [
    "from paddleocr import PaddleOCR\n",
    "paddle_ocr = PaddleOCR(use_angle_cls=True, lang='en', show_log=False)"
   ]
  },
  {
   "cell_type": "code",
   "execution_count": 7,
   "id": "5c1227c3",
   "metadata": {},
   "outputs": [],
   "source": [
    "from ppadb.client import Client as AdbClient\n",
    "client = AdbClient(host=\"127.0.0.1\", port=5037)"
   ]
  },
  {
   "cell_type": "code",
   "execution_count": 9,
   "id": "d4995810",
   "metadata": {},
   "outputs": [],
   "source": [
    "def cap_device_current_gui(device, paddle_ocr, screen_path=\"data/output/screen.jpg\", is_detect=True):\n",
    "    screen = device.screencap()\n",
    "    with open(screen_path, \"wb\") as fp:\n",
    "        fp.write(screen)\n",
    "        \n",
    "    gui = GUI(screen_path)\n",
    "    if is_detect:\n",
    "        gui.detect_element(True, True, True, paddle_cor=paddle_ocr)\n",
    "    else:\n",
    "        gui.load_detection_result()\n",
    "    return gui"
   ]
  },
  {
   "cell_type": "code",
   "execution_count": 7,
   "id": "66b1240a",
   "metadata": {},
   "outputs": [],
   "source": [
    "def match_element_in_gui(target_element, gui, device, resnet_model, scroll_down=True):\n",
    "    matched_ele = gui.match_elements(target_element.clip, resnet_model, target_element.text_content, min_similarity_img=0.55, show=True)\n",
    "    # scroll down if current gui is not matched\n",
    "    if matched_ele is None and scroll_down:\n",
    "        print('Scroll down and try to match again')\n",
    "        # device.shell('input roll' + str(device.wm_size().height - 50) + ' 0')\n",
    "        device.input_swipe(50, (device.wm_size().height * 0.9), 50, 20, 500)\n",
    "        next_gui = cap_device_current_gui(device, paddle_ocr)\n",
    "        # cv2.imshow('img', next_gui.img)\n",
    "        # next_gui.show_detection_result()\n",
    "        match_element_in_gui(target_element, next_gui, device, resnet_model, scroll_down=False)\n",
    "    return matched_ele"
   ]
  },
  {
   "cell_type": "code",
   "execution_count": 10,
   "id": "511aa2ce",
   "metadata": {},
   "outputs": [
    {
     "name": "stdout",
     "output_type": "stream",
     "text": [
      "[Text Detection Completed in 0.577 s] Input: data/screen/80.png Output: data/output/ocr/80.json\n",
      "[Compo Detection Completed in 0.387 s] Input: data/screen/80.png Output: data/output/ip/80.json\n",
      "[Merge Completed] Input: data/screen/80.png Output: data/output/merge/80.jpg\n"
     ]
    }
   ],
   "source": [
    "dev1 = client.device('emulator-5554')\n",
    "gui1 = cap_device_current_gui(dev1, paddle_ocr, screen_path='data/screen/80.png', is_detect=True)\n",
    "gui1.show_detection_result()\n",
    "# gui1 = GUI('data/screen/80.png')\n",
    "# gui1.detect_element(True, True, True, paddle_cor=paddle_ocr)\n",
    "# gui1.load_detection_result()"
   ]
  },
  {
   "cell_type": "code",
   "execution_count": 9,
   "id": "9e764784",
   "metadata": {},
   "outputs": [
    {
     "name": "stdout",
     "output_type": "stream",
     "text": [
      "[2022/04/25 15:03:01] root DEBUG: dt_boxes num : 35, elapse : 0.1888594627380371\n",
      "[2022/04/25 15:03:01] root DEBUG: cls num  : 35, elapse : 0.12176203727722168\n",
      "[2022/04/25 15:03:01] root DEBUG: rec_res num  : 35, elapse : 0.1688835620880127\n",
      "[Text Detection Completed in 0.557 s] Input: data/screen/60.png Output: data/output/ocr/60.json\n",
      "[Compo Detection Completed in 0.454 s] Input: data/screen/60.png Output: data/output/ip/60.json\n",
      "[Merge Completed] Input: data/screen/60.png Output: data/output/merge/60.jpg\n"
     ]
    }
   ],
   "source": [
    "dev2 = client.device('emulator-5558')\n",
    "gui2 = cap_device_current_gui(dev2, paddle_ocr, screen_path='data/screen/60.png', is_detect=True)\n",
    "gui2.show_detection_result()"
   ]
  },
  {
   "cell_type": "code",
   "execution_count": 10,
   "id": "ec451f66",
   "metadata": {},
   "outputs": [
    {
     "name": "stdout",
     "output_type": "stream",
     "text": [
      "[2022/04/25 15:03:06] root DEBUG: dt_boxes num : 28, elapse : 0.16089081764221191\n",
      "[2022/04/25 15:03:06] root DEBUG: cls num  : 28, elapse : 0.09769868850708008\n",
      "[2022/04/25 15:03:06] root DEBUG: rec_res num  : 28, elapse : 0.15407514572143555\n",
      "[Text Detection Completed in 0.482 s] Input: data/screen/50.png Output: data/output/ocr/50.json\n",
      "[Compo Detection Completed in 0.540 s] Input: data/screen/50.png Output: data/output/ip/50.json\n",
      "[Merge Completed] Input: data/screen/50.png Output: data/output/merge/50.jpg\n"
     ]
    }
   ],
   "source": [
    "dev3 = client.device('emulator-5560')\n",
    "gui3 = cap_device_current_gui(dev3, paddle_ocr, screen_path='data/screen/50.png', is_detect=True)\n",
    "gui3.show_detection_result()"
   ]
  },
  {
   "cell_type": "code",
   "execution_count": 11,
   "id": "ec81e1d2",
   "metadata": {},
   "outputs": [
    {
     "name": "stdout",
     "output_type": "stream",
     "text": [
      "[2022/04/25 15:03:11] root DEBUG: dt_boxes num : 20, elapse : 0.11971807479858398\n",
      "[2022/04/25 15:03:11] root DEBUG: cls num  : 20, elapse : 0.07053303718566895\n",
      "[2022/04/25 15:03:12] root DEBUG: rec_res num  : 20, elapse : 0.1258535385131836\n",
      "[Text Detection Completed in 0.331 s] Input: data/screen/37.png Output: data/output/ocr/37.json\n",
      "[Compo Detection Completed in 0.382 s] Input: data/screen/37.png Output: data/output/ip/37.json\n",
      "[Merge Completed] Input: data/screen/37.png Output: data/output/merge/37.jpg\n"
     ]
    }
   ],
   "source": [
    "dev4 = client.device('emulator-5556')\n",
    "gui4 = cap_device_current_gui(dev4, paddle_ocr, screen_path='data/screen/37.png', is_detect=True)\n",
    "gui4.show_detection_result()"
   ]
  },
  {
   "cell_type": "code",
   "execution_count": 12,
   "id": "d1d4ca00",
   "metadata": {},
   "outputs": [
    {
     "name": "stdout",
     "output_type": "stream",
     "text": [
      "Click (107, 739)\n"
     ]
    }
   ],
   "source": [
    "e = gui2.get_element_by_clicking()"
   ]
  },
  {
   "cell_type": "code",
   "execution_count": 13,
   "id": "8411204b",
   "metadata": {},
   "outputs": [
    {
     "name": "stdout",
     "output_type": "stream",
     "text": [
      "Match by text\n",
      "No matched element found\n",
      "Scroll down and try to match again\n",
      "[2022/04/25 15:03:59] root DEBUG: dt_boxes num : 27, elapse : 0.16750288009643555\n",
      "[2022/04/25 15:03:59] root DEBUG: cls num  : 27, elapse : 0.09422802925109863\n",
      "[2022/04/25 15:03:59] root DEBUG: rec_res num  : 27, elapse : 0.13907909393310547\n",
      "[Text Detection Completed in 0.468 s] Input: data/output/screen.jpg Output: data/output/ocr/screen.json\n",
      "[Compo Detection Completed in 0.557 s] Input: data/output/screen.jpg Output: data/output/ip/screen.json\n",
      "[Merge Completed] Input: data/output/screen.jpg Output: data/output/merge/screen.jpg\n",
      "Match by text\n",
      "No matched element found\n",
      "Scroll down and try to match again\n",
      "[2022/04/25 15:04:05] root DEBUG: dt_boxes num : 19, elapse : 0.12806248664855957\n",
      "[2022/04/25 15:04:05] root DEBUG: cls num  : 19, elapse : 0.06684446334838867\n",
      "[2022/04/25 15:04:05] root DEBUG: rec_res num  : 19, elapse : 0.113922119140625\n",
      "[Text Detection Completed in 0.327 s] Input: data/output/screen.jpg Output: data/output/ocr/screen.json\n",
      "[Compo Detection Completed in 0.385 s] Input: data/output/screen.jpg Output: data/output/ip/screen.json\n",
      "[Merge Completed] Input: data/output/screen.jpg Output: data/output/merge/screen.jpg\n",
      "Match by text\n"
     ]
    }
   ],
   "source": [
    "matched_e1 = match_element_in_gui(e, gui1, dev1, resnet_model)\n",
    "# matched_e2 = match_element_in_gui(e, gui2, dev2, resnet_model)\n",
    "matched_e3 = match_element_in_gui(e, gui3, dev3, resnet_model)\n",
    "matched_e4 = match_element_in_gui(e, gui4, dev4, resnet_model)"
   ]
  },
  {
   "cell_type": "code",
   "execution_count": 21,
   "id": "341ae1ae",
   "metadata": {},
   "outputs": [
    {
     "data": {
      "text/plain": [
       "Size(width=2200, height=2480)"
      ]
     },
     "execution_count": 21,
     "metadata": {},
     "output_type": "execute_result"
    }
   ],
   "source": [
    "dev1.wm_size()"
   ]
  },
  {
   "cell_type": "code",
   "execution_count": 22,
   "id": "ca622671",
   "metadata": {},
   "outputs": [
    {
     "data": {
      "text/plain": [
       "Size(width=1080, height=2280)"
      ]
     },
     "execution_count": 22,
     "metadata": {},
     "output_type": "execute_result"
    }
   ],
   "source": [
    "dev2.wm_size()"
   ]
  },
  {
   "cell_type": "code",
   "execution_count": 23,
   "id": "01a93774",
   "metadata": {},
   "outputs": [
    {
     "data": {
      "text/plain": [
       "Size(width=1080, height=1920)"
      ]
     },
     "execution_count": 23,
     "metadata": {},
     "output_type": "execute_result"
    }
   ],
   "source": [
    "dev3.wm_size()"
   ]
  },
  {
   "cell_type": "code",
   "execution_count": 24,
   "id": "80791ad1",
   "metadata": {},
   "outputs": [
    {
     "data": {
      "text/plain": [
       "Size(width=480, height=800)"
      ]
     },
     "execution_count": 24,
     "metadata": {},
     "output_type": "execute_result"
    }
   ],
   "source": [
    "dev4.wm_size()"
   ]
  }
 ],
 "metadata": {
  "kernelspec": {
   "display_name": "Python 3",
   "language": "python",
   "name": "python3"
  },
  "language_info": {
   "codemirror_mode": {
    "name": "ipython",
    "version": 3
   },
   "file_extension": ".py",
   "mimetype": "text/x-python",
   "name": "python",
   "nbconvert_exporter": "python",
   "pygments_lexer": "ipython3",
   "version": "3.6.9"
  }
 },
 "nbformat": 4,
 "nbformat_minor": 5
}
